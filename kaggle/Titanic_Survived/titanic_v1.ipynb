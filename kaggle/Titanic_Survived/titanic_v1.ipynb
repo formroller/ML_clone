{
 "cells": [
  {
   "cell_type": "markdown",
   "metadata": {},
   "source": [
    "# Titanic 연습\n",
    " - baseline 만들기\n",
    " - 앙상블 Cross validation 개념 잡기"
   ]
  },
  {
   "cell_type": "markdown",
   "metadata": {},
   "source": [
    "## 1. 데이터 준비"
   ]
  },
  {
   "cell_type": "markdown",
   "metadata": {},
   "source": [
    "### 1.1 패키지 로딩"
   ]
  },
  {
   "cell_type": "code",
   "execution_count": 1,
   "metadata": {},
   "outputs": [
    {
     "name": "stderr",
     "output_type": "stream",
     "text": [
      "<ipython-input-1-c3f38f7031fa>:20: FutureWarning: Passing a negative integer is deprecated in version 1.0 and will not be supported in future version. Instead, use None to not limit the column width.\n",
      "  pd.set_option('display.max_colwidth', -1)\n"
     ]
    }
   ],
   "source": [
    "import pandas as pd\n",
    "import numpy as np\n",
    "import re \n",
    "from collections import Counter\n",
    "\n",
    "\n",
    "import seaborn as sns\n",
    "import matplotlib.pyplot as plt\n",
    "\n",
    "from sklearn.model_selection import train_test_split\n",
    "from sklearn.impute import KNNImputer\n",
    "from sklearn.preprocessing import LabelEncoder\n",
    "from sklearn.model_selection import StratifiedKFold, cross_val_score\n",
    "\n",
    "from sklearn.neighbors import KNeighborsClassifier\n",
    "from sklearn.svm import SVC\n",
    "from sklearn.tree import DecisionTreeClassifier\n",
    "\n",
    "pd.set_option('display.max_columns',13)\n",
    "pd.set_option('display.max_colwidth', -1)\n",
    "\n",
    "import warnings\n",
    "warnings.filterwarnings(action='ignore')"
   ]
  },
  {
   "cell_type": "markdown",
   "metadata": {},
   "source": [
    "### 1.2 데이터 로딩"
   ]
  },
  {
   "cell_type": "code",
   "execution_count": 2,
   "metadata": {},
   "outputs": [],
   "source": [
    "train = pd.read_csv('train.csv')\n",
    "test = pd.read_csv('test.csv')\n",
    "submission = pd.read_csv('gender_submission.csv')"
   ]
  },
  {
   "cell_type": "code",
   "execution_count": 3,
   "metadata": {},
   "outputs": [],
   "source": [
    "tmp_train = train.copy()\n",
    "tmp_test = test.copy()\n",
    "tmp_sub = submission.copy()"
   ]
  },
  {
   "cell_type": "code",
   "execution_count": 4,
   "metadata": {},
   "outputs": [
    {
     "name": "stdout",
     "output_type": "stream",
     "text": [
      "(891, 12)\n",
      "PassengerId    0.000\n",
      "Survived       0.000\n",
      "Pclass         0.000\n",
      "Name           0.000\n",
      "Sex            0.000\n",
      "Age            0.199\n",
      "SibSp          0.000\n",
      "Parch          0.000\n",
      "Ticket         0.000\n",
      "Fare           0.000\n",
      "Cabin          0.771\n",
      "Embarked       0.002\n",
      "dtype: float64\n"
     ]
    }
   ],
   "source": [
    "print(tmp_train.shape)\n",
    "print(round(tmp_train.isnull().sum()/len(train),3))  # 결측치 확인"
   ]
  },
  {
   "cell_type": "code",
   "execution_count": 5,
   "metadata": {
    "scrolled": true
   },
   "outputs": [
    {
     "name": "stdout",
     "output_type": "stream",
     "text": [
      "<class 'pandas.core.frame.DataFrame'>\n",
      "RangeIndex: 891 entries, 0 to 890\n",
      "Data columns (total 12 columns):\n",
      " #   Column       Non-Null Count  Dtype  \n",
      "---  ------       --------------  -----  \n",
      " 0   PassengerId  891 non-null    int64  \n",
      " 1   Survived     891 non-null    int64  \n",
      " 2   Pclass       891 non-null    int64  \n",
      " 3   Name         891 non-null    object \n",
      " 4   Sex          891 non-null    object \n",
      " 5   Age          714 non-null    float64\n",
      " 6   SibSp        891 non-null    int64  \n",
      " 7   Parch        891 non-null    int64  \n",
      " 8   Ticket       891 non-null    object \n",
      " 9   Fare         891 non-null    float64\n",
      " 10  Cabin        204 non-null    object \n",
      " 11  Embarked     889 non-null    object \n",
      "dtypes: float64(2), int64(5), object(5)\n",
      "memory usage: 83.7+ KB\n"
     ]
    }
   ],
   "source": [
    "tmp_train.info()"
   ]
  },
  {
   "cell_type": "markdown",
   "metadata": {},
   "source": [
    "Data columns (total 12 columns):\n",
    "    Column       Non-Null Count  Dtype  \n",
    "---  ------       --------------  -----  \n",
    " 0   PassengerId  891 non-null    int64    ** drop  O </br>\n",
    " 1   Survived     891 non-null    int64    ** target\n",
    " 2   Pclass       891 non-null    int64    ** cate\n",
    " 3   Name         891 non-null    object   ** drop(==Sex)\n",
    " 4   Sex          891 non-null    object   ** LabelEncoding\n",
    " 5   Age          714 non-null    float64  ** Name참조 호칭별 나이 적용\n",
    " 6   SibSp        891 non-null    int64    ** Sibling + Spouse\n",
    " 7   Parch        891 non-null    int64    ** Parent + Child\n",
    " 8   Ticket       891 non-null    object   ** cate\n",
    " 9   Fare         891 non-null    float64  ** Pclass 상관관계\n",
    " 10  Cabin        204 non-null    object   ** drop\n",
    " 11  Embarked     889 non-null    object   ** cate"
   ]
  },
  {
   "cell_type": "markdown",
   "metadata": {},
   "source": [
    "## 2.데이터 전처리"
   ]
  },
  {
   "cell_type": "code",
   "execution_count": 6,
   "metadata": {},
   "outputs": [],
   "source": [
    "del tmp_train['PassengerId']\n",
    "del tmp_test['PassengerId']"
   ]
  },
  {
   "cell_type": "markdown",
   "metadata": {},
   "source": [
    "### 2.1 Target 변수 추출 (labels)"
   ]
  },
  {
   "cell_type": "code",
   "execution_count": 7,
   "metadata": {},
   "outputs": [],
   "source": [
    "labels = tmp_train.Survived #target"
   ]
  },
  {
   "cell_type": "markdown",
   "metadata": {},
   "source": [
    "### 2.2 범주화\n",
    " - ['Name', 'Sex', 'Ticket', 'Cabin', 'Embarked']"
   ]
  },
  {
   "cell_type": "code",
   "execution_count": 8,
   "metadata": {},
   "outputs": [
    {
     "name": "stdout",
     "output_type": "stream",
     "text": [
      "['Name', 'Sex', 'Ticket', 'Cabin', 'Embarked']\n"
     ]
    }
   ],
   "source": [
    "obj = []\n",
    "for i in train.columns:\n",
    "    if train[i].dtype == 'object':\n",
    "        obj.append(i)\n",
    "print(obj)"
   ]
  },
  {
   "cell_type": "code",
   "execution_count": 10,
   "metadata": {},
   "outputs": [
    {
     "name": "stdout",
     "output_type": "stream",
     "text": [
      "0      3\n",
      "1      1\n",
      "2      3\n",
      "3      1\n",
      "4      3\n",
      "      ..\n",
      "886    2\n",
      "887    1\n",
      "888    3\n",
      "889    1\n",
      "890    3\n",
      "Name: Pclass, Length: 891, dtype: category\n",
      "Categories (3, int64): [1, 2, 3]\n"
     ]
    }
   ],
   "source": [
    "tmp_train['Pclass'] = tmp_train['Pclass'].astype('category')\n",
    "print(tmp_train['Pclass'])"
   ]
  },
  {
   "cell_type": "markdown",
   "metadata": {},
   "source": [
    "#### 2.2.1 Name, Age 변수 활용\n",
    " - Name 호칭별 연령 평균 도출\n",
    " - Age Null 변수에 평균 대치"
   ]
  },
  {
   "cell_type": "code",
   "execution_count": 9,
   "metadata": {},
   "outputs": [
    {
     "data": {
      "text/plain": [
       "called\n",
       "Capt        70.00\n",
       "Col         58.00\n",
       "Countess    33.00\n",
       "Don         40.00\n",
       "Dr          42.00\n",
       "Jonkheer    38.00\n",
       "Lady        48.00\n",
       "Major       48.50\n",
       "Master      4.57 \n",
       "Miss        21.77\n",
       "Mlle        24.00\n",
       "Mme         24.00\n",
       "Mr          32.37\n",
       "Mrs         35.90\n",
       "Ms          28.00\n",
       "Rev         43.17\n",
       "Sir         49.00\n",
       "Name: Age, dtype: float64"
      ]
     },
     "execution_count": 9,
     "metadata": {},
     "output_type": "execute_result"
    }
   ],
   "source": [
    "##1. 인덱스 추출\n",
    "tmp_train_index = tmp_train.loc[tmp_train['Age'].isnull(),'Name'].index\n",
    "\n",
    "##2. 호칭추출\n",
    "called = tmp_train['Name']\n",
    "\n",
    "pat1 = re.compile('([a-zA-Z]+)\\.')\n",
    "called2=called.apply(pat1.findall)\n",
    "tmp_train['called'] = [i[0] for i in called2]\n",
    "\n",
    "##3. 호칭별 나이 평균\n",
    "tmp_train['called'].value_counts()\n",
    "round(tmp_train.groupby(['called'])['Age'].mean(),2)\n"
   ]
  },
  {
   "cell_type": "code",
   "execution_count": 12,
   "metadata": {},
   "outputs": [],
   "source": [
    "tmp_train.loc[tmp_train_index,'called'].value_counts()\n",
    "\n",
    "Nan_Age=tmp_train.loc[tmp_train_index,'called']\n",
    "\n",
    "Age_tunning=[]\n",
    "for i in Nan_Age:\n",
    "    if i == 'Mr':\n",
    "        Age_tunning.append(32)\n",
    "    elif i =='Miss':\n",
    "        Age_tunning.append(22)\n",
    "    elif i == 'Mrs':\n",
    "        Age_tunning.append(36)\n",
    "    elif i == 'Master':\n",
    "        Age_tunning.append(5)\n",
    "    else:\n",
    "        Age_tunning.append(42)\n",
    "\n",
    "aging=pd.Series(Age_tunning,tmp_train_index)\n",
    "\n",
    "tmp_train.loc[tmp_train_index,'Age'] = aging\n"
   ]
  },
  {
   "cell_type": "markdown",
   "metadata": {},
   "source": [
    "##### 2.2.1.1 Age band\n",
    " - 20 단위로 생성"
   ]
  },
  {
   "cell_type": "code",
   "execution_count": 10,
   "metadata": {},
   "outputs": [],
   "source": [
    "tmp_train['Age']\n",
    "bins = [0, 20, 40, 60, 100]\n",
    "tmp_train['Age_band']=pd.cut(tmp_train['Age'], bins=bins, labels = ['1','2','3','4'])\n",
    "\n",
    "tmp_train.drop(['Age','Name'],axis=1, inplace = True)"
   ]
  },
  {
   "cell_type": "markdown",
   "metadata": {},
   "source": [
    "#### 2.2.2 Sex 범주화"
   ]
  },
  {
   "cell_type": "code",
   "execution_count": 11,
   "metadata": {},
   "outputs": [],
   "source": [
    "tmp_train['Sex']=pd.Series(np.where(tmp_train['Sex'] == 'male',0,1)).astype('category')"
   ]
  },
  {
   "cell_type": "markdown",
   "metadata": {},
   "source": [
    "#### 2.2.3 Cabin, Ticket, Embarked"
   ]
  },
  {
   "cell_type": "code",
   "execution_count": 12,
   "metadata": {},
   "outputs": [],
   "source": [
    "del tmp_train['Cabin']"
   ]
  },
  {
   "cell_type": "code",
   "execution_count": 13,
   "metadata": {
    "scrolled": true
   },
   "outputs": [
    {
     "data": {
      "text/plain": [
       "0     A/5 21171       \n",
       "1     PC 17599        \n",
       "2     STON/O2. 3101282\n",
       "3     113803          \n",
       "4     373450          \n",
       "5     330877          \n",
       "6     17463           \n",
       "7     349909          \n",
       "8     347742          \n",
       "9     237736          \n",
       "10    PP 9549         \n",
       "11    113783          \n",
       "12    A/5. 2151       \n",
       "13    347082          \n",
       "14    350406          \n",
       "15    248706          \n",
       "16    382652          \n",
       "17    244373          \n",
       "18    345763          \n",
       "19    2649            \n",
       "20    239865          \n",
       "21    248698          \n",
       "22    330923          \n",
       "23    113788          \n",
       "24    349909          \n",
       "25    347077          \n",
       "26    2631            \n",
       "27    19950           \n",
       "28    330959          \n",
       "29    349216          \n",
       "30    PC 17601        \n",
       "31    PC 17569        \n",
       "32    335677          \n",
       "33    C.A. 24579      \n",
       "34    PC 17604        \n",
       "35    113789          \n",
       "36    2677            \n",
       "37    A./5. 2152      \n",
       "38    345764          \n",
       "39    2651            \n",
       "40    7546            \n",
       "41    11668           \n",
       "42    349253          \n",
       "43    SC/Paris 2123   \n",
       "44    330958          \n",
       "45    S.C./A.4. 23567 \n",
       "46    370371          \n",
       "47    14311           \n",
       "48    2662            \n",
       "49    349237          \n",
       "Name: Ticket, dtype: object"
      ]
     },
     "execution_count": 13,
     "metadata": {},
     "output_type": "execute_result"
    }
   ],
   "source": [
    "tmp_train['Ticket'].head(50)\n",
    "# p2 = re.compile('([\\d)+')"
   ]
  },
  {
   "cell_type": "code",
   "execution_count": 30,
   "metadata": {},
   "outputs": [
    {
     "data": {
      "text/plain": [
       "['21171',\n",
       " '17599',\n",
       " '3101282',\n",
       " '113803',\n",
       " '373450',\n",
       " '330877',\n",
       " '17463',\n",
       " '349909',\n",
       " '347742',\n",
       " '237736',\n",
       " '9549',\n",
       " '113783',\n",
       " '2151',\n",
       " '347082',\n",
       " '350406',\n",
       " '248706',\n",
       " '382652',\n",
       " '244373',\n",
       " '345763',\n",
       " '2649',\n",
       " '239865',\n",
       " '248698',\n",
       " '330923',\n",
       " '113788',\n",
       " '349909',\n",
       " '347077',\n",
       " '2631',\n",
       " '19950',\n",
       " '330959',\n",
       " '349216',\n",
       " '17601',\n",
       " '17569',\n",
       " '335677',\n",
       " '24579',\n",
       " '17604',\n",
       " '113789',\n",
       " '2677',\n",
       " '2152',\n",
       " '345764',\n",
       " '2651',\n",
       " '7546',\n",
       " '11668',\n",
       " '349253',\n",
       " '2123',\n",
       " '330958',\n",
       " '23567',\n",
       " '370371',\n",
       " '14311',\n",
       " '2662',\n",
       " '349237',\n",
       " '3101295',\n",
       " '39886',\n",
       " '17572',\n",
       " '2926',\n",
       " '113509',\n",
       " '19947',\n",
       " '31026',\n",
       " '2697',\n",
       " '34651',\n",
       " '2144',\n",
       " '2669',\n",
       " '113572',\n",
       " '36973',\n",
       " '347088',\n",
       " '17605',\n",
       " '2661',\n",
       " '29395',\n",
       " '3464',\n",
       " '3101281',\n",
       " '315151',\n",
       " '33111',\n",
       " '2144',\n",
       " '14879',\n",
       " '2680',\n",
       " '1601',\n",
       " '348123',\n",
       " '349208',\n",
       " '374746',\n",
       " '248738',\n",
       " '364516',\n",
       " '345767',\n",
       " '345779',\n",
       " '330932',\n",
       " '113059',\n",
       " '14885',\n",
       " '3101278',\n",
       " '6608',\n",
       " '392086',\n",
       " '19950',\n",
       " '343275',\n",
       " '343276',\n",
       " '347466',\n",
       " '5734',\n",
       " '2315',\n",
       " '364500',\n",
       " '374910',\n",
       " '17754',\n",
       " '17759',\n",
       " '231919',\n",
       " '244367',\n",
       " '349245',\n",
       " '349215',\n",
       " '35281',\n",
       " '7540',\n",
       " '3101276',\n",
       " '349207',\n",
       " '343120',\n",
       " '312991',\n",
       " '349249',\n",
       " '371110',\n",
       " '110465',\n",
       " '2665',\n",
       " '324669',\n",
       " '4136',\n",
       " '2627',\n",
       " '3101294',\n",
       " '370369',\n",
       " '11668',\n",
       " '17558',\n",
       " '347082',\n",
       " '14879',\n",
       " '54510',\n",
       " '237736',\n",
       " '27267',\n",
       " '35281',\n",
       " '2651',\n",
       " '370372',\n",
       " '17369',\n",
       " '2668',\n",
       " '347061',\n",
       " '349241',\n",
       " '3101307',\n",
       " '3337',\n",
       " '228414',\n",
       " '29178',\n",
       " '2133',\n",
       " '11752',\n",
       " '113803',\n",
       " '7534',\n",
       " '17593',\n",
       " '2678',\n",
       " '347081',\n",
       " '3101279',\n",
       " '365222',\n",
       " '231945',\n",
       " '33112',\n",
       " '350043',\n",
       " '6608',\n",
       " '230080',\n",
       " '244310',\n",
       " '1166',\n",
       " '113776',\n",
       " '11206',\n",
       " '851',\n",
       " '265302',\n",
       " '17597',\n",
       " '35851',\n",
       " '392090',\n",
       " '315037',\n",
       " '2343',\n",
       " '371362',\n",
       " '33595',\n",
       " '347068',\n",
       " '315093',\n",
       " '3101295',\n",
       " '363291',\n",
       " '113505',\n",
       " '347088',\n",
       " '17318',\n",
       " '1601',\n",
       " '111240',\n",
       " '382652',\n",
       " '347742',\n",
       " '3101280',\n",
       " '17764',\n",
       " '350404',\n",
       " '4133',\n",
       " '17595',\n",
       " '250653',\n",
       " 'LINE',\n",
       " '2343',\n",
       " '2131',\n",
       " '347077',\n",
       " '230136',\n",
       " '315153',\n",
       " '113767',\n",
       " '370365',\n",
       " '111428',\n",
       " '364849',\n",
       " '349247',\n",
       " '234604',\n",
       " '28424',\n",
       " '350046',\n",
       " '230080',\n",
       " '17610',\n",
       " '17569',\n",
       " '368703',\n",
       " '4579',\n",
       " '370370',\n",
       " '248747',\n",
       " '345770',\n",
       " '2343',\n",
       " '3101264',\n",
       " '2628',\n",
       " '3540',\n",
       " '347054',\n",
       " '3101278',\n",
       " '2699',\n",
       " '367231',\n",
       " '112277',\n",
       " '3101311',\n",
       " '13528',\n",
       " '21174',\n",
       " '250646',\n",
       " '367229',\n",
       " '35273',\n",
       " '3101283',\n",
       " '243847',\n",
       " '11813',\n",
       " '14208',\n",
       " '392089',\n",
       " '220367',\n",
       " '21440',\n",
       " '349234',\n",
       " '19943',\n",
       " '4348',\n",
       " '751',\n",
       " '21173',\n",
       " '236171',\n",
       " '4133',\n",
       " '36973',\n",
       " '347067',\n",
       " '237442',\n",
       " '347077',\n",
       " '29566',\n",
       " '6609',\n",
       " '26707',\n",
       " '31921',\n",
       " '28665',\n",
       " '1585',\n",
       " '2665',\n",
       " '367230',\n",
       " '14263',\n",
       " '3101275',\n",
       " '2694',\n",
       " '19928',\n",
       " '347071',\n",
       " '250649',\n",
       " '11751',\n",
       " '244252',\n",
       " '362316',\n",
       " '347054',\n",
       " '113514',\n",
       " '3336',\n",
       " '370129',\n",
       " '2650',\n",
       " '17585',\n",
       " '110152',\n",
       " '17755',\n",
       " '230433',\n",
       " '384461',\n",
       " '347077',\n",
       " '110413',\n",
       " '112059',\n",
       " '382649',\n",
       " '17248',\n",
       " '3101295',\n",
       " '347083',\n",
       " '17582',\n",
       " '17760',\n",
       " '113798',\n",
       " 'LINE',\n",
       " '250644',\n",
       " '17596',\n",
       " '370375',\n",
       " '13502',\n",
       " '347073',\n",
       " '239853',\n",
       " '382652',\n",
       " '2673',\n",
       " '336439',\n",
       " '347464',\n",
       " '345778',\n",
       " '10482',\n",
       " '113056',\n",
       " '349239',\n",
       " '345774',\n",
       " '349206',\n",
       " '237798',\n",
       " '370373',\n",
       " '19877',\n",
       " '11967',\n",
       " '2163',\n",
       " '349236',\n",
       " '349233',\n",
       " '17612',\n",
       " '2693',\n",
       " '113781',\n",
       " '19988',\n",
       " '17558',\n",
       " '9234',\n",
       " '367226',\n",
       " 'LINE',\n",
       " '226593',\n",
       " '2466',\n",
       " '113781',\n",
       " '17421',\n",
       " '17758',\n",
       " '3381',\n",
       " '17485',\n",
       " '11767',\n",
       " '17608',\n",
       " '250651',\n",
       " '349243',\n",
       " '13529',\n",
       " '347470',\n",
       " '244367',\n",
       " '29011',\n",
       " '36928',\n",
       " '16966',\n",
       " '21172',\n",
       " '349219',\n",
       " '234818',\n",
       " '248738',\n",
       " '2343',\n",
       " '17760',\n",
       " '345364',\n",
       " '28551',\n",
       " '363291',\n",
       " '111361',\n",
       " '367226',\n",
       " '113043',\n",
       " '17582',\n",
       " '345764',\n",
       " '17611',\n",
       " '349225',\n",
       " '113776',\n",
       " '16966',\n",
       " '7598',\n",
       " '113784',\n",
       " '230080',\n",
       " '19950',\n",
       " '248740',\n",
       " '244361',\n",
       " '229236',\n",
       " '248733',\n",
       " '31418',\n",
       " '386525',\n",
       " '37671',\n",
       " '315088',\n",
       " '7267',\n",
       " '113510',\n",
       " '2695',\n",
       " '349237',\n",
       " '2647',\n",
       " '345783',\n",
       " '113505',\n",
       " '237671',\n",
       " '330931',\n",
       " '330980',\n",
       " '347088',\n",
       " '2167',\n",
       " '2691',\n",
       " '3101310',\n",
       " '370365',\n",
       " '7076',\n",
       " '110813',\n",
       " '2626',\n",
       " '14313',\n",
       " '17477',\n",
       " '11765',\n",
       " '3101267',\n",
       " '323951',\n",
       " '17760',\n",
       " '349909',\n",
       " '17604',\n",
       " '7077',\n",
       " '113503',\n",
       " '2648',\n",
       " '347069',\n",
       " '17757',\n",
       " '2653',\n",
       " '3101293',\n",
       " '113789',\n",
       " '349227',\n",
       " '14879',\n",
       " '2144',\n",
       " '27849',\n",
       " '367655',\n",
       " '1748',\n",
       " '113760',\n",
       " '350034',\n",
       " '3101277',\n",
       " '35273',\n",
       " '9549',\n",
       " '350052',\n",
       " '350407',\n",
       " '28403',\n",
       " '244278',\n",
       " '240929',\n",
       " '3101289',\n",
       " '341826',\n",
       " '4137',\n",
       " '3101279',\n",
       " '315096',\n",
       " '28664',\n",
       " '347064',\n",
       " '29106',\n",
       " '312992',\n",
       " '4133',\n",
       " '349222',\n",
       " '394140',\n",
       " '19928',\n",
       " '239853',\n",
       " '3101269',\n",
       " '343095',\n",
       " '28220',\n",
       " '250652',\n",
       " '28228',\n",
       " '345773',\n",
       " '349254',\n",
       " '13032',\n",
       " '315082',\n",
       " '347080',\n",
       " '370129',\n",
       " '34244',\n",
       " '2003',\n",
       " '250655',\n",
       " '364851',\n",
       " '392078',\n",
       " '110564',\n",
       " '376564',\n",
       " '3085',\n",
       " '3101274',\n",
       " '13507',\n",
       " '113760',\n",
       " '6608',\n",
       " '29106',\n",
       " '19950',\n",
       " '18723',\n",
       " '13529',\n",
       " '345769',\n",
       " '347076',\n",
       " '230434',\n",
       " '65306',\n",
       " '33638',\n",
       " '250644',\n",
       " '113794',\n",
       " '2666',\n",
       " '113786',\n",
       " '34651',\n",
       " '65303',\n",
       " '113051',\n",
       " '17453',\n",
       " '2817',\n",
       " '349240',\n",
       " '13509',\n",
       " '17464',\n",
       " '13531',\n",
       " '371060',\n",
       " '19952',\n",
       " '364506',\n",
       " '111320',\n",
       " '234360',\n",
       " '2816',\n",
       " '3101306',\n",
       " '239853',\n",
       " '113792',\n",
       " '36209',\n",
       " '2666',\n",
       " '323592',\n",
       " '315089',\n",
       " '34651',\n",
       " '541',\n",
       " '7553',\n",
       " '110465',\n",
       " '31027',\n",
       " '3460',\n",
       " '350060',\n",
       " '3101298',\n",
       " '2144',\n",
       " '239854',\n",
       " '3594',\n",
       " '4134',\n",
       " '11967',\n",
       " '4133',\n",
       " '19943',\n",
       " '11771',\n",
       " '18509',\n",
       " '37671',\n",
       " '65304',\n",
       " '3101317',\n",
       " '113787',\n",
       " '17609',\n",
       " '45380',\n",
       " '2627',\n",
       " '36947',\n",
       " '6212',\n",
       " '113781',\n",
       " '350035',\n",
       " '315086',\n",
       " '364846',\n",
       " '330909',\n",
       " '4135',\n",
       " '110152',\n",
       " '17758',\n",
       " '26360',\n",
       " '111427',\n",
       " '4001',\n",
       " '1601',\n",
       " '382651',\n",
       " '3101316',\n",
       " '17473',\n",
       " '17603',\n",
       " '349209',\n",
       " '36967',\n",
       " '34260',\n",
       " '371110',\n",
       " '226875',\n",
       " '349242',\n",
       " '12749',\n",
       " '349252',\n",
       " '2624',\n",
       " '111361',\n",
       " '2700',\n",
       " '367232',\n",
       " '14258',\n",
       " '17483',\n",
       " '3101296',\n",
       " '29104',\n",
       " '26360',\n",
       " '2641',\n",
       " '2690',\n",
       " '2668',\n",
       " '315084',\n",
       " '13529',\n",
       " '113050',\n",
       " '17761',\n",
       " '364498',\n",
       " '13568',\n",
       " '5735',\n",
       " '347082',\n",
       " '347082',\n",
       " '2908',\n",
       " '17761',\n",
       " '693',\n",
       " '2908',\n",
       " '2146',\n",
       " '363291',\n",
       " '33112',\n",
       " '17421',\n",
       " '244358',\n",
       " '330979',\n",
       " '2620',\n",
       " '347085',\n",
       " '113807',\n",
       " '11755',\n",
       " '17757',\n",
       " '110413',\n",
       " '345572',\n",
       " '372622',\n",
       " '349251',\n",
       " '218629',\n",
       " '392082',\n",
       " '392087',\n",
       " '48871',\n",
       " '349205',\n",
       " '349909',\n",
       " '2686',\n",
       " '350417',\n",
       " '752',\n",
       " '11769',\n",
       " '17474',\n",
       " '14312',\n",
       " '20589',\n",
       " '358585',\n",
       " '243880',\n",
       " '13507',\n",
       " '2689',\n",
       " '3101286',\n",
       " '237789',\n",
       " '17421',\n",
       " '28403',\n",
       " '13049',\n",
       " '3411',\n",
       " '110413',\n",
       " '237565',\n",
       " '13567',\n",
       " '14973',\n",
       " '3235',\n",
       " '3101273',\n",
       " '36947',\n",
       " '3902',\n",
       " '364848',\n",
       " '29037',\n",
       " '345773',\n",
       " '248727',\n",
       " 'LINE',\n",
       " '2664',\n",
       " '17485',\n",
       " '243847',\n",
       " '349214',\n",
       " '113796',\n",
       " '364511',\n",
       " '111426',\n",
       " '349910',\n",
       " '349246',\n",
       " '113804',\n",
       " '2123',\n",
       " '17582',\n",
       " '347082',\n",
       " '3101305',\n",
       " '367230',\n",
       " '370377',\n",
       " '364512',\n",
       " '220845',\n",
       " '347080',\n",
       " '3336',\n",
       " '230136',\n",
       " '31028',\n",
       " '2659',\n",
       " '11753',\n",
       " '2653',\n",
       " '350029',\n",
       " '54636',\n",
       " '36963',\n",
       " '219533',\n",
       " '13502',\n",
       " '349224',\n",
       " '334912',\n",
       " '27042',\n",
       " '347743',\n",
       " '13214',\n",
       " '112052',\n",
       " '347088',\n",
       " '237668',\n",
       " '3101292',\n",
       " '31921',\n",
       " '3101295',\n",
       " '376564',\n",
       " '350050',\n",
       " '17477',\n",
       " '347088',\n",
       " '1601',\n",
       " '2666',\n",
       " '17572',\n",
       " '349231',\n",
       " '13213',\n",
       " '751',\n",
       " '2314',\n",
       " '349221',\n",
       " '231919',\n",
       " '8475',\n",
       " '330919',\n",
       " '365226',\n",
       " '14879',\n",
       " '349223',\n",
       " '364849',\n",
       " '29751',\n",
       " '35273',\n",
       " '17611',\n",
       " '2623',\n",
       " '5727',\n",
       " '349210',\n",
       " '3101285',\n",
       " '14879',\n",
       " '234686',\n",
       " '312993',\n",
       " '3536',\n",
       " '19996',\n",
       " '29750',\n",
       " '12750',\n",
       " '24580',\n",
       " '244270',\n",
       " '239856',\n",
       " '349912',\n",
       " '342826',\n",
       " '4138',\n",
       " '2144',\n",
       " '17755',\n",
       " '330935',\n",
       " '17572',\n",
       " '6563',\n",
       " '2144',\n",
       " '29750',\n",
       " '2123',\n",
       " '3101295',\n",
       " '349228',\n",
       " '350036',\n",
       " '24160',\n",
       " '17474',\n",
       " '349256',\n",
       " '1601',\n",
       " '2672',\n",
       " '113800',\n",
       " '248731',\n",
       " '363592',\n",
       " '35852',\n",
       " '17421',\n",
       " '348121',\n",
       " '17757',\n",
       " '17475',\n",
       " '2691',\n",
       " '36864',\n",
       " '350025',\n",
       " '250655',\n",
       " '223596',\n",
       " '17476',\n",
       " '113781',\n",
       " '2661',\n",
       " '17482',\n",
       " '113028',\n",
       " '19996',\n",
       " '7545',\n",
       " '250647',\n",
       " '348124',\n",
       " '17757',\n",
       " '34218',\n",
       " '36568',\n",
       " '347062',\n",
       " '248727',\n",
       " '350048',\n",
       " '12233',\n",
       " '250643',\n",
       " '113806',\n",
       " '315094',\n",
       " '31027',\n",
       " '36866',\n",
       " '236853',\n",
       " '3101271',\n",
       " '24160',\n",
       " '2699',\n",
       " '239855',\n",
       " '28425',\n",
       " '233639',\n",
       " '54636',\n",
       " '6608',\n",
       " '17755',\n",
       " '349201',\n",
       " '349218',\n",
       " '16988',\n",
       " '19877',\n",
       " '17608',\n",
       " '376566',\n",
       " '3101288',\n",
       " '5735',\n",
       " '2673',\n",
       " '250648',\n",
       " '113773',\n",
       " '335097',\n",
       " '29103',\n",
       " '392096',\n",
       " '345780',\n",
       " '349204',\n",
       " '220845',\n",
       " '250649',\n",
       " '350042',\n",
       " '29108',\n",
       " '363294',\n",
       " '110152',\n",
       " '358585',\n",
       " '3101272',\n",
       " '2663',\n",
       " '113760',\n",
       " '347074',\n",
       " '13502',\n",
       " '112379',\n",
       " '364850',\n",
       " '371110',\n",
       " '8471',\n",
       " '345781',\n",
       " '350047',\n",
       " '3',\n",
       " '2674',\n",
       " '29105',\n",
       " '347078',\n",
       " '383121',\n",
       " '364516',\n",
       " '36865',\n",
       " '24160',\n",
       " '2687',\n",
       " '17474',\n",
       " '113501',\n",
       " '6607',\n",
       " '3101312',\n",
       " '374887',\n",
       " '3101265',\n",
       " '382652',\n",
       " '2315',\n",
       " '17593',\n",
       " '12460',\n",
       " '239865',\n",
       " '2343',\n",
       " '17600',\n",
       " '349203',\n",
       " '28213',\n",
       " '17465',\n",
       " '349244',\n",
       " '2685',\n",
       " '345773',\n",
       " '250647',\n",
       " '31921',\n",
       " '113760',\n",
       " '2625',\n",
       " '347089',\n",
       " '347063',\n",
       " '112050',\n",
       " '347087',\n",
       " '248723',\n",
       " '113806',\n",
       " '3474',\n",
       " '48871',\n",
       " '28206',\n",
       " '347082',\n",
       " '364499',\n",
       " '112058',\n",
       " '3101290',\n",
       " '2079',\n",
       " '7075',\n",
       " '347088',\n",
       " '12749',\n",
       " '315098',\n",
       " '19972',\n",
       " '392096',\n",
       " '3101295',\n",
       " '368323',\n",
       " '1601',\n",
       " '2079',\n",
       " '367228',\n",
       " '113572',\n",
       " '2659',\n",
       " '29106',\n",
       " '2671',\n",
       " '347468',\n",
       " '2223',\n",
       " '17756',\n",
       " '315097',\n",
       " '392092',\n",
       " '1601',\n",
       " '11774',\n",
       " '3101287',\n",
       " '3',\n",
       " '113798',\n",
       " '2683',\n",
       " '315090',\n",
       " '5547',\n",
       " '2343',\n",
       " '349213',\n",
       " '248727',\n",
       " '17453',\n",
       " '347082',\n",
       " '347060',\n",
       " '2678',\n",
       " '17592',\n",
       " '244252',\n",
       " '392091',\n",
       " '36928',\n",
       " '113055',\n",
       " '2666',\n",
       " '2629',\n",
       " '350026',\n",
       " '28134',\n",
       " '17466',\n",
       " '2343',\n",
       " '233866',\n",
       " '236852',\n",
       " '2149',\n",
       " '17590',\n",
       " '345777',\n",
       " '347742',\n",
       " '349248',\n",
       " '11751',\n",
       " '695',\n",
       " '345765',\n",
       " '3381',\n",
       " '2667',\n",
       " '7534',\n",
       " '349212',\n",
       " '349217',\n",
       " '11767',\n",
       " '230433',\n",
       " '349257',\n",
       " '7552',\n",
       " '34068',\n",
       " '392076',\n",
       " '382652',\n",
       " '211536',\n",
       " '112053',\n",
       " '6607',\n",
       " '111369',\n",
       " '370376']"
      ]
     },
     "execution_count": 30,
     "metadata": {},
     "output_type": "execute_result"
    }
   ],
   "source": [
    "[i[0] if len(i) == 0 else i[-1] for i in train['Ticket'].str.split()]"
   ]
  },
  {
   "cell_type": "code",
   "execution_count": 14,
   "metadata": {},
   "outputs": [
    {
     "data": {
      "text/plain": [
       "Index(['Survived', 'Pclass', 'Sex', 'SibSp', 'Parch', 'Ticket', 'Fare',\n",
       "       'Embarked', 'called', 'Age_band'],\n",
       "      dtype='object')"
      ]
     },
     "execution_count": 14,
     "metadata": {},
     "output_type": "execute_result"
    }
   ],
   "source": [
    "tmp_train.columns"
   ]
  },
  {
   "cell_type": "code",
   "execution_count": 15,
   "metadata": {},
   "outputs": [],
   "source": [
    "tmp_train['Age_band'] = tmp_train['Age_band'].astype('category')"
   ]
  },
  {
   "cell_type": "code",
   "execution_count": 16,
   "metadata": {},
   "outputs": [
    {
     "data": {
      "text/plain": [
       "0      0\n",
       "1      1\n",
       "2      1\n",
       "3      1\n",
       "4      0\n",
       "      ..\n",
       "886    0\n",
       "887    1\n",
       "888    0\n",
       "889    1\n",
       "890    0\n",
       "Name: Survived, Length: 891, dtype: int64"
      ]
     },
     "execution_count": 16,
     "metadata": {},
     "output_type": "execute_result"
    }
   ],
   "source": [
    "labels"
   ]
  },
  {
   "cell_type": "code",
   "execution_count": 18,
   "metadata": {},
   "outputs": [
    {
     "ename": "TypeError",
     "evalue": "unsupported operand type(s) for *: 'AxesSubplot' and 'int'",
     "output_type": "error",
     "traceback": [
      "\u001b[0;31m---------------------------------------------------------------------------\u001b[0m",
      "\u001b[0;31mTypeError\u001b[0m                                 Traceback (most recent call last)",
      "\u001b[0;32m<ipython-input-18-dec4383b29c4>\u001b[0m in \u001b[0;36m<module>\u001b[0;34m\u001b[0m\n\u001b[0;32m----> 1\u001b[0;31m \u001b[0msns\u001b[0m\u001b[0;34m.\u001b[0m\u001b[0mcountplot\u001b[0m\u001b[0;34m(\u001b[0m\u001b[0mtmp_train\u001b[0m\u001b[0;34m[\u001b[0m\u001b[0;34m'Survived'\u001b[0m\u001b[0;34m]\u001b[0m\u001b[0;34m,\u001b[0m\u001b[0mhue\u001b[0m \u001b[0;34m=\u001b[0m \u001b[0mtmp_train\u001b[0m\u001b[0;34m[\u001b[0m\u001b[0;34m'Sex'\u001b[0m\u001b[0;34m]\u001b[0m\u001b[0;34m)\u001b[0m\u001b[0;34m*\u001b[0m\u001b[0;36m100\u001b[0m\u001b[0;34m\u001b[0m\u001b[0;34m\u001b[0m\u001b[0m\n\u001b[0m\u001b[1;32m      2\u001b[0m \u001b[0mplt\u001b[0m\u001b[0;34m.\u001b[0m\u001b[0mshow\u001b[0m\u001b[0;34m(\u001b[0m\u001b[0;34m)\u001b[0m\u001b[0;34m\u001b[0m\u001b[0;34m\u001b[0m\u001b[0m\n",
      "\u001b[0;31mTypeError\u001b[0m: unsupported operand type(s) for *: 'AxesSubplot' and 'int'"
     ]
    },
    {
     "data": {
      "image/png": "[encoded data removed]",
      "text/plain": [
       "<Figure size 432x288 with 1 Axes>"
      ]
     },
     "metadata": {
      "needs_background": "light"
     },
     "output_type": "display_data"
    }
   ],
   "source": [
    "sns.countplot(tmp_train['Survived'],hue = tmp_train['Sex'])*100\n",
    "plt.show()"
   ]
  },
  {
   "cell_type": "code",
   "execution_count": 19,
   "metadata": {},
   "outputs": [
    {
     "name": "stdout",
     "output_type": "stream",
     "text": [
      "percentage of male survived: Sex  Survived\n",
      "0    0           81.109185\n",
      "     1           18.890815\n",
      "1    1           74.203822\n",
      "     0           25.796178\n",
      "Name: Survived, dtype: float64\n"
     ]
    }
   ],
   "source": [
    "print('percentage of male survived:', tmp_train.groupby('Sex')['Survived'].value_counts(normalize=True)*100)"
   ]
  },
  {
   "cell_type": "code",
   "execution_count": 20,
   "metadata": {},
   "outputs": [
    {
     "name": "stdout",
     "output_type": "stream",
     "text": [
      "percentage of pclasss survived: Pclass  Survived\n",
      "1       1           62.962963\n",
      "        0           37.037037\n",
      "2       0           52.717391\n",
      "        1           47.282609\n",
      "3       0           75.763747\n",
      "        1           24.236253\n",
      "Name: Survived, dtype: float64\n"
     ]
    },
    {
     "data": {
      "image/png": "[encoded data removed]",
      "text/plain": [
       "<Figure size 432x288 with 1 Axes>"
      ]
     },
     "metadata": {
      "needs_background": "light"
     },
     "output_type": "display_data"
    }
   ],
   "source": [
    "sns.barplot(x = tmp_train['Pclass'], y=tmp_train['Survived'], hue=tmp_train['Sex'])\n",
    "print('percentage of pclasss survived:', train.groupby(['Pclass'])['Survived'].value_counts(normalize = True)*100)"
   ]
  },
  {
   "cell_type": "markdown",
   "metadata": {},
   "source": [
    "Pclass vs Sex"
   ]
  },
  {
   "cell_type": "code",
   "execution_count": 21,
   "metadata": {},
   "outputs": [
    {
     "data": {
      "text/plain": [
       "Pclass  Sex  Survived\n",
       "1       0    0           63.114754\n",
       "             1           36.885246\n",
       "        1    1           96.808511\n",
       "             0           3.191489 \n",
       "2       0    0           84.259259\n",
       "             1           15.740741\n",
       "        1    1           92.105263\n",
       "             0           7.894737 \n",
       "3       0    0           86.455331\n",
       "             1           13.544669\n",
       "        1    0           50.000000\n",
       "             1           50.000000\n",
       "Name: Survived, dtype: float64"
      ]
     },
     "execution_count": 21,
     "metadata": {},
     "output_type": "execute_result"
    },
    {
     "data": {
      "image/png": "[encoded data removed]",
      "text/plain": [
       "<Figure size 432x288 with 1 Axes>"
      ]
     },
     "metadata": {
      "needs_background": "light"
     },
     "output_type": "display_data"
    }
   ],
   "source": [
    "sns.barplot(x=tmp_train['Pclass'], y=labels, hue = train['Sex'])\n",
    "tmp_train.groupby(['Pclass','Sex'])['Survived'].value_counts(normalize=True)*100"
   ]
  },
  {
   "cell_type": "code",
   "execution_count": 22,
   "metadata": {},
   "outputs": [
    {
     "data": {
      "text/plain": [
       "<AxesSubplot:>"
      ]
     },
     "execution_count": 22,
     "metadata": {},
     "output_type": "execute_result"
    },
    {
     "data": {
      "image/png": "[encoded data removed]",
      "text/plain": [
       "<Figure size 432x288 with 2 Axes>"
      ]
     },
     "metadata": {
      "needs_background": "light"
     },
     "output_type": "display_data"
    }
   ],
   "source": [
    "# 컬럼별 상관관계\n",
    "# 카이스퀘어 제곱을 통해 범주형과 타겟의 관계 도출\n",
    "sns.heatmap(tmp_train.corr(), annot = True)\n"
   ]
  },
  {
   "cell_type": "code",
   "execution_count": 23,
   "metadata": {},
   "outputs": [
    {
     "data": {
      "text/plain": [
       "<seaborn.axisgrid.FacetGrid at 0x7fb5db5db280>"
      ]
     },
     "execution_count": 23,
     "metadata": {},
     "output_type": "execute_result"
    },
    {
     "data": {
      "image/png": "[encoded data removed]",
      "text/plain": [
       "<Figure size 360x360 with 1 Axes>"
      ]
     },
     "metadata": {
      "needs_background": "light"
     },
     "output_type": "display_data"
    }
   ],
   "source": [
    "# 요금 분포\n",
    "sns.displot(tmp_train['Fare'], bins=13) #gussian distribution"
   ]
  },
  {
   "cell_type": "code",
   "execution_count": 26,
   "metadata": {},
   "outputs": [
    {
     "data": {
      "text/plain": [
       "<AxesSubplot:xlabel='Survived', ylabel='Fare'>"
      ]
     },
     "execution_count": 26,
     "metadata": {},
     "output_type": "execute_result"
    },
    {
     "data": {
      "image/png": "[encoded data removed]",
      "text/plain": [
       "<Figure size 432x288 with 1 Axes>"
      ]
     },
     "metadata": {
      "needs_background": "light"
     },
     "output_type": "display_data"
    }
   ],
   "source": [
    "sns.boxplot(y=train['Fare'], x= train['Survived'])"
   ]
  },
  {
   "cell_type": "code",
   "execution_count": 27,
   "metadata": {},
   "outputs": [
    {
     "name": "stdout",
     "output_type": "stream",
     "text": [
      "PassengerId    0  \n",
      "Survived       0  \n",
      "Pclass         0  \n",
      "Name           0  \n",
      "Sex            0  \n",
      "Age            177\n",
      "SibSp          0  \n",
      "Parch          0  \n",
      "Ticket         0  \n",
      "Fare           0  \n",
      "Cabin          687\n",
      "Embarked       2  \n",
      "dtype: int64 \n",
      "\n",
      "\n",
      " PassengerId    0  \n",
      "Pclass         0  \n",
      "Name           0  \n",
      "Sex            0  \n",
      "Age            86 \n",
      "SibSp          0  \n",
      "Parch          0  \n",
      "Ticket         0  \n",
      "Fare           1  \n",
      "Cabin          327\n",
      "Embarked       0  \n",
      "dtype: int64\n"
     ]
    }
   ],
   "source": [
    "# Null values\n",
    "print(train.isnull().sum(), '\\n\\n\\n', test.isnull().sum())"
   ]
  },
  {
   "cell_type": "code",
   "execution_count": 28,
   "metadata": {},
   "outputs": [],
   "source": [
    "tmp_train.columns\n",
    "tmp_train.drop(['Survived'],axis=1, inplace=True)"
   ]
  },
  {
   "cell_type": "code",
   "execution_count": 29,
   "metadata": {},
   "outputs": [],
   "source": [
    "x_train, x_valid, y_train, y_valid = train_test_split(tmp_train, labels, test_size=0.2, random_state = 1234)"
   ]
  },
  {
   "cell_type": "code",
   "execution_count": 30,
   "metadata": {},
   "outputs": [],
   "source": [
    "models = {'KNN':KNeighborsClassifier(),\n",
    "         'SVC' : SVC(probability=True),\n",
    "         'DecisionTreeClassifier': DecisionTreeClassifier()}"
   ]
  },
  {
   "cell_type": "code",
   "execution_count": null,
   "metadata": {},
   "outputs": [],
   "source": []
  }
 ],
 "metadata": {
  "kernelspec": {
   "display_name": "Python 3",
   "language": "python",
   "name": "python3"
  },
  "language_info": {
   "codemirror_mode": {
    "name": "ipython",
    "version": 3
   },
   "file_extension": ".py",
   "mimetype": "text/x-python",
   "name": "python",
   "nbconvert_exporter": "python",
   "pygments_lexer": "ipython3",
   "version": "3.8.5"
  },
  "toc": {
   "base_numbering": 1,
   "nav_menu": {},
   "number_sections": true,
   "sideBar": true,
   "skip_h1_title": false,
   "title_cell": "Table of Contents",
   "title_sidebar": "Contents",
   "toc_cell": false,
   "toc_position": {},
   "toc_section_display": true,
   "toc_window_display": false
  }
 },
 "nbformat": 4,
 "nbformat_minor": 4
}
