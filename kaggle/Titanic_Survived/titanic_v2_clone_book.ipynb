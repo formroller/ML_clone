{
 "cells": [
  {
   "cell_type": "markdown",
   "metadata": {},
   "source": [
    "# Titanic\n",
    " - wikidocs, https://wikidocs.net/75068\n",
    " "
   ]
  },
  {
   "cell_type": "markdown",
   "metadata": {},
   "source": [
    "## 데이터 분석\n",
    " - 데이터셋의 칼럼, 데이터 내용 확인\n",
    " - 칼럼과 생존률의 관계 확인"
   ]
  },
  {
   "cell_type": "code",
   "execution_count": 1,
   "metadata": {},
   "outputs": [],
   "source": [
    "import pandas as pd\n",
    "import matplotlib.pyplot as plt\n",
    "import warnings\n",
    "warnings.filterwarnings(action = 'ignore')\n",
    "\n",
    "train = pd.read_csv('./train.csv')\n",
    "test = pd.read_csv('./test.csv')"
   ]
  },
  {
   "cell_type": "code",
   "execution_count": 2,
   "metadata": {},
   "outputs": [
    {
     "data": {
      "text/html": [
       "<div>\n",
       "<style scoped>\n",
       "    .dataframe tbody tr th:only-of-type {\n",
       "        vertical-align: middle;\n",
       "    }\n",
       "\n",
       "    .dataframe tbody tr th {\n",
       "        vertical-align: top;\n",
       "    }\n",
       "\n",
       "    .dataframe thead th {\n",
       "        text-align: right;\n",
       "    }\n",
       "</style>\n",
       "<table border=\"1\" class=\"dataframe\">\n",
       "  <thead>\n",
       "    <tr style=\"text-align: right;\">\n",
       "      <th></th>\n",
       "      <th>PassengerId</th>\n",
       "      <th>Survived</th>\n",
       "      <th>Pclass</th>\n",
       "      <th>Name</th>\n",
       "      <th>Sex</th>\n",
       "      <th>Age</th>\n",
       "      <th>SibSp</th>\n",
       "      <th>Parch</th>\n",
       "      <th>Ticket</th>\n",
       "      <th>Fare</th>\n",
       "      <th>Cabin</th>\n",
       "      <th>Embarked</th>\n",
       "    </tr>\n",
       "  </thead>\n",
       "  <tbody>\n",
       "    <tr>\n",
       "      <th>0</th>\n",
       "      <td>1</td>\n",
       "      <td>0</td>\n",
       "      <td>3</td>\n",
       "      <td>Braund, Mr. Owen Harris</td>\n",
       "      <td>male</td>\n",
       "      <td>22.0</td>\n",
       "      <td>1</td>\n",
       "      <td>0</td>\n",
       "      <td>A/5 21171</td>\n",
       "      <td>7.2500</td>\n",
       "      <td>NaN</td>\n",
       "      <td>S</td>\n",
       "    </tr>\n",
       "    <tr>\n",
       "      <th>1</th>\n",
       "      <td>2</td>\n",
       "      <td>1</td>\n",
       "      <td>1</td>\n",
       "      <td>Cumings, Mrs. John Bradley (Florence Briggs Th...</td>\n",
       "      <td>female</td>\n",
       "      <td>38.0</td>\n",
       "      <td>1</td>\n",
       "      <td>0</td>\n",
       "      <td>PC 17599</td>\n",
       "      <td>71.2833</td>\n",
       "      <td>C85</td>\n",
       "      <td>C</td>\n",
       "    </tr>\n",
       "    <tr>\n",
       "      <th>2</th>\n",
       "      <td>3</td>\n",
       "      <td>1</td>\n",
       "      <td>3</td>\n",
       "      <td>Heikkinen, Miss. Laina</td>\n",
       "      <td>female</td>\n",
       "      <td>26.0</td>\n",
       "      <td>0</td>\n",
       "      <td>0</td>\n",
       "      <td>STON/O2. 3101282</td>\n",
       "      <td>7.9250</td>\n",
       "      <td>NaN</td>\n",
       "      <td>S</td>\n",
       "    </tr>\n",
       "    <tr>\n",
       "      <th>3</th>\n",
       "      <td>4</td>\n",
       "      <td>1</td>\n",
       "      <td>1</td>\n",
       "      <td>Futrelle, Mrs. Jacques Heath (Lily May Peel)</td>\n",
       "      <td>female</td>\n",
       "      <td>35.0</td>\n",
       "      <td>1</td>\n",
       "      <td>0</td>\n",
       "      <td>113803</td>\n",
       "      <td>53.1000</td>\n",
       "      <td>C123</td>\n",
       "      <td>S</td>\n",
       "    </tr>\n",
       "    <tr>\n",
       "      <th>4</th>\n",
       "      <td>5</td>\n",
       "      <td>0</td>\n",
       "      <td>3</td>\n",
       "      <td>Allen, Mr. William Henry</td>\n",
       "      <td>male</td>\n",
       "      <td>35.0</td>\n",
       "      <td>0</td>\n",
       "      <td>0</td>\n",
       "      <td>373450</td>\n",
       "      <td>8.0500</td>\n",
       "      <td>NaN</td>\n",
       "      <td>S</td>\n",
       "    </tr>\n",
       "  </tbody>\n",
       "</table>\n",
       "</div>"
      ],
      "text/plain": [
       "   PassengerId  Survived  Pclass  \\\n",
       "0            1         0       3   \n",
       "1            2         1       1   \n",
       "2            3         1       3   \n",
       "3            4         1       1   \n",
       "4            5         0       3   \n",
       "\n",
       "                                                Name     Sex   Age  SibSp  \\\n",
       "0                            Braund, Mr. Owen Harris    male  22.0      1   \n",
       "1  Cumings, Mrs. John Bradley (Florence Briggs Th...  female  38.0      1   \n",
       "2                             Heikkinen, Miss. Laina  female  26.0      0   \n",
       "3       Futrelle, Mrs. Jacques Heath (Lily May Peel)  female  35.0      1   \n",
       "4                           Allen, Mr. William Henry    male  35.0      0   \n",
       "\n",
       "   Parch            Ticket     Fare Cabin Embarked  \n",
       "0      0         A/5 21171   7.2500   NaN        S  \n",
       "1      0          PC 17599  71.2833   C85        C  \n",
       "2      0  STON/O2. 3101282   7.9250   NaN        S  \n",
       "3      0            113803  53.1000  C123        S  \n",
       "4      0            373450   8.0500   NaN        S  "
      ]
     },
     "execution_count": 2,
     "metadata": {},
     "output_type": "execute_result"
    }
   ],
   "source": [
    "train.head()"
   ]
  },
  {
   "cell_type": "markdown",
   "metadata": {},
   "source": [
    "### 결측치 확인\n",
    " 데이터 이상 여부 확인하기 위해 결측치 확인한다.\n",
    " 결측치, 이상치는 분석 결과 왜곡시킬 수 있기때문에"
   ]
  },
  {
   "cell_type": "code",
   "execution_count": 3,
   "metadata": {},
   "outputs": [
    {
     "data": {
      "text/plain": [
       "PassengerId      0\n",
       "Survived         0\n",
       "Pclass           0\n",
       "Name             0\n",
       "Sex              0\n",
       "Age            177\n",
       "SibSp            0\n",
       "Parch            0\n",
       "Ticket           0\n",
       "Fare             0\n",
       "Cabin          687\n",
       "Embarked         2\n",
       "dtype: int64"
      ]
     },
     "execution_count": 3,
     "metadata": {},
     "output_type": "execute_result"
    }
   ],
   "source": [
    "train.isnull().sum()"
   ]
  },
  {
   "cell_type": "markdown",
   "metadata": {},
   "source": [
    "> Cabin의 경우 전체 데이터 건수에 비해 많은 값들이 비어 있으므로 (891/687) 분석 대상에서 제외해도 될 것이나, \n",
    "  분석 연습을 위해 적절한 값으로 채운 후 전처리 실행"
   ]
  },
  {
   "cell_type": "markdown",
   "metadata": {},
   "source": [
    " ### 분석용 차트 생성 함수\n",
    " 생존 여부(Survived)와 각 칼럼 간 관계를 파이 차트로 분석하기 위해 공통 함수를 아래와 같이 구현\n",
    " - show_pie_chart\n",
    "   - survived_crosstab, pir_chart 함수를 이용해 파이차트 생성\n",
    "\n",
    " - survived_crosstab \n",
    "   - col_name과 Survived 간의 교차 도표 생성\n",
    "   - 생존 여부를 보기 편하게 문자로 변환\n",
    "   \n",
    " - pie_chart\n",
    "   - 파이 차트 생성"
   ]
  },
  {
   "cell_type": "code",
   "execution_count": 4,
   "metadata": {},
   "outputs": [],
   "source": [
    "def show_pie_chart(df, col_name):\n",
    "    colname_survived = survived_crosstab(train, col_name)\n",
    "    pie_chart(colname_survived)\n",
    "    return colname_survived\n",
    "\n",
    "def survived_crosstab(df, col_name):\n",
    "    '''col_name과 Survived간의 교차도표 생성'''\n",
    "    feature_survived = pd.crosstab(df[col_name], df['Survived'])\n",
    "    feature_survived.columns = feature_survived.columns.map({0:\"Dead\", 1:\"Alive\"})\n",
    "    return feature_survived\n",
    "\n",
    "def pie_chart(feature_survived):\n",
    "    '''\n",
    "    pie_cahrt 생성\n",
    "    pcol, prow = 차트를 출력할 개수, pcol * prow 만큼의 차트 출력\n",
    "    '''\n",
    "    frows, fcol = feature_survived.shape\n",
    "    pcol = 3\n",
    "    prow = (frows/pcol + frows%pcol)\n",
    "    plot_height = prow * 2.5\n",
    "    plt.figure(figsize=(8,plot_height))\n",
    "    \n",
    "    for row in range(0,frows):\n",
    "        plt.subplot(prow, pcol, row+1)\n",
    "        \n",
    "        index_name = feature_survived.index[row]\n",
    "        plt.pie(feature_survived.loc[index_name], labels = feature_survived.loc[index_name].index, autopct='%1.1f%%')\n",
    "        plt.title(\"{0}' survived\".format(index_name))\n",
    "    \n",
    "    plt.show()"
   ]
  },
  {
   "cell_type": "markdown",
   "metadata": {},
   "source": [
    "### Sex\n",
    " - 성별과 생존률의 관계 확인\n",
    "   > 남성에 비해 여성의 생존률이 높다"
   ]
  },
  {
   "cell_type": "code",
   "execution_count": 5,
   "metadata": {},
   "outputs": [
    {
     "data": {
      "image/png": "[encoded data removed]",
      "text/plain": [
       "<Figure size 576x480 with 2 Axes>"
      ]
     },
     "metadata": {},
     "output_type": "display_data"
    },
    {
     "data": {
      "text/html": [
       "<div>\n",
       "<style scoped>\n",
       "    .dataframe tbody tr th:only-of-type {\n",
       "        vertical-align: middle;\n",
       "    }\n",
       "\n",
       "    .dataframe tbody tr th {\n",
       "        vertical-align: top;\n",
       "    }\n",
       "\n",
       "    .dataframe thead th {\n",
       "        text-align: right;\n",
       "    }\n",
       "</style>\n",
       "<table border=\"1\" class=\"dataframe\">\n",
       "  <thead>\n",
       "    <tr style=\"text-align: right;\">\n",
       "      <th>Survived</th>\n",
       "      <th>Dead</th>\n",
       "      <th>Alive</th>\n",
       "    </tr>\n",
       "    <tr>\n",
       "      <th>Sex</th>\n",
       "      <th></th>\n",
       "      <th></th>\n",
       "    </tr>\n",
       "  </thead>\n",
       "  <tbody>\n",
       "    <tr>\n",
       "      <th>female</th>\n",
       "      <td>81</td>\n",
       "      <td>233</td>\n",
       "    </tr>\n",
       "    <tr>\n",
       "      <th>male</th>\n",
       "      <td>468</td>\n",
       "      <td>109</td>\n",
       "    </tr>\n",
       "  </tbody>\n",
       "</table>\n",
       "</div>"
      ],
      "text/plain": [
       "Survived  Dead  Alive\n",
       "Sex                  \n",
       "female      81    233\n",
       "male       468    109"
      ]
     },
     "execution_count": 5,
     "metadata": {},
     "output_type": "execute_result"
    }
   ],
   "source": [
    "c = show_pie_chart(train, 'Sex')\n",
    "c"
   ]
  },
  {
   "cell_type": "markdown",
   "metadata": {},
   "source": [
    "### Embarked\n",
    " - 승선위치에 따른 생존률 확인.\n",
    " > C > Q> S 순으로 생존률 높음"
   ]
  },
  {
   "cell_type": "code",
   "execution_count": 6,
   "metadata": {},
   "outputs": [
    {
     "data": {
      "image/png": "[encoded data removed]",
      "text/plain": [
       "<Figure size 576x180 with 3 Axes>"
      ]
     },
     "metadata": {},
     "output_type": "display_data"
    }
   ],
   "source": [
    "c = show_pie_chart(train, 'Embarked')"
   ]
  },
  {
   "cell_type": "markdown",
   "metadata": {},
   "source": [
    "### Name\n",
    " - 이름에서 호칭 추출\n",
    " - 추출한 데이터에서 빈도가 많은 Mr, Miss, Mrs, Master 유지\n",
    " - 나머지는 Other로 변경, 프랑스 호칭 변경"
   ]
  },
  {
   "cell_type": "code",
   "execution_count": 7,
   "metadata": {},
   "outputs": [
    {
     "data": {
      "text/plain": [
       "Mr          517\n",
       "Miss        182\n",
       "Mrs         125\n",
       "Master       40\n",
       "Dr            7\n",
       "Rev           6\n",
       "Col           2\n",
       "Major         2\n",
       "Mlle          2\n",
       "Jonkheer      1\n",
       "Lady          1\n",
       "Don           1\n",
       "Countess      1\n",
       "Capt          1\n",
       "Sir           1\n",
       "Ms            1\n",
       "Mme           1\n",
       "Name: Title, dtype: int64"
      ]
     },
     "execution_count": 7,
     "metadata": {},
     "output_type": "execute_result"
    }
   ],
   "source": [
    "train['Title'] = train.Name.str.extract(' ([A-Za-z]+)\\.')\n",
    "train['Title'].value_counts()"
   ]
  },
  {
   "cell_type": "code",
   "execution_count": 8,
   "metadata": {},
   "outputs": [
    {
     "data": {
      "image/png": "[encoded data removed]",
      "text/plain": [
       "<Figure size 576x660 with 5 Axes>"
      ]
     },
     "metadata": {},
     "output_type": "display_data"
    },
    {
     "data": {
      "text/html": [
       "<div>\n",
       "<style scoped>\n",
       "    .dataframe tbody tr th:only-of-type {\n",
       "        vertical-align: middle;\n",
       "    }\n",
       "\n",
       "    .dataframe tbody tr th {\n",
       "        vertical-align: top;\n",
       "    }\n",
       "\n",
       "    .dataframe thead th {\n",
       "        text-align: right;\n",
       "    }\n",
       "</style>\n",
       "<table border=\"1\" class=\"dataframe\">\n",
       "  <thead>\n",
       "    <tr style=\"text-align: right;\">\n",
       "      <th>Survived</th>\n",
       "      <th>Dead</th>\n",
       "      <th>Alive</th>\n",
       "    </tr>\n",
       "    <tr>\n",
       "      <th>Title</th>\n",
       "      <th></th>\n",
       "      <th></th>\n",
       "    </tr>\n",
       "  </thead>\n",
       "  <tbody>\n",
       "    <tr>\n",
       "      <th>Master</th>\n",
       "      <td>17</td>\n",
       "      <td>23</td>\n",
       "    </tr>\n",
       "    <tr>\n",
       "      <th>Miss</th>\n",
       "      <td>55</td>\n",
       "      <td>130</td>\n",
       "    </tr>\n",
       "    <tr>\n",
       "      <th>Mr</th>\n",
       "      <td>436</td>\n",
       "      <td>81</td>\n",
       "    </tr>\n",
       "    <tr>\n",
       "      <th>Mrs</th>\n",
       "      <td>26</td>\n",
       "      <td>100</td>\n",
       "    </tr>\n",
       "    <tr>\n",
       "      <th>Other</th>\n",
       "      <td>15</td>\n",
       "      <td>8</td>\n",
       "    </tr>\n",
       "  </tbody>\n",
       "</table>\n",
       "</div>"
      ],
      "text/plain": [
       "Survived  Dead  Alive\n",
       "Title                \n",
       "Master      17     23\n",
       "Miss        55    130\n",
       "Mr         436     81\n",
       "Mrs         26    100\n",
       "Other       15      8"
      ]
     },
     "execution_count": 8,
     "metadata": {},
     "output_type": "execute_result"
    }
   ],
   "source": [
    "train['Title'] = train['Title'].replace(['Capt', 'Col', 'Countess', 'Don', 'Dona', 'Dr', 'Jonkheer', 'Lady', 'Major', 'Rev', 'Sir'], 'Other')\n",
    "train['Title'] = train['Title'].replace('Mlle', 'Miss')\n",
    "train['Title'] = train['Title'].replace('Mme', 'Mrs')\n",
    "train['Title'] = train['Title'].replace('Ms', 'Miss')\n",
    "\n",
    "train['Title'].value_counts()\n",
    "\n",
    "c = show_pie_chart(train, 'Title')\n",
    "c"
   ]
  },
  {
   "cell_type": "markdown",
   "metadata": {},
   "source": [
    "> 생존률 비교시 Miss, Mrs에 비해 Mr의 생존률이 낮다."
   ]
  },
  {
   "cell_type": "markdown",
   "metadata": {},
   "source": [
    "### Age\n",
    "나이와 생존률의 관계 확인. 나이에 존재하는 결측치를 호칭과 나이로 구한 나이의 평균값으로 채운다.\n",
    "나이를 qcut을 이용해 8개의 구간으로 분리해 나이 카테고리(AgeCategory)로 만든다"
   ]
  },
  {
   "cell_type": "code",
   "execution_count": 9,
   "metadata": {},
   "outputs": [
    {
     "data": {
      "image/png": "[encoded data removed]",
      "text/plain": [
       "<Figure size 576x840 with 8 Axes>"
      ]
     },
     "metadata": {},
     "output_type": "display_data"
    },
    {
     "data": {
      "text/html": [
       "<div>\n",
       "<style scoped>\n",
       "    .dataframe tbody tr th:only-of-type {\n",
       "        vertical-align: middle;\n",
       "    }\n",
       "\n",
       "    .dataframe tbody tr th {\n",
       "        vertical-align: top;\n",
       "    }\n",
       "\n",
       "    .dataframe thead th {\n",
       "        text-align: right;\n",
       "    }\n",
       "</style>\n",
       "<table border=\"1\" class=\"dataframe\">\n",
       "  <thead>\n",
       "    <tr style=\"text-align: right;\">\n",
       "      <th>Survived</th>\n",
       "      <th>Dead</th>\n",
       "      <th>Alive</th>\n",
       "    </tr>\n",
       "    <tr>\n",
       "      <th>AgeCategory</th>\n",
       "      <th></th>\n",
       "      <th></th>\n",
       "    </tr>\n",
       "  </thead>\n",
       "  <tbody>\n",
       "    <tr>\n",
       "      <th>1</th>\n",
       "      <td>54</td>\n",
       "      <td>63</td>\n",
       "    </tr>\n",
       "    <tr>\n",
       "      <th>2</th>\n",
       "      <td>79</td>\n",
       "      <td>48</td>\n",
       "    </tr>\n",
       "    <tr>\n",
       "      <th>3</th>\n",
       "      <td>60</td>\n",
       "      <td>37</td>\n",
       "    </tr>\n",
       "    <tr>\n",
       "      <th>4</th>\n",
       "      <td>66</td>\n",
       "      <td>42</td>\n",
       "    </tr>\n",
       "    <tr>\n",
       "      <th>5</th>\n",
       "      <td>125</td>\n",
       "      <td>31</td>\n",
       "    </tr>\n",
       "    <tr>\n",
       "      <th>6</th>\n",
       "      <td>30</td>\n",
       "      <td>38</td>\n",
       "    </tr>\n",
       "    <tr>\n",
       "      <th>7</th>\n",
       "      <td>69</td>\n",
       "      <td>45</td>\n",
       "    </tr>\n",
       "    <tr>\n",
       "      <th>8</th>\n",
       "      <td>66</td>\n",
       "      <td>38</td>\n",
       "    </tr>\n",
       "  </tbody>\n",
       "</table>\n",
       "</div>"
      ],
      "text/plain": [
       "Survived     Dead  Alive\n",
       "AgeCategory             \n",
       "1              54     63\n",
       "2              79     48\n",
       "3              60     37\n",
       "4              66     42\n",
       "5             125     31\n",
       "6              30     38\n",
       "7              69     45\n",
       "8              66     38"
      ]
     },
     "execution_count": 9,
     "metadata": {},
     "output_type": "execute_result"
    }
   ],
   "source": [
    "meanAge = train[['Title', 'Age']].groupby(['Title']).mean()\n",
    "\n",
    "for index, row in meanAge.iterrows():\n",
    "    nullIndex = train[(train.Title == index) & (train.Age.isnull())].index\n",
    "    train.loc[nullIndex, 'Age'] = row[0]\n",
    "    \n",
    "train['AgeCategory'] = pd.qcut(train.Age, 8, labels = range(1,9))\n",
    "train.AgeCategory = train.AgeCategory.astype(int)\n",
    "\n",
    "c = show_pie_chart(train, 'AgeCategory')\n",
    "c"
   ]
  },
  {
   "cell_type": "markdown",
   "metadata": {},
   "source": [
    "> 어릴수록 생존률이 상승하고, 결측치가 많이 포함된 데이터는 생존률 저하"
   ]
  },
  {
   "cell_type": "markdown",
   "metadata": {},
   "source": [
    "### Cabin\n",
    "방 번호와 생존률의 관계 확인. <br>\n",
    "방 번호의 결측치는 N으로 치환, 방 번호의 첫 영문자만 떼어낸 뒤 숫자로 범주화"
   ]
  },
  {
   "cell_type": "code",
   "execution_count": 10,
   "metadata": {},
   "outputs": [
    {
     "data": {
      "image/png": "[encoded data removed]",
      "text/plain": [
       "<Figure size 576x540 with 9 Axes>"
      ]
     },
     "metadata": {},
     "output_type": "display_data"
    },
    {
     "data": {
      "text/html": [
       "<div>\n",
       "<style scoped>\n",
       "    .dataframe tbody tr th:only-of-type {\n",
       "        vertical-align: middle;\n",
       "    }\n",
       "\n",
       "    .dataframe tbody tr th {\n",
       "        vertical-align: top;\n",
       "    }\n",
       "\n",
       "    .dataframe thead th {\n",
       "        text-align: right;\n",
       "    }\n",
       "</style>\n",
       "<table border=\"1\" class=\"dataframe\">\n",
       "  <thead>\n",
       "    <tr style=\"text-align: right;\">\n",
       "      <th>Survived</th>\n",
       "      <th>Dead</th>\n",
       "      <th>Alive</th>\n",
       "    </tr>\n",
       "    <tr>\n",
       "      <th>CabinCategory</th>\n",
       "      <th></th>\n",
       "      <th></th>\n",
       "    </tr>\n",
       "  </thead>\n",
       "  <tbody>\n",
       "    <tr>\n",
       "      <th>0</th>\n",
       "      <td>481</td>\n",
       "      <td>206</td>\n",
       "    </tr>\n",
       "    <tr>\n",
       "      <th>1</th>\n",
       "      <td>24</td>\n",
       "      <td>35</td>\n",
       "    </tr>\n",
       "    <tr>\n",
       "      <th>2</th>\n",
       "      <td>12</td>\n",
       "      <td>35</td>\n",
       "    </tr>\n",
       "    <tr>\n",
       "      <th>3</th>\n",
       "      <td>8</td>\n",
       "      <td>25</td>\n",
       "    </tr>\n",
       "    <tr>\n",
       "      <th>4</th>\n",
       "      <td>8</td>\n",
       "      <td>24</td>\n",
       "    </tr>\n",
       "    <tr>\n",
       "      <th>5</th>\n",
       "      <td>8</td>\n",
       "      <td>7</td>\n",
       "    </tr>\n",
       "    <tr>\n",
       "      <th>6</th>\n",
       "      <td>5</td>\n",
       "      <td>8</td>\n",
       "    </tr>\n",
       "    <tr>\n",
       "      <th>7</th>\n",
       "      <td>2</td>\n",
       "      <td>2</td>\n",
       "    </tr>\n",
       "    <tr>\n",
       "      <th>8</th>\n",
       "      <td>1</td>\n",
       "      <td>0</td>\n",
       "    </tr>\n",
       "  </tbody>\n",
       "</table>\n",
       "</div>"
      ],
      "text/plain": [
       "Survived       Dead  Alive\n",
       "CabinCategory             \n",
       "0               481    206\n",
       "1                24     35\n",
       "2                12     35\n",
       "3                 8     25\n",
       "4                 8     24\n",
       "5                 8      7\n",
       "6                 5      8\n",
       "7                 2      2\n",
       "8                 1      0"
      ]
     },
     "execution_count": 10,
     "metadata": {},
     "output_type": "execute_result"
    }
   ],
   "source": [
    "train.Cabin.fillna('N', inplace = True)\n",
    "\n",
    "train['CabinCategory'] = train['Cabin'].str.slice(start=0, stop=1)\n",
    "train['CabinCategory'] = train['CabinCategory'].map({ \"N\": 0, \"C\": 1, \"B\": 2, \"D\": 3, \"E\": 4, \"A\": 5, \"F\": 6, \"G\": 7, \"T\": 8 })\n",
    "\n",
    "c = show_pie_chart(train, 'CabinCategory')\n",
    "c"
   ]
  },
  {
   "cell_type": "markdown",
   "metadata": {},
   "source": [
    "> 방 번호 낮아질수록 생존률 저하"
   ]
  },
  {
   "cell_type": "markdown",
   "metadata": {},
   "source": [
    "### Fare\n",
    "운임과 생존률의 관계 확인. <br>\n",
    "운임의 결측치는 0으로 채우고 qcut을 이용해 8개의 구간으로 분리하여 범주화."
   ]
  },
  {
   "cell_type": "code",
   "execution_count": 11,
   "metadata": {},
   "outputs": [
    {
     "data": {
      "image/png": "[encoded data removed]",
      "text/plain": [
       "<Figure size 576x840 with 8 Axes>"
      ]
     },
     "metadata": {},
     "output_type": "display_data"
    },
    {
     "data": {
      "text/html": [
       "<div>\n",
       "<style scoped>\n",
       "    .dataframe tbody tr th:only-of-type {\n",
       "        vertical-align: middle;\n",
       "    }\n",
       "\n",
       "    .dataframe tbody tr th {\n",
       "        vertical-align: top;\n",
       "    }\n",
       "\n",
       "    .dataframe thead th {\n",
       "        text-align: right;\n",
       "    }\n",
       "</style>\n",
       "<table border=\"1\" class=\"dataframe\">\n",
       "  <thead>\n",
       "    <tr style=\"text-align: right;\">\n",
       "      <th>Survived</th>\n",
       "      <th>Dead</th>\n",
       "      <th>Alive</th>\n",
       "    </tr>\n",
       "    <tr>\n",
       "      <th>FareCategory</th>\n",
       "      <th></th>\n",
       "      <th></th>\n",
       "    </tr>\n",
       "  </thead>\n",
       "  <tbody>\n",
       "    <tr>\n",
       "      <th>1</th>\n",
       "      <td>111</td>\n",
       "      <td>29</td>\n",
       "    </tr>\n",
       "    <tr>\n",
       "      <th>2</th>\n",
       "      <td>68</td>\n",
       "      <td>15</td>\n",
       "    </tr>\n",
       "    <tr>\n",
       "      <th>3</th>\n",
       "      <td>89</td>\n",
       "      <td>22</td>\n",
       "    </tr>\n",
       "    <tr>\n",
       "      <th>4</th>\n",
       "      <td>67</td>\n",
       "      <td>46</td>\n",
       "    </tr>\n",
       "    <tr>\n",
       "      <th>5</th>\n",
       "      <td>62</td>\n",
       "      <td>48</td>\n",
       "    </tr>\n",
       "    <tr>\n",
       "      <th>6</th>\n",
       "      <td>59</td>\n",
       "      <td>53</td>\n",
       "    </tr>\n",
       "    <tr>\n",
       "      <th>7</th>\n",
       "      <td>57</td>\n",
       "      <td>53</td>\n",
       "    </tr>\n",
       "    <tr>\n",
       "      <th>8</th>\n",
       "      <td>36</td>\n",
       "      <td>76</td>\n",
       "    </tr>\n",
       "  </tbody>\n",
       "</table>\n",
       "</div>"
      ],
      "text/plain": [
       "Survived      Dead  Alive\n",
       "FareCategory             \n",
       "1              111     29\n",
       "2               68     15\n",
       "3               89     22\n",
       "4               67     46\n",
       "5               62     48\n",
       "6               59     53\n",
       "7               57     53\n",
       "8               36     76"
      ]
     },
     "execution_count": 11,
     "metadata": {},
     "output_type": "execute_result"
    }
   ],
   "source": [
    "train.Fare.fillna(0) # test.csv 데이터에 결측치 존재\n",
    "train['FareCategory'] = pd.qcut(train.Fare, 8, labels = range(1,9))\n",
    "train.FareCategory = train.FareCategory.astype(int)\n",
    "\n",
    "c = show_pie_chart(train, 'FareCategory')\n",
    "c"
   ]
  },
  {
   "cell_type": "markdown",
   "metadata": {},
   "source": [
    "### SibSp, Parch\n",
    "1. 형제/자매 여부와 부모/자식 여부는 모두 더해서 가족의 숫자로 표현\n",
    "2. 혼자 여부 표현하는 IsAlone 변수 생성"
   ]
  },
  {
   "cell_type": "code",
   "execution_count": 12,
   "metadata": {},
   "outputs": [
    {
     "data": {
      "image/png": "[encoded data removed]",
      "text/plain": [
       "<Figure size 576x660 with 5 Axes>"
      ]
     },
     "metadata": {},
     "output_type": "display_data"
    },
    {
     "data": {
      "image/png": "[encoded data removed]",
      "text/plain": [
       "<Figure size 576x480 with 2 Axes>"
      ]
     },
     "metadata": {},
     "output_type": "display_data"
    },
    {
     "data": {
      "text/html": [
       "<div>\n",
       "<style scoped>\n",
       "    .dataframe tbody tr th:only-of-type {\n",
       "        vertical-align: middle;\n",
       "    }\n",
       "\n",
       "    .dataframe tbody tr th {\n",
       "        vertical-align: top;\n",
       "    }\n",
       "\n",
       "    .dataframe thead th {\n",
       "        text-align: right;\n",
       "    }\n",
       "</style>\n",
       "<table border=\"1\" class=\"dataframe\">\n",
       "  <thead>\n",
       "    <tr style=\"text-align: right;\">\n",
       "      <th>Survived</th>\n",
       "      <th>Dead</th>\n",
       "      <th>Alive</th>\n",
       "    </tr>\n",
       "    <tr>\n",
       "      <th>IsAlone</th>\n",
       "      <th></th>\n",
       "      <th></th>\n",
       "    </tr>\n",
       "  </thead>\n",
       "  <tbody>\n",
       "    <tr>\n",
       "      <th>0</th>\n",
       "      <td>175</td>\n",
       "      <td>179</td>\n",
       "    </tr>\n",
       "    <tr>\n",
       "      <th>1</th>\n",
       "      <td>374</td>\n",
       "      <td>163</td>\n",
       "    </tr>\n",
       "  </tbody>\n",
       "</table>\n",
       "</div>"
      ],
      "text/plain": [
       "Survived  Dead  Alive\n",
       "IsAlone              \n",
       "0          175    179\n",
       "1          374    163"
      ]
     },
     "execution_count": 12,
     "metadata": {},
     "output_type": "execute_result"
    }
   ],
   "source": [
    "train['Family'] = train['SibSp'] + train['Parch'] + 1\n",
    "train.loc[train['Family'] > 4, 'Family'] = 5\n",
    "\n",
    "train['IsAlone'] = 1\n",
    "train.loc[train['Family'] > 1, 'IsAlone'] = 0\n",
    "\n",
    "c = show_pie_chart(train, 'Family')\n",
    "c\n",
    "\n",
    "c = show_pie_chart(train, 'IsAlone')\n",
    "c"
   ]
  },
  {
   "cell_type": "markdown",
   "metadata": {},
   "source": [
    "> 1. 4인 가족의 생존률이 가장 높다. <br>\n",
    "2. 가족이 많으면 생존률 낮다 <br>\n",
    "3. 혼자 승선한 사람은 가족이 있는 경우보다 생존률 낮다."
   ]
  },
  {
   "cell_type": "markdown",
   "metadata": {},
   "source": [
    "### Ticket\n",
    "1. 티켓 정보에 있는 영문을 이용해 생존률 확인. \n",
    "2. 티켓 정보에 있는 공백을 기준으로 분할하고 마지막 숫자의 첫번째 글자만 분할 \n",
    "3. factorize를 이용해 카테고리화"
   ]
  },
  {
   "cell_type": "code",
   "execution_count": 13,
   "metadata": {},
   "outputs": [
    {
     "data": {
      "image/png": "[encoded data removed]",
      "text/plain": [
       "<Figure size 576x840 with 8 Axes>"
      ]
     },
     "metadata": {},
     "output_type": "display_data"
    },
    {
     "data": {
      "text/html": [
       "<div>\n",
       "<style scoped>\n",
       "    .dataframe tbody tr th:only-of-type {\n",
       "        vertical-align: middle;\n",
       "    }\n",
       "\n",
       "    .dataframe tbody tr th {\n",
       "        vertical-align: top;\n",
       "    }\n",
       "\n",
       "    .dataframe thead th {\n",
       "        text-align: right;\n",
       "    }\n",
       "</style>\n",
       "<table border=\"1\" class=\"dataframe\">\n",
       "  <thead>\n",
       "    <tr style=\"text-align: right;\">\n",
       "      <th>Survived</th>\n",
       "      <th>Dead</th>\n",
       "      <th>Alive</th>\n",
       "    </tr>\n",
       "    <tr>\n",
       "      <th>TicketCategory</th>\n",
       "      <th></th>\n",
       "      <th></th>\n",
       "    </tr>\n",
       "  </thead>\n",
       "  <tbody>\n",
       "    <tr>\n",
       "      <th>1</th>\n",
       "      <td>136</td>\n",
       "      <td>94</td>\n",
       "    </tr>\n",
       "    <tr>\n",
       "      <th>2</th>\n",
       "      <td>91</td>\n",
       "      <td>140</td>\n",
       "    </tr>\n",
       "    <tr>\n",
       "      <th>3</th>\n",
       "      <td>272</td>\n",
       "      <td>95</td>\n",
       "    </tr>\n",
       "    <tr>\n",
       "      <th>4</th>\n",
       "      <td>6</td>\n",
       "      <td>4</td>\n",
       "    </tr>\n",
       "    <tr>\n",
       "      <th>5</th>\n",
       "      <td>11</td>\n",
       "      <td>4</td>\n",
       "    </tr>\n",
       "    <tr>\n",
       "      <th>6</th>\n",
       "      <td>13</td>\n",
       "      <td>1</td>\n",
       "    </tr>\n",
       "    <tr>\n",
       "      <th>7</th>\n",
       "      <td>7</td>\n",
       "      <td>2</td>\n",
       "    </tr>\n",
       "    <tr>\n",
       "      <th>8</th>\n",
       "      <td>13</td>\n",
       "      <td>2</td>\n",
       "    </tr>\n",
       "  </tbody>\n",
       "</table>\n",
       "</div>"
      ],
      "text/plain": [
       "Survived        Dead  Alive\n",
       "TicketCategory             \n",
       "1                136     94\n",
       "2                 91    140\n",
       "3                272     95\n",
       "4                  6      4\n",
       "5                 11      4\n",
       "6                 13      1\n",
       "7                  7      2\n",
       "8                 13      2"
      ]
     },
     "execution_count": 13,
     "metadata": {},
     "output_type": "execute_result"
    }
   ],
   "source": [
    "# STON/02. 310282를 ['STON/02.', '310282']로 변경하고 '310282'의 첫 번째 3을 선택\n",
    "\n",
    "train['TicketCategory'] = train.Ticket.str.split() # 공백으로 분리\n",
    "train['TicketCategory'] = [i[-1][0] for i in train['TicketCategory']] # 첫번째 숫자 분리\n",
    "train['TicketCategory'] = train['TicketCategory'].replace(['8', '9', 'L'], '8')\n",
    "train['TicketCategory'] = pd.factorize(train['TicketCategory'])[0] + 1\n",
    "\n",
    "c = show_pie_chart(train, 'TicketCategory')\n",
    "c "
   ]
  },
  {
   "cell_type": "markdown",
   "metadata": {},
   "source": [
    "### 정리\n",
    "컬럼별 생존여부 확인 결과, 여성이고 방 값이 비쌀수록 생존률이 높아지는 것을 알 수 있었다. "
   ]
  },
  {
   "cell_type": "markdown",
   "metadata": {},
   "source": [
    "## 전처리\n",
    " - 분석할 수 있는 형태로 데이터 변환\n",
    "   * 데이터 범주화\n",
    "   * 숫자형 데이터로 변환\n",
    " - 생존률과 관계없는 데이터 삭제"
   ]
  },
  {
   "cell_type": "markdown",
   "metadata": {},
   "source": [
    "(전처리는 train, test 모두 실시)\n",
    "\n",
    "|기존컬럼|신규컬럼|설명|\n",
    "|:---:|:---:|:---:|\n",
    "|Sex|Sex| 성별. female -> 0, male -> 1로 변환|\n",
    "|Embarked|\tEmbarked|\t탑승항. C -> 0, Q -> 1, S -> 2로 변환\n",
    "Name|\tTitle|\t이름에서 호칭을 추출. Master -> 0, Miss -> 1, Mr -> 2, Mrs -> 3, Other -> 4로 변환\n",
    "Age\t|AgeCategory|\t나이를 qcut으로 8개의 구간으로 분리하여 카테고리화. 결측치는 호칭의 평균값으로 채움\n",
    "Cabin\t|CabinCategory|\t방번호를 첫 글자만 따서 카테고리화. 결측치는 N으로 채움\n",
    "Fare|\tFareCategory|\t운임을 8개의 구간으로 분리하여 카테고리화. 결측치는 0으로 채움\n",
    "SibSp, Parch\t|Family, IsAlone|\t가족으로 합침. 혼자 탑승한 고객 정보 추출\n",
    "Ticket|\tTicketCategory|\t티켓 번호의 첫 번째 번호만 추출하여 카테고리화\n",
    "\n",
    "데이터 분석에 이용한 함수들을 정리해 featue_engineeering 함수를 만들고 훈련용, 검증용 데이터 모두 전처리한다."
   ]
  },
  {
   "cell_type": "code",
   "execution_count": 14,
   "metadata": {},
   "outputs": [
    {
     "name": "stdout",
     "output_type": "stream",
     "text": [
      "<class 'pandas.core.frame.DataFrame'>\n",
      "RangeIndex: 891 entries, 0 to 890\n",
      "Data columns (total 11 columns):\n",
      " #   Column          Non-Null Count  Dtype\n",
      "---  ------          --------------  -----\n",
      " 0   Survived        891 non-null    int64\n",
      " 1   Pclass          891 non-null    int64\n",
      " 2   Sex             891 non-null    int64\n",
      " 3   Embarked        891 non-null    int64\n",
      " 4   Title           891 non-null    int64\n",
      " 5   AgeCategory     891 non-null    int64\n",
      " 6   CabinCategory   891 non-null    int64\n",
      " 7   FareCategory    891 non-null    int64\n",
      " 8   Family          891 non-null    int64\n",
      " 9   IsAlone         891 non-null    int64\n",
      " 10  TicketCategory  891 non-null    int64\n",
      "dtypes: int64(11)\n",
      "memory usage: 76.7 KB\n",
      "<class 'pandas.core.frame.DataFrame'>\n",
      "RangeIndex: 418 entries, 0 to 417\n",
      "Data columns (total 10 columns):\n",
      " #   Column          Non-Null Count  Dtype\n",
      "---  ------          --------------  -----\n",
      " 0   Pclass          418 non-null    int64\n",
      " 1   Sex             418 non-null    int64\n",
      " 2   Embarked        418 non-null    int64\n",
      " 3   Title           418 non-null    int64\n",
      " 4   AgeCategory     418 non-null    int64\n",
      " 5   CabinCategory   418 non-null    int64\n",
      " 6   FareCategory    418 non-null    int64\n",
      " 7   Family          418 non-null    int64\n",
      " 8   IsAlone         418 non-null    int64\n",
      " 9   TicketCategory  418 non-null    int64\n",
      "dtypes: int64(10)\n",
      "memory usage: 32.8 KB\n"
     ]
    }
   ],
   "source": [
    "train = pd.read_csv('./train.csv')\n",
    "test = pd.read_csv('./test.csv')\n",
    "submission = pd.read_csv('./gender_submission.csv')\n",
    "\n",
    "def feature_engineering(df):\n",
    "    #Sex\n",
    "    df['Sex'] = df['Sex'].map({'female':0, 'male':1})\n",
    "    \n",
    "    #Embarked\n",
    "    df.Embarked.fillna('S', inplace=True)\n",
    "    df['Embarked'] = df['Embarked'].map({'C':0, 'Q':1, 'S':2})\n",
    "    \n",
    "    # Title\n",
    "    df['Title'] = df.Name.str.extract(' ([A-Za-z]+)\\.')\n",
    "    df['Title'] = df['Title'].replace(['Capt', 'Col', 'Countess', 'Don', 'Dona', 'Dr','Jonkheer', 'Lady', 'Major', 'Rev', 'Sir'], 'Other')\n",
    "    df['Title'] = df['Title'].replace('Mlle' ,'Miss')\n",
    "    df['Title'] = df['Title'].replace('Mme', 'Mrs')\n",
    "    df['Title'] = df['Title'].replace('Ms', 'Miss')\n",
    "    df['Title'] = df['Title'].map({'Master':0, 'Miss':1, 'Mr':2, 'Mrs':3, 'Other':4})\n",
    "    \n",
    "    # Age\n",
    "    meanAge = df[['Title', 'Age']].groupby(['Title']).mean()\n",
    "    for index, row in meanAge.iterrows():\n",
    "        nullIndex = df[(df.Title == index) & (df.Age.isnull())].index\n",
    "        df.loc[nullIndex, 'Age'] = row[0]\n",
    "        \n",
    "    df['AgeCategory'] = pd.qcut(df.Age, 8, labels = range(1,9))\n",
    "    df.AgeCategory = df.AgeCategory.astype(int)\n",
    "    \n",
    "    # Cabin\n",
    "    df.Cabin.fillna('N', inplace = True)\n",
    "    df['CabinCategory'] = df['Cabin'].str.slice(start=0, stop=1)\n",
    "    df['CabinCategory'] = df['CabinCategory'].map({'N':0, 'C':1, 'B':2, 'D':3, 'E':4, 'A':5, 'F':6, 'G':7, 'T':8})\n",
    "    \n",
    "    # Fare\n",
    "    df.Fare.fillna(0, inplace = True)\n",
    "    df['FareCategory'] = pd.qcut(df.Fare, 8, labels = range(1,9))\n",
    "    df.FareCategory = df.FareCategory.astype(int)\n",
    "    \n",
    "    #Sibsp, Parch\n",
    "    df['Family'] = df['SibSp'] + df['Parch'] + 1\n",
    "    df.loc[df['Family'] > 4, 'Family'] = 5\n",
    "    \n",
    "    df['IsAlone'] = 1 \n",
    "    df.loc[df['Family'] > 1, 'IsAlone'] = 0\n",
    "    \n",
    "    # Ticket\n",
    "    df['TicketCategory'] = df.Ticket.str.split()\n",
    "    df['TicketCategory'] = [i[-1][0] for i in df['TicketCategory']]\n",
    "    df['TicketCategory'] = df['TicketCategory'].replace(['8','9','L'], '8')\n",
    "    df['TicketCategory'] = pd.factorize(df['TicketCategory'])[0] + 1\n",
    "    \n",
    "    df.drop(['PassengerId', 'Ticket', 'Cabin', 'Fare', 'Name', 'Age', 'SibSp', 'Parch'], axis = 1, inplace = True)\n",
    "    \n",
    "    return df\n",
    "\n",
    "train = feature_engineering(train)\n",
    "test = feature_engineering(test)\n",
    "\n",
    "train.info()\n",
    "test.info()"
   ]
  },
  {
   "cell_type": "markdown",
   "metadata": {},
   "source": [
    "> 전처리 후 분석에 사용할 데이터만 남고 나머지는 없어진 것을 확인할 수 있다."
   ]
  },
  {
   "cell_type": "markdown",
   "metadata": {},
   "source": [
    "## 머신러닝\n",
    " - 적합한 분석 알고리즘 선택\n",
    " - 알고리즘 파라미터 최적화"
   ]
  },
  {
   "cell_type": "markdown",
   "metadata": {},
   "source": [
    "> 타이타닉 생존자 예측은 훈련용 데이터에 정답이 있는 지도 학습입니다. 따라서 전처리가 끝난 데이터를 특성과 정답으로 분리한다."
   ]
  },
  {
   "cell_type": "code",
   "execution_count": 15,
   "metadata": {},
   "outputs": [],
   "source": [
    "from sklearn.ensemble import RandomForestClassifier\n",
    "from sklearn.model_selection import train_test_split\n",
    "from sklearn.metrics import accuracy_score\n",
    "\n",
    "# Pcalss, Sex, Embarkde, Title, AgeCategory, CabinCategory, FareCategory, Family, IsAlone, TicketCategoty\n",
    "data = train.drop('Survived', axis =1).values\n",
    "# Survived\n",
    "target = train['Survived'].values"
   ]
  },
  {
   "cell_type": "markdown",
   "metadata": {},
   "source": [
    "data는 특성(featrue)이 되고, traget은 정답(Label)이 된다. \n",
    "* data : Pcalss, Sex, Embarkde, Title, AgeCateogory, CabinCategory, FareCategory, Family, IsAlone, TicketCategory \n",
    "* target : Survived\n",
    "\n",
    "이제 data를 이용해 Survived를 예측한 결과를 target과 비교해 정확도 판단해본다."
   ]
  },
  {
   "cell_type": "code",
   "execution_count": 19,
   "metadata": {},
   "outputs": [],
   "source": [
    "from sklearn.ensemble import RandomForestClassifier \n",
    "from sklearn.model_selection import train_test_split\n",
    "from sklearn.metrics import accuracy_score\n",
    "\n",
    "#  Pclass, Sex, Embarked, Title, AgeCategory, CabinCategory, FareCategory, Family, IsAlone, TicketCategory \n",
    "data = train.drop('Survived', axis=1).values\n",
    "# Survived\n",
    "target = train['Survived'].values"
   ]
  },
  {
   "cell_type": "markdown",
   "metadata": {},
   "source": [
    "### 훈련용 데이터 분리\n",
    "---\n",
    "data와 target을 분리한 다음 훈련용(train.csv)데이터를 다시 훈련용과 검증용으로 분리한다.<br>\n",
    "시험용(test.csv) 데이터는 생존여부가 없기에 모델의 정확도를 확인할 수 없기 때문. <br>\n",
    "훈련용 데이터를 (훈련용)6 : (검증용)4 비율로 분리해 훈련용 데이터로 모델을 생성하고 검증용 데이터로 모델의 정확도 검증한다.\n",
    "\n",
    "<br>\n",
    "* 데이터의 분리는 scikit-learn에서 제공하는 train_test_split 함수를 이용해 간단하게 처리할 수 있다."
   ]
  },
  {
   "cell_type": "code",
   "execution_count": 20,
   "metadata": {},
   "outputs": [],
   "source": [
    "# test_size : 분리 비율 설정.\n",
    "# stratify : 분리 기준이 될 데이터\n",
    "# random_state : 랜덤seed\n",
    "\n",
    "# x_train, x_valid, y_train, y_valid = train_test_split(data, target, test_size = 0.4, stratify = target, random_state = 0)\n",
    "x_train, x_valid, y_train, y_valid = train_test_split(data, target, test_size=0.4, stratify=target, random_state=0)\n"
   ]
  },
  {
   "cell_type": "markdown",
   "metadata": {},
   "source": [
    "* 훈련용 \n",
    " * x_train : data값\n",
    " * y_train : target값 (Survived)\n",
    "\n",
    "* 검증용\n",
    " * x_valid : data 값\n",
    " * y_valid : target값 (Survived)"
   ]
  },
  {
   "cell_type": "markdown",
   "metadata": {},
   "source": [
    "### 랜덤 포레스트 검증 #1\n",
    "---\n",
    "여러 가지 알고리즘 중에서 타이타닉 문제에서 가장 성능이 잘 나오는 랜덤 포레스트 알고리즘을 이용해 데이터 검증 실시\n",
    "\n",
    "아래와 같이 기본적인 파라미터 설정을 통해 83%의 생존률 확인 가능"
   ]
  },
  {
   "cell_type": "code",
   "execution_count": 25,
   "metadata": {},
   "outputs": [
    {
     "name": "stdout",
     "output_type": "stream",
     "text": [
      "총 357명 중 82.913% 정확도록 생존 맞춤\n"
     ]
    }
   ],
   "source": [
    "# rf = RandomForestClassifier(n_estimators=50, criterion='entropy', max_depth=5, oob_score=True, random_state=10)\n",
    "# rf.fit(x_train, y_train)\n",
    "\n",
    "rf = RandomForestClassifier(n_estimators=50, criterion=\"entropy\", max_depth=5, oob_score=True, random_state=10)\n",
    "rf.fit(x_train, y_train)\n",
    "prediction=rf.predict(x_valid)\n",
    "\n",
    "\n",
    "length = y_valid.shape[0]\n",
    "accuracy = accuracy_score(prediction, y_valid)\n",
    "\n",
    "print(f'총 {length}명 중 {accuracy * 100:.3f}% 정확도록 생존 맞춤')"
   ]
  },
  {
   "cell_type": "code",
   "execution_count": 22,
   "metadata": {},
   "outputs": [
    {
     "name": "stdout",
     "output_type": "stream",
     "text": [
      "총 357명 중 82.913% 정확도로 생존을 맞춤\n"
     ]
    }
   ],
   "source": [
    "from sklearn.ensemble import RandomForestClassifier \n",
    "from sklearn.model_selection import train_test_split\n",
    "from sklearn.metrics import accuracy_score\n",
    "\n",
    "#  Pclass, Sex, Embarked, Title, AgeCategory, CabinCategory, FareCategory, Family, IsAlone, TicketCategory \n",
    "data = train.drop('Survived', axis=1).values\n",
    "# Survived\n",
    "target = train['Survived'].values\n",
    "\n",
    "# test_size: 분리 비율 설정. \n",
    "# stratify: 분리 기준이 될 데이터 \n",
    "# random_state: 랜덤 seed\n",
    "x_train, x_valid, y_train, y_valid = train_test_split(data, target, test_size=0.4, stratify=target, random_state=0)\n",
    "\n",
    "rf = RandomForestClassifier(n_estimators=50, criterion=\"entropy\", max_depth=5, oob_score=True, random_state=10)\n",
    "rf.fit(x_train, y_train)\n",
    "prediction = rf.predict(x_valid)\n",
    "\n",
    "length = y_valid.shape[0]\n",
    "accuracy = accuracy_score(prediction, y_valid)\n",
    "print(f'총 {length}명 중 {accuracy * 100:.3f}% 정확도로 생존을 맞춤')\n",
    "\n",
    "# 결과 "
   ]
  },
  {
   "cell_type": "markdown",
   "metadata": {},
   "source": [
    "### 랜덤포레스트 검증 #2\n",
    "---\n",
    "여러 가지 파라미터를 이용해 종합적인 검증을 하고 싶을 때는 <b>GridSearchCV</b>와 <b>StratifiedKFold</b>를 이용한다.<br>\n",
    "\n",
    "아래와 같이 <b>RF_paramgrid</b>와 같이 딕셔너리 형으로 전달할 여러가지 파라미터값을 설정하고 이 값을 이용해 전달하면 동시에 여러번 테스트를 진행하고, 최적의 옵션 값을 확인할 수 있다. \n",
    "(많은 옵션을 설정할수록 처리 횟수가 많아지고 처리 시간이 오래 걸리게 된다.)<br>\n",
    "\n",
    "아래와 같은 경우 <b>Done 8960 out of 8960 | elapsed: 25.1min finished</b>와 같이 총 8,960번의 테스트를 거치게 되고 25분이 걸렸다. PC 성능에 따라 적당한 옵션을 선택하는 것이 중요하다\n"
   ]
  },
  {
   "cell_type": "code",
   "execution_count": 37,
   "metadata": {},
   "outputs": [
    {
     "name": "stdout",
     "output_type": "stream",
     "text": [
      "Fitting 5 folds for each of 1792 candidates, totalling 8960 fits\n"
     ]
    },
    {
     "name": "stderr",
     "output_type": "stream",
     "text": [
      "[Parallel(n_jobs=-1)]: Using backend LokyBackend with 8 concurrent workers.\n",
      "[Parallel(n_jobs=-1)]: Done  34 tasks      | elapsed:    3.5s\n",
      "[Parallel(n_jobs=-1)]: Done 184 tasks      | elapsed:   15.0s\n",
      "[Parallel(n_jobs=-1)]: Done 434 tasks      | elapsed:   35.0s\n",
      "[Parallel(n_jobs=-1)]: Done 784 tasks      | elapsed:  1.1min\n",
      "[Parallel(n_jobs=-1)]: Done 1234 tasks      | elapsed:  1.7min\n",
      "[Parallel(n_jobs=-1)]: Done 1784 tasks      | elapsed:  2.6min\n",
      "[Parallel(n_jobs=-1)]: Done 2434 tasks      | elapsed:  3.6min\n",
      "[Parallel(n_jobs=-1)]: Done 3184 tasks      | elapsed:  4.8min\n",
      "[Parallel(n_jobs=-1)]: Done 4034 tasks      | elapsed:  6.1min\n",
      "[Parallel(n_jobs=-1)]: Done 4984 tasks      | elapsed:  7.5min\n",
      "[Parallel(n_jobs=-1)]: Done 6034 tasks      | elapsed:  8.9min\n",
      "[Parallel(n_jobs=-1)]: Done 7184 tasks      | elapsed: 10.4min\n",
      "[Parallel(n_jobs=-1)]: Done 8434 tasks      | elapsed: 12.1min\n",
      "[Parallel(n_jobs=-1)]: Done 8960 out of 8960 | elapsed: 12.8min finished\n"
     ]
    }
   ],
   "source": [
    "RF_classifier = RandomForestClassifier()\n",
    "\n",
    "RF_paramgrid = {\n",
    "    'max_depth' : [6, 8, 10, 15],\n",
    "    'n_estimators': [50, 100, 300, 500, 700, 800, 900],\n",
    "    'max_features': ['sqrt'],\n",
    "    'min_samples_split': [2, 7, 15, 30],\n",
    "    'min_samples_leaf': [1, 15, 30, 60],\n",
    "    'bootstrap': [True, False],\n",
    "    'criterion': ['gini', 'entropy']\n",
    "    }\n",
    "\n",
    "k_fold = StratifiedKFold(n_splits=5)\n",
    "RF_classifiergrid = GridSearchCV(RF_classifier, param_grid = RF_paramgrid, cv=k_fold, scoring=\"accuracy\", n_jobs= -1, verbose=1)\n",
    "\n",
    "RF_classifiergrid.fit(x_train, y_train)\n",
    "\n",
    "rf = RF_classifiergrid.best_estimator_"
   ]
  },
  {
   "cell_type": "code",
   "execution_count": 50,
   "metadata": {},
   "outputs": [
    {
     "name": "stdout",
     "output_type": "stream",
     "text": [
      "0.835178980779404\n",
      "{'bootstrap': True, 'criterion': 'gini', 'max_depth': 15, 'max_features': 'sqrt', 'min_samples_leaf': 1, 'min_samples_split': 7, 'n_estimators': 50}\n",
      "RandomForestClassifier(max_depth=15, max_features='sqrt', min_samples_split=7,\n",
      "                       n_estimators=50)\n"
     ]
    },
    {
     "data": {
      "text/plain": [
       "\"\\nRandomForestClassifier(max_depth=15, max_features='sqrt', min_samples_split=7,\\n                       n_estimators=50)\\n\""
      ]
     },
     "execution_count": 50,
     "metadata": {},
     "output_type": "execute_result"
    }
   ],
   "source": [
    "# Best Score\n",
    "print(RF_classifiergrid.best_score_) #0.835178980779404\n",
    "\n",
    "# Best Parameter\n",
    "print(RF_classifiergrid.best_params_) \n",
    "# {'bootstrap': True, 'criterion': 'gini', 'max_depth': 15, 'max_features': 'sqrt', 'min_samples_leaf': 1, 'min_samples_split': 7, 'n_estimators': 50}\n",
    "\n",
    "# Best Model\n",
    "print(RF_classifiergrid.best_estimator_)\n",
    "# RandomForestClassifier(max_depth=15, max_features='sqrt', min_samples_split=7,n_estimators=50)"
   ]
  },
  {
   "cell_type": "markdown",
   "metadata": {},
   "source": [
    "### 예측 모델에 영향을 미친 특성 확인\n",
    "---\n",
    "예측 모델의 <b>feature_importances_</b>를 이용해 생존률에 영향을 미친 정보를 확인할 수 있다."
   ]
  },
  {
   "cell_type": "code",
   "execution_count": 47,
   "metadata": {},
   "outputs": [
    {
     "data": {
      "image/png": "[encoded data removed]",
      "text/plain": [
       "<Figure size 576x576 with 1 Axes>"
      ]
     },
     "metadata": {
      "needs_background": "light"
     },
     "output_type": "display_data"
    }
   ],
   "source": [
    "import matplotlib.pyplot as plt\n",
    "from pandas import Series\n",
    "\n",
    "feature_importance = rf.feature_importances_\n",
    "fi = Series(feature_importance, index = train.drop(['Survived'], axis = 1).columns)\n",
    "\n",
    "plt.figure(figsize=(8,8))\n",
    "fi.sort_values(ascending=True).plot.barh()\n",
    "plt.xlabel('Feature importance')\n",
    "plt.ylabel('Feature')\n",
    "plt.show()"
   ]
  },
  {
   "cell_type": "markdown",
   "metadata": {},
   "source": [
    "### 알고리즘 적용\n",
    "---\n",
    "전처리가 끝난 데이터에 예측 모델 알고리즘을 적용하는 방법을 알아보겠습니다. 지도 학습에 사용하는 몇 가지 알고리즘을 적용하기 위해 <b>ml_fit</b> 함수를 선언하고, 예측 모델을 기본 파라미터로 생성하여 생존률을 알아보겠습니다."
   ]
  },
  {
   "cell_type": "code",
   "execution_count": 59,
   "metadata": {},
   "outputs": [],
   "source": [
    "# 지도학습 모델 import\n",
    "from sklearn.linear_model import LogisticRegression\n",
    "from sklearn.ensemble import RandomForestClassifier\n",
    "from sklearn.svm import SVC\n",
    "from sklearn.neighbors import KNeighborsClassifier\n",
    "from sklearn.tree import DecisionTreeClassifier\n",
    "from sklearn.naive_bayes import GaussianNB\n",
    "\n",
    "from sklearn.model_selection import train_test_split\n",
    "from sklearn.metrics import accuracy_score\n",
    "\n",
    "# data 분리\n",
    "data=train.drop('Survived', axis=1).values\n",
    "target - train['Survived'].values\n",
    "x_train, y_valid, y_train, y_valid = train_test_split(data, target, test_size=0.4, stratify=target, random_state=0)\n",
    "\n",
    "# 모델 적용 함수\n",
    "def ml_fit(model):\n",
    "    model.fit(x_train, y_train)\n",
    "    prediction =  model.predict(x_valid)\n",
    "    accuracy = accuracy_score(prediction, y_valid)\n",
    "    print(model)\n",
    "    print(f'총 {y_valid.shape[0]}명 중 {accuracy * 100:.3f}% 정확도로 생존을 맞춤')\n",
    "    return model\n"
   ]
  },
  {
   "cell_type": "code",
   "execution_count": 61,
   "metadata": {},
   "outputs": [
    {
     "name": "stdout",
     "output_type": "stream",
     "text": [
      "RandomForestClassifier()\n",
      "총 357명 중 80.112% 정확도로 생존을 맞춤\n",
      "LogisticRegression()\n",
      "총 357명 중 79.832% 정확도로 생존을 맞춤\n",
      "SVC()\n",
      "총 357명 중 81.513% 정확도로 생존을 맞춤\n",
      "KNeighborsClassifier()\n",
      "총 357명 중 75.910% 정확도로 생존을 맞춤\n",
      "GaussianNB()\n",
      "총 357명 중 73.389% 정확도로 생존을 맞춤\n",
      "DecisionTreeClassifier()\n",
      "총 357명 중 75.910% 정확도로 생존을 맞춤\n"
     ]
    }
   ],
   "source": [
    "# 기본 설정으로만 테스트\n",
    "model = ml_fit(RandomForestClassifier(n_estimators=100))\n",
    "model = ml_fit(LogisticRegression(solver='lbfgs'))\n",
    "model = ml_fit(SVC(gamma='scale'))\n",
    "model = ml_fit(KNeighborsClassifier())\n",
    "model = ml_fit(GaussianNB())\n",
    "model = ml_fit(DecisionTreeClassifier())"
   ]
  },
  {
   "cell_type": "markdown",
   "metadata": {},
   "source": [
    "기본 설정으로 테스트한 알고리즘의 정확도는 아래와 같다. \n",
    "<br>\n",
    "\n",
    "|알고리즘|정확도|\n",
    "|:---:|:---:|\n",
    "|RandomForestClassifier|80.112%|\n",
    "|LogisticsRegression|79.832%|\n",
    "|SVC|81.513%|\n",
    "|KNeighborsClassifier|75.910%|\n",
    "|GausianNB|73.389%|\n",
    "|DecisionTreeClassifier|75.910%|\n"
   ]
  },
  {
   "cell_type": "markdown",
   "metadata": {},
   "source": [
    "설정 변경 후 테스트\n",
    "---\n",
    "- 다음과 같이 설정을 변경후 테스트를 하면 이전에 80.112 -> 82.913% 상승\n",
    "- 파라미터 최적화를 통해 알고리즘의 정확도 향상 가능"
   ]
  },
  {
   "cell_type": "code",
   "execution_count": 64,
   "metadata": {},
   "outputs": [
    {
     "name": "stdout",
     "output_type": "stream",
     "text": [
      "RandomForestClassifier(criterion='entropy', max_depth=5, n_estimators=50,\n",
      "                       oob_score=True, random_state=10)\n",
      "총 357명 중 82.913% 정확도로 생존을 맞춤\n"
     ]
    }
   ],
   "source": [
    "model = ml_fit(RandomForestClassifier(n_estimators=50, criterion='entropy', max_depth=5,oob_score=True, random_state=10))"
   ]
  },
  {
   "cell_type": "markdown",
   "metadata": {},
   "source": [
    "## 제출\n",
    "---\n",
    "완성한 모델에 시험용 데이터(test.csv)를 전달해 시험용 데이터의 생존 여부 예측한다. <B>prediction</B>을 확인하면 생존 여부가 1,0으로 표현되는 것을 알 수 있다."
   ]
  },
  {
   "cell_type": "code",
   "execution_count": 70,
   "metadata": {},
   "outputs": [
    {
     "data": {
      "text/plain": [
       "array([0, 1, 0, 0, 1, 0, 1, 0, 1, 0, 0, 0, 1, 0, 1, 1, 0, 0, 1, 1, 0, 1,\n",
       "       1, 0, 1, 0, 1, 0, 0, 0, 0, 0, 1, 0, 0, 0, 1, 1, 0, 0, 0, 0, 0, 1,\n",
       "       1, 0, 0, 0, 1, 1, 0, 0, 1, 1, 0, 0, 0, 0, 0, 1, 0, 0, 0, 1, 1, 1,\n",
       "       1, 0, 1, 1, 1, 0, 1, 0, 1, 0, 0, 1, 0, 1, 1, 0, 0, 0, 0, 0, 1, 1,\n",
       "       1, 1, 1, 0, 1, 0, 0, 0, 1, 0, 1, 0, 1, 0, 0, 0, 1, 0, 0, 0, 0, 0,\n",
       "       0, 1, 1, 1, 1, 0, 0, 1, 0, 1, 1, 0, 1, 0, 0, 1, 0, 1, 0, 0, 0, 0,\n",
       "       0, 0, 0, 0, 0, 0, 1, 0, 0, 1, 0, 0, 0, 0, 0, 0, 0, 0, 1, 0, 0, 1,\n",
       "       0, 0, 1, 1, 0, 1, 1, 1, 1, 0, 0, 1, 0, 0, 1, 0, 0, 0, 0, 0, 0, 1,\n",
       "       1, 0, 1, 1, 0, 0, 1, 0, 1, 0, 1, 0, 0, 0, 0, 0, 1, 0, 1, 0, 1, 1,\n",
       "       0, 0, 1, 1, 0, 1, 0, 0, 0, 0, 1, 0, 0, 0, 0, 1, 0, 0, 1, 0, 1, 0,\n",
       "       1, 0, 1, 0, 1, 0, 0, 1, 0, 0, 0, 1, 0, 0, 0, 0, 0, 0, 1, 1, 1, 1,\n",
       "       0, 0, 1, 0, 1, 0, 1, 0, 1, 0, 0, 0, 0, 0, 0, 0, 1, 0, 0, 0, 1, 1,\n",
       "       0, 0, 0, 0, 1, 0, 0, 0, 1, 1, 0, 1, 0, 0, 0, 0, 1, 1, 1, 1, 1, 0,\n",
       "       0, 0, 0, 0, 0, 1, 0, 1, 0, 0, 1, 0, 0, 0, 0, 0, 0, 0, 1, 1, 0, 1,\n",
       "       0, 1, 0, 0, 0, 1, 1, 1, 0, 0, 0, 0, 0, 0, 0, 0, 1, 0, 1, 0, 0, 0,\n",
       "       1, 0, 0, 1, 0, 0, 0, 0, 0, 1, 0, 0, 0, 1, 1, 1, 0, 1, 0, 1, 1, 0,\n",
       "       0, 0, 1, 0, 1, 0, 0, 1, 0, 1, 1, 0, 1, 1, 0, 1, 1, 0, 0, 1, 0, 0,\n",
       "       1, 1, 0, 0, 0, 0, 0, 0, 1, 1, 0, 1, 0, 0, 0, 0, 0, 1, 1, 0, 0, 1,\n",
       "       0, 1, 0, 0, 1, 0, 1, 0, 0, 0, 0, 0, 1, 1, 1, 1, 1, 0, 1, 0, 0, 1])"
      ]
     },
     "execution_count": 70,
     "metadata": {},
     "output_type": "execute_result"
    }
   ],
   "source": [
    "# 시험용 데이터 예측\n",
    "prediction = rf.predict(test)\n",
    "prediction "
   ]
  },
  {
   "cell_type": "markdown",
   "metadata": {},
   "source": [
    "### 제출용 데이터 생성\n",
    "\n",
    "제출용 데이터 csv를 생성하는 두 가지 방법 확인."
   ]
  },
  {
   "cell_type": "markdown",
   "metadata": {},
   "source": [
    "### submission 파일 이용법\n",
    "___\n",
    "submission 파일을 읽어 PassengerId, Survived 정보를 가져오고, 검증용(test) 데이터를 분석한 결과인 prediction을 survived값에 대치해 제출용 파일 생성"
   ]
  },
  {
   "cell_type": "code",
   "execution_count": 73,
   "metadata": {},
   "outputs": [],
   "source": [
    "submission = pd.read_csv('gender_submission.csv')\n",
    "submission['Survived'] = prediction\n",
    "submission.to_csv('sub_210607.csv', index=False)"
   ]
  },
  {
   "cell_type": "markdown",
   "metadata": {},
   "source": [
    "### 데이터 프레임 생성 방법\n",
    "___\n",
    "다른 방법은 test데이터와 prediction값을 이용해 데이터 프레임을 생성하는 방법이다."
   ]
  },
  {
   "cell_type": "code",
   "execution_count": 85,
   "metadata": {},
   "outputs": [],
   "source": [
    "test = pd.read_csv('test.csv')\n",
    "submission = pd.DataFrame({\n",
    "    \"PassengerId\": test[\"PassengerId\"],\n",
    "    \"Survived\": prediction\n",
    "})\n",
    "\n",
    "\n",
    "submission.to_csv('submission_2.csv', index = False)"
   ]
  }
 ],
 "metadata": {
  "kernelspec": {
   "display_name": "Python 3",
   "language": "python",
   "name": "python3"
  },
  "language_info": {
   "codemirror_mode": {
    "name": "ipython",
    "version": 3
   },
   "file_extension": ".py",
   "mimetype": "text/x-python",
   "name": "python",
   "nbconvert_exporter": "python",
   "pygments_lexer": "ipython3",
   "version": "3.9.2"
  },
  "toc": {
   "base_numbering": 1,
   "nav_menu": {},
   "number_sections": true,
   "sideBar": true,
   "skip_h1_title": false,
   "title_cell": "Table of Contents",
   "title_sidebar": "Contents",
   "toc_cell": false,
   "toc_position": {
    "height": "calc(100% - 180px)",
    "left": "10px",
    "top": "150px",
    "width": "288px"
   },
   "toc_section_display": true,
   "toc_window_display": true
  }
 },
 "nbformat": 4,
 "nbformat_minor": 4
}
