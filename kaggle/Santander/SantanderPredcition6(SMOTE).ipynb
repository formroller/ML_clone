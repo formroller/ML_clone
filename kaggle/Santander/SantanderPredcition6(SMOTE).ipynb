{
  "nbformat": 4,
  "nbformat_minor": 0,
  "metadata": {
    "colab": {
      "name": "SantanderPredcition6(SMOTE).ipynb",
      "provenance": [],
      "collapsed_sections": [],
      "mount_file_id": "1WMmF-S_FmTS1yO5kWgKnqm7sXfxywG1O",
      "authorship_tag": "ABX9TyOr1zgm/puENO8QphelgCeb",
      "include_colab_link": true
    },
    "kernelspec": {
      "display_name": "Python 3",
      "name": "python3"
    },
    "language_info": {
      "name": "python"
    }
  },
  "cells": [
    {
      "cell_type": "markdown",
      "metadata": {
        "id": "view-in-github",
        "colab_type": "text"
      },
      "source": [
        "<a href=\"https://colab.research.google.com/github/formroller/ML_clone/blob/master/kaggle/Santander/SantanderPredcition6(SMOTE).ipynb\" target=\"_parent\"><img src=\"https://colab.research.google.com/assets/colab-badge.svg\" alt=\"Open In Colab\"/></a>"
      ]
    },
    {
      "cell_type": "markdown",
      "metadata": {
        "id": "LZgpMDsPWAsM"
      },
      "source": [
        "SantanderPrediction을 수행하며 target값이 불균형한 것을 확인했으며 이를 해결하기 위해 SMOTE기법을 사용해 target 변수의 수치 조절한 후 예측을 수행하겠다."
      ]
    },
    {
      "cell_type": "markdown",
      "metadata": {
        "id": "49v1y4dOWWi-"
      },
      "source": [
        "# 1.Load Package"
      ]
    },
    {
      "cell_type": "code",
      "metadata": {
        "id": "YSjLLF0FWtXc"
      },
      "source": [
        "# from google.colab import drive\n",
        "# drive.mount('/content/drive')"
      ],
      "execution_count": 1,
      "outputs": []
    },
    {
      "cell_type": "code",
      "metadata": {
        "id": "eJK38Sp7WzP6"
      },
      "source": [
        "import os\n",
        "os.chdir('/content/drive/MyDrive/kaggle/Santander')\n",
        "\n",
        "import gc\n",
        "import logging\n",
        "import datetime\n",
        "import warnings\n",
        "import numpy as np\n",
        "import pandas as pd\n",
        "import seaborn as sns\n",
        "import lightgbm as lgb\n",
        "\n",
        "import matplotlib.pyplot as plt\n",
        "from sklearn.metrics import roc_auc_score, roc_curve\n",
        "from sklearn.model_selection import StratifiedKFold, cross_val_score\n",
        "from imblearn.over_sampling import *\n",
        "\n",
        "warnings.filterwarnings('ignore')"
      ],
      "execution_count": 2,
      "outputs": []
    },
    {
      "cell_type": "code",
      "metadata": {
        "id": "3iErax6IXtOY"
      },
      "source": [
        "train = pd.read_csv('train.csv')\n",
        "test = pd.read_csv('test.csv')\n",
        "submission = pd.read_csv('sample_submission.csv')"
      ],
      "execution_count": 3,
      "outputs": []
    },
    {
      "cell_type": "code",
      "metadata": {
        "colab": {
          "base_uri": "https://localhost:8080/",
          "height": 334
        },
        "id": "ZzLZWWGDYTsY",
        "outputId": "9f01810b-6757-43fc-a25e-6c90d04a211e"
      },
      "source": [
        "sns.countplot(train['target'], palette='Set2')\n",
        "\n",
        "target_count = train.target.value_counts()\n",
        "print(f\"Class 0 : {target_count[0]}\")\n",
        "print(f\"Class 1 : {target_count[1]}\")\n",
        "print(f\"Proportion : {round(target_count[0]/target_count[1],2)} : 1\")"
      ],
      "execution_count": 4,
      "outputs": [
        {
          "output_type": "stream",
          "name": "stdout",
          "text": [
            "Class 0 : 179902\n",
            "Class 1 : 20098\n",
            "Proportion : 8.95 : 1\n"
          ]
        },
        {
          "output_type": "display_data",
          "data": {
            "image/png": "[encoded data removed]",
            "text/plain": [
              "<Figure size 432x288 with 1 Axes>"
            ]
          },
          "metadata": {
            "needs_background": "light"
          }
        }
      ]
    },
    {
      "cell_type": "markdown",
      "metadata": {
        "id": "vOYA03ArX0jE"
      },
      "source": [
        "# 2.Featrue Engineering"
      ]
    },
    {
      "cell_type": "markdown",
      "metadata": {
        "id": "tEUbLKeoZ6Sb"
      },
      "source": [
        "## 2.1 Imbalance Data(SMOTE)"
      ]
    },
    {
      "cell_type": "code",
      "metadata": {
        "id": "Gpz1T-ZKX5Nj"
      },
      "source": [
        "train.drop(['ID_code'],axis=1, inplace=True)\n",
        "test.drop(['ID_code'], axis=1, inplace=True)"
      ],
      "execution_count": 5,
      "outputs": []
    },
    {
      "cell_type": "code",
      "metadata": {
        "id": "he0iZjwwYMQO"
      },
      "source": [
        "sm = SMOTE(random_state=43)\n",
        "\n",
        "X = train.drop(['target'], axis=1)\n",
        "y = train['target']\n",
        "\n",
        "x_sm, y_sm = sm.fit_resample(X, y)"
      ],
      "execution_count": 6,
      "outputs": []
    },
    {
      "cell_type": "code",
      "metadata": {
        "id": "YrWFasfUZVqj"
      },
      "source": [
        "target = pd.DataFrame({'target':y_sm})\n",
        "features = pd.DataFrame(x_sm, columns=X.columns)\n",
        "train_sm = pd.concat([target, features],axis=1)"
      ],
      "execution_count": 7,
      "outputs": []
    },
    {
      "cell_type": "markdown",
      "metadata": {
        "id": "qAoT5AD8Z3bt"
      },
      "source": [
        "## 2.2 Aggregation\n"
      ]
    },
    {
      "cell_type": "code",
      "metadata": {
        "id": "PbjDUj-laGfA"
      },
      "source": [
        "idx = features = train_sm.columns.values[1:201]\n",
        "for df in [test, train_sm]:\n",
        "    df['sum'] = df[idx].sum(axis=1)\n",
        "    df['min'] = df[idx].min(axis=1)\n",
        "    df['max'] = df[idx].max(axis=1)\n",
        "    df['mean'] = df[idx].mean(axis=1)\n",
        "    df['std'] = df[idx].std(axis=1)\n",
        "    df['skew'] = df[idx].skew(axis=1)\n",
        "    df['kurt'] = df[idx].kurt(axis=1)\n",
        "    df['med'] = df[idx].median(axis=1)"
      ],
      "execution_count": 8,
      "outputs": []
    },
    {
      "cell_type": "code",
      "metadata": {
        "colab": {
          "base_uri": "https://localhost:8080/",
          "height": 206
        },
        "id": "JY_6dOqUal6m",
        "outputId": "97274f20-71fc-42b7-f698-3b1137138d05"
      },
      "source": [
        "train_sm[train_sm.columns[201:]].head()"
      ],
      "execution_count": 9,
      "outputs": [
        {
          "output_type": "execute_result",
          "data": {
            "text/html": [
              "<div>\n",
              "<style scoped>\n",
              "    .dataframe tbody tr th:only-of-type {\n",
              "        vertical-align: middle;\n",
              "    }\n",
              "\n",
              "    .dataframe tbody tr th {\n",
              "        vertical-align: top;\n",
              "    }\n",
              "\n",
              "    .dataframe thead th {\n",
              "        text-align: right;\n",
              "    }\n",
              "</style>\n",
              "<table border=\"1\" class=\"dataframe\">\n",
              "  <thead>\n",
              "    <tr style=\"text-align: right;\">\n",
              "      <th></th>\n",
              "      <th>sum</th>\n",
              "      <th>min</th>\n",
              "      <th>max</th>\n",
              "      <th>mean</th>\n",
              "      <th>std</th>\n",
              "      <th>skew</th>\n",
              "      <th>kurt</th>\n",
              "      <th>med</th>\n",
              "    </tr>\n",
              "  </thead>\n",
              "  <tbody>\n",
              "    <tr>\n",
              "      <th>0</th>\n",
              "      <td>1456.3182</td>\n",
              "      <td>-21.4494</td>\n",
              "      <td>43.1127</td>\n",
              "      <td>7.281591</td>\n",
              "      <td>9.331540</td>\n",
              "      <td>0.101580</td>\n",
              "      <td>1.331023</td>\n",
              "      <td>6.77040</td>\n",
              "    </tr>\n",
              "    <tr>\n",
              "      <th>1</th>\n",
              "      <td>1415.3636</td>\n",
              "      <td>-47.3797</td>\n",
              "      <td>40.5632</td>\n",
              "      <td>7.076818</td>\n",
              "      <td>10.336130</td>\n",
              "      <td>-0.351734</td>\n",
              "      <td>4.110215</td>\n",
              "      <td>7.22315</td>\n",
              "    </tr>\n",
              "    <tr>\n",
              "      <th>2</th>\n",
              "      <td>1240.8966</td>\n",
              "      <td>-22.4038</td>\n",
              "      <td>33.8820</td>\n",
              "      <td>6.204483</td>\n",
              "      <td>8.753387</td>\n",
              "      <td>-0.056957</td>\n",
              "      <td>0.546438</td>\n",
              "      <td>5.89940</td>\n",
              "    </tr>\n",
              "    <tr>\n",
              "      <th>3</th>\n",
              "      <td>1288.2319</td>\n",
              "      <td>-35.1659</td>\n",
              "      <td>38.1015</td>\n",
              "      <td>6.441159</td>\n",
              "      <td>9.594064</td>\n",
              "      <td>-0.480116</td>\n",
              "      <td>2.630499</td>\n",
              "      <td>6.70260</td>\n",
              "    </tr>\n",
              "    <tr>\n",
              "      <th>4</th>\n",
              "      <td>1354.2310</td>\n",
              "      <td>-65.4863</td>\n",
              "      <td>41.1037</td>\n",
              "      <td>6.771155</td>\n",
              "      <td>11.287122</td>\n",
              "      <td>-1.463426</td>\n",
              "      <td>9.787399</td>\n",
              "      <td>6.94735</td>\n",
              "    </tr>\n",
              "  </tbody>\n",
              "</table>\n",
              "</div>"
            ],
            "text/plain": [
              "         sum      min      max  ...      skew      kurt      med\n",
              "0  1456.3182 -21.4494  43.1127  ...  0.101580  1.331023  6.77040\n",
              "1  1415.3636 -47.3797  40.5632  ... -0.351734  4.110215  7.22315\n",
              "2  1240.8966 -22.4038  33.8820  ... -0.056957  0.546438  5.89940\n",
              "3  1288.2319 -35.1659  38.1015  ... -0.480116  2.630499  6.70260\n",
              "4  1354.2310 -65.4863  41.1037  ... -1.463426  9.787399  6.94735\n",
              "\n",
              "[5 rows x 8 columns]"
            ]
          },
          "metadata": {},
          "execution_count": 9
        }
      ]
    },
    {
      "cell_type": "code",
      "metadata": {
        "colab": {
          "base_uri": "https://localhost:8080/",
          "height": 206
        },
        "id": "BohVLi2xcJMp",
        "outputId": "e766c2b5-e40e-4471-d56f-28a75fbaf643"
      },
      "source": [
        "test[test.columns[201:]].head()"
      ],
      "execution_count": 10,
      "outputs": [
        {
          "output_type": "execute_result",
          "data": {
            "text/html": [
              "<div>\n",
              "<style scoped>\n",
              "    .dataframe tbody tr th:only-of-type {\n",
              "        vertical-align: middle;\n",
              "    }\n",
              "\n",
              "    .dataframe tbody tr th {\n",
              "        vertical-align: top;\n",
              "    }\n",
              "\n",
              "    .dataframe thead th {\n",
              "        text-align: right;\n",
              "    }\n",
              "</style>\n",
              "<table border=\"1\" class=\"dataframe\">\n",
              "  <thead>\n",
              "    <tr style=\"text-align: right;\">\n",
              "      <th></th>\n",
              "      <th>min</th>\n",
              "      <th>max</th>\n",
              "      <th>mean</th>\n",
              "      <th>std</th>\n",
              "      <th>skew</th>\n",
              "      <th>kurt</th>\n",
              "      <th>med</th>\n",
              "    </tr>\n",
              "  </thead>\n",
              "  <tbody>\n",
              "    <tr>\n",
              "      <th>0</th>\n",
              "      <td>-31.9891</td>\n",
              "      <td>42.0248</td>\n",
              "      <td>7.083202</td>\n",
              "      <td>9.910632</td>\n",
              "      <td>-0.088518</td>\n",
              "      <td>1.871262</td>\n",
              "      <td>7.31440</td>\n",
              "    </tr>\n",
              "    <tr>\n",
              "      <th>1</th>\n",
              "      <td>-41.1924</td>\n",
              "      <td>35.6020</td>\n",
              "      <td>6.248430</td>\n",
              "      <td>9.541267</td>\n",
              "      <td>-0.559785</td>\n",
              "      <td>3.391068</td>\n",
              "      <td>6.43960</td>\n",
              "    </tr>\n",
              "    <tr>\n",
              "      <th>2</th>\n",
              "      <td>-34.3488</td>\n",
              "      <td>39.3654</td>\n",
              "      <td>7.151299</td>\n",
              "      <td>9.967466</td>\n",
              "      <td>-0.135084</td>\n",
              "      <td>2.326901</td>\n",
              "      <td>7.26355</td>\n",
              "    </tr>\n",
              "    <tr>\n",
              "      <th>3</th>\n",
              "      <td>-21.4797</td>\n",
              "      <td>40.3383</td>\n",
              "      <td>7.057223</td>\n",
              "      <td>8.257204</td>\n",
              "      <td>-0.167741</td>\n",
              "      <td>2.253054</td>\n",
              "      <td>6.89675</td>\n",
              "    </tr>\n",
              "    <tr>\n",
              "      <th>4</th>\n",
              "      <td>-24.8254</td>\n",
              "      <td>45.5510</td>\n",
              "      <td>7.118682</td>\n",
              "      <td>10.043542</td>\n",
              "      <td>0.293484</td>\n",
              "      <td>2.044943</td>\n",
              "      <td>6.83375</td>\n",
              "    </tr>\n",
              "  </tbody>\n",
              "</table>\n",
              "</div>"
            ],
            "text/plain": [
              "       min      max      mean        std      skew      kurt      med\n",
              "0 -31.9891  42.0248  7.083202   9.910632 -0.088518  1.871262  7.31440\n",
              "1 -41.1924  35.6020  6.248430   9.541267 -0.559785  3.391068  6.43960\n",
              "2 -34.3488  39.3654  7.151299   9.967466 -0.135084  2.326901  7.26355\n",
              "3 -21.4797  40.3383  7.057223   8.257204 -0.167741  2.253054  6.89675\n",
              "4 -24.8254  45.5510  7.118682  10.043542  0.293484  2.044943  6.83375"
            ]
          },
          "metadata": {},
          "execution_count": 10
        }
      ]
    },
    {
      "cell_type": "markdown",
      "metadata": {
        "id": "HF2TnMbfd1F8"
      },
      "source": [
        "# 3.Model"
      ]
    },
    {
      "cell_type": "markdown",
      "metadata": {
        "id": "tJRFzC7JeOJi"
      },
      "source": [
        "## 3.1 feature, target split"
      ]
    },
    {
      "cell_type": "code",
      "metadata": {
        "id": "vWqJCChEd3kx"
      },
      "source": [
        "features = train_sm.drop(['target'], axis=1)\n",
        "target = train_sm['target']"
      ],
      "execution_count": 11,
      "outputs": []
    },
    {
      "cell_type": "markdown",
      "metadata": {
        "id": "dujMC4fXeLyq"
      },
      "source": [
        "## 3.2 모델 하이퍼파리미터 정의"
      ]
    },
    {
      "cell_type": "code",
      "metadata": {
        "id": "Pchb7OMr8fS5"
      },
      "source": [
        "param = {\n",
        "    'bagging_freq':5, \n",
        "    'bagging_fraction':0.4,\n",
        "    'boost_from_average':'false',\n",
        "    'boost':'gbdt',\n",
        "    'feature_fractions':0.05,\n",
        "    'learning_rate':0.01,\n",
        "    'max_depth':-1,\n",
        "    'metric':'auc',\n",
        "    'min_data_in_leaf':80,\n",
        "    'min_sum_hessian_in_leaf':10.0,\n",
        "    'num_leaves':13,\n",
        "    'num_threads':8,\n",
        "    'tree_learner':'serial',\n",
        "    'objective':'binary',\n",
        "    'verbosity':1\n",
        "}"
      ],
      "execution_count": 12,
      "outputs": []
    },
    {
      "cell_type": "markdown",
      "metadata": {
        "id": "5eCk-c-TeisM"
      },
      "source": [
        "## 3.3 모델링"
      ]
    },
    {
      "cell_type": "code",
      "metadata": {
        "id": "9Sw7S0mKeknW"
      },
      "source": [
        "# # Fold = 5, num_round = 100000\n",
        "\n",
        "# folds = StratifiedKFold(n_splits=5, shuffle=True, random_state=44000)\n",
        "# oof = np.zeros(len(train_sm))\n",
        "# predictions = np.zeros(len(test))\n",
        "# feature_importance_df = pd.DataFrame()\n",
        "\n",
        "# for fold_, (trn_idx, val_idx) in enumerate(folds.split(train_sm.values, target.values)):\n",
        "#     print(f\"Fold {fold_}\")\n",
        "#     trn_data = lgb.Dataset(train.iloc[trn_idx][features], label=target.iloc[trn_idx])\n",
        "#     val_data = lgb.Dataset(train.iloc[val_idx][features], label=target.iloc[val_idx])\n",
        "\n",
        "#     num_round = 100000 #1000000\n",
        "#     clf = lgb.train(param, trn_data, num_round, valid_sets=[trn_data, val_data], verbose_eval=1000, early_stopping_rounds=3000)\n",
        "#     oof[val_idx] = clf.predict(train.iloc[val_idx][features], num_iteration = clf.best_iteration)\n",
        "\n",
        "#     fold_importance_df = pd.DataFrame()\n",
        "#     fold_importance_df['Feature'] = features\n",
        "#     fold_importance_df['Importacne'] = clf.feature_importance()\n",
        "#     fold_importance_df['fold'] = fold_ + i\n",
        "#     feature_importance_df = pd.concat([feature_importance_df, fold_importance_df], axis=0)\n",
        "#     predictions += clf.predict(test[features], num_iteration=clf.best_iteration)/folds.n_splits\n",
        "\n",
        "# print('CV score : {:<8.5}'.format(roc_auc_score(target, oof)))\n",
        "\n",
        "# # https://www.kaggle.com/ayushikaushik/eda-oversampling-classification#Logistic-Regression 참조"
      ],
      "execution_count": 13,
      "outputs": []
    },
    {
      "cell_type": "code",
      "metadata": {
        "colab": {
          "base_uri": "https://localhost:8080/"
        },
        "id": "NA2NpmA3fAym",
        "outputId": "ad208478-bab1-495e-de30-e2ae2126ca1e"
      },
      "source": [
        "from sklearn.ensemble import RandomForestClassifier\n",
        "rf = RandomForestClassifier(random_state=123)\n",
        "kfold = StratifiedKFold(n_splits=10, shuffle=True)\n",
        "\n",
        "cross_val_score(rf, features, target, cv = kfold, scoring = 'accuracy')"
      ],
      "execution_count": 14,
      "outputs": [
        {
          "output_type": "execute_result",
          "data": {
            "text/plain": [
              "array([0.9635641 , 0.96328618, 0.96520386, 0.96217448, 0.96236798,\n",
              "       0.96181212, 0.96206226, 0.96183991, 0.96206226, 0.96222902])"
            ]
          },
          "metadata": {},
          "execution_count": 14
        }
      ]
    },
    {
      "cell_type": "code",
      "metadata": {
        "colab": {
          "base_uri": "https://localhost:8080/"
        },
        "id": "QvWq9xd6kRlO",
        "outputId": "a9fc4fe9-575a-46e5-bb8b-23f2ae5b01ea"
      },
      "source": [
        "rf.fit(features, target)\n"
      ],
      "execution_count": 18,
      "outputs": [
        {
          "output_type": "execute_result",
          "data": {
            "text/plain": [
              "RandomForestClassifier(random_state=123)"
            ]
          },
          "metadata": {},
          "execution_count": 18
        }
      ]
    },
    {
      "cell_type": "code",
      "metadata": {
        "colab": {
          "base_uri": "https://localhost:8080/"
        },
        "id": "0r3m0fCckfk5",
        "outputId": "c071aad3-44ea-4b52-9c9b-714f97933ed6"
      },
      "source": [
        "rf.predict(test)"
      ],
      "execution_count": 19,
      "outputs": [
        {
          "output_type": "execute_result",
          "data": {
            "text/plain": [
              "array([0, 0, 0, ..., 0, 0, 0])"
            ]
          },
          "metadata": {},
          "execution_count": 19
        }
      ]
    },
    {
      "cell_type": "markdown",
      "metadata": {
        "id": "MJbC2OJEWdIB"
      },
      "source": [
        "> [(kaggle)Santander 불균형 데이터](https://www.kaggle.com/vaishnavinath/before-and-after-smote/notebook)  \n",
        "> [불균형 데이터](https://shinminyong.tistory.com/34)  \n",
        "> [불균형 데이터 처리](https://dacon.io/codeshare/3699?dtype=recent)"
      ]
    }
  ]
}