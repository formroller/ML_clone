{
 "cells": [
  {
   "cell_type": "markdown",
   "id": "029fb40f",
   "metadata": {},
   "source": [
    "[Spaceship Titanic](https://www.kaggle.com/code/odins0n/spaceship-titanic-eda-27-different-models#Modeling-)\n",
    "어떤 승객이 대체 차원으로 전송될지 예측해보자.\n",
    "\n",
    "\n",
    ">https://www.kaggle.com/competitions/spaceship-titanic/overview"
   ]
  },
  {
   "cell_type": "markdown",
   "id": "592126b1",
   "metadata": {},
   "source": [
    "# Introduction\n",
    "\n",
    "**시놉시스**\n",
    "\n",
    "우주의 신비를 풀기 위해 데이터 과학 기술이 필요한 2912년에 온 것을 환영한다.   \n",
    "우리는 4광년 떨어진 곳에서 전송을 받았고 상황이 좋아 보이지 않는다.  \n",
    "\n",
    "**Spaceship Titanic**은 한 달 전에 발사된 성간 여객선으로 약 13,000명의 승객의 탑승한 이 선박은 우리 태양계에서 인근 별을 공전하는  \n",
    "새로 거주 가능한 세 개의 외계 행성으로 이민자들을 수송하는 처녀 항해를 시작했다.  \n",
    "\n",
    "알파 센타우리를 첫 번째 목적지인 55 칸크리 E로 도는 동안, 타이타닉근 먼지 구름 속 숨겨진 시공간의 이상 물체와 충돌했다.  \n",
    "슬프게도 선박은 1000년 전 이름을 딴 것과 비슷한 운명을 마주했다.  \n",
    "배는 손상되지 않았지만, 승객의 거의 절반이 대체 차원으로 전송되었다. \n",
    "\n",
    "승무원을 구조하고 잃어버린 승객을 회수하기 위해, 우주선의 손상된 컴퓨터 시스템에서 회수된 기록을 사용해  \n",
    "어떤 승객이 대체 차원으로 전송되었는지 예측해야 한다. \n",
    "\n",
    "그들을 구하고 역사를 바꾸도록 도와달라!"
   ]
  },
  {
   "cell_type": "markdown",
   "id": "f59ea367",
   "metadata": {},
   "source": [
    "**평가** \n",
    "제출한 파일은 정확한 예측 라벨의 비율인 **분류 정확도**에 따라 평가된다. (classification accuracy)"
   ]
  },
  {
   "cell_type": "markdown",
   "id": "adf81920",
   "metadata": {},
   "source": [
    "# Imports"
   ]
  },
  {
   "cell_type": "code",
   "execution_count": 1,
   "id": "2f4bec13",
   "metadata": {},
   "outputs": [],
   "source": [
    "# from IPython.display import clear_output\n",
    "# !pip3 install -U lazypredict ##lazypredict?\n",
    "# !pip3 install -U pandas\n",
    "\n",
    "# clear_output()"
   ]
  },
  {
   "cell_type": "code",
   "execution_count": 2,
   "id": "d13379ce",
   "metadata": {},
   "outputs": [],
   "source": [
    "# !pip3 install scikit-learn==0.23.1\n",
    "# !sklearn --version\n",
    "# !pip3 show scikit-learn  # 현재 버전 확인"
   ]
  },
  {
   "cell_type": "code",
   "execution_count": 3,
   "id": "b20a0c3b",
   "metadata": {},
   "outputs": [
    {
     "name": "stderr",
     "output_type": "stream",
     "text": [
      "/opt/homebrew/anaconda3/lib/python3.9/site-packages/xgboost/compat.py:36: FutureWarning: pandas.Int64Index is deprecated and will be removed from pandas in a future version. Use pandas.Index with the appropriate dtype instead.\n",
      "  from pandas import MultiIndex, Int64Index\n"
     ]
    }
   ],
   "source": [
    "import numpy as np\n",
    "import pandas as pd\n",
    "import seaborn as sns\n",
    "import plotly.express as px\n",
    "import matplotlib.pyplot as plt\n",
    "import plotly.graph_objects as go\n",
    "from plotly.subplots import make_subplots\n",
    "\n",
    "from sklearn.impute import SimpleImputer\n",
    "from sklearn.metrics import accuracy_score\n",
    "from sklearn.preprocessing import LabelEncoder\n",
    "from sklearn.model_selection import StratifiedKFold, train_test_split\n",
    "\n",
    "\n",
    "from lightgbm import LGBMClassifier\n",
    "import lazypredict\n",
    "from lazypredict.Supervised import LazyClassifier\n",
    "\n",
    "import time\n",
    "import warnings\n",
    "warnings.filterwarnings('ignore')"
   ]
  },
  {
   "cell_type": "markdown",
   "id": "a8d7e0d3",
   "metadata": {},
   "source": [
    "> [LazyClassifier 참고](https://bourbonkk.tistory.com/113)  \n",
    "> [from lazypredict.Surpervised import LazyClassifier 오류 해결](https://github.com/shankarpandala/lazypredict/issues/325) \n",
    ">> 1. vi Superviesd.py 내부 패키지 변경.\n",
    ">> 2. .pop() 이후 조건문 추가."
   ]
  },
  {
   "cell_type": "code",
   "execution_count": 4,
   "id": "f47ea62f",
   "metadata": {},
   "outputs": [],
   "source": [
    "from sklearn.linear_model import TheilSenRegressor"
   ]
  },
  {
   "cell_type": "markdown",
   "id": "77b0d3cf",
   "metadata": {},
   "source": [
    "# Data Loading and Preparation"
   ]
  },
  {
   "cell_type": "code",
   "execution_count": 5,
   "id": "61c3af3a",
   "metadata": {},
   "outputs": [
    {
     "ename": "FileNotFoundError",
     "evalue": "[Errno 2] No such file or directory: './train.csv'",
     "output_type": "error",
     "traceback": [
      "\u001b[0;31m---------------------------------------------------------------------------\u001b[0m",
      "\u001b[0;31mFileNotFoundError\u001b[0m                         Traceback (most recent call last)",
      "Input \u001b[0;32mIn [5]\u001b[0m, in \u001b[0;36m<cell line: 1>\u001b[0;34m()\u001b[0m\n\u001b[0;32m----> 1\u001b[0m train \u001b[38;5;241m=\u001b[39m \u001b[43mpd\u001b[49m\u001b[38;5;241;43m.\u001b[39;49m\u001b[43mread_csv\u001b[49m\u001b[43m(\u001b[49m\u001b[38;5;124;43m'\u001b[39;49m\u001b[38;5;124;43m./train.csv\u001b[39;49m\u001b[38;5;124;43m'\u001b[39;49m\u001b[43m)\u001b[49m\n\u001b[1;32m      2\u001b[0m test \u001b[38;5;241m=\u001b[39m pd\u001b[38;5;241m.\u001b[39mread_csv(\u001b[38;5;124m'\u001b[39m\u001b[38;5;124m./test.csv\u001b[39m\u001b[38;5;124m'\u001b[39m)\n\u001b[1;32m      3\u001b[0m submission \u001b[38;5;241m=\u001b[39m pd\u001b[38;5;241m.\u001b[39mread_csv(\u001b[38;5;124m'\u001b[39m\u001b[38;5;124msample_submission.csv\u001b[39m\u001b[38;5;124m'\u001b[39m)\n",
      "File \u001b[0;32m/opt/homebrew/anaconda3/lib/python3.9/site-packages/pandas/util/_decorators.py:311\u001b[0m, in \u001b[0;36mdeprecate_nonkeyword_arguments.<locals>.decorate.<locals>.wrapper\u001b[0;34m(*args, **kwargs)\u001b[0m\n\u001b[1;32m    305\u001b[0m \u001b[38;5;28;01mif\u001b[39;00m \u001b[38;5;28mlen\u001b[39m(args) \u001b[38;5;241m>\u001b[39m num_allow_args:\n\u001b[1;32m    306\u001b[0m     warnings\u001b[38;5;241m.\u001b[39mwarn(\n\u001b[1;32m    307\u001b[0m         msg\u001b[38;5;241m.\u001b[39mformat(arguments\u001b[38;5;241m=\u001b[39marguments),\n\u001b[1;32m    308\u001b[0m         \u001b[38;5;167;01mFutureWarning\u001b[39;00m,\n\u001b[1;32m    309\u001b[0m         stacklevel\u001b[38;5;241m=\u001b[39mstacklevel,\n\u001b[1;32m    310\u001b[0m     )\n\u001b[0;32m--> 311\u001b[0m \u001b[38;5;28;01mreturn\u001b[39;00m \u001b[43mfunc\u001b[49m\u001b[43m(\u001b[49m\u001b[38;5;241;43m*\u001b[39;49m\u001b[43margs\u001b[49m\u001b[43m,\u001b[49m\u001b[43m \u001b[49m\u001b[38;5;241;43m*\u001b[39;49m\u001b[38;5;241;43m*\u001b[39;49m\u001b[43mkwargs\u001b[49m\u001b[43m)\u001b[49m\n",
      "File \u001b[0;32m/opt/homebrew/anaconda3/lib/python3.9/site-packages/pandas/io/parsers/readers.py:680\u001b[0m, in \u001b[0;36mread_csv\u001b[0;34m(filepath_or_buffer, sep, delimiter, header, names, index_col, usecols, squeeze, prefix, mangle_dupe_cols, dtype, engine, converters, true_values, false_values, skipinitialspace, skiprows, skipfooter, nrows, na_values, keep_default_na, na_filter, verbose, skip_blank_lines, parse_dates, infer_datetime_format, keep_date_col, date_parser, dayfirst, cache_dates, iterator, chunksize, compression, thousands, decimal, lineterminator, quotechar, quoting, doublequote, escapechar, comment, encoding, encoding_errors, dialect, error_bad_lines, warn_bad_lines, on_bad_lines, delim_whitespace, low_memory, memory_map, float_precision, storage_options)\u001b[0m\n\u001b[1;32m    665\u001b[0m kwds_defaults \u001b[38;5;241m=\u001b[39m _refine_defaults_read(\n\u001b[1;32m    666\u001b[0m     dialect,\n\u001b[1;32m    667\u001b[0m     delimiter,\n\u001b[0;32m   (...)\u001b[0m\n\u001b[1;32m    676\u001b[0m     defaults\u001b[38;5;241m=\u001b[39m{\u001b[38;5;124m\"\u001b[39m\u001b[38;5;124mdelimiter\u001b[39m\u001b[38;5;124m\"\u001b[39m: \u001b[38;5;124m\"\u001b[39m\u001b[38;5;124m,\u001b[39m\u001b[38;5;124m\"\u001b[39m},\n\u001b[1;32m    677\u001b[0m )\n\u001b[1;32m    678\u001b[0m kwds\u001b[38;5;241m.\u001b[39mupdate(kwds_defaults)\n\u001b[0;32m--> 680\u001b[0m \u001b[38;5;28;01mreturn\u001b[39;00m \u001b[43m_read\u001b[49m\u001b[43m(\u001b[49m\u001b[43mfilepath_or_buffer\u001b[49m\u001b[43m,\u001b[49m\u001b[43m \u001b[49m\u001b[43mkwds\u001b[49m\u001b[43m)\u001b[49m\n",
      "File \u001b[0;32m/opt/homebrew/anaconda3/lib/python3.9/site-packages/pandas/io/parsers/readers.py:575\u001b[0m, in \u001b[0;36m_read\u001b[0;34m(filepath_or_buffer, kwds)\u001b[0m\n\u001b[1;32m    572\u001b[0m _validate_names(kwds\u001b[38;5;241m.\u001b[39mget(\u001b[38;5;124m\"\u001b[39m\u001b[38;5;124mnames\u001b[39m\u001b[38;5;124m\"\u001b[39m, \u001b[38;5;28;01mNone\u001b[39;00m))\n\u001b[1;32m    574\u001b[0m \u001b[38;5;66;03m# Create the parser.\u001b[39;00m\n\u001b[0;32m--> 575\u001b[0m parser \u001b[38;5;241m=\u001b[39m \u001b[43mTextFileReader\u001b[49m\u001b[43m(\u001b[49m\u001b[43mfilepath_or_buffer\u001b[49m\u001b[43m,\u001b[49m\u001b[43m \u001b[49m\u001b[38;5;241;43m*\u001b[39;49m\u001b[38;5;241;43m*\u001b[39;49m\u001b[43mkwds\u001b[49m\u001b[43m)\u001b[49m\n\u001b[1;32m    577\u001b[0m \u001b[38;5;28;01mif\u001b[39;00m chunksize \u001b[38;5;129;01mor\u001b[39;00m iterator:\n\u001b[1;32m    578\u001b[0m     \u001b[38;5;28;01mreturn\u001b[39;00m parser\n",
      "File \u001b[0;32m/opt/homebrew/anaconda3/lib/python3.9/site-packages/pandas/io/parsers/readers.py:933\u001b[0m, in \u001b[0;36mTextFileReader.__init__\u001b[0;34m(self, f, engine, **kwds)\u001b[0m\n\u001b[1;32m    930\u001b[0m     \u001b[38;5;28mself\u001b[39m\u001b[38;5;241m.\u001b[39moptions[\u001b[38;5;124m\"\u001b[39m\u001b[38;5;124mhas_index_names\u001b[39m\u001b[38;5;124m\"\u001b[39m] \u001b[38;5;241m=\u001b[39m kwds[\u001b[38;5;124m\"\u001b[39m\u001b[38;5;124mhas_index_names\u001b[39m\u001b[38;5;124m\"\u001b[39m]\n\u001b[1;32m    932\u001b[0m \u001b[38;5;28mself\u001b[39m\u001b[38;5;241m.\u001b[39mhandles: IOHandles \u001b[38;5;241m|\u001b[39m \u001b[38;5;28;01mNone\u001b[39;00m \u001b[38;5;241m=\u001b[39m \u001b[38;5;28;01mNone\u001b[39;00m\n\u001b[0;32m--> 933\u001b[0m \u001b[38;5;28mself\u001b[39m\u001b[38;5;241m.\u001b[39m_engine \u001b[38;5;241m=\u001b[39m \u001b[38;5;28;43mself\u001b[39;49m\u001b[38;5;241;43m.\u001b[39;49m\u001b[43m_make_engine\u001b[49m\u001b[43m(\u001b[49m\u001b[43mf\u001b[49m\u001b[43m,\u001b[49m\u001b[43m \u001b[49m\u001b[38;5;28;43mself\u001b[39;49m\u001b[38;5;241;43m.\u001b[39;49m\u001b[43mengine\u001b[49m\u001b[43m)\u001b[49m\n",
      "File \u001b[0;32m/opt/homebrew/anaconda3/lib/python3.9/site-packages/pandas/io/parsers/readers.py:1217\u001b[0m, in \u001b[0;36mTextFileReader._make_engine\u001b[0;34m(self, f, engine)\u001b[0m\n\u001b[1;32m   1213\u001b[0m     mode \u001b[38;5;241m=\u001b[39m \u001b[38;5;124m\"\u001b[39m\u001b[38;5;124mrb\u001b[39m\u001b[38;5;124m\"\u001b[39m\n\u001b[1;32m   1214\u001b[0m \u001b[38;5;66;03m# error: No overload variant of \"get_handle\" matches argument types\u001b[39;00m\n\u001b[1;32m   1215\u001b[0m \u001b[38;5;66;03m# \"Union[str, PathLike[str], ReadCsvBuffer[bytes], ReadCsvBuffer[str]]\"\u001b[39;00m\n\u001b[1;32m   1216\u001b[0m \u001b[38;5;66;03m# , \"str\", \"bool\", \"Any\", \"Any\", \"Any\", \"Any\", \"Any\"\u001b[39;00m\n\u001b[0;32m-> 1217\u001b[0m \u001b[38;5;28mself\u001b[39m\u001b[38;5;241m.\u001b[39mhandles \u001b[38;5;241m=\u001b[39m \u001b[43mget_handle\u001b[49m\u001b[43m(\u001b[49m\u001b[43m  \u001b[49m\u001b[38;5;66;43;03m# type: ignore[call-overload]\u001b[39;49;00m\n\u001b[1;32m   1218\u001b[0m \u001b[43m    \u001b[49m\u001b[43mf\u001b[49m\u001b[43m,\u001b[49m\n\u001b[1;32m   1219\u001b[0m \u001b[43m    \u001b[49m\u001b[43mmode\u001b[49m\u001b[43m,\u001b[49m\n\u001b[1;32m   1220\u001b[0m \u001b[43m    \u001b[49m\u001b[43mencoding\u001b[49m\u001b[38;5;241;43m=\u001b[39;49m\u001b[38;5;28;43mself\u001b[39;49m\u001b[38;5;241;43m.\u001b[39;49m\u001b[43moptions\u001b[49m\u001b[38;5;241;43m.\u001b[39;49m\u001b[43mget\u001b[49m\u001b[43m(\u001b[49m\u001b[38;5;124;43m\"\u001b[39;49m\u001b[38;5;124;43mencoding\u001b[39;49m\u001b[38;5;124;43m\"\u001b[39;49m\u001b[43m,\u001b[49m\u001b[43m \u001b[49m\u001b[38;5;28;43;01mNone\u001b[39;49;00m\u001b[43m)\u001b[49m\u001b[43m,\u001b[49m\n\u001b[1;32m   1221\u001b[0m \u001b[43m    \u001b[49m\u001b[43mcompression\u001b[49m\u001b[38;5;241;43m=\u001b[39;49m\u001b[38;5;28;43mself\u001b[39;49m\u001b[38;5;241;43m.\u001b[39;49m\u001b[43moptions\u001b[49m\u001b[38;5;241;43m.\u001b[39;49m\u001b[43mget\u001b[49m\u001b[43m(\u001b[49m\u001b[38;5;124;43m\"\u001b[39;49m\u001b[38;5;124;43mcompression\u001b[39;49m\u001b[38;5;124;43m\"\u001b[39;49m\u001b[43m,\u001b[49m\u001b[43m \u001b[49m\u001b[38;5;28;43;01mNone\u001b[39;49;00m\u001b[43m)\u001b[49m\u001b[43m,\u001b[49m\n\u001b[1;32m   1222\u001b[0m \u001b[43m    \u001b[49m\u001b[43mmemory_map\u001b[49m\u001b[38;5;241;43m=\u001b[39;49m\u001b[38;5;28;43mself\u001b[39;49m\u001b[38;5;241;43m.\u001b[39;49m\u001b[43moptions\u001b[49m\u001b[38;5;241;43m.\u001b[39;49m\u001b[43mget\u001b[49m\u001b[43m(\u001b[49m\u001b[38;5;124;43m\"\u001b[39;49m\u001b[38;5;124;43mmemory_map\u001b[39;49m\u001b[38;5;124;43m\"\u001b[39;49m\u001b[43m,\u001b[49m\u001b[43m \u001b[49m\u001b[38;5;28;43;01mFalse\u001b[39;49;00m\u001b[43m)\u001b[49m\u001b[43m,\u001b[49m\n\u001b[1;32m   1223\u001b[0m \u001b[43m    \u001b[49m\u001b[43mis_text\u001b[49m\u001b[38;5;241;43m=\u001b[39;49m\u001b[43mis_text\u001b[49m\u001b[43m,\u001b[49m\n\u001b[1;32m   1224\u001b[0m \u001b[43m    \u001b[49m\u001b[43merrors\u001b[49m\u001b[38;5;241;43m=\u001b[39;49m\u001b[38;5;28;43mself\u001b[39;49m\u001b[38;5;241;43m.\u001b[39;49m\u001b[43moptions\u001b[49m\u001b[38;5;241;43m.\u001b[39;49m\u001b[43mget\u001b[49m\u001b[43m(\u001b[49m\u001b[38;5;124;43m\"\u001b[39;49m\u001b[38;5;124;43mencoding_errors\u001b[39;49m\u001b[38;5;124;43m\"\u001b[39;49m\u001b[43m,\u001b[49m\u001b[43m \u001b[49m\u001b[38;5;124;43m\"\u001b[39;49m\u001b[38;5;124;43mstrict\u001b[39;49m\u001b[38;5;124;43m\"\u001b[39;49m\u001b[43m)\u001b[49m\u001b[43m,\u001b[49m\n\u001b[1;32m   1225\u001b[0m \u001b[43m    \u001b[49m\u001b[43mstorage_options\u001b[49m\u001b[38;5;241;43m=\u001b[39;49m\u001b[38;5;28;43mself\u001b[39;49m\u001b[38;5;241;43m.\u001b[39;49m\u001b[43moptions\u001b[49m\u001b[38;5;241;43m.\u001b[39;49m\u001b[43mget\u001b[49m\u001b[43m(\u001b[49m\u001b[38;5;124;43m\"\u001b[39;49m\u001b[38;5;124;43mstorage_options\u001b[39;49m\u001b[38;5;124;43m\"\u001b[39;49m\u001b[43m,\u001b[49m\u001b[43m \u001b[49m\u001b[38;5;28;43;01mNone\u001b[39;49;00m\u001b[43m)\u001b[49m\u001b[43m,\u001b[49m\n\u001b[1;32m   1226\u001b[0m \u001b[43m\u001b[49m\u001b[43m)\u001b[49m\n\u001b[1;32m   1227\u001b[0m \u001b[38;5;28;01massert\u001b[39;00m \u001b[38;5;28mself\u001b[39m\u001b[38;5;241m.\u001b[39mhandles \u001b[38;5;129;01mis\u001b[39;00m \u001b[38;5;129;01mnot\u001b[39;00m \u001b[38;5;28;01mNone\u001b[39;00m\n\u001b[1;32m   1228\u001b[0m f \u001b[38;5;241m=\u001b[39m \u001b[38;5;28mself\u001b[39m\u001b[38;5;241m.\u001b[39mhandles\u001b[38;5;241m.\u001b[39mhandle\n",
      "File \u001b[0;32m/opt/homebrew/anaconda3/lib/python3.9/site-packages/pandas/io/common.py:789\u001b[0m, in \u001b[0;36mget_handle\u001b[0;34m(path_or_buf, mode, encoding, compression, memory_map, is_text, errors, storage_options)\u001b[0m\n\u001b[1;32m    784\u001b[0m \u001b[38;5;28;01melif\u001b[39;00m \u001b[38;5;28misinstance\u001b[39m(handle, \u001b[38;5;28mstr\u001b[39m):\n\u001b[1;32m    785\u001b[0m     \u001b[38;5;66;03m# Check whether the filename is to be opened in binary mode.\u001b[39;00m\n\u001b[1;32m    786\u001b[0m     \u001b[38;5;66;03m# Binary mode does not support 'encoding' and 'newline'.\u001b[39;00m\n\u001b[1;32m    787\u001b[0m     \u001b[38;5;28;01mif\u001b[39;00m ioargs\u001b[38;5;241m.\u001b[39mencoding \u001b[38;5;129;01mand\u001b[39;00m \u001b[38;5;124m\"\u001b[39m\u001b[38;5;124mb\u001b[39m\u001b[38;5;124m\"\u001b[39m \u001b[38;5;129;01mnot\u001b[39;00m \u001b[38;5;129;01min\u001b[39;00m ioargs\u001b[38;5;241m.\u001b[39mmode:\n\u001b[1;32m    788\u001b[0m         \u001b[38;5;66;03m# Encoding\u001b[39;00m\n\u001b[0;32m--> 789\u001b[0m         handle \u001b[38;5;241m=\u001b[39m \u001b[38;5;28;43mopen\u001b[39;49m\u001b[43m(\u001b[49m\n\u001b[1;32m    790\u001b[0m \u001b[43m            \u001b[49m\u001b[43mhandle\u001b[49m\u001b[43m,\u001b[49m\n\u001b[1;32m    791\u001b[0m \u001b[43m            \u001b[49m\u001b[43mioargs\u001b[49m\u001b[38;5;241;43m.\u001b[39;49m\u001b[43mmode\u001b[49m\u001b[43m,\u001b[49m\n\u001b[1;32m    792\u001b[0m \u001b[43m            \u001b[49m\u001b[43mencoding\u001b[49m\u001b[38;5;241;43m=\u001b[39;49m\u001b[43mioargs\u001b[49m\u001b[38;5;241;43m.\u001b[39;49m\u001b[43mencoding\u001b[49m\u001b[43m,\u001b[49m\n\u001b[1;32m    793\u001b[0m \u001b[43m            \u001b[49m\u001b[43merrors\u001b[49m\u001b[38;5;241;43m=\u001b[39;49m\u001b[43merrors\u001b[49m\u001b[43m,\u001b[49m\n\u001b[1;32m    794\u001b[0m \u001b[43m            \u001b[49m\u001b[43mnewline\u001b[49m\u001b[38;5;241;43m=\u001b[39;49m\u001b[38;5;124;43m\"\u001b[39;49m\u001b[38;5;124;43m\"\u001b[39;49m\u001b[43m,\u001b[49m\n\u001b[1;32m    795\u001b[0m \u001b[43m        \u001b[49m\u001b[43m)\u001b[49m\n\u001b[1;32m    796\u001b[0m     \u001b[38;5;28;01melse\u001b[39;00m:\n\u001b[1;32m    797\u001b[0m         \u001b[38;5;66;03m# Binary mode\u001b[39;00m\n\u001b[1;32m    798\u001b[0m         handle \u001b[38;5;241m=\u001b[39m \u001b[38;5;28mopen\u001b[39m(handle, ioargs\u001b[38;5;241m.\u001b[39mmode)\n",
      "\u001b[0;31mFileNotFoundError\u001b[0m: [Errno 2] No such file or directory: './train.csv'"
     ]
    }
   ],
   "source": [
    "train = pd.read_csv('./train.csv')\n",
    "test = pd.read_csv('./test.csv')\n",
    "submission = pd.read_csv('sample_submission.csv')\n",
    "\n",
    "Random_state = 12\n",
    "Folds = 5\n",
    "Strategy='median'"
   ]
  },
  {
   "cell_type": "markdown",
   "id": "5acdb00e",
   "metadata": {},
   "source": [
    "**Columns 설명**\n",
    "* **PassengerID**\n",
    " - 각 승객을 위한 독특한 ID. 각 ID는 gggg_pp 양식을 취하며, 여기서 gggg는 승객이 여행하는 그룹을 나타내고 pp는 그룹 내의 번호입니다.    그룹의 사람들은 종종 가족 구성원이지만, 항상 그런 것은 아니다.\n",
    "* **HomePlanet**\n",
    " - 승객이 떠난 행성, 일반적으로 영주권 행성.\n",
    "* **CryoSleep**\n",
    " - 항해 중 승객이 가사 상태에 놓이도록 선택했는지 여부를 나타낸다.  \n",
    "   극 저온 수면 상태의 승객들을 객실에 갇혀 있다.\n",
    "* **Cabin**\n",
    " - 승객이 머무는 승객 번호이다.  \n",
    " - 폼 데크/넘버/사이드로 지정한다.  \n",
    " (여기서 측변은 좌현에 대해 P, 우현에 대해 S가 될 수 있다.)\n",
    "* **Destination**\n",
    " - 승객이 하선할 행성\n",
    "* **Age**\n",
    " - 승객의 연령\n",
    "* **VIP**\n",
    " - 승객이 항해 중 특별 VIP 서비스에 대한 비용을 지불했는지 여부\n",
    "* **RoomService, Food Court, ShoppingMall, Spa, VRDeck**\n",
    " - 승객이 지불한 타이타닉 럭셔리 어메니티 금액\n",
    "* **Name**\n",
    " - 승객의 성과 이름\n",
    "* **Transported**\n",
    " - 승객이 다른 차원으로 이송되었는지 여부. \n",
    " - 이것은 당신이 예측하려고 하는 목표, 열입니다."
   ]
  },
  {
   "cell_type": "markdown",
   "id": "adddcc87",
   "metadata": {},
   "source": [
    "## Train data 탐색\n",
    " - 훈련 데이터는 14개 열과 8693개의 행으로 구성되어 있다.\n",
    " - 훈련 데이터는 2234개의 결측값을 포함한 119378개의 관찰값으로 구성되어 있다.\n",
    " - 12개의 변수 모두 누락된 값이 있고, **CryoSleep**변수의 누락값이 가장 많다.(217개)\n",
    " - **<u>Transported</u>**는 훈련 데이터 세트에서만 사용할 수 있는 Target 변수이다."
   ]
  },
  {
   "cell_type": "markdown",
   "id": "95b94a61",
   "metadata": {},
   "source": [
    "### Train Data 확인"
   ]
  },
  {
   "cell_type": "code",
   "execution_count": null,
   "id": "4d5362d7",
   "metadata": {},
   "outputs": [],
   "source": [
    "train.head()"
   ]
  },
  {
   "cell_type": "code",
   "execution_count": null,
   "id": "341fd68d",
   "metadata": {},
   "outputs": [],
   "source": [
    "print(f'\\033[94mNumber of rows in train data: {train.shape[0]}')\n",
    "print(f'\\033[94mNumber of columns in train data: {train.shape[1]}')\n",
    "print(f'\\033[94mNumber of values in train data: {train.count().sum()}')\n",
    "print(f'\\033[94mNumber of missing values in train data: {sum(train.isna().sum())}')"
   ]
  },
  {
   "cell_type": "markdown",
   "id": "fa8ed291",
   "metadata": {},
   "source": [
    "### Columns에서 누락된 값 확인"
   ]
  },
  {
   "cell_type": "code",
   "execution_count": null,
   "id": "33ee2213",
   "metadata": {},
   "outputs": [],
   "source": [
    "print(f'\\033[94m')\n",
    "print(train.isnull().sum().sort_values(ascending=False))"
   ]
  },
  {
   "cell_type": "markdown",
   "id": "391671c3",
   "metadata": {},
   "source": [
    "### training data 기초 통계\n",
    "아래는 수, 평균, 표준 편차, 최소값, 1사분위수, 중앙값, 3사분위수 및 최댓값에 대한 정보를 포함하는 각 변수의 기초 통계이다. "
   ]
  },
  {
   "cell_type": "code",
   "execution_count": null,
   "id": "d6d1b085",
   "metadata": {
    "scrolled": true
   },
   "outputs": [],
   "source": [
    "train.describe().T"
   ]
  },
  {
   "cell_type": "markdown",
   "id": "4da2ad1a",
   "metadata": {},
   "source": [
    "## Test data 탐색"
   ]
  },
  {
   "cell_type": "markdown",
   "id": "fdc260f9",
   "metadata": {},
   "source": [
    "* 총 13개의 열과 4277개의 행으로 구성되어 있다.\n",
    "* test 데이터는 1117개의 결측값을 포함한 54484개의 데이터로 구성되어 있다.\n",
    "* 12개의 데이터는 모두 결측값을 가지고 있으며 **FoodCourt**데이터의 결측값이 가장 많은 것을 알 수 있다.(106개)"
   ]
  },
  {
   "cell_type": "code",
   "execution_count": null,
   "id": "835265a1",
   "metadata": {},
   "outputs": [],
   "source": [
    "test.head()"
   ]
  },
  {
   "cell_type": "code",
   "execution_count": null,
   "id": "aad743f1",
   "metadata": {},
   "outputs": [],
   "source": [
    "print(f'\\033[94mNUmber of row in test data: {test.shape[0]}')\n",
    "print(f'\\033[94mNUmber of columns in test data: {test.shape[1]}')\n",
    "print(f'\\033[94mNUmber of values in test data: {test.count().sum()}')\n",
    "print(f'\\033[94mNUmber of rows with missing in test data: {sum(test.isna().sum())}')"
   ]
  },
  {
   "cell_type": "markdown",
   "id": "bb4c6f16",
   "metadata": {},
   "source": [
    "### column별 결측값"
   ]
  },
  {
   "cell_type": "code",
   "execution_count": null,
   "id": "3a64f270",
   "metadata": {},
   "outputs": [],
   "source": [
    "print(f'\\033[94m')\n",
    "print((test.isna().sum().sort_values(ascending=False)))"
   ]
  },
  {
   "cell_type": "markdown",
   "id": "2c4abeb6",
   "metadata": {},
   "source": [
    "### test data 기초 통계\n",
    "아래는 수, 평균, 표준 편차, 최소값, 1사분위수, 중앙값, 3사분위수 및 최댓값에 대한 정보를 포함하는 각 변수의 기초 통계이다. "
   ]
  },
  {
   "cell_type": "code",
   "execution_count": null,
   "id": "d74f82f9",
   "metadata": {},
   "outputs": [],
   "source": [
    "test.describe().T"
   ]
  },
  {
   "cell_type": "markdown",
   "id": "df880789",
   "metadata": {},
   "source": [
    "## Submission File"
   ]
  },
  {
   "cell_type": "code",
   "execution_count": null,
   "id": "9972dff5",
   "metadata": {},
   "outputs": [],
   "source": [
    "submission.head()"
   ]
  },
  {
   "cell_type": "markdown",
   "id": "f4611ada",
   "metadata": {},
   "source": [
    "# EDA"
   ]
  },
  {
   "cell_type": "markdown",
   "id": "b17952a8",
   "metadata": {},
   "source": [
    "## Data 전체보기"
   ]
  },
  {
   "cell_type": "code",
   "execution_count": null,
   "id": "ee2b8141",
   "metadata": {},
   "outputs": [],
   "source": [
    "train.drop(['PassengerId'], axis=1, inplace=True)\n",
    "test.drop(['PassengerId'], axis=1,inplace=True)\n",
    "\n",
    "Target = 'Transported'\n",
    "Features = [col for col in train.columns if col != Target]\n",
    "Random_state=12"
   ]
  },
  {
   "cell_type": "code",
   "execution_count": null,
   "id": "0accd178",
   "metadata": {},
   "outputs": [],
   "source": [
    "train.head()"
   ]
  },
  {
   "cell_type": "code",
   "execution_count": null,
   "id": "1ce0b5ee",
   "metadata": {
    "scrolled": false
   },
   "outputs": [],
   "source": [
    "train.iloc[:,:-1].describe().T.sort_values(by='std', ascending=False)\\\n",
    ".style.background_gradient(cmap='GnBu')\\\n",
    ".bar(subset=['max'], color='#BB0000').bar(subset=['mean'], color='green')\n"
   ]
  },
  {
   "cell_type": "markdown",
   "id": "d5718c55",
   "metadata": {},
   "source": [
    "## 결측값 분포\n",
    "* 행에서 누락된 값의 최댓값은 3이고 최솟값은 누락되지 않았다.\n",
    "* 흥미롭게도, 결측값 분포(행 기준)는 train, test 세트 가 동일하다.\n",
    "* 약 76%의 관찰값은 결측값이 없는 것을 알 수 있다.(행 기준)\n",
    "* 결측값이 1-3개인 관측치(행 기준)의 나머지 24%"
   ]
  },
  {
   "cell_type": "markdown",
   "id": "2c6a1952",
   "metadata": {},
   "source": [
    "## column 기준 결측치 분포"
   ]
  },
  {
   "cell_type": "code",
   "execution_count": null,
   "id": "71fbe637",
   "metadata": {},
   "outputs": [],
   "source": [
    "test_null=pd.DataFrame(test.isna().sum())\n",
    "test_null=test_null.sort_values(by=0, ascending=False)\n",
    "\n",
    "train_null=pd.DataFrame(train.isna().sum())\n",
    "train_null=train_null.sort_values(by=0, ascending=False)[:-1]"
   ]
  },
  {
   "cell_type": "code",
   "execution_count": null,
   "id": "e7540c92",
   "metadata": {},
   "outputs": [],
   "source": [
    "fig = make_subplots(rows=1, cols=2, column_titles=['Train Data', 'Test Data'], x_title='Missing Values')\n",
    "\n",
    "## train columns 표시\n",
    "fig.add_trace(go.Bar(x=train_null[0], y=train_null.index, orientation='h',\n",
    "                     marker=dict(color=[n for n in range(12)],\n",
    "                     line_color='rgb(0,0,0)',\n",
    "                     line_width=2,\n",
    "                     coloraxis='coloraxis')), 1,1)\n",
    "\n",
    "## test columns 표시\n",
    "fig.add_trace(go.Bar(x=test_null[0], y=test_null.index, orientation='h',\n",
    "                    marker=dict(color=[n for n in range(12)],\n",
    "                                line_color='rgb(0,0,0)',\n",
    "                                line_width=2,\n",
    "                                coloraxis='coloraxis')),1,2)\n",
    "\n",
    "fig.update_layout(showlegend=False, title_text='Column wise Null Value Distribution', title_x=0.5)"
   ]
  },
  {
   "cell_type": "markdown",
   "id": "f3ad2945",
   "metadata": {},
   "source": [
    "## row 기준 결측치 분포"
   ]
  },
  {
   "cell_type": "code",
   "execution_count": null,
   "id": "cce2bbc9",
   "metadata": {},
   "outputs": [],
   "source": [
    "missing_train_row=train.isna().sum(axis=1)\n",
    "missing_train_row=pd.DataFrame(missing_train_row.value_counts()/train.shape[0]).reset_index()\n",
    "\n",
    "missing_test_row=test.isna().sum(axis=1)\n",
    "missing_test_row=pd.DataFrame(missing_test_row.value_counts()/test.shape[0]).reset_index()\n",
    "\n",
    "missing_train_row.columns=['no','count']\n",
    "missing_test_row.columns=['no','count']\n",
    "\n",
    "missing_train_row['count'] = missing_train_row['count']*100\n",
    "missing_test_row['count'] = missing_test_row['count']*100"
   ]
  },
  {
   "cell_type": "code",
   "execution_count": null,
   "id": "8d9e0852",
   "metadata": {},
   "outputs": [],
   "source": [
    "fig = make_subplots(rows=1, cols=2, column_titles=['Train Data','Test Data'], x_title='Missing Values')\n",
    "\n",
    "fig.add_trace(go.Bar(x=missing_train_row['no'], y=missing_train_row['count'],\n",
    "                    marker=dict(color=[n for n in range(4)],\n",
    "                               line_color='rgb(0,0,0)',\n",
    "                               line_width=3,\n",
    "                               coloraxis='coloraxis')),1,1)\n",
    "\n",
    "fig.add_trace(go.Bar(x=missing_test_row['no'], y=missing_test_row['count'],\n",
    "                    marker=dict(color=[n for n in range(4)],\n",
    "                               line_color='rgb(0,0,0)',\n",
    "                               line_width=3,\n",
    "                               coloraxis='coloraxis')),1,2)\n",
    "\n",
    "fig.update_layout(showlegend=False, title_text='Row wise Null Value Distribution', title_x=0.5)"
   ]
  },
  {
   "cell_type": "markdown",
   "id": "a9b6948f",
   "metadata": {},
   "source": [
    "## 결측치 다루기(참고)\n",
    "결측치 처리를 위한 참고 자료 : \n",
    "  * [Missing Values](https://www.kaggle.com/code/alexisbcook/missing-values/tutorial) by [Alexis Cook](https://www.kaggle.com/alexisbcook)\n",
    "  * [Data Cleaning Challenge:Handling missing values](https://www.kaggle.com/code/rtatman/data-cleaning-challenge-handling-missing-values/notebook) by [Rachel Tatman](https://www.kaggle.com/rtatman)\n",
    "  * [A Guide to Handling Missing values in Python](https://www.kaggle.com/code/parulpandey/a-guide-to-handling-missing-values-in-python/notebook) by [Parul Pandey](https://www.kaggle.com/parulpandey)\n",
    "\n",
    "  \n",
    "누락된 값을 처리하는 기능이 있는 모델은 다음이 있다.\n",
    " * [Xgboost](https://xgboost.readthedocs.io/en/latest/faq.html)\n",
    " * [LightGBM](https://lightgbm.readthedocs.io/en/latest/Advanced-Topics.html)\n",
    " * [Catboost](https://catboost.ai/docs/concepts/algorithm-missing-values-processing.html)\n"
   ]
  },
  {
   "cell_type": "markdown",
   "id": "98951f22",
   "metadata": {},
   "source": [
    "## 연속형(Continuos), 범주형(Categorical) 자료 분포\n",
    " * 총 12개의 변수중에서 6개는 연속형, 2개는 텍스트 데이터, 4개는 범주형 자료이다. \n",
    " * **HomePlanet**과 **Destination** 변수는 3개의 다른 고유한 값으로 구성되어 있다.\n",
    " * **CryoSleep**과 **VIP**은 bool 변수이다.(이산형) "
   ]
  },
  {
   "cell_type": "code",
   "execution_count": null,
   "id": "39a44c6b",
   "metadata": {},
   "outputs": [],
   "source": [
    "df=pd.concat([train[Features], test[Features]], axis=0)\n",
    "text_features=['Cabin','Name']\n",
    "\n",
    "# 이산형 변수\n",
    "cat_features = [col for col in Features if df[col].nunique() < 25 and col not in text_features]\n",
    "# 연속형 변수\n",
    "cont_features = [col for col in Features if df[col].nunique() >=25 and col not in text_features]\n",
    "\n",
    "del df"
   ]
  },
  {
   "cell_type": "code",
   "execution_count": null,
   "id": "56d837d9",
   "metadata": {},
   "outputs": [],
   "source": [
    "print(f'\\033[94mTotal number of features: {len(Features)}')\n",
    "print(f'\\033[94mNumber of categorical features: {len(cat_features)}')\n",
    "print(f'\\033[94mNumber of continuos features: {len(cont_features)}')\n",
    "print(f'\\033[94mNumber of text features: {len(text_features)}')\n",
    "\n",
    "labels=['Categorical','Continuos','Text']\n",
    "values=[len(cat_features),len(cont_features), len(text_features)]\n",
    "colors=['#DE3163','#58D68D']\n",
    "\n",
    "fig=go.Figure(data=[go.Pie(labels=labels, values=values, pull=[0.1, 0,0],\n",
    "                          marker=dict(colors=colors,\n",
    "                                     line=dict(color='#000000',\n",
    "                                              width=2)))])\n",
    "\n",
    "fig.show()"
   ]
  },
  {
   "cell_type": "markdown",
   "id": "0ea460d4",
   "metadata": {},
   "source": [
    "## 연속형 변수의 분포"
   ]
  },
  {
   "cell_type": "markdown",
   "id": "166b8868",
   "metadata": {},
   "source": [
    "### Age"
   ]
  },
  {
   "cell_type": "code",
   "execution_count": null,
   "id": "21fc7b02",
   "metadata": {},
   "outputs": [],
   "source": [
    "train_age=train.copy()\n",
    "test_age=test.copy()\n",
    "\n",
    "train_age['type']='Train'\n",
    "test_age['type']='Test'\n",
    "\n",
    "ageDF=pd.concat([train_age,test_age])\n",
    "fig=px.histogram(data_frame=ageDF,\n",
    "                x='Age', color='type', color_discrete_sequence=['#58D68D','#DE3136'],\n",
    "                marginal='box',nbins=100, template='plotly_white')\n",
    "\n",
    "fig.update_layout(title='Distribution of Age', title_x=0.5)\n",
    "fig.show()"
   ]
  },
  {
   "cell_type": "markdown",
   "id": "c53f8967",
   "metadata": {},
   "source": [
    "## 범주형 변수 분포"
   ]
  },
  {
   "cell_type": "code",
   "execution_count": null,
   "id": "263e879f",
   "metadata": {},
   "outputs": [],
   "source": [
    "if len(cat_features) == 0:\n",
    "    print('No Categorical Features')\n",
    "else:\n",
    "    ncols=2\n",
    "    nrows=2\n",
    "    \n",
    "    fig,axes = plt.subplots(nrows, ncols, figsize=(18,10))\n",
    "    for r in range(nrows):\n",
    "        for c in range(ncols):\n",
    "            col=cat_features[r*ncols+c]\n",
    "            sns.countplot(train[col], ax=axes[r,c], palette='viridis', label='Train data')\n",
    "            sns.countplot(test[col], ax=axes[r,c], palette='magma', label='Test data')\n",
    "            \n",
    "            axes[r,c].legend()\n",
    "            axes[r,c].set_ylabel('')\n",
    "            axes[r,c].set_xlabel(col, fontsize=20)\n",
    "            axes[r,c].tick_params(labelsize=10, width=.5)\n",
    "            axes[r,c].xaxis.offsetText.set_fontsize(4)\n",
    "            axes[r,c].yaxis.offsetText.set_fontsize(4)\n",
    "            \n",
    "    plt.show()"
   ]
  },
  {
   "cell_type": "markdown",
   "id": "62ba25ec",
   "metadata": {},
   "source": [
    "## Target 분포\n",
    "* 0과 1 두 개의 target value로 구성.\n",
    "* 두 값은 비슷한 분포를 나타낸다."
   ]
  },
  {
   "cell_type": "code",
   "execution_count": null,
   "id": "0fc60d16",
   "metadata": {},
   "outputs": [],
   "source": [
    "target_df = pd.DataFrame(train[Target].value_counts()).reset_index()\n",
    "target_df.columns=[Target, 'count']\n",
    "\n",
    "fig=px.bar(data_frame=target_df, x=Target, y='count')\n",
    "fig.update_traces(marker_color=['#58D68D','#DE3163'],\n",
    "                 marker_line_color='rgb(0,0,0)',\n",
    "                 marker_line_width=2)\n",
    "\n",
    "fig.update_layout(title='Target Distribuion', template='plotly_white', title_x=0.5)\n",
    "\n",
    "\n",
    "print(f'\\033[94m Percentage of Transported = 0 : {target_df[\"count\"][0]*100 / train.shape[0]:.2f}%')\n",
    "print(f'\\033[94m Percentage of Transported = 1 : {target_df[\"count\"][1]*100 / train.shape[0]:.2f}%')\n",
    "\n",
    "fig.show()"
   ]
  },
  {
   "cell_type": "markdown",
   "id": "072c08ce",
   "metadata": {},
   "source": [
    "## 상관관계도 (Correlation Matrix)"
   ]
  },
  {
   "cell_type": "code",
   "execution_count": null,
   "id": "fa1feaf1",
   "metadata": {},
   "outputs": [],
   "source": [
    "fig = px.imshow(train.corr(), text_auto=True, aspect='auto', color_continuous_scale='viridis')\n",
    "fig.show()"
   ]
  },
  {
   "cell_type": "markdown",
   "id": "8655d073",
   "metadata": {},
   "source": [
    "# 데이터 전처리\n",
    " - Data Pre-Processing"
   ]
  },
  {
   "cell_type": "markdown",
   "id": "3bc84860",
   "metadata": {},
   "source": [
    "## Imputing Missing Valued"
   ]
  },
  {
   "cell_type": "code",
   "execution_count": null,
   "id": "03c862a3",
   "metadata": {},
   "outputs": [],
   "source": [
    "imputer_cols = ['Age','FoodCourt','ShoppingMall','Spa','VRDeck','RoomService']\n",
    "imputer = SimpleImputer(strategy=Strategy)\n",
    "imputer.fit(train[imputer_cols])\n",
    "\n",
    "train[imputer_cols]=imputer.transform(train[imputer_cols])\n",
    "test[imputer_cols]=imputer.transform(test[imputer_cols])\n",
    "\n",
    "train['HomePlanet'].fillna('Z', inplace=True)\n",
    "test['HomePlanet'].fillna('Z', inplace=True)"
   ]
  },
  {
   "cell_type": "markdown",
   "id": "e8ea2ccf",
   "metadata": {},
   "source": [
    "## 범주형 변수 인코딩"
   ]
  },
  {
   "cell_type": "code",
   "execution_count": null,
   "id": "b062a8d7",
   "metadata": {},
   "outputs": [],
   "source": [
    "label_cols=['HomePlanet', 'CryoSleep','Cabin','Destination','VIP']\n",
    "\n",
    "def label_encoder(train,test,columns):\n",
    "    for col in columns:\n",
    "        train[col]=train[col].astype(str)\n",
    "        test[col]=test[col].astype(str)\n",
    "        train[col]=LabelEncoder().fit_transform(train[col])\n",
    "        test[col]=LabelEncoder().fit_transform(test[col])\n",
    "    \n",
    "    return train,test\n",
    "\n",
    "train, test = label_encoder(train,test,label_cols)"
   ]
  },
  {
   "cell_type": "code",
   "execution_count": null,
   "id": "3fe922aa",
   "metadata": {},
   "outputs": [],
   "source": [
    "train.drop(['Name','Cabin'], axis=1, inplace=True)\n",
    "test.drop(['Name','Cabin'], axis=1, inplace=True)\n",
    "\n",
    "X=train.drop(Target, axis=1)\n",
    "y=train[Target]\n",
    "\n",
    "X_train, X_test, y_train, y_test=train_test_split(X, y, random_state=12, test_size=0.33)"
   ]
  },
  {
   "cell_type": "markdown",
   "id": "4f2cb476",
   "metadata": {},
   "source": [
    "# Modeing"
   ]
  },
  {
   "cell_type": "markdown",
   "id": "abe3ab9a",
   "metadata": {},
   "source": [
    "## 27 Differnt Classifier(Lazy Predcit)"
   ]
  },
  {
   "cell_type": "code",
   "execution_count": null,
   "id": "6532d92c",
   "metadata": {},
   "outputs": [],
   "source": [
    "clf = LazyClassifier(verbose=0, \n",
    "                    ignore_warnings=True,\n",
    "                    custom_metric=None,\n",
    "                    predictions=False,\n",
    "                    random_state=12)\n",
    "\n",
    "models, predictions = clf.fit(X_train, X_test, y_train, y_test)"
   ]
  },
  {
   "cell_type": "markdown",
   "id": "14fc78a6",
   "metadata": {},
   "source": [
    "### 상위 15개 모델"
   ]
  },
  {
   "cell_type": "code",
   "execution_count": null,
   "id": "1755f3d6",
   "metadata": {},
   "outputs": [],
   "source": [
    "models[:15]"
   ]
  },
  {
   "cell_type": "markdown",
   "id": "ff1d242d",
   "metadata": {},
   "source": [
    "### 결과 시각화 "
   ]
  },
  {
   "cell_type": "code",
   "execution_count": null,
   "id": "d70611d9",
   "metadata": {},
   "outputs": [],
   "source": [
    "line=px.line(data_frame=models, y=['Accuracy'], markers=True)\n",
    "\n",
    "line.update_xaxes(title='Model', rangeslider_visible=False)\n",
    "line.update_yaxes(title='Accuracy')\n",
    "line.update_traces(line_color='red')\n",
    "line.update_layout(showlegend=True,\n",
    "                  title={\n",
    "                      'text':'Accuracy vc Model',\n",
    "                      'y':0.94,\n",
    "                      'x':0.5,\n",
    "                      'xanchor':'center',\n",
    "                      'yanchor':'top'\n",
    "                  })\n",
    "\n",
    "line.show()"
   ]
  },
  {
   "cell_type": "code",
   "execution_count": null,
   "id": "bfba7d1f",
   "metadata": {},
   "outputs": [],
   "source": [
    "line = px.line(data_frame=models, y=['ROC AUC', 'F1 Score'], markers=True)\n",
    "\n",
    "line.update_xaxes(title='Model', rangeslider_visible=False)\n",
    "line.update_yaxes(title='ROC AUC SCORE')\n",
    "line.update_layout(showlegend=True,\n",
    "                  title={\n",
    "                      'text':'ROC AUC and F1 Score vs Model',\n",
    "                      'y':0.94,\n",
    "                      'x':0.5,\n",
    "                      'xanchor':'center',\n",
    "                      'yanchor':'top'\n",
    "                  })\n",
    "line.show()"
   ]
  },
  {
   "cell_type": "code",
   "execution_count": null,
   "id": "2865e1da",
   "metadata": {},
   "outputs": [],
   "source": [
    "line = px.line(data_frame=models, y=['Time Taken'], markers=True)\n",
    "\n",
    "line.update_xaxes(title='Model', rangeslider_visible=False)\n",
    "line.update_yaxes(title='Time(s)')\n",
    "line.update_traces(line_color='purple')\n",
    "line.update_layout(showlegend=True,\n",
    "                  title={\n",
    "                      'text':'Time Taken VS Model',\n",
    "                      'y':0.94,\n",
    "                      'x':0.5,\n",
    "                      'xanchor':'center',\n",
    "                      'yanchor':'top'\n",
    "                  })\n",
    "line.show()"
   ]
  },
  {
   "cell_type": "markdown",
   "id": "1809119b",
   "metadata": {},
   "source": [
    "## LGBM Classifier (5 Folds)"
   ]
  },
  {
   "cell_type": "code",
   "execution_count": null,
   "id": "16f74abc",
   "metadata": {},
   "outputs": [],
   "source": [
    "lgb_params={\n",
    "    'objective':'binary',\n",
    "    'n_estimators':50,\n",
    "    'learning_rate':0.08\n",
    "}\n",
    "\n",
    "lgb_predictions=0\n",
    "lgb_scores=[]\n",
    "lgb_fimp=[]\n",
    "\n",
    "LGBM_FEATURES=list(train.columns)[:-1]\n",
    "skf=StratifiedKFold(n_splits=Folds, shuffle=True, random_state=Random_state)\n",
    "\n",
    "for fold, (train_idx, valid_idx) in enumerate(skf.split(train[LGBM_FEATURES], train[Target])):\n",
    "    print(f'\\033[94m')\n",
    "    print(10*\"=\", f\"FOLD={fold+1}\", 10*\"=\")\n",
    "    start_time = time.time()\n",
    "    \n",
    "    X_train, X_valid = train.iloc[train_idx][LGBM_FEATURES], train.iloc[valid_idx][LGBM_FEATURES]\n",
    "    y_train, y_valid = train[Target].iloc[train_idx], train[Target].iloc[valid_idx]\n",
    "    \n",
    "    model=LGBMClassifier(**lgb_params)\n",
    "    model.fit(X_train, y_train, verbose=0)\n",
    "    \n",
    "    preds_valid = model.predict(X_valid)\n",
    "    acc=accuracy_score(y_valid, preds_valid)\n",
    "    lgb_scores.append(acc)\n",
    "    run_time=time.time() - start_time\n",
    "    \n",
    "    fim = pd.DataFrame(index=LGBM_FEATURES, data=model.feature_importances_, columns=[f'{fold}_importance'])\n",
    "    lgb_fimp.append(fim)\n",
    "    \n",
    "    print(f\"Fold={fold+1}, Accuracy score:{acc:.2f}%, Run Time:{run_time:.2f}s\")\n",
    "    test_preds=model.predict(test[LGBM_FEATURES])\n",
    "    lgb_predictions += test_preds/Folds\n",
    "\n",
    "print(\"\")\n",
    "print(f\"Mean Accuracy : {np.mean(lgb_scores)}\")"
   ]
  },
  {
   "cell_type": "markdown",
   "id": "5bcca004",
   "metadata": {},
   "source": [
    "### Feature Importance"
   ]
  },
  {
   "cell_type": "code",
   "execution_count": null,
   "id": "7aa92b13",
   "metadata": {},
   "outputs": [],
   "source": [
    "lgbm_fis_df=pd.concat(lgb_fimp, axis=1).head(15)\n",
    "lgbm_fis_df.sort_values('1_importance').plot(kind='barh', figsize=(15,10),\n",
    "                                            title='Feature Importance Across Folds')\n",
    "\n",
    "plt.show()"
   ]
  },
  {
   "cell_type": "markdown",
   "id": "395e687d",
   "metadata": {},
   "source": [
    "# Submission"
   ]
  },
  {
   "cell_type": "markdown",
   "id": "8ce7c004",
   "metadata": {},
   "source": [
    "## LGMB Classifier Submission"
   ]
  },
  {
   "cell_type": "code",
   "execution_count": null,
   "id": "183dd256",
   "metadata": {},
   "outputs": [],
   "source": [
    "submission[Target] = lgb_predictions.astype('bool')\n",
    "submission"
   ]
  }
 ],
 "metadata": {
  "kernelspec": {
   "display_name": "Python 3 (ipykernel)",
   "language": "python",
   "name": "python3"
  },
  "language_info": {
   "codemirror_mode": {
    "name": "ipython",
    "version": 3
   },
   "file_extension": ".py",
   "mimetype": "text/x-python",
   "name": "python",
   "nbconvert_exporter": "python",
   "pygments_lexer": "ipython3",
   "version": "3.9.12"
  },
  "toc": {
   "base_numbering": 1,
   "nav_menu": {},
   "number_sections": true,
   "sideBar": true,
   "skip_h1_title": false,
   "title_cell": "Table of Contents",
   "title_sidebar": "Contents",
   "toc_cell": false,
   "toc_position": {
    "height": "calc(100% - 180px)",
    "left": "10px",
    "top": "150px",
    "width": "193px"
   },
   "toc_section_display": true,
   "toc_window_display": true
  }
 },
 "nbformat": 4,
 "nbformat_minor": 5
}
