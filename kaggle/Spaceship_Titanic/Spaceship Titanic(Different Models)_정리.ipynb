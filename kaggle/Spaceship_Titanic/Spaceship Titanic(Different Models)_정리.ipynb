{
 "cells": [
  {
   "cell_type": "markdown",
   "id": "9b5a40e4",
   "metadata": {},
   "source": [
    "# 정리"
   ]
  },
  {
   "cell_type": "markdown",
   "id": "8facb25e",
   "metadata": {},
   "source": [
    "과제는 어떤 승객이 대체 차원으로 이동되었는지 **분류**하는 것을 목적으로 한다. \n",
    "\n",
    "- 커널 순서\n",
    "  * train data 탐색 > test data 탐색 > EDA(연속형\u0010범주형 변수 분포 확인) > 데이터 전처리 > Modeling > Submission"
   ]
  },
  {
   "cell_type": "markdown",
   "id": "45aec62e",
   "metadata": {},
   "source": [
    "# 패키지 정리"
   ]
  },
  {
   "cell_type": "code",
   "execution_count": 1,
   "id": "d23c9e4f",
   "metadata": {},
   "outputs": [],
   "source": [
    "import plotly.express as px"
   ]
  },
  {
   "cell_type": "markdown",
   "id": "b266c115",
   "metadata": {},
   "source": [
    "## plotly.express\n",
    "---\n",
    "- cufflinks보다 다양한 차트를 제공하고 사용방법은 seaborn과 비슷하다."
   ]
  },
  {
   "cell_type": "code",
   "execution_count": null,
   "id": "163be0d0",
   "metadata": {},
   "outputs": [],
   "source": [
    "train_age=train.copy()\n",
    "test_age=test.copy()\n",
    "\n",
    "train_age['type']='Train'\n",
    "test_age['type']='Test'\n",
    "\n",
    "ageDF=pd.concat([train_age,test_age])\n",
    "fig=px.histogram(data_frame=ageDF,\n",
    "                x='Age', color='type', color_discrete_sequence=['#58D68D','#DE3136'],\n",
    "                marginal='box',nbins=100, template='plotly_white')\n",
    "\n",
    "fig.update_layout(title='Distribution of Age', title_x=0.5)\n",
    "fig.show()"
   ]
  },
  {
   "cell_type": "markdown",
   "id": "72a8f474",
   "metadata": {},
   "source": [
    "![nn](./px.png)\n",
    "\n",
    "> [express 참고](https://dailyheumsi.tistory.com/118)"
   ]
  },
  {
   "cell_type": "markdown",
   "id": "330713f5",
   "metadata": {},
   "source": [
    "## plotly.graph_objects\n",
    "---\n",
    "라인 별로 그래프를 할당한다."
   ]
  },
  {
   "cell_type": "code",
   "execution_count": null,
   "id": "25da4223",
   "metadata": {},
   "outputs": [],
   "source": [
    "fig = make_subplots(rows=1, cols=2, column_titles=['Train Data', 'Test Data'], x_title='Missing Values')\n",
    "\n",
    "## train columns 표시\n",
    "fig.add_trace(go.Bar(x=train_null[0], y=train_null.index, orientation='h',\n",
    "                     marker=dict(color=[n for n in range(12)],\n",
    "                     line_color='rgb(0,0,0)',\n",
    "                     line_width=2,\n",
    "                     coloraxis='coloraxis')), 1,1)\n",
    "\n",
    "## test columns 표시\n",
    "fig.add_trace(go.Bar(x=test_null[0], y=test_null.index, orientation='h',\n",
    "                    marker=dict(color=[n for n in range(12)],\n",
    "                                line_color='rgb(0,0,0)',\n",
    "                                line_width=2,\n",
    "                                coloraxis='coloraxis')),1,2)\n",
    "\n",
    "fig.update_layout(showlegend=False, title_text='Column wise Null Value Distribution', title_x=0.5)"
   ]
  },
  {
   "cell_type": "markdown",
   "id": "f793fc3c",
   "metadata": {},
   "source": [
    "![nn](./go.png)"
   ]
  },
  {
   "cell_type": "markdown",
   "id": "aad34077",
   "metadata": {},
   "source": [
    "## (from) sklearn.impute (import) SimpleImputer\n",
    "---\n",
    "데이터 셋의 missing value를 특정한 값으로 채우는 기능을 제공한다.  \n",
    "같은 기능을 제공하는 pandas의 fillna()가 더 많이 사용되지만, <u>missing value feature 데이터 셋이 많을 경우</u> SimpleImputer를 사용하는게 코드를 더 간결하게 한다.  \n",
    "(다만, 다른 특성(features)을 참조해 대푯값을 더 섬세하게 채울수 있다면 fillna()를 사용하는 것이 좋다.)\n",
    "\n",
    "* fit()으로 strategy에 따른 값을 계산하고, transform()으로 missing 영역을 계산된 값을 채워준다.\n",
    "* fit()과 transform()의 대상이 같은 경우엔 fit_transform()으로 바로 처리할 수 있다.\n",
    "\n",
    ">[simpleImputer 참고](https://blog.naver.com/PostView.naver?blogId=seokcrew&logNo=221603139044&parentCategoryNo=42&categoryNo=&viewDate=&isShowPopularPosts=true&from=search)"
   ]
  },
  {
   "cell_type": "code",
   "execution_count": null,
   "id": "78c5bc80",
   "metadata": {},
   "outputs": [],
   "source": [
    "imputer_cols = ['Age','FoodCourt','ShoppingMall','Spa','VRDeck','RoomService']\n",
    "imputer = SimpleImputer(strategy=Strategy)\n",
    "imputer.fit(train[imputer_cols])\n",
    "\n",
    "train[imputer_cols]=imputer.transform(train[imputer_cols])\n",
    "test[imputer_cols]=imputer.transform(test[imputer_cols])\n",
    "\n",
    "train['HomePlanet'].fillna('Z', inplace=True)\n",
    "test['HomePlanet'].fillna('Z', inplace=True)"
   ]
  },
  {
   "cell_type": "markdown",
   "id": "a3a2d366",
   "metadata": {},
   "source": [
    "## (from) lazypredict.Supervised (import) LazyClassifier\n",
    "---\n",
    "* LazyPredict\n",
    " - 많은 모델들의 결과를 한 번에 도출한다.\n",
    " - 튜닝하지 않은 Basic 모델을 이용할 때 어떤 모델이 더 잘 작동하는지 이해하는데 도움을 준다. \n",
    " - 데이터가 어떤 모델을 사용했을때, 좋은 결과를 얻어낼 수 있을지 확인이 필요한 경우 사용하면 좋다  \n",
    " (튜닝이 없기에 해당 결과를 맹신하는 것은 좋지 않다.)"
   ]
  },
  {
   "cell_type": "code",
   "execution_count": null,
   "id": "da0ec259",
   "metadata": {},
   "outputs": [],
   "source": [
    "clf = LazyClassifier(verbose=0, \n",
    "                    ignore_warnings=True,\n",
    "                    custom_metric=None,\n",
    "                    predictions=False,\n",
    "                    random_state=12)\n",
    "\n",
    "models, predictions = clf.fit(X_train, X_test, y_train, y_test)"
   ]
  },
  {
   "cell_type": "markdown",
   "id": "166062ba",
   "metadata": {},
   "source": [
    "![nn](./lazypredict.png)"
   ]
  },
  {
   "cell_type": "code",
   "execution_count": null,
   "id": "53599b85",
   "metadata": {},
   "outputs": [],
   "source": []
  }
 ],
 "metadata": {
  "kernelspec": {
   "display_name": "Python 3 (ipykernel)",
   "language": "python",
   "name": "python3"
  },
  "language_info": {
   "codemirror_mode": {
    "name": "ipython",
    "version": 3
   },
   "file_extension": ".py",
   "mimetype": "text/x-python",
   "name": "python",
   "nbconvert_exporter": "python",
   "pygments_lexer": "ipython3",
   "version": "3.9.12"
  },
  "toc": {
   "base_numbering": 1,
   "nav_menu": {},
   "number_sections": true,
   "sideBar": true,
   "skip_h1_title": false,
   "title_cell": "Table of Contents",
   "title_sidebar": "Contents",
   "toc_cell": false,
   "toc_position": {},
   "toc_section_display": true,
   "toc_window_display": false
  }
 },
 "nbformat": 4,
 "nbformat_minor": 5
}
