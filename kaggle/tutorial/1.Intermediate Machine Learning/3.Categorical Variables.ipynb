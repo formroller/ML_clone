{
 "cells": [
  {
   "cell_type": "markdown",
   "id": "32573f43",
   "metadata": {},
   "source": [
    "[범주형 변수](https://www.kaggle.com/code/alexisbcook/categorical-variables)  \n",
    "이번 장에서는 숫자가 아닌 데이터들을 머신 러닝에 사용하는 방법을 배울 것이다.\n",
    "\n",
    "이번 튜토리얼에서는 **범주형 데이터(Categorical Variable)**와 이를 다루는 세가지 방법을 배울 것이다."
   ]
  },
  {
   "cell_type": "markdown",
   "id": "6fadfdc1",
   "metadata": {},
   "source": [
    "# Introduction\n",
    "**범주형 변수**는 제한된 숫자의 값만 사용한다.  \n",
    "\n",
    "* 아침을 얼마나 자주 먹는지 네가지 옵션을 둔 설문 조사를 고려해보자(전혀/가끔/대부분/매일). 아래의 경우 응답이 고정된 범주로 속하기 때문에 데이터는 범주형이다.\n",
    "\n",
    "* 사람들에게 어떤 브랜드의 자동차를 소유했는지 조사한다면, 응답은 '포드'/'혼다'/'토요타' 등의 범주형으로 대답할 것이다.   \n",
    "\n",
    "이러한 범주형 변수를 전처러 없이 머신 러닝 모델에 연결하면 오류가 발생할 것이다. 이 튜토리얼에서는 범주형 데이터를 처리하는데 사용할 수 있는 세 가지 방법을 소개할 것이다. "
   ]
  },
  {
   "cell_type": "markdown",
   "id": "56507829",
   "metadata": {},
   "source": [
    "# Three Approaches"
   ]
  },
  {
   "cell_type": "markdown",
   "id": "c7384912",
   "metadata": {},
   "source": [
    "## Drop Categorical Variables \n",
    "범주형 변수를 다루는 가장 쉬운 방법은 그들을 데이터셋에서 지우는 것이다. 이 방법은 유용한 정보를 포함하지 않은 경우에만 잘 작동될 것이다. "
   ]
  },
  {
   "cell_type": "markdown",
   "id": "e723367a",
   "metadata": {},
   "source": [
    "## Ordinal Encoding\n",
    "Ordinal Encoding(순위 변환)은 각각의 고유 변수에 다른 값(수치)을 할당한다. \n",
    "\n",
    "![nn](https://i.imgur.com/tEogUAr.png![image.png](attachment:image.png))\n",
    "\n",
    "이 방법은 범주에 순서를 가정한다.  \n",
    "\"Never\"(0) < \"Rarely\"(1) < \"Most Days\"(2) < \"Every Day\"(3).\n",
    "\n",
    "이 예제에서 범주마다 순위가 명확하기에 이러한 가정이 타당하다. 모든 범주형 변수가 값에 명확한 순서를 가지고 있는 것은 아니며 우리는 이를 **서수형 변수(ordinal variables)**라고 부른다. 트리 기반 모델(ex-dicision tree, randomforest)의 경우 순서 인코딩(ordinal encoding)이 순서 변수(ordinal variables)와 함께 잘 작동한다고 기대할 수 있다."
   ]
  },
  {
   "cell_type": "markdown",
   "id": "2f65f178",
   "metadata": {},
   "source": [
    "## One-Hot Encoding\n",
    "**One Hot Encoding**은 원 데이터에서 값의 유뮤를 나타내는 새로운 열을 생성한다. (이를 이해하기 위해 예를 들어보자)  \n",
    "![nn](https://i.imgur.com/TW5m0aJ.png![image.png](attachment:image.png)) \n",
    "\n",
    "기존 데이터에서 'Color'는 'Red'/'Yellow'/'Green' 세 가지 범주로 구성된 범주형 변수이다. One-Hot Encoding은 열에 각 범주와 행에 값의 유무를 포함한다. 원래 값이 'Red'인 경우 'Red' 열에 1을, 'Yellow'인 경우 'Yellow'열에 1을 넣었다. \n",
    "\n",
    "**ordinal encoding(서수 인코딩)**과 대조적으로, **one-hot encoding**은 범주의 순서를 가정하지 않는다. 따라서 범주형 데이터에 명확한 순서가 없는 경우(예:'빨간색'은 '노란색'보다 크거나 작지 않은 경우)이 방법이 특히 잘 작동된다고 기대할 수 있다. 우리는 내재적 순위가 없는 범주형 변수를 명목형 변수라 지칭한다.\n",
    "\n",
    "범주형 변수가 많은 값을 갖는 경우(즉, 일반적으로 15개 이상의 값을 갖는 변수에\n",
    "**One-Hot Encoding**은 일반적으로 범주형 변수가 많은 값을 갖는 경우 잘 수행되지 않는다.(15개 이상의 범주형 변수를 갖는 경우)"
   ]
  },
  {
   "cell_type": "markdown",
   "id": "5fd272b8",
   "metadata": {},
   "source": [
    "# Example\n",
    "이전 튜토리얼과 마찬가지로 [Melbourne Housing dataset](https://www.kaggle.com/dansbecker/melbourne-housing-snapshot)을 사용할 것이다. \n",
    "\n",
    "우리는 데이터 불러오기에 초점을 맞추지 않을 것이다. 대신, X_train, X_valid, y_train, y_valid에 이미 training 및 validation 데이터가 있는 지점에 있다고 상상할 수 있다. "
   ]
  },
  {
   "cell_type": "markdown",
   "id": "530fc961",
   "metadata": {},
   "source": [
    "## 데이터 전처리"
   ]
  },
  {
   "cell_type": "code",
   "execution_count": 23,
   "id": "52ee6f1c",
   "metadata": {},
   "outputs": [],
   "source": [
    "import pandas as pd\n",
    "from sklearn.model_selection import train_test_split\n",
    "\n",
    "# Read the data\n",
    "data = pd.read_csv('data/melb_data.csv')\n",
    "\n",
    "# Separate target from predictors\n",
    "y=data.Price\n",
    "X=data.drop(['Price'], axis=1)\n",
    "\n",
    "# Divide data into training and validation subsets\n",
    "X_train_full, X_valid_full, y_train, y_valid=train_test_split(X, y, train_size=.8, random_state=0)\n",
    "\n",
    "# Drop columns with missing vlaues (simplest approach)\n",
    "cols_with_missing=[col for col in X_train_full.columns if X_train_full[col].isnull().any()]\n",
    "X_train_full.drop(cols_with_missing, axis=1, inplace=True)\n",
    "X_valid_full.drop(cols_with_missing, axis=1, inplace=True)\n",
    "\n",
    "# \"Cardinality\" means the number of unique values in a column\n",
    "# \"카디널리티\"는 열의 고유한 값의 수를 의미한다.\n",
    "# Select categorical columns with relatively low cardinality (convenient but arbitrary)\n",
    "# 카디널리티가 상대적으로 낮은 범주열을 선택하시오(편리하지만 임시적인 방법.)\n",
    "low_cardinality_cols=[cname for cname in X_train_full.columns if X_train_full[cname].nunique() < 10 and X_train_full[cname].dtype=='object']\n",
    "\n",
    "# Select numerical columns\n",
    "numerical_cols=[cname for cname in X_train_full.columns if X_train_full[cname].dtype in ['int64','float64']]\n",
    "\n",
    "# Keep selected columns only\n",
    "my_cols = low_cardinality_cols + numerical_cols\n",
    "X_train = X_train_full[my_cols].copy()\n",
    "X_valid = X_valid_full[my_cols].copy()"
   ]
  },
  {
   "cell_type": "code",
   "execution_count": 24,
   "id": "a4351636",
   "metadata": {},
   "outputs": [
    {
     "data": {
      "text/html": [
       "<div>\n",
       "<style scoped>\n",
       "    .dataframe tbody tr th:only-of-type {\n",
       "        vertical-align: middle;\n",
       "    }\n",
       "\n",
       "    .dataframe tbody tr th {\n",
       "        vertical-align: top;\n",
       "    }\n",
       "\n",
       "    .dataframe thead th {\n",
       "        text-align: right;\n",
       "    }\n",
       "</style>\n",
       "<table border=\"1\" class=\"dataframe\">\n",
       "  <thead>\n",
       "    <tr style=\"text-align: right;\">\n",
       "      <th></th>\n",
       "      <th>Type</th>\n",
       "      <th>Method</th>\n",
       "      <th>Regionname</th>\n",
       "      <th>Rooms</th>\n",
       "      <th>Distance</th>\n",
       "      <th>Postcode</th>\n",
       "      <th>Bedroom2</th>\n",
       "      <th>Bathroom</th>\n",
       "      <th>Landsize</th>\n",
       "      <th>Lattitude</th>\n",
       "      <th>Longtitude</th>\n",
       "      <th>Propertycount</th>\n",
       "    </tr>\n",
       "  </thead>\n",
       "  <tbody>\n",
       "    <tr>\n",
       "      <th>12167</th>\n",
       "      <td>u</td>\n",
       "      <td>S</td>\n",
       "      <td>Southern Metropolitan</td>\n",
       "      <td>1</td>\n",
       "      <td>5.0</td>\n",
       "      <td>3182.0</td>\n",
       "      <td>1.0</td>\n",
       "      <td>1.0</td>\n",
       "      <td>0.0</td>\n",
       "      <td>-37.85984</td>\n",
       "      <td>144.9867</td>\n",
       "      <td>13240.0</td>\n",
       "    </tr>\n",
       "    <tr>\n",
       "      <th>6524</th>\n",
       "      <td>h</td>\n",
       "      <td>SA</td>\n",
       "      <td>Western Metropolitan</td>\n",
       "      <td>2</td>\n",
       "      <td>8.0</td>\n",
       "      <td>3016.0</td>\n",
       "      <td>2.0</td>\n",
       "      <td>2.0</td>\n",
       "      <td>193.0</td>\n",
       "      <td>-37.85800</td>\n",
       "      <td>144.9005</td>\n",
       "      <td>6380.0</td>\n",
       "    </tr>\n",
       "    <tr>\n",
       "      <th>8413</th>\n",
       "      <td>h</td>\n",
       "      <td>S</td>\n",
       "      <td>Western Metropolitan</td>\n",
       "      <td>3</td>\n",
       "      <td>12.6</td>\n",
       "      <td>3020.0</td>\n",
       "      <td>3.0</td>\n",
       "      <td>1.0</td>\n",
       "      <td>555.0</td>\n",
       "      <td>-37.79880</td>\n",
       "      <td>144.8220</td>\n",
       "      <td>3755.0</td>\n",
       "    </tr>\n",
       "    <tr>\n",
       "      <th>2919</th>\n",
       "      <td>u</td>\n",
       "      <td>SP</td>\n",
       "      <td>Northern Metropolitan</td>\n",
       "      <td>3</td>\n",
       "      <td>13.0</td>\n",
       "      <td>3046.0</td>\n",
       "      <td>3.0</td>\n",
       "      <td>1.0</td>\n",
       "      <td>265.0</td>\n",
       "      <td>-37.70830</td>\n",
       "      <td>144.9158</td>\n",
       "      <td>8870.0</td>\n",
       "    </tr>\n",
       "    <tr>\n",
       "      <th>6043</th>\n",
       "      <td>h</td>\n",
       "      <td>S</td>\n",
       "      <td>Western Metropolitan</td>\n",
       "      <td>3</td>\n",
       "      <td>13.3</td>\n",
       "      <td>3020.0</td>\n",
       "      <td>3.0</td>\n",
       "      <td>1.0</td>\n",
       "      <td>673.0</td>\n",
       "      <td>-37.76230</td>\n",
       "      <td>144.8272</td>\n",
       "      <td>4217.0</td>\n",
       "    </tr>\n",
       "  </tbody>\n",
       "</table>\n",
       "</div>"
      ],
      "text/plain": [
       "      Type Method             Regionname  Rooms  Distance  Postcode  Bedroom2  \\\n",
       "12167    u      S  Southern Metropolitan      1       5.0    3182.0       1.0   \n",
       "6524     h     SA   Western Metropolitan      2       8.0    3016.0       2.0   \n",
       "8413     h      S   Western Metropolitan      3      12.6    3020.0       3.0   \n",
       "2919     u     SP  Northern Metropolitan      3      13.0    3046.0       3.0   \n",
       "6043     h      S   Western Metropolitan      3      13.3    3020.0       3.0   \n",
       "\n",
       "       Bathroom  Landsize  Lattitude  Longtitude  Propertycount  \n",
       "12167       1.0       0.0  -37.85984    144.9867        13240.0  \n",
       "6524        2.0     193.0  -37.85800    144.9005         6380.0  \n",
       "8413        1.0     555.0  -37.79880    144.8220         3755.0  \n",
       "2919        1.0     265.0  -37.70830    144.9158         8870.0  \n",
       "6043        1.0     673.0  -37.76230    144.8272         4217.0  "
      ]
     },
     "execution_count": 24,
     "metadata": {},
     "output_type": "execute_result"
    }
   ],
   "source": [
    "X_train.head()"
   ]
  },
  {
   "cell_type": "markdown",
   "id": "86174a49",
   "metadata": {},
   "source": [
    "다음, 우리는 training data의 모든 범주형 변수 목록을 얻을 것이다.  \n",
    "다음에서 각 열의 데이터 타입을 확인할 것이다. **object** dtype은 데이터에 텍스트가 있는 것을 나타낸다. (이론적으로 다른 것이 있을 수 있지만 그것은 현재 목적에 중요하지 않다.) 이 데이터 세트의 경우, text는 범주형 변수를 나타낸다. "
   ]
  },
  {
   "cell_type": "code",
   "execution_count": 39,
   "id": "878ff050",
   "metadata": {},
   "outputs": [
    {
     "name": "stdout",
     "output_type": "stream",
     "text": [
      "\u001b[94m Categorical variables : \n",
      "['Type', 'Method', 'Regionname']\n"
     ]
    }
   ],
   "source": [
    "# Get list of categorical variable\n",
    "s=(X_train.dtypes=='object')\n",
    "object_cols=list(s[s].index)\n",
    "\n",
    "print(f\"\\033[94m Categorical variables : \")\n",
    "print(object_cols)"
   ]
  },
  {
   "cell_type": "markdown",
   "id": "7b7a016a",
   "metadata": {},
   "source": [
    "## Define Function to Measure Quality of Each Approach\n",
    "각각의 방법을 측정하기 위한 함수 정의  \n",
    "\n",
    "---\n",
    "우리는 범주형 변수를 다루는 세가지 방법을 비교하기 위해 **score_dataset()**을 정의할 것이다. 이 함수는 랜덤 포레스트 모델에서 **[평균 절대 오차(MAE)](https://en.wikipedia.org/wiki/Mean_absolute_error)**에 대해 보고한다.  \n",
    "(일반적으로 MAE가 낮을 수록 성능이 좋다.)\n"
   ]
  },
  {
   "cell_type": "code",
   "execution_count": 41,
   "id": "b941fa64",
   "metadata": {},
   "outputs": [],
   "source": [
    "from sklearn.ensemble import RandomForestRegressor\n",
    "from sklearn.metrics import mean_absolute_error\n",
    "\n",
    "# Function for comparing different approaches\n",
    "def score_dataset(X_train, X_valid, y_train, y_valid):\n",
    "    model=RandomForestRegressor(n_estimators=100, random_state=100)\n",
    "    model.fit(X_train, y_train)\n",
    "    pred=model.predict(X_valid)\n",
    "    \n",
    "    return mean_absolute_error(y_valid, pred)"
   ]
  },
  {
   "cell_type": "markdown",
   "id": "bc9eabf8",
   "metadata": {},
   "source": [
    "## 방법1.Drop Categorical Variables\n",
    "**select_dtypes()** method를 통해 object 열을 삭제할 것이다."
   ]
  },
  {
   "cell_type": "code",
   "execution_count": 43,
   "id": "d7e19d23",
   "metadata": {},
   "outputs": [
    {
     "name": "stdout",
     "output_type": "stream",
     "text": [
      "\u001b[94m MAE from approach 1 (Drop Categorical variables):\n",
      "177023.64449824087\n"
     ]
    }
   ],
   "source": [
    "drop_X_train=X_train.select_dtypes(exclude=['object'])\n",
    "drop_X_valid=X_valid.select_dtypes(exclude=['object'])\n",
    "\n",
    "print(f\"\\033[94m MAE from approach 1 (Drop Categorical variables):\")\n",
    "print(score_dataset(drop_X_train, drop_X_valid, y_train, y_valid))"
   ]
  },
  {
   "cell_type": "markdown",
   "id": "fa5c14d0",
   "metadata": {},
   "source": [
    "## 방법2. Ordinal Encoding\n",
    "Scikit-learn에는 순서 인코딩을 가져오는데 사용할 수 있는 **OrdinalEncoder** 클래스가 있다. 범주형 변수를 반복해 순서 인코더를 각 열에 개별적으로 적용한다. "
   ]
  },
  {
   "cell_type": "code",
   "execution_count": 46,
   "id": "94a18c29",
   "metadata": {},
   "outputs": [
    {
     "name": "stdout",
     "output_type": "stream",
     "text": [
      "\u001b[93m MAE from approach 2 (Ordinal Encoding):\n",
      "167190.81990339435\n"
     ]
    }
   ],
   "source": [
    "from sklearn.preprocessing import OrdinalEncoder\n",
    "\n",
    "# Make copy to avoid changing original data\n",
    "label_X_train=X_train.copy()\n",
    "label_X_valid=X_valid.copy()\n",
    "\n",
    "# Apply ordinal encoder to each column with categorical data\n",
    "ordinal_encoder=OrdinalEncoder()\n",
    "label_X_train[object_cols]=ordinal_encoder.fit_transform(X_train[object_cols])\n",
    "label_X_valid[object_cols]=ordinal_encoder.transform(X_valid[object_cols])\n",
    "\n",
    "print(f\"\\033[93m MAE from approach 2 (Ordinal Encoding):\")\n",
    "print(score_dataset(label_X_train, label_X_valid, y_train, y_valid))"
   ]
  },
  {
   "cell_type": "code",
   "execution_count": 45,
   "id": "b172f558",
   "metadata": {},
   "outputs": [
    {
     "data": {
      "text/html": [
       "<div>\n",
       "<style scoped>\n",
       "    .dataframe tbody tr th:only-of-type {\n",
       "        vertical-align: middle;\n",
       "    }\n",
       "\n",
       "    .dataframe tbody tr th {\n",
       "        vertical-align: top;\n",
       "    }\n",
       "\n",
       "    .dataframe thead th {\n",
       "        text-align: right;\n",
       "    }\n",
       "</style>\n",
       "<table border=\"1\" class=\"dataframe\">\n",
       "  <thead>\n",
       "    <tr style=\"text-align: right;\">\n",
       "      <th></th>\n",
       "      <th>Type</th>\n",
       "      <th>Method</th>\n",
       "      <th>Regionname</th>\n",
       "      <th>Rooms</th>\n",
       "      <th>Distance</th>\n",
       "      <th>Postcode</th>\n",
       "      <th>Bedroom2</th>\n",
       "      <th>Bathroom</th>\n",
       "      <th>Landsize</th>\n",
       "      <th>Lattitude</th>\n",
       "      <th>Longtitude</th>\n",
       "      <th>Propertycount</th>\n",
       "    </tr>\n",
       "  </thead>\n",
       "  <tbody>\n",
       "    <tr>\n",
       "      <th>12167</th>\n",
       "      <td>u</td>\n",
       "      <td>S</td>\n",
       "      <td>Southern Metropolitan</td>\n",
       "      <td>1</td>\n",
       "      <td>5.0</td>\n",
       "      <td>3182.0</td>\n",
       "      <td>1.0</td>\n",
       "      <td>1.0</td>\n",
       "      <td>0.0</td>\n",
       "      <td>-37.85984</td>\n",
       "      <td>144.98670</td>\n",
       "      <td>13240.0</td>\n",
       "    </tr>\n",
       "    <tr>\n",
       "      <th>6524</th>\n",
       "      <td>h</td>\n",
       "      <td>SA</td>\n",
       "      <td>Western Metropolitan</td>\n",
       "      <td>2</td>\n",
       "      <td>8.0</td>\n",
       "      <td>3016.0</td>\n",
       "      <td>2.0</td>\n",
       "      <td>2.0</td>\n",
       "      <td>193.0</td>\n",
       "      <td>-37.85800</td>\n",
       "      <td>144.90050</td>\n",
       "      <td>6380.0</td>\n",
       "    </tr>\n",
       "    <tr>\n",
       "      <th>8413</th>\n",
       "      <td>h</td>\n",
       "      <td>S</td>\n",
       "      <td>Western Metropolitan</td>\n",
       "      <td>3</td>\n",
       "      <td>12.6</td>\n",
       "      <td>3020.0</td>\n",
       "      <td>3.0</td>\n",
       "      <td>1.0</td>\n",
       "      <td>555.0</td>\n",
       "      <td>-37.79880</td>\n",
       "      <td>144.82200</td>\n",
       "      <td>3755.0</td>\n",
       "    </tr>\n",
       "    <tr>\n",
       "      <th>2919</th>\n",
       "      <td>u</td>\n",
       "      <td>SP</td>\n",
       "      <td>Northern Metropolitan</td>\n",
       "      <td>3</td>\n",
       "      <td>13.0</td>\n",
       "      <td>3046.0</td>\n",
       "      <td>3.0</td>\n",
       "      <td>1.0</td>\n",
       "      <td>265.0</td>\n",
       "      <td>-37.70830</td>\n",
       "      <td>144.91580</td>\n",
       "      <td>8870.0</td>\n",
       "    </tr>\n",
       "    <tr>\n",
       "      <th>6043</th>\n",
       "      <td>h</td>\n",
       "      <td>S</td>\n",
       "      <td>Western Metropolitan</td>\n",
       "      <td>3</td>\n",
       "      <td>13.3</td>\n",
       "      <td>3020.0</td>\n",
       "      <td>3.0</td>\n",
       "      <td>1.0</td>\n",
       "      <td>673.0</td>\n",
       "      <td>-37.76230</td>\n",
       "      <td>144.82720</td>\n",
       "      <td>4217.0</td>\n",
       "    </tr>\n",
       "    <tr>\n",
       "      <th>...</th>\n",
       "      <td>...</td>\n",
       "      <td>...</td>\n",
       "      <td>...</td>\n",
       "      <td>...</td>\n",
       "      <td>...</td>\n",
       "      <td>...</td>\n",
       "      <td>...</td>\n",
       "      <td>...</td>\n",
       "      <td>...</td>\n",
       "      <td>...</td>\n",
       "      <td>...</td>\n",
       "      <td>...</td>\n",
       "    </tr>\n",
       "    <tr>\n",
       "      <th>13123</th>\n",
       "      <td>h</td>\n",
       "      <td>SP</td>\n",
       "      <td>Northern Metropolitan</td>\n",
       "      <td>3</td>\n",
       "      <td>5.2</td>\n",
       "      <td>3056.0</td>\n",
       "      <td>3.0</td>\n",
       "      <td>1.0</td>\n",
       "      <td>212.0</td>\n",
       "      <td>-37.77695</td>\n",
       "      <td>144.95785</td>\n",
       "      <td>11918.0</td>\n",
       "    </tr>\n",
       "    <tr>\n",
       "      <th>3264</th>\n",
       "      <td>h</td>\n",
       "      <td>S</td>\n",
       "      <td>Eastern Metropolitan</td>\n",
       "      <td>3</td>\n",
       "      <td>10.5</td>\n",
       "      <td>3081.0</td>\n",
       "      <td>3.0</td>\n",
       "      <td>1.0</td>\n",
       "      <td>748.0</td>\n",
       "      <td>-37.74160</td>\n",
       "      <td>145.04810</td>\n",
       "      <td>2947.0</td>\n",
       "    </tr>\n",
       "    <tr>\n",
       "      <th>9845</th>\n",
       "      <td>h</td>\n",
       "      <td>PI</td>\n",
       "      <td>Northern Metropolitan</td>\n",
       "      <td>4</td>\n",
       "      <td>6.7</td>\n",
       "      <td>3058.0</td>\n",
       "      <td>4.0</td>\n",
       "      <td>2.0</td>\n",
       "      <td>441.0</td>\n",
       "      <td>-37.73572</td>\n",
       "      <td>144.97256</td>\n",
       "      <td>11204.0</td>\n",
       "    </tr>\n",
       "    <tr>\n",
       "      <th>10799</th>\n",
       "      <td>h</td>\n",
       "      <td>S</td>\n",
       "      <td>Northern Metropolitan</td>\n",
       "      <td>3</td>\n",
       "      <td>12.0</td>\n",
       "      <td>3073.0</td>\n",
       "      <td>3.0</td>\n",
       "      <td>1.0</td>\n",
       "      <td>606.0</td>\n",
       "      <td>-37.72057</td>\n",
       "      <td>145.02615</td>\n",
       "      <td>21650.0</td>\n",
       "    </tr>\n",
       "    <tr>\n",
       "      <th>2732</th>\n",
       "      <td>h</td>\n",
       "      <td>SP</td>\n",
       "      <td>Western Metropolitan</td>\n",
       "      <td>4</td>\n",
       "      <td>6.4</td>\n",
       "      <td>3011.0</td>\n",
       "      <td>4.0</td>\n",
       "      <td>2.0</td>\n",
       "      <td>319.0</td>\n",
       "      <td>-37.79430</td>\n",
       "      <td>144.88750</td>\n",
       "      <td>7570.0</td>\n",
       "    </tr>\n",
       "  </tbody>\n",
       "</table>\n",
       "<p>10864 rows × 12 columns</p>\n",
       "</div>"
      ],
      "text/plain": [
       "      Type Method             Regionname  Rooms  Distance  Postcode  Bedroom2  \\\n",
       "12167    u      S  Southern Metropolitan      1       5.0    3182.0       1.0   \n",
       "6524     h     SA   Western Metropolitan      2       8.0    3016.0       2.0   \n",
       "8413     h      S   Western Metropolitan      3      12.6    3020.0       3.0   \n",
       "2919     u     SP  Northern Metropolitan      3      13.0    3046.0       3.0   \n",
       "6043     h      S   Western Metropolitan      3      13.3    3020.0       3.0   \n",
       "...    ...    ...                    ...    ...       ...       ...       ...   \n",
       "13123    h     SP  Northern Metropolitan      3       5.2    3056.0       3.0   \n",
       "3264     h      S   Eastern Metropolitan      3      10.5    3081.0       3.0   \n",
       "9845     h     PI  Northern Metropolitan      4       6.7    3058.0       4.0   \n",
       "10799    h      S  Northern Metropolitan      3      12.0    3073.0       3.0   \n",
       "2732     h     SP   Western Metropolitan      4       6.4    3011.0       4.0   \n",
       "\n",
       "       Bathroom  Landsize  Lattitude  Longtitude  Propertycount  \n",
       "12167       1.0       0.0  -37.85984   144.98670        13240.0  \n",
       "6524        2.0     193.0  -37.85800   144.90050         6380.0  \n",
       "8413        1.0     555.0  -37.79880   144.82200         3755.0  \n",
       "2919        1.0     265.0  -37.70830   144.91580         8870.0  \n",
       "6043        1.0     673.0  -37.76230   144.82720         4217.0  \n",
       "...         ...       ...        ...         ...            ...  \n",
       "13123       1.0     212.0  -37.77695   144.95785        11918.0  \n",
       "3264        1.0     748.0  -37.74160   145.04810         2947.0  \n",
       "9845        2.0     441.0  -37.73572   144.97256        11204.0  \n",
       "10799       1.0     606.0  -37.72057   145.02615        21650.0  \n",
       "2732        2.0     319.0  -37.79430   144.88750         7570.0  \n",
       "\n",
       "[10864 rows x 12 columns]"
      ]
     },
     "execution_count": 45,
     "metadata": {},
     "output_type": "execute_result"
    }
   ],
   "source": [
    "X_train"
   ]
  },
  {
   "cell_type": "markdown",
   "id": "61db4bc1",
   "metadata": {},
   "source": [
    "## 방법3. One-Hot Encoding\n",
    "\n",
    "우리는 scikit-learn의 **OneHotEncoder** 클래스를 사용해 one-hot encoding을 얻는다. 해당 클래스에는 사용자가 동작을 지정하는 매개변수가 여러개 있다.  \n",
    "\n",
    "* 훈련 데이터(training)에 검증 데이터(validation)가 있는 오류를 방지하기 위해 **handle_unknow='ignore'**을 설정했다. \n",
    "* **sparse=False**는 인코딩된 열이 숫자 배열로 반환되도록 보장한다.(소수 행렬의 경우)\n",
    "\n",
    "encoder를 사용하기 위해 원핫 인코딩을 원하는 범주형 열만 제공한다. 예를 들어, train 데이터를 인코딩하기 위해 **X_train[object_cols]**를 제공한다.  \n",
    "(object_cols는 범주형 데이터가 있는 열 이름 목록으로 X_train[object_cols]는 모든 범주형 데이터를 포함한다.)"
   ]
  },
  {
   "cell_type": "code",
   "execution_count": 49,
   "id": "b015d38b",
   "metadata": {},
   "outputs": [
    {
     "name": "stdout",
     "output_type": "stream",
     "text": [
      "\u001b[92m MAE from Approach 3 (One-Hot Encoding):\n"
     ]
    },
    {
     "name": "stderr",
     "output_type": "stream",
     "text": [
      "/opt/homebrew/anaconda3/lib/python3.9/site-packages/sklearn/utils/validation.py:1688: FutureWarning: Feature names only support names that are all strings. Got feature names with dtypes: ['int', 'str']. An error will be raised in 1.2.\n",
      "  warnings.warn(\n"
     ]
    },
    {
     "name": "stdout",
     "output_type": "stream",
     "text": [
      "167653.06074812397\n"
     ]
    },
    {
     "name": "stderr",
     "output_type": "stream",
     "text": [
      "/opt/homebrew/anaconda3/lib/python3.9/site-packages/sklearn/utils/validation.py:1688: FutureWarning: Feature names only support names that are all strings. Got feature names with dtypes: ['int', 'str']. An error will be raised in 1.2.\n",
      "  warnings.warn(\n"
     ]
    }
   ],
   "source": [
    "from sklearn.preprocessing import OneHotEncoder\n",
    "\n",
    "# Apply one-hot encoder to each column with categorical data\n",
    "OH_encoder=OneHotEncoder(handle_unknown='ignore', sparse=False)\n",
    "OH_cols_train=pd.DataFrame(OH_encoder.fit_transform(X_train[object_cols]))\n",
    "OH_cols_valid=pd.DataFrame(OH_encoder.transform(X_valid[object_cols]))\n",
    "\n",
    "# One-hot encoding removed index; put it back\n",
    "OH_cols_train.index=X_train.index\n",
    "OH_cols_valid.index=X_valid.index\n",
    "\n",
    "# Remove caegorical columns(will replace with one-hot encoding)\n",
    "num_X_train=X_train.drop(object_cols, axis=1)\n",
    "num_X_valid=X_valid.drop(object_cols, axis=1)\n",
    "\n",
    "# Add one-hot encoded columns to numerical features\n",
    "OH_X_train=pd.concat([num_X_train, OH_cols_train], axis=1)\n",
    "OH_X_valid=pd.concat([num_X_valid, OH_cols_valid], axis=1)\n",
    "\n",
    "print(f\"\\033[92m MAE from Approach 3 (One-Hot Encoding):\")\n",
    "print(score_dataset(OH_X_train, OH_X_valid, y_train, y_valid))"
   ]
  },
  {
   "cell_type": "markdown",
   "id": "ee9995c1",
   "metadata": {},
   "source": [
    "# 가장 좋은 방법은?\n",
    "이 경우 범주형 열(**방법1**)을 제거하는 것이 MAE 점수가 가장 높기 때문에 성능이 가장 낮았다. 다른 두가지 방법의 MAE는 매우 근사한 값이기 때문에 서로 크게 다른 점이 없는 것으로 보인다.  \n",
    "\n",
    "일반적으로 one-hot encoding **(방법3)**은 대체로 성능이 좋으며 **(방법1)**은 성능이 낮으나, 이는 경우에 따라 달라질 수 있다. "
   ]
  }
 ],
 "metadata": {
  "kernelspec": {
   "display_name": "Python 3 (ipykernel)",
   "language": "python",
   "name": "python3"
  },
  "language_info": {
   "codemirror_mode": {
    "name": "ipython",
    "version": 3
   },
   "file_extension": ".py",
   "mimetype": "text/x-python",
   "name": "python",
   "nbconvert_exporter": "python",
   "pygments_lexer": "ipython3",
   "version": "3.9.12"
  },
  "toc": {
   "base_numbering": 1,
   "nav_menu": {},
   "number_sections": true,
   "sideBar": true,
   "skip_h1_title": false,
   "title_cell": "Table of Contents",
   "title_sidebar": "Contents",
   "toc_cell": false,
   "toc_position": {},
   "toc_section_display": true,
   "toc_window_display": false
  }
 },
 "nbformat": 4,
 "nbformat_minor": 5
}
