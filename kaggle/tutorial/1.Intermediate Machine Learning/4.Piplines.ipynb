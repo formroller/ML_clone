{
 "cells": [
  {
   "cell_type": "markdown",
   "id": "e1d5f2cf",
   "metadata": {},
   "source": [
    "[Pipelines](https://www.kaggle.com/code/alexisbcook/pipelines/tutorial)\n",
    "> 전처리한 복잡한 모델을 배포 및 테스트하는데 중요한 기술\n",
    "\n",
    "이번 장에서는 **Pipelines**를 통해 모델링 코드를 정리하는 방법을 배울 것이다. \n",
    "> [Pipeline 쉬운 설명](https://m.blog.naver.com/gdpresent/221730873049)  \n",
    "> [Pipeline 자세한 설명 블로그](https://rfriend.tistory.com/729)  \n",
    "> [Pipeline 활용](https://data-newbie.tistory.com/186)"
   ]
  },
  {
   "cell_type": "markdown",
   "id": "55ca5fb8",
   "metadata": {},
   "source": [
    "# Introduction\n",
    "**Pipelines**는 데이터 전처리 및 모델링을 정리할 수 있는 간단한 방법이다. 특히, 파이프라인은 전처리 및 모델링 단게를 번들하므로 전체 번들을 단일 단계처럼 사용할 수 있다. \n",
    "\n",
    "많은 데이터 과학자들은 파이프라인 없이 모델을 해킹하지만 파이프라인에는 몇가지 중요한 이점이 있으며, 여기에는 아래 내용이 포함된다. \n",
    "\n",
    "1. **Cleaner Code**(코드 정리) : 전처리의 각 단계에서 데이터를 설명하는 것은 혼란스러울 수 있다. 파이프 라인을 사용하면 각 단계에서 교육 및 검증 데이터를 수동으로 추적할 필요가 없어진다. \n",
    "2. **Fewer Bugs**(버그 감소) : 단계를 잘못 적용하거나 전처리 단계를 잊어버릴 가능성이 더 작아진다. \n",
    "3. **Easier to Productionzie**(생산성 용이) : 프로토타입에서 대규모로 배포할 수 있는 모델로 전환하는 것은 어려울 수 있다. 여기서는 언급하지 않겠지만, 파이프라인은 생산 용이성에 도움이 될 수 있다.\n",
    "4. **More Options for Model Validation**(모델 유효성 검사를 위한 추가 옵션): 교차 검증을 다루는 자습서가 아래에 예시로 나와 있다."
   ]
  },
  {
   "cell_type": "markdown",
   "id": "69ccba37",
   "metadata": {},
   "source": [
    "# Example\n",
    "지난 튜토리얼처럼 멜버른 집값 데이터를 사용하도록 한다. \n",
    "\n",
    "데이터 불러오기 과정은 넘기고 훈련/검증 데이터가 이미 있다고 가정한다. (X_train,X_valid,y_train,y_valid)"
   ]
  },
  {
   "cell_type": "code",
   "execution_count": 74,
   "id": "60f7fc8a",
   "metadata": {},
   "outputs": [],
   "source": [
    "import pandas as pd\n",
    "from sklearn.model_selection import train_test_split\n",
    "\n",
    "# 데이터 불러오기\n",
    "data=pd.read_csv('./data/melb_data.csv')\n",
    "\n",
    "# 목표/예측 변수 분리\n",
    "y=data.Price\n",
    "X=data.drop(['Price'],axis=1)\n",
    "\n",
    "# 데이터를 훈련 및 검증 데이터로 분리\n",
    "X_train_full, X_valid_full, y_train, y_valid=train_test_split(X,y,train_size=.8, test_size=.2, random_state=0)\n",
    "\n",
    "# 'Cardinality'는 열의 고유한 숫자값을 의미한다.\n",
    "# Cardinality가 상대적으로 낮은 범주형 열 선택(편의를 위한 임의 과정)\n",
    "cat_cols=[cname for cname in X_train_full.columns if X_train_full[cname].nunique()<10 and X_train_full[cname].dtype=='object']\n",
    "\n",
    "# 수치형 변수 선택\n",
    "num_cols=[cname for cname in X_train_full.columns if X_train_full[cname].dtype in ['int64','float64']]\n",
    "\n",
    "# 선택된 열\n",
    "my_cols=cat_cols+num_cols\n",
    "X_train=X_train_full[my_cols].copy()\n",
    "X_valid=X_valid_full[my_cols].copy()"
   ]
  },
  {
   "cell_type": "markdown",
   "id": "b98aad7d",
   "metadata": {},
   "source": [
    "**head()**를 통해 training data를 살펴보도록 하자. 데이터에는 범주형 데이터와 결측값이 있는 열이 모두 포함된다. 파이프사인을 사용하면 두 가지 모두를 쉽게 처리할 수 있다. "
   ]
  },
  {
   "cell_type": "code",
   "execution_count": 59,
   "id": "188580f7",
   "metadata": {},
   "outputs": [
    {
     "data": {
      "text/html": [
       "<div>\n",
       "<style scoped>\n",
       "    .dataframe tbody tr th:only-of-type {\n",
       "        vertical-align: middle;\n",
       "    }\n",
       "\n",
       "    .dataframe tbody tr th {\n",
       "        vertical-align: top;\n",
       "    }\n",
       "\n",
       "    .dataframe thead th {\n",
       "        text-align: right;\n",
       "    }\n",
       "</style>\n",
       "<table border=\"1\" class=\"dataframe\">\n",
       "  <thead>\n",
       "    <tr style=\"text-align: right;\">\n",
       "      <th></th>\n",
       "      <th>Type</th>\n",
       "      <th>Method</th>\n",
       "      <th>Regionname</th>\n",
       "      <th>Rooms</th>\n",
       "      <th>Distance</th>\n",
       "      <th>Postcode</th>\n",
       "      <th>Bedroom2</th>\n",
       "      <th>Bathroom</th>\n",
       "      <th>Car</th>\n",
       "      <th>Landsize</th>\n",
       "      <th>BuildingArea</th>\n",
       "      <th>YearBuilt</th>\n",
       "      <th>Lattitude</th>\n",
       "      <th>Longtitude</th>\n",
       "      <th>Propertycount</th>\n",
       "    </tr>\n",
       "  </thead>\n",
       "  <tbody>\n",
       "    <tr>\n",
       "      <th>12167</th>\n",
       "      <td>u</td>\n",
       "      <td>S</td>\n",
       "      <td>Southern Metropolitan</td>\n",
       "      <td>1</td>\n",
       "      <td>5.0</td>\n",
       "      <td>3182.0</td>\n",
       "      <td>1.0</td>\n",
       "      <td>1.0</td>\n",
       "      <td>1.0</td>\n",
       "      <td>0.0</td>\n",
       "      <td>NaN</td>\n",
       "      <td>1940.0</td>\n",
       "      <td>-37.85984</td>\n",
       "      <td>144.9867</td>\n",
       "      <td>13240.0</td>\n",
       "    </tr>\n",
       "    <tr>\n",
       "      <th>6524</th>\n",
       "      <td>h</td>\n",
       "      <td>SA</td>\n",
       "      <td>Western Metropolitan</td>\n",
       "      <td>2</td>\n",
       "      <td>8.0</td>\n",
       "      <td>3016.0</td>\n",
       "      <td>2.0</td>\n",
       "      <td>2.0</td>\n",
       "      <td>1.0</td>\n",
       "      <td>193.0</td>\n",
       "      <td>NaN</td>\n",
       "      <td>NaN</td>\n",
       "      <td>-37.85800</td>\n",
       "      <td>144.9005</td>\n",
       "      <td>6380.0</td>\n",
       "    </tr>\n",
       "    <tr>\n",
       "      <th>8413</th>\n",
       "      <td>h</td>\n",
       "      <td>S</td>\n",
       "      <td>Western Metropolitan</td>\n",
       "      <td>3</td>\n",
       "      <td>12.6</td>\n",
       "      <td>3020.0</td>\n",
       "      <td>3.0</td>\n",
       "      <td>1.0</td>\n",
       "      <td>1.0</td>\n",
       "      <td>555.0</td>\n",
       "      <td>NaN</td>\n",
       "      <td>NaN</td>\n",
       "      <td>-37.79880</td>\n",
       "      <td>144.8220</td>\n",
       "      <td>3755.0</td>\n",
       "    </tr>\n",
       "    <tr>\n",
       "      <th>2919</th>\n",
       "      <td>u</td>\n",
       "      <td>SP</td>\n",
       "      <td>Northern Metropolitan</td>\n",
       "      <td>3</td>\n",
       "      <td>13.0</td>\n",
       "      <td>3046.0</td>\n",
       "      <td>3.0</td>\n",
       "      <td>1.0</td>\n",
       "      <td>1.0</td>\n",
       "      <td>265.0</td>\n",
       "      <td>NaN</td>\n",
       "      <td>1995.0</td>\n",
       "      <td>-37.70830</td>\n",
       "      <td>144.9158</td>\n",
       "      <td>8870.0</td>\n",
       "    </tr>\n",
       "    <tr>\n",
       "      <th>6043</th>\n",
       "      <td>h</td>\n",
       "      <td>S</td>\n",
       "      <td>Western Metropolitan</td>\n",
       "      <td>3</td>\n",
       "      <td>13.3</td>\n",
       "      <td>3020.0</td>\n",
       "      <td>3.0</td>\n",
       "      <td>1.0</td>\n",
       "      <td>2.0</td>\n",
       "      <td>673.0</td>\n",
       "      <td>673.0</td>\n",
       "      <td>1970.0</td>\n",
       "      <td>-37.76230</td>\n",
       "      <td>144.8272</td>\n",
       "      <td>4217.0</td>\n",
       "    </tr>\n",
       "  </tbody>\n",
       "</table>\n",
       "</div>"
      ],
      "text/plain": [
       "      Type Method             Regionname  Rooms  Distance  Postcode  Bedroom2  \\\n",
       "12167    u      S  Southern Metropolitan      1       5.0    3182.0       1.0   \n",
       "6524     h     SA   Western Metropolitan      2       8.0    3016.0       2.0   \n",
       "8413     h      S   Western Metropolitan      3      12.6    3020.0       3.0   \n",
       "2919     u     SP  Northern Metropolitan      3      13.0    3046.0       3.0   \n",
       "6043     h      S   Western Metropolitan      3      13.3    3020.0       3.0   \n",
       "\n",
       "       Bathroom  Car  Landsize  BuildingArea  YearBuilt  Lattitude  \\\n",
       "12167       1.0  1.0       0.0           NaN     1940.0  -37.85984   \n",
       "6524        2.0  1.0     193.0           NaN        NaN  -37.85800   \n",
       "8413        1.0  1.0     555.0           NaN        NaN  -37.79880   \n",
       "2919        1.0  1.0     265.0           NaN     1995.0  -37.70830   \n",
       "6043        1.0  2.0     673.0         673.0     1970.0  -37.76230   \n",
       "\n",
       "       Longtitude  Propertycount  \n",
       "12167    144.9867        13240.0  \n",
       "6524     144.9005         6380.0  \n",
       "8413     144.8220         3755.0  \n",
       "2919     144.9158         8870.0  \n",
       "6043     144.8272         4217.0  "
      ]
     },
     "execution_count": 59,
     "metadata": {},
     "output_type": "execute_result"
    }
   ],
   "source": [
    "X_train.head()"
   ]
  },
  {
   "cell_type": "markdown",
   "id": "d99a5b51",
   "metadata": {},
   "source": [
    "여기서는 세 단계로 파이프라인을 구성한다. "
   ]
  },
  {
   "cell_type": "markdown",
   "id": "a22c0b77",
   "metadata": {},
   "source": [
    "## Step1. Define Preprocessing Steps(전처리 단계 정의)\n",
    "파이프라인에서 전처리 및 모델링 단계를 함께 묶는 방법과 유사하게 **ColumnTransformer** 클래스를 사용해 서로 다른 전처리 단계를 함께 묶는다. \n",
    "\n",
    "**ColumnsTransformer 역할**\n",
    "* 결측값을 **수치 데이터**에 귀속시킨다. \n",
    "* 결측값을 귀속시키고 **범주형 데이터**에 원한인코딩을 적용한다. "
   ]
  },
  {
   "cell_type": "code",
   "execution_count": 64,
   "id": "66741709",
   "metadata": {},
   "outputs": [],
   "source": [
    "from sklearn.compose import ColumnTransformer\n",
    "from sklearn.pipeline import Pipeline\n",
    "from sklearn.impute import SimpleImputer\n",
    "from sklearn.preprocessing import OneHotEncoder\n",
    "\n",
    "# 수치형 데이터 전처리\n",
    "numerical_transformer=SimpleImputer(strategy='constant')\n",
    "\n",
    "# 범주형 데이터 전처리\n",
    "categorical_transformer=Pipeline(steps=[\n",
    "    ('imputer',SimpleImputer(strategy='most_frequent')),\n",
    "    ('onehot',OneHotEncoder(handle_unknown='ignore'))\n",
    "])\n",
    "\n",
    "# 수치/범주형 데이터 전처리를 위한 번들\n",
    "preprocessor = ColumnTransformer(\n",
    "transformers=[\n",
    "    ('num', numerical_transformer, num_cols),\n",
    "    ('cat', categorical_transformer, cat_cols)\n",
    "])"
   ]
  },
  {
   "cell_type": "code",
   "execution_count": 66,
   "id": "5226d29c",
   "metadata": {},
   "outputs": [
    {
     "data": {
      "text/plain": [
       "ColumnTransformer(transformers=[('num', SimpleImputer(strategy='constant'),\n",
       "                                 ['Rooms', 'Distance', 'Postcode', 'Bedroom2',\n",
       "                                  'Bathroom', 'Car', 'Landsize', 'BuildingArea',\n",
       "                                  'YearBuilt', 'Lattitude', 'Longtitude',\n",
       "                                  'Propertycount']),\n",
       "                                ('cat',\n",
       "                                 Pipeline(steps=[('imputer',\n",
       "                                                  SimpleImputer(strategy='most_frequent')),\n",
       "                                                 ('onehot',\n",
       "                                                  OneHotEncoder(handle_unknown='ignore'))]),\n",
       "                                 ['Type', 'Method', 'Regionname'])])"
      ]
     },
     "execution_count": 66,
     "metadata": {},
     "output_type": "execute_result"
    }
   ],
   "source": [
    "preprocessor"
   ]
  },
  {
   "cell_type": "markdown",
   "id": "622fdd8a",
   "metadata": {},
   "source": [
    "## Step2. Define the Model(모델 정의)\n",
    "다음, 우리는 친숙한 **RandomForestRegressor** 클래스로 RandomForest 모델을 정의한다. "
   ]
  },
  {
   "cell_type": "code",
   "execution_count": 54,
   "id": "fb70221b",
   "metadata": {},
   "outputs": [],
   "source": [
    "from sklearn.ensemble import RandomForestRegressor\n",
    "\n",
    "model=RandomForestRegressor(n_estimators=100, random_state=0)"
   ]
  },
  {
   "cell_type": "markdown",
   "id": "20c32c2a",
   "metadata": {},
   "source": [
    "## Step3. Create and Evaluate the Pipeline(파이프라인 생성 및 평가)\n",
    "마지막으로, 우리는 파이프라인 클래스를 사용해 전처리 및 모델링 단계를 번들로 하는 파이프라인을 정의한다. 주의해야할 몇가지 중요한 사항이 있다. \n",
    "\n",
    "* 파이프라인을 사용해 훈련 train data를 전처리하고 모델을 단일 코드 라인에 맞춘다. \n",
    "    - 파이프라인이 없다면 대치, 원핫 인코딩 및 모델 training을 별도로 수행해야 한다. \n",
    "    - 숫자/범주형 변수를 모두 처리해야 할 경우 특히 더 복잡해진다. \n",
    "   \n",
    "   \n",
    "* 파이프라인을 사용해 **X_valid()** 전처리 되지 않은 변수를 **predict()**에 넘겨주고, 파이프라인이 예측을 생성하기 전에 변수 전처리를 진행한다. \n",
    "    - 파이프라인이 없다면, 예측전에 검증 데이터를 전처리해야 한다는 것을 기억해야 한다. "
   ]
  },
  {
   "cell_type": "code",
   "execution_count": 78,
   "id": "13d0066d",
   "metadata": {},
   "outputs": [
    {
     "data": {
      "text/html": [
       "<style>#sk-3247a993-5390-4891-83b8-17be85d5c9b7 {color: black;background-color: white;}#sk-3247a993-5390-4891-83b8-17be85d5c9b7 pre{padding: 0;}#sk-3247a993-5390-4891-83b8-17be85d5c9b7 div.sk-toggleable {background-color: white;}#sk-3247a993-5390-4891-83b8-17be85d5c9b7 label.sk-toggleable__label {cursor: pointer;display: block;width: 100%;margin-bottom: 0;padding: 0.3em;box-sizing: border-box;text-align: center;}#sk-3247a993-5390-4891-83b8-17be85d5c9b7 label.sk-toggleable__label-arrow:before {content: \"▸\";float: left;margin-right: 0.25em;color: #696969;}#sk-3247a993-5390-4891-83b8-17be85d5c9b7 label.sk-toggleable__label-arrow:hover:before {color: black;}#sk-3247a993-5390-4891-83b8-17be85d5c9b7 div.sk-estimator:hover label.sk-toggleable__label-arrow:before {color: black;}#sk-3247a993-5390-4891-83b8-17be85d5c9b7 div.sk-toggleable__content {max-height: 0;max-width: 0;overflow: hidden;text-align: left;background-color: #f0f8ff;}#sk-3247a993-5390-4891-83b8-17be85d5c9b7 div.sk-toggleable__content pre {margin: 0.2em;color: black;border-radius: 0.25em;background-color: #f0f8ff;}#sk-3247a993-5390-4891-83b8-17be85d5c9b7 input.sk-toggleable__control:checked~div.sk-toggleable__content {max-height: 200px;max-width: 100%;overflow: auto;}#sk-3247a993-5390-4891-83b8-17be85d5c9b7 input.sk-toggleable__control:checked~label.sk-toggleable__label-arrow:before {content: \"▾\";}#sk-3247a993-5390-4891-83b8-17be85d5c9b7 div.sk-estimator input.sk-toggleable__control:checked~label.sk-toggleable__label {background-color: #d4ebff;}#sk-3247a993-5390-4891-83b8-17be85d5c9b7 div.sk-label input.sk-toggleable__control:checked~label.sk-toggleable__label {background-color: #d4ebff;}#sk-3247a993-5390-4891-83b8-17be85d5c9b7 input.sk-hidden--visually {border: 0;clip: rect(1px 1px 1px 1px);clip: rect(1px, 1px, 1px, 1px);height: 1px;margin: -1px;overflow: hidden;padding: 0;position: absolute;width: 1px;}#sk-3247a993-5390-4891-83b8-17be85d5c9b7 div.sk-estimator {font-family: monospace;background-color: #f0f8ff;border: 1px dotted black;border-radius: 0.25em;box-sizing: border-box;margin-bottom: 0.5em;}#sk-3247a993-5390-4891-83b8-17be85d5c9b7 div.sk-estimator:hover {background-color: #d4ebff;}#sk-3247a993-5390-4891-83b8-17be85d5c9b7 div.sk-parallel-item::after {content: \"\";width: 100%;border-bottom: 1px solid gray;flex-grow: 1;}#sk-3247a993-5390-4891-83b8-17be85d5c9b7 div.sk-label:hover label.sk-toggleable__label {background-color: #d4ebff;}#sk-3247a993-5390-4891-83b8-17be85d5c9b7 div.sk-serial::before {content: \"\";position: absolute;border-left: 1px solid gray;box-sizing: border-box;top: 2em;bottom: 0;left: 50%;}#sk-3247a993-5390-4891-83b8-17be85d5c9b7 div.sk-serial {display: flex;flex-direction: column;align-items: center;background-color: white;padding-right: 0.2em;padding-left: 0.2em;}#sk-3247a993-5390-4891-83b8-17be85d5c9b7 div.sk-item {z-index: 1;}#sk-3247a993-5390-4891-83b8-17be85d5c9b7 div.sk-parallel {display: flex;align-items: stretch;justify-content: center;background-color: white;}#sk-3247a993-5390-4891-83b8-17be85d5c9b7 div.sk-parallel::before {content: \"\";position: absolute;border-left: 1px solid gray;box-sizing: border-box;top: 2em;bottom: 0;left: 50%;}#sk-3247a993-5390-4891-83b8-17be85d5c9b7 div.sk-parallel-item {display: flex;flex-direction: column;position: relative;background-color: white;}#sk-3247a993-5390-4891-83b8-17be85d5c9b7 div.sk-parallel-item:first-child::after {align-self: flex-end;width: 50%;}#sk-3247a993-5390-4891-83b8-17be85d5c9b7 div.sk-parallel-item:last-child::after {align-self: flex-start;width: 50%;}#sk-3247a993-5390-4891-83b8-17be85d5c9b7 div.sk-parallel-item:only-child::after {width: 0;}#sk-3247a993-5390-4891-83b8-17be85d5c9b7 div.sk-dashed-wrapped {border: 1px dashed gray;margin: 0 0.4em 0.5em 0.4em;box-sizing: border-box;padding-bottom: 0.4em;background-color: white;position: relative;}#sk-3247a993-5390-4891-83b8-17be85d5c9b7 div.sk-label label {font-family: monospace;font-weight: bold;background-color: white;display: inline-block;line-height: 1.2em;}#sk-3247a993-5390-4891-83b8-17be85d5c9b7 div.sk-label-container {position: relative;z-index: 2;text-align: center;}#sk-3247a993-5390-4891-83b8-17be85d5c9b7 div.sk-container {/* jupyter's `normalize.less` sets `[hidden] { display: none; }` but bootstrap.min.css set `[hidden] { display: none !important; }` so we also need the `!important` here to be able to override the default hidden behavior on the sphinx rendered scikit-learn.org. See: https://github.com/scikit-learn/scikit-learn/issues/21755 */display: inline-block !important;position: relative;}#sk-3247a993-5390-4891-83b8-17be85d5c9b7 div.sk-text-repr-fallback {display: none;}</style><div id=\"sk-3247a993-5390-4891-83b8-17be85d5c9b7\" class=\"sk-top-container\"><div class=\"sk-text-repr-fallback\"><pre>Pipeline(steps=[(&#x27;preprocess&#x27;,\n",
       "                 ColumnTransformer(transformers=[(&#x27;num&#x27;,\n",
       "                                                  SimpleImputer(strategy=&#x27;constant&#x27;),\n",
       "                                                  [&#x27;Rooms&#x27;, &#x27;Distance&#x27;,\n",
       "                                                   &#x27;Postcode&#x27;, &#x27;Bedroom2&#x27;,\n",
       "                                                   &#x27;Bathroom&#x27;, &#x27;Car&#x27;,\n",
       "                                                   &#x27;Landsize&#x27;, &#x27;BuildingArea&#x27;,\n",
       "                                                   &#x27;YearBuilt&#x27;, &#x27;Lattitude&#x27;,\n",
       "                                                   &#x27;Longtitude&#x27;,\n",
       "                                                   &#x27;Propertycount&#x27;]),\n",
       "                                                 (&#x27;cat&#x27;,\n",
       "                                                  Pipeline(steps=[(&#x27;imputer&#x27;,\n",
       "                                                                   SimpleImputer(strategy=&#x27;most_frequent&#x27;)),\n",
       "                                                                  (&#x27;onehot&#x27;,\n",
       "                                                                   OneHotEncoder(handle_unknown=&#x27;ignore&#x27;))]),\n",
       "                                                  [&#x27;Type&#x27;, &#x27;Method&#x27;,\n",
       "                                                   &#x27;Regionname&#x27;])])),\n",
       "                (&#x27;model&#x27;, RandomForestRegressor(random_state=0))])</pre><b>Please rerun this cell to show the HTML repr or trust the notebook.</b></div><div class=\"sk-container\" hidden><div class=\"sk-item sk-dashed-wrapped\"><div class=\"sk-label-container\"><div class=\"sk-label sk-toggleable\"><input class=\"sk-toggleable__control sk-hidden--visually\" id=\"63ec4441-a29d-409b-99fa-a2c740e5b99f\" type=\"checkbox\" ><label for=\"63ec4441-a29d-409b-99fa-a2c740e5b99f\" class=\"sk-toggleable__label sk-toggleable__label-arrow\">Pipeline</label><div class=\"sk-toggleable__content\"><pre>Pipeline(steps=[(&#x27;preprocess&#x27;,\n",
       "                 ColumnTransformer(transformers=[(&#x27;num&#x27;,\n",
       "                                                  SimpleImputer(strategy=&#x27;constant&#x27;),\n",
       "                                                  [&#x27;Rooms&#x27;, &#x27;Distance&#x27;,\n",
       "                                                   &#x27;Postcode&#x27;, &#x27;Bedroom2&#x27;,\n",
       "                                                   &#x27;Bathroom&#x27;, &#x27;Car&#x27;,\n",
       "                                                   &#x27;Landsize&#x27;, &#x27;BuildingArea&#x27;,\n",
       "                                                   &#x27;YearBuilt&#x27;, &#x27;Lattitude&#x27;,\n",
       "                                                   &#x27;Longtitude&#x27;,\n",
       "                                                   &#x27;Propertycount&#x27;]),\n",
       "                                                 (&#x27;cat&#x27;,\n",
       "                                                  Pipeline(steps=[(&#x27;imputer&#x27;,\n",
       "                                                                   SimpleImputer(strategy=&#x27;most_frequent&#x27;)),\n",
       "                                                                  (&#x27;onehot&#x27;,\n",
       "                                                                   OneHotEncoder(handle_unknown=&#x27;ignore&#x27;))]),\n",
       "                                                  [&#x27;Type&#x27;, &#x27;Method&#x27;,\n",
       "                                                   &#x27;Regionname&#x27;])])),\n",
       "                (&#x27;model&#x27;, RandomForestRegressor(random_state=0))])</pre></div></div></div><div class=\"sk-serial\"><div class=\"sk-item sk-dashed-wrapped\"><div class=\"sk-label-container\"><div class=\"sk-label sk-toggleable\"><input class=\"sk-toggleable__control sk-hidden--visually\" id=\"b6c751f3-8452-4a5b-a873-908d0f8070b8\" type=\"checkbox\" ><label for=\"b6c751f3-8452-4a5b-a873-908d0f8070b8\" class=\"sk-toggleable__label sk-toggleable__label-arrow\">preprocess: ColumnTransformer</label><div class=\"sk-toggleable__content\"><pre>ColumnTransformer(transformers=[(&#x27;num&#x27;, SimpleImputer(strategy=&#x27;constant&#x27;),\n",
       "                                 [&#x27;Rooms&#x27;, &#x27;Distance&#x27;, &#x27;Postcode&#x27;, &#x27;Bedroom2&#x27;,\n",
       "                                  &#x27;Bathroom&#x27;, &#x27;Car&#x27;, &#x27;Landsize&#x27;, &#x27;BuildingArea&#x27;,\n",
       "                                  &#x27;YearBuilt&#x27;, &#x27;Lattitude&#x27;, &#x27;Longtitude&#x27;,\n",
       "                                  &#x27;Propertycount&#x27;]),\n",
       "                                (&#x27;cat&#x27;,\n",
       "                                 Pipeline(steps=[(&#x27;imputer&#x27;,\n",
       "                                                  SimpleImputer(strategy=&#x27;most_frequent&#x27;)),\n",
       "                                                 (&#x27;onehot&#x27;,\n",
       "                                                  OneHotEncoder(handle_unknown=&#x27;ignore&#x27;))]),\n",
       "                                 [&#x27;Type&#x27;, &#x27;Method&#x27;, &#x27;Regionname&#x27;])])</pre></div></div></div><div class=\"sk-parallel\"><div class=\"sk-parallel-item\"><div class=\"sk-item\"><div class=\"sk-label-container\"><div class=\"sk-label sk-toggleable\"><input class=\"sk-toggleable__control sk-hidden--visually\" id=\"f292357e-f269-4aa1-831f-5527cd0d56dc\" type=\"checkbox\" ><label for=\"f292357e-f269-4aa1-831f-5527cd0d56dc\" class=\"sk-toggleable__label sk-toggleable__label-arrow\">num</label><div class=\"sk-toggleable__content\"><pre>[&#x27;Rooms&#x27;, &#x27;Distance&#x27;, &#x27;Postcode&#x27;, &#x27;Bedroom2&#x27;, &#x27;Bathroom&#x27;, &#x27;Car&#x27;, &#x27;Landsize&#x27;, &#x27;BuildingArea&#x27;, &#x27;YearBuilt&#x27;, &#x27;Lattitude&#x27;, &#x27;Longtitude&#x27;, &#x27;Propertycount&#x27;]</pre></div></div></div><div class=\"sk-serial\"><div class=\"sk-item\"><div class=\"sk-estimator sk-toggleable\"><input class=\"sk-toggleable__control sk-hidden--visually\" id=\"a0da1b48-39b8-410a-b3ec-f5c09cb44b24\" type=\"checkbox\" ><label for=\"a0da1b48-39b8-410a-b3ec-f5c09cb44b24\" class=\"sk-toggleable__label sk-toggleable__label-arrow\">SimpleImputer</label><div class=\"sk-toggleable__content\"><pre>SimpleImputer(strategy=&#x27;constant&#x27;)</pre></div></div></div></div></div></div><div class=\"sk-parallel-item\"><div class=\"sk-item\"><div class=\"sk-label-container\"><div class=\"sk-label sk-toggleable\"><input class=\"sk-toggleable__control sk-hidden--visually\" id=\"4e0750ae-1bb4-4d48-8fd6-1e7962fa511d\" type=\"checkbox\" ><label for=\"4e0750ae-1bb4-4d48-8fd6-1e7962fa511d\" class=\"sk-toggleable__label sk-toggleable__label-arrow\">cat</label><div class=\"sk-toggleable__content\"><pre>[&#x27;Type&#x27;, &#x27;Method&#x27;, &#x27;Regionname&#x27;]</pre></div></div></div><div class=\"sk-serial\"><div class=\"sk-item\"><div class=\"sk-serial\"><div class=\"sk-item\"><div class=\"sk-estimator sk-toggleable\"><input class=\"sk-toggleable__control sk-hidden--visually\" id=\"bc51c174-86a2-4780-a5c7-34833438590d\" type=\"checkbox\" ><label for=\"bc51c174-86a2-4780-a5c7-34833438590d\" class=\"sk-toggleable__label sk-toggleable__label-arrow\">SimpleImputer</label><div class=\"sk-toggleable__content\"><pre>SimpleImputer(strategy=&#x27;most_frequent&#x27;)</pre></div></div></div><div class=\"sk-item\"><div class=\"sk-estimator sk-toggleable\"><input class=\"sk-toggleable__control sk-hidden--visually\" id=\"02e5160e-2cfe-43aa-bc4d-6e6f1b1b5f21\" type=\"checkbox\" ><label for=\"02e5160e-2cfe-43aa-bc4d-6e6f1b1b5f21\" class=\"sk-toggleable__label sk-toggleable__label-arrow\">OneHotEncoder</label><div class=\"sk-toggleable__content\"><pre>OneHotEncoder(handle_unknown=&#x27;ignore&#x27;)</pre></div></div></div></div></div></div></div></div></div></div><div class=\"sk-item\"><div class=\"sk-estimator sk-toggleable\"><input class=\"sk-toggleable__control sk-hidden--visually\" id=\"2218cd06-f479-4516-8214-b8a69c478e2d\" type=\"checkbox\" ><label for=\"2218cd06-f479-4516-8214-b8a69c478e2d\" class=\"sk-toggleable__label sk-toggleable__label-arrow\">RandomForestRegressor</label><div class=\"sk-toggleable__content\"><pre>RandomForestRegressor(random_state=0)</pre></div></div></div></div></div></div></div>"
      ],
      "text/plain": [
       "Pipeline(steps=[('preprocess',\n",
       "                 ColumnTransformer(transformers=[('num',\n",
       "                                                  SimpleImputer(strategy='constant'),\n",
       "                                                  ['Rooms', 'Distance',\n",
       "                                                   'Postcode', 'Bedroom2',\n",
       "                                                   'Bathroom', 'Car',\n",
       "                                                   'Landsize', 'BuildingArea',\n",
       "                                                   'YearBuilt', 'Lattitude',\n",
       "                                                   'Longtitude',\n",
       "                                                   'Propertycount']),\n",
       "                                                 ('cat',\n",
       "                                                  Pipeline(steps=[('imputer',\n",
       "                                                                   SimpleImputer(strategy='most_frequent')),\n",
       "                                                                  ('onehot',\n",
       "                                                                   OneHotEncoder(handle_unknown='ignore'))]),\n",
       "                                                  ['Type', 'Method',\n",
       "                                                   'Regionname'])])),\n",
       "                ('model', RandomForestRegressor(random_state=0))])"
      ]
     },
     "execution_count": 78,
     "metadata": {},
     "output_type": "execute_result"
    }
   ],
   "source": [
    "from sklearn.metrics import mean_absolute_error as mae\n",
    "from sklearn import set_config\n",
    "\n",
    "# 파이프라인의 모델링 및 전처리 코드 번들\n",
    "my_pipeline=Pipeline(steps=[('preprocess',preprocessor),\n",
    "                           ('model',model)\n",
    "                           ])\n",
    "\n",
    "# 머신러닝 워크플로우 파이프라인 다이어그램으로 시각화\n",
    "set_config(display='diagram')\n",
    "\n",
    "# train 데이터의 훈련 및 모델 적합.\n",
    "my_pipeline.fit(X_train, y_train)"
   ]
  },
  {
   "cell_type": "code",
   "execution_count": 79,
   "id": "8063cedd",
   "metadata": {},
   "outputs": [
    {
     "name": "stdout",
     "output_type": "stream",
     "text": [
      "MAE :  160679.18917034855\n"
     ]
    }
   ],
   "source": [
    "# 검증 데이터 전처리 및 예측\n",
    "preds=my_pipeline.predict(X_valid)\n",
    "\n",
    "# 모델 평가\n",
    "score=mae(y_valid, preds)\n",
    "print('MAE : ',score)"
   ]
  },
  {
   "cell_type": "code",
   "execution_count": 75,
   "id": "d989f7f6",
   "metadata": {},
   "outputs": [
    {
     "name": "stdout",
     "output_type": "stream",
     "text": [
      "0.9711809490692984\n"
     ]
    }
   ],
   "source": [
    "print(my_pipeline.score(X_train, y_train))"
   ]
  },
  {
   "cell_type": "markdown",
   "id": "e3345510",
   "metadata": {},
   "source": [
    "# Conculsion\n",
    "파이프라인은 머신러닝 코드를 정리하고 오류를 방지하는데 유용하며, 특히 정교한 데이터 전처리가 가능한 워크플로우에 유용하다. \n"
   ]
  }
 ],
 "metadata": {
  "kernelspec": {
   "display_name": "Python 3 (ipykernel)",
   "language": "python",
   "name": "python3"
  },
  "language_info": {
   "codemirror_mode": {
    "name": "ipython",
    "version": 3
   },
   "file_extension": ".py",
   "mimetype": "text/x-python",
   "name": "python",
   "nbconvert_exporter": "python",
   "pygments_lexer": "ipython3",
   "version": "3.9.12"
  },
  "toc": {
   "base_numbering": 1,
   "nav_menu": {},
   "number_sections": true,
   "sideBar": true,
   "skip_h1_title": false,
   "title_cell": "Table of Contents",
   "title_sidebar": "Contents",
   "toc_cell": false,
   "toc_position": {
    "height": "calc(100% - 180px)",
    "left": "10px",
    "top": "150px",
    "width": "203px"
   },
   "toc_section_display": true,
   "toc_window_display": false
  }
 },
 "nbformat": 4,
 "nbformat_minor": 5
}
