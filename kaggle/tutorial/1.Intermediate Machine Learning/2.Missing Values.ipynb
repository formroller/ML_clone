{
 "cells": [
  {
   "cell_type": "markdown",
   "id": "c7337c45",
   "metadata": {},
   "source": [
    "[Missing Values](https://www.kaggle.com/code/alexisbcook/missing-values)\n",
    "--- \n",
    "Missing values happen. Be prepared for this common challenge in real datasets.\n",
    " > 결측치는 발생한다. 실제 데이터에서 흔하게 발생하는 결측치에 대해 대비하자.\n",
    " \n",
    "\n",
    "<br>\n",
    "이 튜토리얼에서 누락된 값을 다루는 세 가지 접근 방식을 배우게 될 것이며, 이후에 실제 데이터 세트에서 이러한 접근 방식의 효과를 비교할 수 있다."
   ]
  },
  {
   "cell_type": "markdown",
   "id": "7f24b56a",
   "metadata": {},
   "source": [
    "# 소개\n",
    "---\n",
    "데이터가 결측치가 되는데는 여러 가지 방법이 있다. 예를 들어. \n",
    "* 2개의 침실이 있는 집은 세 번째 침실의 가치를 포함하지 경우\n",
    "* 설문 응답자가 수입에 대해 공유하지 않는 경우\n",
    "\n",
    "대부분의 머신 러닝 라이브러리는(scikit-learn포함) 결측치를 사용해 모델을 구축할 경우 에러를 반환한다. 그러니 우리는 아래 중 한가지 전략을 선택해야 할 것이다. "
   ]
  },
  {
   "cell_type": "markdown",
   "id": "e1887925",
   "metadata": {},
   "source": [
    "# 세 가지 방법"
   ]
  },
  {
   "cell_type": "markdown",
   "id": "5af2e0e0",
   "metadata": {},
   "source": [
    "## A Simple Option : Drop columns with Missing Values\n",
    "가장 간단한 방법은 결측값을 포함한 열을 날려버리는(drop) 것이다. \n",
    "\n",
    "![nn](https://i.imgur.com/Sax80za.png)\n",
    "\n",
    "\n",
    "열의 대다수가 결측값이 아닐 경우에 해당 방식을 사용하면 유용할 수 있는 정보를 포함해 많은 정보를 모델에 액세스 할 수 없게 된다.  \n",
    "극단적인 예로, 하나의 중요한 열에 단일 항목이 누락된 10,000개의 행의 데이터 집합을 생각해보자. 이 방법을 사용하면 해당 열이 전부 삭제된다.  "
   ]
  },
  {
   "cell_type": "markdown",
   "id": "631cd563",
   "metadata": {},
   "source": [
    "## A Better Option : Imputation\n",
    "**Imputation**은 누락된 값을 숫자로 채우게 된다. 예를 들어, 우리는 각각의 결측치에 대해 평균값을 채우게 된다. \n",
    "![nn](https://i.imgur.com/4BpnlPA.png)\n",
    "\n",
    "대치된 값은(imputate value) 대체로 정확하지 않을진 몰라도, 일반적으로 열을 완전히 삭제해 얻는 모델보다는 더 정확한 모델로 이어진다."
   ]
  },
  {
   "cell_type": "markdown",
   "id": "576517e1",
   "metadata": {},
   "source": [
    "## An Extension To Imputation\n",
    "대치(Imputation)는 표준적인 접근법으로 일반적인 경우 대부분 잘 작동한다. 그러나, 대치된 값(Imputed values)은 실제 값보다 높거나 낮을 수 있다(혹은 데이터셋에 수집되지 않은 값). 또는 결측값을 포함한 행은 다른 방식으로 고유한 값일 수 있다. 이 경우 모형이 원래 결측값을 고려해 더 나은 예측을 할 수 있다.\n",
    "![nn](https://i.imgur.com/UWOyg4a.png)\n",
    "\n",
    "이 접근 방식에서는 이전과같이 결측값을 대치한다. 또한 원 데이터 세트에서 누락된 항목이 있는 각 열에 대해 대치된 항목의 위치를 보여주는 새 열을 추가한다.  \n",
    "\n",
    "경우에 따라 해당 방식은 유의한 결과 향상을 도모할 수 있다."
   ]
  },
  {
   "cell_type": "markdown",
   "id": "39875d08",
   "metadata": {},
   "source": [
    "# Example\n",
    "이 예에서 우리는 [Melbourne Housing Dataset](https://www.kaggle.com/dansbecker/melbourne-housing-snapshot/home)로 작업할 것이다. 우리의 모델은 주택 가격을 예측하기 위해 객실 수와 토지 크기 등의 정보를 사용할 것이다.\n",
    "\n",
    "우리는 데이터 로딩에 포커스를 맞추치 않는 대신, X_train, X_valid, y_train, y_valid에 이미 훈련 및 검증 데이터가 있는 지점에 있다고 상상할 수 있다."
   ]
  },
  {
   "cell_type": "code",
   "execution_count": 1,
   "id": "be09cf09",
   "metadata": {},
   "outputs": [],
   "source": [
    "import pandas as pd\n",
    "from sklearn.model_selection import train_test_split\n",
    "\n",
    "# Load the data\n",
    "data = pd.read_csv('./data/melb_data.csv')\n",
    "# select target\n",
    "y=data.Price\n",
    "\n",
    "# To keep things simple, we'll use only numerical predictors\n",
    "melb_predictors=data.drop(['Price'], axis=1)\n",
    "X = melb_predictors.select_dtypes(exclude=['object'])\n",
    "\n",
    "# Divide data into training and validation subsets\n",
    "X_train, X_valid, y_train, y_valid=train_test_split(X, y, train_size=.8, test_size=.2, random_state=0)"
   ]
  },
  {
   "cell_type": "markdown",
   "id": "a8f796af",
   "metadata": {},
   "source": [
    "## Define Function to Measure Quality of Each Approach\n",
    "**각 접근 방식의 품질을 측정하기 위한 기능 정의**\n",
    "\n",
    "우리는 결측치를 다루는 각각 다른 접근 방식을 비교하기 위해 **score_dataset()** 기능을 정의할 것이다. 이 기능은 random forest 모델로 부터 [mean absolute error](https://en.wikipedia.org/wiki/Mean_absolute_error)(MAE)를 보고한다. "
   ]
  },
  {
   "cell_type": "code",
   "execution_count": 3,
   "id": "d4e161c4",
   "metadata": {},
   "outputs": [],
   "source": [
    "from sklearn.ensemble import RandomForestRegressor\n",
    "from sklearn.metrics import mean_absolute_error\n",
    "\n",
    "# 기능(Function) 비교를 위한 다른 접근\\\n",
    "def score_dataset(X_train, X_valid, y_train, y_valid):\n",
    "    model = RandomForestRegressor(n_estimators=10, random_state=0)\n",
    "    model.fit(X_train, y_train)\n",
    "    preds = model.predict(X_valid)\n",
    "    return mean_absolute_error(y_valid, preds)"
   ]
  },
  {
   "cell_type": "markdown",
   "id": "1bd588ec",
   "metadata": {},
   "source": [
    "## Score from Approach1 (Drop Columns with Missing Values)    \n",
    "* 결과1) 결측치를 포함한 행 제거\n",
    "---\n",
    "우리는 train, validtaion set을 모두 가지고 학습하므로, 두 set 모두 같은 열을 삭제하도록 주의해야 한다. \n",
    "\n"
   ]
  },
  {
   "cell_type": "code",
   "execution_count": 6,
   "id": "70725169",
   "metadata": {},
   "outputs": [
    {
     "name": "stdout",
     "output_type": "stream",
     "text": [
      "MAE from Approach 1 (Drop columns with)\n",
      "183550.22137772635\n"
     ]
    }
   ],
   "source": [
    "# 결측치를 포함하는 열 추출\n",
    "cols_with_missing=[col for col in X_train.columns if X_train[col].isnull().any()]\n",
    "\n",
    "# training / validation set에서 해당 열 제거\n",
    "reduced_X_train = X_train.drop(cols_with_missing, axis=1)\n",
    "reduced_X_valid = X_valid.drop(cols_with_missing, axis=1)\n",
    "\n",
    "print(\"MAE from Approach 1 (Drop columns with)\")\n",
    "print(score_dataset(reduced_X_train, reduced_X_valid, y_train, y_valid))"
   ]
  },
  {
   "cell_type": "markdown",
   "id": "bde50e90",
   "metadata": {},
   "source": [
    "## Score from Approach2 (Imputation)\n",
    "* 결과2) 대체하기(Imputation)\n",
    "---\n",
    "다음으로, **SimpleImputer**를 사용해 누락된 값을 각 열의 평균 값으로 대체한다.\n",
    "\n",
    "\n",
    "비록 이는 간단할지라도, 평균값으로 결측치를 채우면 일반적으로 성능이 꽤 좋아진다(이는 데이터별로 다를 수 있다.).   \n",
    "통계학자들은 귀속값(회귀 대치와 같은)을 결정하는 더 복잡한 방법을 실험했지만, 복잡한 방법은 일반적으로 추가 이점을 제공하지 않는 것을 알 수 있다. "
   ]
  },
  {
   "cell_type": "code",
   "execution_count": 8,
   "id": "f58f674a",
   "metadata": {},
   "outputs": [
    {
     "name": "stdout",
     "output_type": "stream",
     "text": [
      "MAE from Approach2 (Imputation) : \n",
      "178166.46269899711\n"
     ]
    }
   ],
   "source": [
    "from sklearn.impute import SimpleImputer\n",
    "\n",
    "# Imputation\n",
    "my_imputer = SimpleImputer()\n",
    "\n",
    "imputed_X_train=pd.DataFrame(my_imputer.fit_transform(X_train)) # .fit_transform\n",
    "imputed_X_valid=pd.DataFrame(my_imputer.transform(X_valid))  # .transform\n",
    "\n",
    "# 대치된 열 이름 (다시 넣기)\n",
    "imputed_X_train.columns = X_train.columns\n",
    "imputed_X_valid.columns = X_valid.columns\n",
    "\n",
    "print(\"MAE from Approach2 (Imputation) : \")\n",
    "print(score_dataset(imputed_X_train, imputed_X_valid, y_train, y_valid))"
   ]
  },
  {
   "cell_type": "markdown",
   "id": "609a58d3",
   "metadata": {},
   "source": [
    "위에서 보듯이, **행 날리기(Approach1)**보다 **대치(Approach2)**의 MAE 점수가 낮은 것을 알 수 있었으며, 이는 해당 데이터에서 **대치(Approach2)**가 성능이 더 좋다는 것을 의미한다."
   ]
  },
  {
   "cell_type": "markdown",
   "id": "6c959b46",
   "metadata": {},
   "source": [
    "## Score from Apporach3 (An Extension to Imputation)\n",
    "* 결과3) 대상으로의 확장\n",
    "---\n",
    "다음으로, 어떤 값이 귀속되었는지 추척하는 동시에 결측값을 귀속한다."
   ]
  },
  {
   "cell_type": "code",
   "execution_count": 30,
   "id": "2d6b9420",
   "metadata": {},
   "outputs": [
    {
     "name": "stderr",
     "output_type": "stream",
     "text": [
      "/var/folders/c7/zfhvl_ms5dv3bg_wff_1g0g40000gn/T/ipykernel_10196/3292508454.py:17: UserWarning: Pandas doesn't allow columns to be created via a new attribute name - see https://pandas.pydata.org/pandas-docs/stable/indexing.html#attribute-access\n",
      "  imputed_X_train_plus.columms = X_train_plus.columns\n"
     ]
    },
    {
     "name": "stdout",
     "output_type": "stream",
     "text": [
      "MAE from Approach3 (An Extension to Imputation)\n",
      "178927.503183954\n"
     ]
    },
    {
     "name": "stderr",
     "output_type": "stream",
     "text": [
      "/opt/homebrew/anaconda3/lib/python3.9/site-packages/sklearn/base.py:443: UserWarning: X has feature names, but RandomForestRegressor was fitted without feature names\n",
      "  warnings.warn(\n"
     ]
    }
   ],
   "source": [
    "# 원 데이터 변경 방지를 위한 데이터 복사\n",
    "X_train_plus=X_train.copy()\n",
    "X_valid_plus=X_valid.copy()\n",
    "\n",
    "# 대치(=귀속)대상을 나타내는 새로운 열 생성\n",
    "for col in cols_with_missing:\n",
    "    X_train_plus[col + '_was_missing']=X_train_plus[col].isnull()\n",
    "    X_valid_plus[col + '_was_missing']=X_valid_plus[col].isnull()\n",
    "    \n",
    "# Imputation\n",
    "my_imputer=SimpleImputer()\n",
    "\n",
    "imputed_X_train_plus=pd.DataFrame(my_imputer.fit_transform(X_train_plus))\n",
    "imputed_X_valid_plus=pd.DataFrame(my_imputer.transform(X_valid_plus))\n",
    "\n",
    "# Imputation removed colum names; put them back\n",
    "imputed_X_train_plus.columms = X_train_plus.columns\n",
    "imputed_X_valid_plus.columns = X_valid_plus.columns\n",
    "\n",
    "print(\"MAE from Approach3 (An Extension to Imputation)\")\n",
    "print(score_dataset(imputed_X_train_plus, imputed_X_valid_plus, y_train, y_valid))"
   ]
  },
  {
   "cell_type": "code",
   "execution_count": 29,
   "id": "3df25501",
   "metadata": {},
   "outputs": [
    {
     "data": {
      "text/html": [
       "<div>\n",
       "<style scoped>\n",
       "    .dataframe tbody tr th:only-of-type {\n",
       "        vertical-align: middle;\n",
       "    }\n",
       "\n",
       "    .dataframe tbody tr th {\n",
       "        vertical-align: top;\n",
       "    }\n",
       "\n",
       "    .dataframe thead th {\n",
       "        text-align: right;\n",
       "    }\n",
       "</style>\n",
       "<table border=\"1\" class=\"dataframe\">\n",
       "  <thead>\n",
       "    <tr style=\"text-align: right;\">\n",
       "      <th></th>\n",
       "      <th>0</th>\n",
       "      <th>1</th>\n",
       "      <th>2</th>\n",
       "      <th>3</th>\n",
       "      <th>4</th>\n",
       "      <th>5</th>\n",
       "      <th>6</th>\n",
       "      <th>7</th>\n",
       "      <th>8</th>\n",
       "      <th>9</th>\n",
       "      <th>10</th>\n",
       "      <th>11</th>\n",
       "      <th>12</th>\n",
       "      <th>13</th>\n",
       "      <th>14</th>\n",
       "    </tr>\n",
       "  </thead>\n",
       "  <tbody>\n",
       "    <tr>\n",
       "      <th>0</th>\n",
       "      <td>1.0</td>\n",
       "      <td>5.0</td>\n",
       "      <td>3182.0</td>\n",
       "      <td>1.0</td>\n",
       "      <td>1.0</td>\n",
       "      <td>1.0</td>\n",
       "      <td>0.0</td>\n",
       "      <td>153.764119</td>\n",
       "      <td>1940.000000</td>\n",
       "      <td>-37.85984</td>\n",
       "      <td>144.98670</td>\n",
       "      <td>13240.0</td>\n",
       "      <td>0.0</td>\n",
       "      <td>1.0</td>\n",
       "      <td>0.0</td>\n",
       "    </tr>\n",
       "    <tr>\n",
       "      <th>1</th>\n",
       "      <td>2.0</td>\n",
       "      <td>8.0</td>\n",
       "      <td>3016.0</td>\n",
       "      <td>2.0</td>\n",
       "      <td>2.0</td>\n",
       "      <td>1.0</td>\n",
       "      <td>193.0</td>\n",
       "      <td>153.764119</td>\n",
       "      <td>1964.839866</td>\n",
       "      <td>-37.85800</td>\n",
       "      <td>144.90050</td>\n",
       "      <td>6380.0</td>\n",
       "      <td>0.0</td>\n",
       "      <td>1.0</td>\n",
       "      <td>1.0</td>\n",
       "    </tr>\n",
       "    <tr>\n",
       "      <th>2</th>\n",
       "      <td>3.0</td>\n",
       "      <td>12.6</td>\n",
       "      <td>3020.0</td>\n",
       "      <td>3.0</td>\n",
       "      <td>1.0</td>\n",
       "      <td>1.0</td>\n",
       "      <td>555.0</td>\n",
       "      <td>153.764119</td>\n",
       "      <td>1964.839866</td>\n",
       "      <td>-37.79880</td>\n",
       "      <td>144.82200</td>\n",
       "      <td>3755.0</td>\n",
       "      <td>0.0</td>\n",
       "      <td>1.0</td>\n",
       "      <td>1.0</td>\n",
       "    </tr>\n",
       "    <tr>\n",
       "      <th>3</th>\n",
       "      <td>3.0</td>\n",
       "      <td>13.0</td>\n",
       "      <td>3046.0</td>\n",
       "      <td>3.0</td>\n",
       "      <td>1.0</td>\n",
       "      <td>1.0</td>\n",
       "      <td>265.0</td>\n",
       "      <td>153.764119</td>\n",
       "      <td>1995.000000</td>\n",
       "      <td>-37.70830</td>\n",
       "      <td>144.91580</td>\n",
       "      <td>8870.0</td>\n",
       "      <td>0.0</td>\n",
       "      <td>1.0</td>\n",
       "      <td>0.0</td>\n",
       "    </tr>\n",
       "    <tr>\n",
       "      <th>4</th>\n",
       "      <td>3.0</td>\n",
       "      <td>13.3</td>\n",
       "      <td>3020.0</td>\n",
       "      <td>3.0</td>\n",
       "      <td>1.0</td>\n",
       "      <td>2.0</td>\n",
       "      <td>673.0</td>\n",
       "      <td>673.000000</td>\n",
       "      <td>1970.000000</td>\n",
       "      <td>-37.76230</td>\n",
       "      <td>144.82720</td>\n",
       "      <td>4217.0</td>\n",
       "      <td>0.0</td>\n",
       "      <td>0.0</td>\n",
       "      <td>0.0</td>\n",
       "    </tr>\n",
       "    <tr>\n",
       "      <th>...</th>\n",
       "      <td>...</td>\n",
       "      <td>...</td>\n",
       "      <td>...</td>\n",
       "      <td>...</td>\n",
       "      <td>...</td>\n",
       "      <td>...</td>\n",
       "      <td>...</td>\n",
       "      <td>...</td>\n",
       "      <td>...</td>\n",
       "      <td>...</td>\n",
       "      <td>...</td>\n",
       "      <td>...</td>\n",
       "      <td>...</td>\n",
       "      <td>...</td>\n",
       "      <td>...</td>\n",
       "    </tr>\n",
       "    <tr>\n",
       "      <th>10859</th>\n",
       "      <td>3.0</td>\n",
       "      <td>5.2</td>\n",
       "      <td>3056.0</td>\n",
       "      <td>3.0</td>\n",
       "      <td>1.0</td>\n",
       "      <td>2.0</td>\n",
       "      <td>212.0</td>\n",
       "      <td>153.764119</td>\n",
       "      <td>1964.839866</td>\n",
       "      <td>-37.77695</td>\n",
       "      <td>144.95785</td>\n",
       "      <td>11918.0</td>\n",
       "      <td>0.0</td>\n",
       "      <td>1.0</td>\n",
       "      <td>1.0</td>\n",
       "    </tr>\n",
       "    <tr>\n",
       "      <th>10860</th>\n",
       "      <td>3.0</td>\n",
       "      <td>10.5</td>\n",
       "      <td>3081.0</td>\n",
       "      <td>3.0</td>\n",
       "      <td>1.0</td>\n",
       "      <td>1.0</td>\n",
       "      <td>748.0</td>\n",
       "      <td>101.000000</td>\n",
       "      <td>1950.000000</td>\n",
       "      <td>-37.74160</td>\n",
       "      <td>145.04810</td>\n",
       "      <td>2947.0</td>\n",
       "      <td>0.0</td>\n",
       "      <td>0.0</td>\n",
       "      <td>0.0</td>\n",
       "    </tr>\n",
       "    <tr>\n",
       "      <th>10861</th>\n",
       "      <td>4.0</td>\n",
       "      <td>6.7</td>\n",
       "      <td>3058.0</td>\n",
       "      <td>4.0</td>\n",
       "      <td>2.0</td>\n",
       "      <td>2.0</td>\n",
       "      <td>441.0</td>\n",
       "      <td>255.000000</td>\n",
       "      <td>2002.000000</td>\n",
       "      <td>-37.73572</td>\n",
       "      <td>144.97256</td>\n",
       "      <td>11204.0</td>\n",
       "      <td>0.0</td>\n",
       "      <td>0.0</td>\n",
       "      <td>0.0</td>\n",
       "    </tr>\n",
       "    <tr>\n",
       "      <th>10862</th>\n",
       "      <td>3.0</td>\n",
       "      <td>12.0</td>\n",
       "      <td>3073.0</td>\n",
       "      <td>3.0</td>\n",
       "      <td>1.0</td>\n",
       "      <td>1.0</td>\n",
       "      <td>606.0</td>\n",
       "      <td>153.764119</td>\n",
       "      <td>1964.839866</td>\n",
       "      <td>-37.72057</td>\n",
       "      <td>145.02615</td>\n",
       "      <td>21650.0</td>\n",
       "      <td>0.0</td>\n",
       "      <td>1.0</td>\n",
       "      <td>1.0</td>\n",
       "    </tr>\n",
       "    <tr>\n",
       "      <th>10863</th>\n",
       "      <td>4.0</td>\n",
       "      <td>6.4</td>\n",
       "      <td>3011.0</td>\n",
       "      <td>4.0</td>\n",
       "      <td>2.0</td>\n",
       "      <td>1.0</td>\n",
       "      <td>319.0</td>\n",
       "      <td>130.000000</td>\n",
       "      <td>1915.000000</td>\n",
       "      <td>-37.79430</td>\n",
       "      <td>144.88750</td>\n",
       "      <td>7570.0</td>\n",
       "      <td>0.0</td>\n",
       "      <td>0.0</td>\n",
       "      <td>0.0</td>\n",
       "    </tr>\n",
       "  </tbody>\n",
       "</table>\n",
       "<p>10864 rows × 15 columns</p>\n",
       "</div>"
      ],
      "text/plain": [
       "        0     1       2    3    4    5      6           7            8   \\\n",
       "0      1.0   5.0  3182.0  1.0  1.0  1.0    0.0  153.764119  1940.000000   \n",
       "1      2.0   8.0  3016.0  2.0  2.0  1.0  193.0  153.764119  1964.839866   \n",
       "2      3.0  12.6  3020.0  3.0  1.0  1.0  555.0  153.764119  1964.839866   \n",
       "3      3.0  13.0  3046.0  3.0  1.0  1.0  265.0  153.764119  1995.000000   \n",
       "4      3.0  13.3  3020.0  3.0  1.0  2.0  673.0  673.000000  1970.000000   \n",
       "...    ...   ...     ...  ...  ...  ...    ...         ...          ...   \n",
       "10859  3.0   5.2  3056.0  3.0  1.0  2.0  212.0  153.764119  1964.839866   \n",
       "10860  3.0  10.5  3081.0  3.0  1.0  1.0  748.0  101.000000  1950.000000   \n",
       "10861  4.0   6.7  3058.0  4.0  2.0  2.0  441.0  255.000000  2002.000000   \n",
       "10862  3.0  12.0  3073.0  3.0  1.0  1.0  606.0  153.764119  1964.839866   \n",
       "10863  4.0   6.4  3011.0  4.0  2.0  1.0  319.0  130.000000  1915.000000   \n",
       "\n",
       "             9          10       11   12   13   14  \n",
       "0     -37.85984  144.98670  13240.0  0.0  1.0  0.0  \n",
       "1     -37.85800  144.90050   6380.0  0.0  1.0  1.0  \n",
       "2     -37.79880  144.82200   3755.0  0.0  1.0  1.0  \n",
       "3     -37.70830  144.91580   8870.0  0.0  1.0  0.0  \n",
       "4     -37.76230  144.82720   4217.0  0.0  0.0  0.0  \n",
       "...         ...        ...      ...  ...  ...  ...  \n",
       "10859 -37.77695  144.95785  11918.0  0.0  1.0  1.0  \n",
       "10860 -37.74160  145.04810   2947.0  0.0  0.0  0.0  \n",
       "10861 -37.73572  144.97256  11204.0  0.0  0.0  0.0  \n",
       "10862 -37.72057  145.02615  21650.0  0.0  1.0  1.0  \n",
       "10863 -37.79430  144.88750   7570.0  0.0  0.0  0.0  \n",
       "\n",
       "[10864 rows x 15 columns]"
      ]
     },
     "execution_count": 29,
     "metadata": {},
     "output_type": "execute_result"
    }
   ],
   "source": [
    "imputed_X_train_plus"
   ]
  },
  {
   "cell_type": "markdown",
   "id": "fbab50d7",
   "metadata": {},
   "source": [
    "위에서 보듯이, **결측치 확장(Approach3)**은 **대치(Approach2)**보다 결과가 살짝 떨어진다.\n",
    "\n",
    "**어째서 값을 대치하는 것이 행을 삭제하는 것보다 성능이 좋을까?**<br>\n",
    "training data는 10864행과 12개의 열로 구성되어 있으며 그 중 3가지 열은 결측값을 포함하고 있다. 각각의 열은 절반 미만의 결측치를 포함한다. 열을 제거하는 것은 많은 의미 있는 정보들을 제거하므로, 이보다는 결측값을 대치하는 것이 성능이 더 좋다."
   ]
  },
  {
   "cell_type": "code",
   "execution_count": 32,
   "id": "eeba1fa7",
   "metadata": {},
   "outputs": [
    {
     "name": "stdout",
     "output_type": "stream",
     "text": [
      "(10864, 12)\n",
      "\n",
      "\n",
      "Car               49\n",
      "BuildingArea    5156\n",
      "YearBuilt       4307\n",
      "dtype: int64\n"
     ]
    }
   ],
   "source": [
    "# Shape of traning data (num_rows, num_cols)\n",
    "print(X_train.shape)\n",
    "print('\\n')\n",
    "# Number of missing values in each column of training data\n",
    "missing_val_count_by_column = (X_train.isnull().sum())\n",
    "print(missing_val_count_by_column[missing_val_count_by_column>0])"
   ]
  },
  {
   "cell_type": "markdown",
   "id": "bcb0d377",
   "metadata": {},
   "source": [
    "# Conclusion\n",
    "\n",
    "일반적으로 결측값 대치(Approach2,3)은 결측값이 있는 열을 제거하는 것(Approach1)보다 더 좋은 결과를 산출했다."
   ]
  }
 ],
 "metadata": {
  "kernelspec": {
   "display_name": "Python 3 (ipykernel)",
   "language": "python",
   "name": "python3"
  },
  "language_info": {
   "codemirror_mode": {
    "name": "ipython",
    "version": 3
   },
   "file_extension": ".py",
   "mimetype": "text/x-python",
   "name": "python",
   "nbconvert_exporter": "python",
   "pygments_lexer": "ipython3",
   "version": "3.9.12"
  },
  "toc": {
   "base_numbering": 1,
   "nav_menu": {},
   "number_sections": true,
   "sideBar": true,
   "skip_h1_title": false,
   "title_cell": "Table of Contents",
   "title_sidebar": "Contents",
   "toc_cell": false,
   "toc_position": {
    "height": "calc(100% - 180px)",
    "left": "10px",
    "top": "150px",
    "width": "256px"
   },
   "toc_section_display": true,
   "toc_window_display": false
  }
 },
 "nbformat": 4,
 "nbformat_minor": 5
}
