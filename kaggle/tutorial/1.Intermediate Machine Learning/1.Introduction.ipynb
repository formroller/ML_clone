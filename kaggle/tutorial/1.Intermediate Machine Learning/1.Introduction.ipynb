{
 "cells": [
  {
   "cell_type": "markdown",
   "id": "9a3d419c",
   "metadata": {},
   "source": [
    "# [Introduction](https://www.kaggle.com/code/alexisbcook/introduction)\n",
    "Review What tyo need for this course"
   ]
  },
  {
   "cell_type": "markdown",
   "id": "a775847d",
   "metadata": {},
   "source": [
    "**캐글 중급 과정 소개**  \n",
    "\n",
    "만약 기계 학습에 대한 배경이 있거나, 모델의 품질을 빠르게 향상하는 법에 대해 배우고 싶다면 잘 찾아온 것이다.  \n",
    "이 과정은 다음과 같은 과정을 배움으로써 기계 학습에 전문 지식을 가속화 할 것이다. \n",
    "\n",
    "* 실제 데이터 세트에서 자주 발견되는 데이터 유형 해결(**결측치, 범주형 변수**)\n",
    "* 머신 러닝 코드 품질 향상을 위한 **파이프라인** 설계.\n",
    "* 모델 검증을 위한 고급 기술 사용(**교차 검증, Cross-validation**)\n",
    "* 대회에서 우승하는데 널리 사용되는 최첨단 모델 구축(**XGBoost**)\n",
    "* 일반적이고 중요한 데이터 과학 실수 피하기(**누수, Leakage**)\n",
    "\n",
    "이 과정에서 당신은 각각의 새로운 주제에 대한 실제 데이터 사용해 실습하고 배운 지식을 적용한 수 있을것이다. 실습은 [House Price Competition](https://www.kaggle.com/c/home-data-for-ml-course) data를 사용해 79개의 다른 설명 변수(예:지붕 유형, 침실 및 욕실 수)를 사용해 주택 가격을 예측하고 리더보드에 제출해 진행 상황을 측정할 것이다."
   ]
  },
  {
   "cell_type": "markdown",
   "id": "fcadf53a",
   "metadata": {},
   "source": [
    "## 전제 조건 \n",
    "\n",
    "이전에 기계 학습 모델을 구축한 적이 있고 [모델 검증, model validation](https://www.kaggle.com/dansbecker/model-validation), [under and overfitting](https://www.kaggle.com/dansbecker/underfitting-and-overfitting), [random forest](https://www.kaggle.com/dansbecker/random-forests)와 같은 주제에 익숙하다면 이 과정을 시작할 준비가 되어 있다.\n",
    "\n",
    "\n",
    "만약, 기계 학습을 처음 접한다면, 이 과정을 준비하는데 필요한 모든 것을 다루는 [Intro to Machine Learning course](https://www.kaggle.com/learn/intro-to-machine-learning) 과정을 확인하자."
   ]
  }
 ],
 "metadata": {
  "kernelspec": {
   "display_name": "Python 3 (ipykernel)",
   "language": "python",
   "name": "python3"
  },
  "language_info": {
   "codemirror_mode": {
    "name": "ipython",
    "version": 3
   },
   "file_extension": ".py",
   "mimetype": "text/x-python",
   "name": "python",
   "nbconvert_exporter": "python",
   "pygments_lexer": "ipython3",
   "version": "3.9.12"
  },
  "toc": {
   "base_numbering": 1,
   "nav_menu": {},
   "number_sections": true,
   "sideBar": true,
   "skip_h1_title": false,
   "title_cell": "Table of Contents",
   "title_sidebar": "Contents",
   "toc_cell": false,
   "toc_position": {},
   "toc_section_display": true,
   "toc_window_display": false
  }
 },
 "nbformat": 4,
 "nbformat_minor": 5
}
