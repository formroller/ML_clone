{
 "cells": [
  {
   "cell_type": "markdown",
   "id": "9e87b007",
   "metadata": {},
   "source": [
    "# [캐글 영화추천 시스템](https://www.kaggle.com/ibtesama/getting-started-with-a-movie-recommendation-system)   \n",
    "\n",
    "데이터 수집의 급속한 성장은 새로운 정보 시대로 이어졌다. 데이터는 보다 효율적인 시스템을 만드는데 사용되고 있으며 이는 추천 시스템에서 역시 작동하고 있다. 추천 시스템은 **정보 필터링** 시스템의 한 유형으로 검색 결과의 품질을 개선하고 검색 항목과 더 관련 있거나 사용자의 검색 기록으로 실현되는 항목을 제공한다.   \n",
    "\n",
    "그것들은 사용자가 항목에 줄 등급이나 선호도를 예측하는 데 사용된다. 거의 모든 주요 기술 회사는 어떤 형태로든 적용했습니다: 아마존은 그것을 사용하여 고객에게 제품을 제안하고, 유튜브는 자동 재생에서 다음에 재생할 비디오를 결정하며, 페이스북은 그것을 사용하여 좋아하는 페이지와 팔로우할 사람들을 추천합니다. 게다가, 넷플릭스와 스포티파이와 같은 회사들은 그들의 사업과 성공을 위한 추천 엔진의 효과에 크게 의존한다.  \n",
    "\n",
    "이 커널에서 우리는 TMDB 5000 영화 데이터셋을 사용하여 기본 영화 추천 시스템을 구축할 것입니다. 나 같은 초보자들에게 이 커널은 추천 시스템의 기초가 될 것이며 당신에게 시작할 무언가를 제공할 것이다.  \n",
    "\n",
    "> 추가 데이터 [TMDB 5000 Movie Dataset](https://www.kaggle.com/tmdb/tmdb-movie-metadata)"
   ]
  },
  {
   "cell_type": "markdown",
   "id": "e48a1709",
   "metadata": {},
   "source": [
    "* 추천 시스템은 기본적으로 세가지 유형이 있다.  \n",
    " - 인구 통계학적 필터링(Demographic Filtering)  \n",
    "     ```\n",
    "     인구통계학적 필터링은 영화의 인기도 및 장르에 따라 모든 사용자에게 일반화된 추천을 제공한다. 시스템은 비슷한 인구통계학적 특징을 가진 사용자에게 동일한 영화를 추천한다. 각 사용자는 다르기에 이 접근 방식은 너무 간단한 것으로 간주된다. 이 시스템의 기본 아이디어는 더 인기 있고 비평가들의 찬사를 받은 영화가 대게 청중들이 좋아할 확률이 더 높다는 것이다. \n",
    "     ```\n",
    "     ---\n",
    " - 콘텐츠 기반 필터링(Content Based Filtering)\n",
    "     ```\n",
    "     콘텐츠 기반 필터링은 특정 항목을 기반으로 비슷한 항목을 제안한다. 해당 시스템은 영화의 장르, 감독, 설명 등과 같은 *메타데이터를 사용해 권장 영화를 제시한다. 콘텐츠 기반 추천 시스템의 아이디어는 만약 사용자가 특정 항목을 좋아하면 해당 항목과 비슷한 항목도 좋아할 것이라는 것이다.\n",
    "     ```\n",
    "    ----\n",
    " - 협업 기반 필터링(Collaborative Filtering)\n",
    "     ```\n",
    "     협업 기반 필터링은 비슷한 관심사를 가진 사람들을 일치시키고 이 매칭을 기반으로 추천을 제공한다. 협업 필터는 콘텐츠 기반 필터와 같은 메타데이터를 필요로 하지 않는다. \n",
    "     ```"
   ]
  },
  {
   "cell_type": "markdown",
   "id": "dd7d4d7c",
   "metadata": {},
   "source": [
    "## 데이터 불러오기"
   ]
  },
  {
   "cell_type": "code",
   "execution_count": 102,
   "id": "13a4d6c2",
   "metadata": {},
   "outputs": [],
   "source": [
    "import pandas as pd\n",
    "import numpy as np\n",
    "\n",
    "df1 = pd.read_csv('tmdb_5000_credits.csv')\n",
    "df2 = pd.read_csv('tmdb_5000_movies.csv')"
   ]
  },
  {
   "cell_type": "code",
   "execution_count": 103,
   "id": "21e4ecb0",
   "metadata": {},
   "outputs": [
    {
     "data": {
      "text/html": [
       "<div>\n",
       "<style scoped>\n",
       "    .dataframe tbody tr th:only-of-type {\n",
       "        vertical-align: middle;\n",
       "    }\n",
       "\n",
       "    .dataframe tbody tr th {\n",
       "        vertical-align: top;\n",
       "    }\n",
       "\n",
       "    .dataframe thead th {\n",
       "        text-align: right;\n",
       "    }\n",
       "</style>\n",
       "<table border=\"1\" class=\"dataframe\">\n",
       "  <thead>\n",
       "    <tr style=\"text-align: right;\">\n",
       "      <th></th>\n",
       "      <th>movie_id</th>\n",
       "      <th>title</th>\n",
       "      <th>cast</th>\n",
       "      <th>crew</th>\n",
       "    </tr>\n",
       "  </thead>\n",
       "  <tbody>\n",
       "    <tr>\n",
       "      <th>0</th>\n",
       "      <td>19995</td>\n",
       "      <td>Avatar</td>\n",
       "      <td>[{\"cast_id\": 242, \"character\": \"Jake Sully\", \"...</td>\n",
       "      <td>[{\"credit_id\": \"52fe48009251416c750aca23\", \"de...</td>\n",
       "    </tr>\n",
       "    <tr>\n",
       "      <th>1</th>\n",
       "      <td>285</td>\n",
       "      <td>Pirates of the Caribbean: At World's End</td>\n",
       "      <td>[{\"cast_id\": 4, \"character\": \"Captain Jack Spa...</td>\n",
       "      <td>[{\"credit_id\": \"52fe4232c3a36847f800b579\", \"de...</td>\n",
       "    </tr>\n",
       "    <tr>\n",
       "      <th>2</th>\n",
       "      <td>206647</td>\n",
       "      <td>Spectre</td>\n",
       "      <td>[{\"cast_id\": 1, \"character\": \"James Bond\", \"cr...</td>\n",
       "      <td>[{\"credit_id\": \"54805967c3a36829b5002c41\", \"de...</td>\n",
       "    </tr>\n",
       "    <tr>\n",
       "      <th>3</th>\n",
       "      <td>49026</td>\n",
       "      <td>The Dark Knight Rises</td>\n",
       "      <td>[{\"cast_id\": 2, \"character\": \"Bruce Wayne / Ba...</td>\n",
       "      <td>[{\"credit_id\": \"52fe4781c3a36847f81398c3\", \"de...</td>\n",
       "    </tr>\n",
       "    <tr>\n",
       "      <th>4</th>\n",
       "      <td>49529</td>\n",
       "      <td>John Carter</td>\n",
       "      <td>[{\"cast_id\": 5, \"character\": \"John Carter\", \"c...</td>\n",
       "      <td>[{\"credit_id\": \"52fe479ac3a36847f813eaa3\", \"de...</td>\n",
       "    </tr>\n",
       "  </tbody>\n",
       "</table>\n",
       "</div>"
      ],
      "text/plain": [
       "   movie_id                                     title  \\\n",
       "0     19995                                    Avatar   \n",
       "1       285  Pirates of the Caribbean: At World's End   \n",
       "2    206647                                   Spectre   \n",
       "3     49026                     The Dark Knight Rises   \n",
       "4     49529                               John Carter   \n",
       "\n",
       "                                                cast  \\\n",
       "0  [{\"cast_id\": 242, \"character\": \"Jake Sully\", \"...   \n",
       "1  [{\"cast_id\": 4, \"character\": \"Captain Jack Spa...   \n",
       "2  [{\"cast_id\": 1, \"character\": \"James Bond\", \"cr...   \n",
       "3  [{\"cast_id\": 2, \"character\": \"Bruce Wayne / Ba...   \n",
       "4  [{\"cast_id\": 5, \"character\": \"John Carter\", \"c...   \n",
       "\n",
       "                                                crew  \n",
       "0  [{\"credit_id\": \"52fe48009251416c750aca23\", \"de...  \n",
       "1  [{\"credit_id\": \"52fe4232c3a36847f800b579\", \"de...  \n",
       "2  [{\"credit_id\": \"54805967c3a36829b5002c41\", \"de...  \n",
       "3  [{\"credit_id\": \"52fe4781c3a36847f81398c3\", \"de...  \n",
       "4  [{\"credit_id\": \"52fe479ac3a36847f813eaa3\", \"de...  "
      ]
     },
     "execution_count": 103,
     "metadata": {},
     "output_type": "execute_result"
    }
   ],
   "source": [
    "df1.head()"
   ]
  },
  {
   "cell_type": "code",
   "execution_count": 104,
   "id": "6e592f36",
   "metadata": {},
   "outputs": [
    {
     "data": {
      "text/html": [
       "<div>\n",
       "<style scoped>\n",
       "    .dataframe tbody tr th:only-of-type {\n",
       "        vertical-align: middle;\n",
       "    }\n",
       "\n",
       "    .dataframe tbody tr th {\n",
       "        vertical-align: top;\n",
       "    }\n",
       "\n",
       "    .dataframe thead th {\n",
       "        text-align: right;\n",
       "    }\n",
       "</style>\n",
       "<table border=\"1\" class=\"dataframe\">\n",
       "  <thead>\n",
       "    <tr style=\"text-align: right;\">\n",
       "      <th></th>\n",
       "      <th>budget</th>\n",
       "      <th>genres</th>\n",
       "      <th>homepage</th>\n",
       "      <th>id</th>\n",
       "      <th>keywords</th>\n",
       "      <th>original_language</th>\n",
       "      <th>original_title</th>\n",
       "      <th>overview</th>\n",
       "      <th>popularity</th>\n",
       "      <th>production_companies</th>\n",
       "      <th>production_countries</th>\n",
       "      <th>release_date</th>\n",
       "      <th>revenue</th>\n",
       "      <th>runtime</th>\n",
       "      <th>spoken_languages</th>\n",
       "      <th>status</th>\n",
       "      <th>tagline</th>\n",
       "      <th>title</th>\n",
       "      <th>vote_average</th>\n",
       "      <th>vote_count</th>\n",
       "    </tr>\n",
       "  </thead>\n",
       "  <tbody>\n",
       "    <tr>\n",
       "      <th>0</th>\n",
       "      <td>237000000</td>\n",
       "      <td>[{\"id\": 28, \"name\": \"Action\"}, {\"id\": 12, \"nam...</td>\n",
       "      <td>http://www.avatarmovie.com/</td>\n",
       "      <td>19995</td>\n",
       "      <td>[{\"id\": 1463, \"name\": \"culture clash\"}, {\"id\":...</td>\n",
       "      <td>en</td>\n",
       "      <td>Avatar</td>\n",
       "      <td>In the 22nd century, a paraplegic Marine is di...</td>\n",
       "      <td>150.437577</td>\n",
       "      <td>[{\"name\": \"Ingenious Film Partners\", \"id\": 289...</td>\n",
       "      <td>[{\"iso_3166_1\": \"US\", \"name\": \"United States o...</td>\n",
       "      <td>2009-12-10</td>\n",
       "      <td>2787965087</td>\n",
       "      <td>162.0</td>\n",
       "      <td>[{\"iso_639_1\": \"en\", \"name\": \"English\"}, {\"iso...</td>\n",
       "      <td>Released</td>\n",
       "      <td>Enter the World of Pandora.</td>\n",
       "      <td>Avatar</td>\n",
       "      <td>7.2</td>\n",
       "      <td>11800</td>\n",
       "    </tr>\n",
       "    <tr>\n",
       "      <th>1</th>\n",
       "      <td>300000000</td>\n",
       "      <td>[{\"id\": 12, \"name\": \"Adventure\"}, {\"id\": 14, \"...</td>\n",
       "      <td>http://disney.go.com/disneypictures/pirates/</td>\n",
       "      <td>285</td>\n",
       "      <td>[{\"id\": 270, \"name\": \"ocean\"}, {\"id\": 726, \"na...</td>\n",
       "      <td>en</td>\n",
       "      <td>Pirates of the Caribbean: At World's End</td>\n",
       "      <td>Captain Barbossa, long believed to be dead, ha...</td>\n",
       "      <td>139.082615</td>\n",
       "      <td>[{\"name\": \"Walt Disney Pictures\", \"id\": 2}, {\"...</td>\n",
       "      <td>[{\"iso_3166_1\": \"US\", \"name\": \"United States o...</td>\n",
       "      <td>2007-05-19</td>\n",
       "      <td>961000000</td>\n",
       "      <td>169.0</td>\n",
       "      <td>[{\"iso_639_1\": \"en\", \"name\": \"English\"}]</td>\n",
       "      <td>Released</td>\n",
       "      <td>At the end of the world, the adventure begins.</td>\n",
       "      <td>Pirates of the Caribbean: At World's End</td>\n",
       "      <td>6.9</td>\n",
       "      <td>4500</td>\n",
       "    </tr>\n",
       "    <tr>\n",
       "      <th>2</th>\n",
       "      <td>245000000</td>\n",
       "      <td>[{\"id\": 28, \"name\": \"Action\"}, {\"id\": 12, \"nam...</td>\n",
       "      <td>http://www.sonypictures.com/movies/spectre/</td>\n",
       "      <td>206647</td>\n",
       "      <td>[{\"id\": 470, \"name\": \"spy\"}, {\"id\": 818, \"name...</td>\n",
       "      <td>en</td>\n",
       "      <td>Spectre</td>\n",
       "      <td>A cryptic message from Bond’s past sends him o...</td>\n",
       "      <td>107.376788</td>\n",
       "      <td>[{\"name\": \"Columbia Pictures\", \"id\": 5}, {\"nam...</td>\n",
       "      <td>[{\"iso_3166_1\": \"GB\", \"name\": \"United Kingdom\"...</td>\n",
       "      <td>2015-10-26</td>\n",
       "      <td>880674609</td>\n",
       "      <td>148.0</td>\n",
       "      <td>[{\"iso_639_1\": \"fr\", \"name\": \"Fran\\u00e7ais\"},...</td>\n",
       "      <td>Released</td>\n",
       "      <td>A Plan No One Escapes</td>\n",
       "      <td>Spectre</td>\n",
       "      <td>6.3</td>\n",
       "      <td>4466</td>\n",
       "    </tr>\n",
       "    <tr>\n",
       "      <th>3</th>\n",
       "      <td>250000000</td>\n",
       "      <td>[{\"id\": 28, \"name\": \"Action\"}, {\"id\": 80, \"nam...</td>\n",
       "      <td>http://www.thedarkknightrises.com/</td>\n",
       "      <td>49026</td>\n",
       "      <td>[{\"id\": 849, \"name\": \"dc comics\"}, {\"id\": 853,...</td>\n",
       "      <td>en</td>\n",
       "      <td>The Dark Knight Rises</td>\n",
       "      <td>Following the death of District Attorney Harve...</td>\n",
       "      <td>112.312950</td>\n",
       "      <td>[{\"name\": \"Legendary Pictures\", \"id\": 923}, {\"...</td>\n",
       "      <td>[{\"iso_3166_1\": \"US\", \"name\": \"United States o...</td>\n",
       "      <td>2012-07-16</td>\n",
       "      <td>1084939099</td>\n",
       "      <td>165.0</td>\n",
       "      <td>[{\"iso_639_1\": \"en\", \"name\": \"English\"}]</td>\n",
       "      <td>Released</td>\n",
       "      <td>The Legend Ends</td>\n",
       "      <td>The Dark Knight Rises</td>\n",
       "      <td>7.6</td>\n",
       "      <td>9106</td>\n",
       "    </tr>\n",
       "    <tr>\n",
       "      <th>4</th>\n",
       "      <td>260000000</td>\n",
       "      <td>[{\"id\": 28, \"name\": \"Action\"}, {\"id\": 12, \"nam...</td>\n",
       "      <td>http://movies.disney.com/john-carter</td>\n",
       "      <td>49529</td>\n",
       "      <td>[{\"id\": 818, \"name\": \"based on novel\"}, {\"id\":...</td>\n",
       "      <td>en</td>\n",
       "      <td>John Carter</td>\n",
       "      <td>John Carter is a war-weary, former military ca...</td>\n",
       "      <td>43.926995</td>\n",
       "      <td>[{\"name\": \"Walt Disney Pictures\", \"id\": 2}]</td>\n",
       "      <td>[{\"iso_3166_1\": \"US\", \"name\": \"United States o...</td>\n",
       "      <td>2012-03-07</td>\n",
       "      <td>284139100</td>\n",
       "      <td>132.0</td>\n",
       "      <td>[{\"iso_639_1\": \"en\", \"name\": \"English\"}]</td>\n",
       "      <td>Released</td>\n",
       "      <td>Lost in our world, found in another.</td>\n",
       "      <td>John Carter</td>\n",
       "      <td>6.1</td>\n",
       "      <td>2124</td>\n",
       "    </tr>\n",
       "  </tbody>\n",
       "</table>\n",
       "</div>"
      ],
      "text/plain": [
       "      budget                                             genres  \\\n",
       "0  237000000  [{\"id\": 28, \"name\": \"Action\"}, {\"id\": 12, \"nam...   \n",
       "1  300000000  [{\"id\": 12, \"name\": \"Adventure\"}, {\"id\": 14, \"...   \n",
       "2  245000000  [{\"id\": 28, \"name\": \"Action\"}, {\"id\": 12, \"nam...   \n",
       "3  250000000  [{\"id\": 28, \"name\": \"Action\"}, {\"id\": 80, \"nam...   \n",
       "4  260000000  [{\"id\": 28, \"name\": \"Action\"}, {\"id\": 12, \"nam...   \n",
       "\n",
       "                                       homepage      id  \\\n",
       "0                   http://www.avatarmovie.com/   19995   \n",
       "1  http://disney.go.com/disneypictures/pirates/     285   \n",
       "2   http://www.sonypictures.com/movies/spectre/  206647   \n",
       "3            http://www.thedarkknightrises.com/   49026   \n",
       "4          http://movies.disney.com/john-carter   49529   \n",
       "\n",
       "                                            keywords original_language  \\\n",
       "0  [{\"id\": 1463, \"name\": \"culture clash\"}, {\"id\":...                en   \n",
       "1  [{\"id\": 270, \"name\": \"ocean\"}, {\"id\": 726, \"na...                en   \n",
       "2  [{\"id\": 470, \"name\": \"spy\"}, {\"id\": 818, \"name...                en   \n",
       "3  [{\"id\": 849, \"name\": \"dc comics\"}, {\"id\": 853,...                en   \n",
       "4  [{\"id\": 818, \"name\": \"based on novel\"}, {\"id\":...                en   \n",
       "\n",
       "                             original_title  \\\n",
       "0                                    Avatar   \n",
       "1  Pirates of the Caribbean: At World's End   \n",
       "2                                   Spectre   \n",
       "3                     The Dark Knight Rises   \n",
       "4                               John Carter   \n",
       "\n",
       "                                            overview  popularity  \\\n",
       "0  In the 22nd century, a paraplegic Marine is di...  150.437577   \n",
       "1  Captain Barbossa, long believed to be dead, ha...  139.082615   \n",
       "2  A cryptic message from Bond’s past sends him o...  107.376788   \n",
       "3  Following the death of District Attorney Harve...  112.312950   \n",
       "4  John Carter is a war-weary, former military ca...   43.926995   \n",
       "\n",
       "                                production_companies  \\\n",
       "0  [{\"name\": \"Ingenious Film Partners\", \"id\": 289...   \n",
       "1  [{\"name\": \"Walt Disney Pictures\", \"id\": 2}, {\"...   \n",
       "2  [{\"name\": \"Columbia Pictures\", \"id\": 5}, {\"nam...   \n",
       "3  [{\"name\": \"Legendary Pictures\", \"id\": 923}, {\"...   \n",
       "4        [{\"name\": \"Walt Disney Pictures\", \"id\": 2}]   \n",
       "\n",
       "                                production_countries release_date     revenue  \\\n",
       "0  [{\"iso_3166_1\": \"US\", \"name\": \"United States o...   2009-12-10  2787965087   \n",
       "1  [{\"iso_3166_1\": \"US\", \"name\": \"United States o...   2007-05-19   961000000   \n",
       "2  [{\"iso_3166_1\": \"GB\", \"name\": \"United Kingdom\"...   2015-10-26   880674609   \n",
       "3  [{\"iso_3166_1\": \"US\", \"name\": \"United States o...   2012-07-16  1084939099   \n",
       "4  [{\"iso_3166_1\": \"US\", \"name\": \"United States o...   2012-03-07   284139100   \n",
       "\n",
       "   runtime                                   spoken_languages    status  \\\n",
       "0    162.0  [{\"iso_639_1\": \"en\", \"name\": \"English\"}, {\"iso...  Released   \n",
       "1    169.0           [{\"iso_639_1\": \"en\", \"name\": \"English\"}]  Released   \n",
       "2    148.0  [{\"iso_639_1\": \"fr\", \"name\": \"Fran\\u00e7ais\"},...  Released   \n",
       "3    165.0           [{\"iso_639_1\": \"en\", \"name\": \"English\"}]  Released   \n",
       "4    132.0           [{\"iso_639_1\": \"en\", \"name\": \"English\"}]  Released   \n",
       "\n",
       "                                          tagline  \\\n",
       "0                     Enter the World of Pandora.   \n",
       "1  At the end of the world, the adventure begins.   \n",
       "2                           A Plan No One Escapes   \n",
       "3                                 The Legend Ends   \n",
       "4            Lost in our world, found in another.   \n",
       "\n",
       "                                      title  vote_average  vote_count  \n",
       "0                                    Avatar           7.2       11800  \n",
       "1  Pirates of the Caribbean: At World's End           6.9        4500  \n",
       "2                                   Spectre           6.3        4466  \n",
       "3                     The Dark Knight Rises           7.6        9106  \n",
       "4                               John Carter           6.1        2124  "
      ]
     },
     "execution_count": 104,
     "metadata": {},
     "output_type": "execute_result"
    }
   ],
   "source": [
    "df2.head()"
   ]
  },
  {
   "cell_type": "markdown",
   "id": "43a7c0cf",
   "metadata": {},
   "source": [
    " * 첫 번째 자료(dataset)는 다음과 같은 변수가 포함되어 있다.\n",
    "  - movie_id : 영화 고유 식별자\n",
    "  - cast : 주연 및 조연 배우 이름\n",
    "  - crew : 감독, 편집자, 작곡가, 작가 등의 이름\n",
    " \n",
    " * 두 번째 자료는 다음과 같은 변수가 포함되어 있다.\n",
    "  - budget : 영화 제작 예산\n",
    "  - genre : 영화 장르 (액션, 코메디, 스릴러 등)\n",
    "  - homepage : 영화 홈페이지 링크\n",
    "  - id : 이는 첫 번째 자료와 같이 movie_id이다.\n",
    "  - keywords : 영화와 관련된 태그 또는 키워드\n",
    "  - original_language : 영화가 만들어진 언어\n",
    "  - original_title : 번역 및 각색 전 원제목\n",
    "  - overview : 영화에 대한 간략한 설명\n",
    "  - popularity : 영화 인기 수치\n",
    "  - production_companies : 영화 제작사\n",
    "  - production_countries : 영화 제작된 나라\n",
    "  - release_date : 영화 상영일\n",
    "  - revenue : 전세계 영화 수익\n",
    "  - runningtime : 영화 상영 시간\n",
    "  - status : \"Released\" or \"Rumored\"\n",
    "  - tagline : 포스터 문구\n",
    "  - title : 영화 타이틀\n",
    "  - vote_average : 영화가 받은 평균 평점\n",
    "  - vote_count : 받은 투표 수"
   ]
  },
  {
   "cell_type": "code",
   "execution_count": 105,
   "id": "4c9931c9",
   "metadata": {},
   "outputs": [
    {
     "data": {
      "text/html": [
       "<div>\n",
       "<style scoped>\n",
       "    .dataframe tbody tr th:only-of-type {\n",
       "        vertical-align: middle;\n",
       "    }\n",
       "\n",
       "    .dataframe tbody tr th {\n",
       "        vertical-align: top;\n",
       "    }\n",
       "\n",
       "    .dataframe thead th {\n",
       "        text-align: right;\n",
       "    }\n",
       "</style>\n",
       "<table border=\"1\" class=\"dataframe\">\n",
       "  <thead>\n",
       "    <tr style=\"text-align: right;\">\n",
       "      <th></th>\n",
       "      <th>budget</th>\n",
       "      <th>genres</th>\n",
       "      <th>homepage</th>\n",
       "      <th>id</th>\n",
       "      <th>keywords</th>\n",
       "      <th>original_language</th>\n",
       "      <th>original_title</th>\n",
       "      <th>overview</th>\n",
       "      <th>popularity</th>\n",
       "      <th>production_companies</th>\n",
       "      <th>...</th>\n",
       "      <th>revenue</th>\n",
       "      <th>runtime</th>\n",
       "      <th>spoken_languages</th>\n",
       "      <th>status</th>\n",
       "      <th>tagline</th>\n",
       "      <th>title</th>\n",
       "      <th>vote_average</th>\n",
       "      <th>vote_count</th>\n",
       "      <th>cast</th>\n",
       "      <th>crew</th>\n",
       "    </tr>\n",
       "  </thead>\n",
       "  <tbody>\n",
       "    <tr>\n",
       "      <th>0</th>\n",
       "      <td>237000000</td>\n",
       "      <td>[{\"id\": 28, \"name\": \"Action\"}, {\"id\": 12, \"nam...</td>\n",
       "      <td>http://www.avatarmovie.com/</td>\n",
       "      <td>19995</td>\n",
       "      <td>[{\"id\": 1463, \"name\": \"culture clash\"}, {\"id\":...</td>\n",
       "      <td>en</td>\n",
       "      <td>Avatar</td>\n",
       "      <td>In the 22nd century, a paraplegic Marine is di...</td>\n",
       "      <td>150.437577</td>\n",
       "      <td>[{\"name\": \"Ingenious Film Partners\", \"id\": 289...</td>\n",
       "      <td>...</td>\n",
       "      <td>2787965087</td>\n",
       "      <td>162.0</td>\n",
       "      <td>[{\"iso_639_1\": \"en\", \"name\": \"English\"}, {\"iso...</td>\n",
       "      <td>Released</td>\n",
       "      <td>Enter the World of Pandora.</td>\n",
       "      <td>Avatar</td>\n",
       "      <td>7.2</td>\n",
       "      <td>11800</td>\n",
       "      <td>[{\"cast_id\": 242, \"character\": \"Jake Sully\", \"...</td>\n",
       "      <td>[{\"credit_id\": \"52fe48009251416c750aca23\", \"de...</td>\n",
       "    </tr>\n",
       "    <tr>\n",
       "      <th>1</th>\n",
       "      <td>300000000</td>\n",
       "      <td>[{\"id\": 12, \"name\": \"Adventure\"}, {\"id\": 14, \"...</td>\n",
       "      <td>http://disney.go.com/disneypictures/pirates/</td>\n",
       "      <td>285</td>\n",
       "      <td>[{\"id\": 270, \"name\": \"ocean\"}, {\"id\": 726, \"na...</td>\n",
       "      <td>en</td>\n",
       "      <td>Pirates of the Caribbean: At World's End</td>\n",
       "      <td>Captain Barbossa, long believed to be dead, ha...</td>\n",
       "      <td>139.082615</td>\n",
       "      <td>[{\"name\": \"Walt Disney Pictures\", \"id\": 2}, {\"...</td>\n",
       "      <td>...</td>\n",
       "      <td>961000000</td>\n",
       "      <td>169.0</td>\n",
       "      <td>[{\"iso_639_1\": \"en\", \"name\": \"English\"}]</td>\n",
       "      <td>Released</td>\n",
       "      <td>At the end of the world, the adventure begins.</td>\n",
       "      <td>Pirates of the Caribbean: At World's End</td>\n",
       "      <td>6.9</td>\n",
       "      <td>4500</td>\n",
       "      <td>[{\"cast_id\": 4, \"character\": \"Captain Jack Spa...</td>\n",
       "      <td>[{\"credit_id\": \"52fe4232c3a36847f800b579\", \"de...</td>\n",
       "    </tr>\n",
       "    <tr>\n",
       "      <th>2</th>\n",
       "      <td>245000000</td>\n",
       "      <td>[{\"id\": 28, \"name\": \"Action\"}, {\"id\": 12, \"nam...</td>\n",
       "      <td>http://www.sonypictures.com/movies/spectre/</td>\n",
       "      <td>206647</td>\n",
       "      <td>[{\"id\": 470, \"name\": \"spy\"}, {\"id\": 818, \"name...</td>\n",
       "      <td>en</td>\n",
       "      <td>Spectre</td>\n",
       "      <td>A cryptic message from Bond’s past sends him o...</td>\n",
       "      <td>107.376788</td>\n",
       "      <td>[{\"name\": \"Columbia Pictures\", \"id\": 5}, {\"nam...</td>\n",
       "      <td>...</td>\n",
       "      <td>880674609</td>\n",
       "      <td>148.0</td>\n",
       "      <td>[{\"iso_639_1\": \"fr\", \"name\": \"Fran\\u00e7ais\"},...</td>\n",
       "      <td>Released</td>\n",
       "      <td>A Plan No One Escapes</td>\n",
       "      <td>Spectre</td>\n",
       "      <td>6.3</td>\n",
       "      <td>4466</td>\n",
       "      <td>[{\"cast_id\": 1, \"character\": \"James Bond\", \"cr...</td>\n",
       "      <td>[{\"credit_id\": \"54805967c3a36829b5002c41\", \"de...</td>\n",
       "    </tr>\n",
       "    <tr>\n",
       "      <th>3</th>\n",
       "      <td>250000000</td>\n",
       "      <td>[{\"id\": 28, \"name\": \"Action\"}, {\"id\": 80, \"nam...</td>\n",
       "      <td>http://www.thedarkknightrises.com/</td>\n",
       "      <td>49026</td>\n",
       "      <td>[{\"id\": 849, \"name\": \"dc comics\"}, {\"id\": 853,...</td>\n",
       "      <td>en</td>\n",
       "      <td>The Dark Knight Rises</td>\n",
       "      <td>Following the death of District Attorney Harve...</td>\n",
       "      <td>112.312950</td>\n",
       "      <td>[{\"name\": \"Legendary Pictures\", \"id\": 923}, {\"...</td>\n",
       "      <td>...</td>\n",
       "      <td>1084939099</td>\n",
       "      <td>165.0</td>\n",
       "      <td>[{\"iso_639_1\": \"en\", \"name\": \"English\"}]</td>\n",
       "      <td>Released</td>\n",
       "      <td>The Legend Ends</td>\n",
       "      <td>The Dark Knight Rises</td>\n",
       "      <td>7.6</td>\n",
       "      <td>9106</td>\n",
       "      <td>[{\"cast_id\": 2, \"character\": \"Bruce Wayne / Ba...</td>\n",
       "      <td>[{\"credit_id\": \"52fe4781c3a36847f81398c3\", \"de...</td>\n",
       "    </tr>\n",
       "    <tr>\n",
       "      <th>4</th>\n",
       "      <td>260000000</td>\n",
       "      <td>[{\"id\": 28, \"name\": \"Action\"}, {\"id\": 12, \"nam...</td>\n",
       "      <td>http://movies.disney.com/john-carter</td>\n",
       "      <td>49529</td>\n",
       "      <td>[{\"id\": 818, \"name\": \"based on novel\"}, {\"id\":...</td>\n",
       "      <td>en</td>\n",
       "      <td>John Carter</td>\n",
       "      <td>John Carter is a war-weary, former military ca...</td>\n",
       "      <td>43.926995</td>\n",
       "      <td>[{\"name\": \"Walt Disney Pictures\", \"id\": 2}]</td>\n",
       "      <td>...</td>\n",
       "      <td>284139100</td>\n",
       "      <td>132.0</td>\n",
       "      <td>[{\"iso_639_1\": \"en\", \"name\": \"English\"}]</td>\n",
       "      <td>Released</td>\n",
       "      <td>Lost in our world, found in another.</td>\n",
       "      <td>John Carter</td>\n",
       "      <td>6.1</td>\n",
       "      <td>2124</td>\n",
       "      <td>[{\"cast_id\": 5, \"character\": \"John Carter\", \"c...</td>\n",
       "      <td>[{\"credit_id\": \"52fe479ac3a36847f813eaa3\", \"de...</td>\n",
       "    </tr>\n",
       "  </tbody>\n",
       "</table>\n",
       "<p>5 rows × 22 columns</p>\n",
       "</div>"
      ],
      "text/plain": [
       "      budget                                             genres  \\\n",
       "0  237000000  [{\"id\": 28, \"name\": \"Action\"}, {\"id\": 12, \"nam...   \n",
       "1  300000000  [{\"id\": 12, \"name\": \"Adventure\"}, {\"id\": 14, \"...   \n",
       "2  245000000  [{\"id\": 28, \"name\": \"Action\"}, {\"id\": 12, \"nam...   \n",
       "3  250000000  [{\"id\": 28, \"name\": \"Action\"}, {\"id\": 80, \"nam...   \n",
       "4  260000000  [{\"id\": 28, \"name\": \"Action\"}, {\"id\": 12, \"nam...   \n",
       "\n",
       "                                       homepage      id  \\\n",
       "0                   http://www.avatarmovie.com/   19995   \n",
       "1  http://disney.go.com/disneypictures/pirates/     285   \n",
       "2   http://www.sonypictures.com/movies/spectre/  206647   \n",
       "3            http://www.thedarkknightrises.com/   49026   \n",
       "4          http://movies.disney.com/john-carter   49529   \n",
       "\n",
       "                                            keywords original_language  \\\n",
       "0  [{\"id\": 1463, \"name\": \"culture clash\"}, {\"id\":...                en   \n",
       "1  [{\"id\": 270, \"name\": \"ocean\"}, {\"id\": 726, \"na...                en   \n",
       "2  [{\"id\": 470, \"name\": \"spy\"}, {\"id\": 818, \"name...                en   \n",
       "3  [{\"id\": 849, \"name\": \"dc comics\"}, {\"id\": 853,...                en   \n",
       "4  [{\"id\": 818, \"name\": \"based on novel\"}, {\"id\":...                en   \n",
       "\n",
       "                             original_title  \\\n",
       "0                                    Avatar   \n",
       "1  Pirates of the Caribbean: At World's End   \n",
       "2                                   Spectre   \n",
       "3                     The Dark Knight Rises   \n",
       "4                               John Carter   \n",
       "\n",
       "                                            overview  popularity  \\\n",
       "0  In the 22nd century, a paraplegic Marine is di...  150.437577   \n",
       "1  Captain Barbossa, long believed to be dead, ha...  139.082615   \n",
       "2  A cryptic message from Bond’s past sends him o...  107.376788   \n",
       "3  Following the death of District Attorney Harve...  112.312950   \n",
       "4  John Carter is a war-weary, former military ca...   43.926995   \n",
       "\n",
       "                                production_companies  ...     revenue runtime  \\\n",
       "0  [{\"name\": \"Ingenious Film Partners\", \"id\": 289...  ...  2787965087   162.0   \n",
       "1  [{\"name\": \"Walt Disney Pictures\", \"id\": 2}, {\"...  ...   961000000   169.0   \n",
       "2  [{\"name\": \"Columbia Pictures\", \"id\": 5}, {\"nam...  ...   880674609   148.0   \n",
       "3  [{\"name\": \"Legendary Pictures\", \"id\": 923}, {\"...  ...  1084939099   165.0   \n",
       "4        [{\"name\": \"Walt Disney Pictures\", \"id\": 2}]  ...   284139100   132.0   \n",
       "\n",
       "                                    spoken_languages    status  \\\n",
       "0  [{\"iso_639_1\": \"en\", \"name\": \"English\"}, {\"iso...  Released   \n",
       "1           [{\"iso_639_1\": \"en\", \"name\": \"English\"}]  Released   \n",
       "2  [{\"iso_639_1\": \"fr\", \"name\": \"Fran\\u00e7ais\"},...  Released   \n",
       "3           [{\"iso_639_1\": \"en\", \"name\": \"English\"}]  Released   \n",
       "4           [{\"iso_639_1\": \"en\", \"name\": \"English\"}]  Released   \n",
       "\n",
       "                                          tagline  \\\n",
       "0                     Enter the World of Pandora.   \n",
       "1  At the end of the world, the adventure begins.   \n",
       "2                           A Plan No One Escapes   \n",
       "3                                 The Legend Ends   \n",
       "4            Lost in our world, found in another.   \n",
       "\n",
       "                                      title vote_average vote_count  \\\n",
       "0                                    Avatar          7.2      11800   \n",
       "1  Pirates of the Caribbean: At World's End          6.9       4500   \n",
       "2                                   Spectre          6.3       4466   \n",
       "3                     The Dark Knight Rises          7.6       9106   \n",
       "4                               John Carter          6.1       2124   \n",
       "\n",
       "                                                cast  \\\n",
       "0  [{\"cast_id\": 242, \"character\": \"Jake Sully\", \"...   \n",
       "1  [{\"cast_id\": 4, \"character\": \"Captain Jack Spa...   \n",
       "2  [{\"cast_id\": 1, \"character\": \"James Bond\", \"cr...   \n",
       "3  [{\"cast_id\": 2, \"character\": \"Bruce Wayne / Ba...   \n",
       "4  [{\"cast_id\": 5, \"character\": \"John Carter\", \"c...   \n",
       "\n",
       "                                                crew  \n",
       "0  [{\"credit_id\": \"52fe48009251416c750aca23\", \"de...  \n",
       "1  [{\"credit_id\": \"52fe4232c3a36847f800b579\", \"de...  \n",
       "2  [{\"credit_id\": \"54805967c3a36829b5002c41\", \"de...  \n",
       "3  [{\"credit_id\": \"52fe4781c3a36847f81398c3\", \"de...  \n",
       "4  [{\"credit_id\": \"52fe479ac3a36847f813eaa3\", \"de...  \n",
       "\n",
       "[5 rows x 22 columns]"
      ]
     },
     "execution_count": 105,
     "metadata": {},
     "output_type": "execute_result"
    }
   ],
   "source": [
    "df1.columns = ['id', 'title', 'cast', 'crew']\n",
    "df2 = df2.merge(df1)\n",
    "df2.head()"
   ]
  },
  {
   "cell_type": "markdown",
   "id": "121bf599",
   "metadata": {},
   "source": [
    "# 인구통계학적 필터링(Demographic Filtering)\n",
    " - 이를 시작하기 앞서\n",
    "  - 우리는 영화 점수 및 비율을 위한 평가 지표가 필요하다\n",
    "  - 모든 영화 점수 계산\n",
    "  - 점수를 정렬하고 사용자에게 최고의 영화를 추천하자\n",
    "  \n",
    "우리는 영화의 평균 평점을 점수로 사용할 수 있지만, 평균 시청률이 8.9점으로 3표만 있는 영화는 평균 7.8점이지만 40표로 더 나은 것으로 간주될 수 없기 때문에 이를 사용하는 것은 공정하지 않을 것이다. 그래서 이 커널에서는. IMDB의 가중 평균(wr)을 사용한다.   \n",
    "\n",
    "$$Weighted \\, Rating(WR)=(\\frac{v}{v+m}.R) + (\\frac{m}{v+m}.C)$$\n",
    "\n",
    " * v는 영화 득표 수\n",
    " * m은 차트에 등재에 필요한 최소 득표 수\n",
    " * R은 영화 평균 평점\n",
    " * C는 전체 보고서의 평균 득표\n",
    " \n",
    " 우리는 이미 **v(vote_conut)**와 **R(vote_average)** 를 가지고 있으며 C는 다음과 같이 계산할 수 있다."
   ]
  },
  {
   "cell_type": "code",
   "execution_count": 106,
   "id": "cb0e8a8d",
   "metadata": {},
   "outputs": [
    {
     "data": {
      "text/plain": [
       "6.092171559442011"
      ]
     },
     "execution_count": 106,
     "metadata": {},
     "output_type": "execute_result"
    }
   ],
   "source": [
    "C = df2['vote_average'].mean()\n",
    "C"
   ]
  },
  {
   "cell_type": "markdown",
   "id": "6de0c78d",
   "metadata": {},
   "source": [
    "모든 영화의 평균 평점은 10점 척도 기준 6점이다. 다음 단계는 차트에 나열된 필요한 최소 투표값인 m에 대한 적절한 값을 결정하는 것이다.  \n",
    "우리는 90번째 백분위수를 컷오프로 사용할 것이다. 즉, 영화가 차트에 등장하려면, 목록에 있는 영화의 최소 90%보다 더 많은 표를 얻어야 한다. "
   ]
  },
  {
   "cell_type": "code",
   "execution_count": 107,
   "id": "ae4715bb",
   "metadata": {},
   "outputs": [
    {
     "data": {
      "text/plain": [
       "1838.4000000000015"
      ]
     },
     "execution_count": 107,
     "metadata": {},
     "output_type": "execute_result"
    }
   ],
   "source": [
    "m = df2['vote_count'].quantile(0.9)\n",
    "m"
   ]
  },
  {
   "cell_type": "markdown",
   "id": "bf1f14fd",
   "metadata": {},
   "source": [
    "이제, 우리는 차트에서 적합한 영화를 걸러낼 수 있다."
   ]
  },
  {
   "cell_type": "code",
   "execution_count": 108,
   "id": "96ee8260",
   "metadata": {},
   "outputs": [
    {
     "data": {
      "text/plain": [
       "(481, 22)"
      ]
     },
     "execution_count": 108,
     "metadata": {},
     "output_type": "execute_result"
    }
   ],
   "source": [
    "q_movies = df2.copy().loc[df2['vote_count'] >= m]\n",
    "q_movies.shape"
   ]
  },
  {
   "cell_type": "markdown",
   "id": "964640eb",
   "metadata": {},
   "source": [
    "우리는 이 목록에 481편의 영화가 있는 것을 알 수 있다. 이제, 우리는 자격을 갖춘 영화에 대한 지표를 계산해야 한다.   \n",
    "이를 위해, 우리는 함수 **weight_rating()**을 정의하고 새로운 기능 점수를 정의할 것이며, 그 중 이 함수를 자격을 갖춘 영화의 DataFrame에 적용해 계산할 것이다."
   ]
  },
  {
   "cell_type": "markdown",
   "id": "e2f3af7b",
   "metadata": {},
   "source": [
    "## 평가 함수"
   ]
  },
  {
   "cell_type": "code",
   "execution_count": 109,
   "id": "463799db",
   "metadata": {},
   "outputs": [],
   "source": [
    "def weight_rating(x, m=m, C=C):\n",
    "    v = x['vote_count']\n",
    "    R = x['vote_average']\n",
    "    # Calculation based on the IMDB formula\n",
    "    return (v/(v+m)*R) + (m/(m+v)*C)"
   ]
  },
  {
   "cell_type": "code",
   "execution_count": 110,
   "id": "bff04055",
   "metadata": {},
   "outputs": [],
   "source": [
    "# 새로운 변수 '점수'를 정의하고 weighted_rating로 값을 계산한다. \n",
    "q_movies['score'] = q_movies.apply(weight_rating, axis=1)"
   ]
  },
  {
   "cell_type": "markdown",
   "id": "2777863b",
   "metadata": {},
   "source": [
    "마지막으로 점수 변수를 바탕으로 DataFrame을 정렬하고 상위 10개 영화의 제목, 투표 수, 투표 평균 및 가중 평점 또는 점수를 출력해본다."
   ]
  },
  {
   "cell_type": "code",
   "execution_count": 111,
   "id": "c4999a9e",
   "metadata": {},
   "outputs": [
    {
     "data": {
      "text/html": [
       "<div>\n",
       "<style scoped>\n",
       "    .dataframe tbody tr th:only-of-type {\n",
       "        vertical-align: middle;\n",
       "    }\n",
       "\n",
       "    .dataframe tbody tr th {\n",
       "        vertical-align: top;\n",
       "    }\n",
       "\n",
       "    .dataframe thead th {\n",
       "        text-align: right;\n",
       "    }\n",
       "</style>\n",
       "<table border=\"1\" class=\"dataframe\">\n",
       "  <thead>\n",
       "    <tr style=\"text-align: right;\">\n",
       "      <th></th>\n",
       "      <th>title</th>\n",
       "      <th>vote_count</th>\n",
       "      <th>vote_average</th>\n",
       "      <th>score</th>\n",
       "    </tr>\n",
       "  </thead>\n",
       "  <tbody>\n",
       "    <tr>\n",
       "      <th>1881</th>\n",
       "      <td>The Shawshank Redemption</td>\n",
       "      <td>8205</td>\n",
       "      <td>8.5</td>\n",
       "      <td>8.059258</td>\n",
       "    </tr>\n",
       "    <tr>\n",
       "      <th>662</th>\n",
       "      <td>Fight Club</td>\n",
       "      <td>9413</td>\n",
       "      <td>8.3</td>\n",
       "      <td>7.939256</td>\n",
       "    </tr>\n",
       "    <tr>\n",
       "      <th>65</th>\n",
       "      <td>The Dark Knight</td>\n",
       "      <td>12002</td>\n",
       "      <td>8.2</td>\n",
       "      <td>7.920020</td>\n",
       "    </tr>\n",
       "    <tr>\n",
       "      <th>3232</th>\n",
       "      <td>Pulp Fiction</td>\n",
       "      <td>8428</td>\n",
       "      <td>8.3</td>\n",
       "      <td>7.904645</td>\n",
       "    </tr>\n",
       "    <tr>\n",
       "      <th>96</th>\n",
       "      <td>Inception</td>\n",
       "      <td>13752</td>\n",
       "      <td>8.1</td>\n",
       "      <td>7.863239</td>\n",
       "    </tr>\n",
       "    <tr>\n",
       "      <th>3337</th>\n",
       "      <td>The Godfather</td>\n",
       "      <td>5893</td>\n",
       "      <td>8.4</td>\n",
       "      <td>7.851236</td>\n",
       "    </tr>\n",
       "    <tr>\n",
       "      <th>95</th>\n",
       "      <td>Interstellar</td>\n",
       "      <td>10867</td>\n",
       "      <td>8.1</td>\n",
       "      <td>7.809479</td>\n",
       "    </tr>\n",
       "    <tr>\n",
       "      <th>809</th>\n",
       "      <td>Forrest Gump</td>\n",
       "      <td>7927</td>\n",
       "      <td>8.2</td>\n",
       "      <td>7.803188</td>\n",
       "    </tr>\n",
       "    <tr>\n",
       "      <th>329</th>\n",
       "      <td>The Lord of the Rings: The Return of the King</td>\n",
       "      <td>8064</td>\n",
       "      <td>8.1</td>\n",
       "      <td>7.727243</td>\n",
       "    </tr>\n",
       "    <tr>\n",
       "      <th>1990</th>\n",
       "      <td>The Empire Strikes Back</td>\n",
       "      <td>5879</td>\n",
       "      <td>8.2</td>\n",
       "      <td>7.697884</td>\n",
       "    </tr>\n",
       "    <tr>\n",
       "      <th>262</th>\n",
       "      <td>The Lord of the Rings: The Fellowship of the Ring</td>\n",
       "      <td>8705</td>\n",
       "      <td>8.0</td>\n",
       "      <td>7.667341</td>\n",
       "    </tr>\n",
       "    <tr>\n",
       "      <th>2912</th>\n",
       "      <td>Star Wars</td>\n",
       "      <td>6624</td>\n",
       "      <td>8.1</td>\n",
       "      <td>7.663813</td>\n",
       "    </tr>\n",
       "    <tr>\n",
       "      <th>1818</th>\n",
       "      <td>Schindler's List</td>\n",
       "      <td>4329</td>\n",
       "      <td>8.3</td>\n",
       "      <td>7.641883</td>\n",
       "    </tr>\n",
       "    <tr>\n",
       "      <th>3865</th>\n",
       "      <td>Whiplash</td>\n",
       "      <td>4254</td>\n",
       "      <td>8.3</td>\n",
       "      <td>7.633781</td>\n",
       "    </tr>\n",
       "    <tr>\n",
       "      <th>330</th>\n",
       "      <td>The Lord of the Rings: The Two Towers</td>\n",
       "      <td>7487</td>\n",
       "      <td>8.0</td>\n",
       "      <td>7.623893</td>\n",
       "    </tr>\n",
       "  </tbody>\n",
       "</table>\n",
       "</div>"
      ],
      "text/plain": [
       "                                                  title  vote_count  \\\n",
       "1881                           The Shawshank Redemption        8205   \n",
       "662                                          Fight Club        9413   \n",
       "65                                      The Dark Knight       12002   \n",
       "3232                                       Pulp Fiction        8428   \n",
       "96                                            Inception       13752   \n",
       "3337                                      The Godfather        5893   \n",
       "95                                         Interstellar       10867   \n",
       "809                                        Forrest Gump        7927   \n",
       "329       The Lord of the Rings: The Return of the King        8064   \n",
       "1990                            The Empire Strikes Back        5879   \n",
       "262   The Lord of the Rings: The Fellowship of the Ring        8705   \n",
       "2912                                          Star Wars        6624   \n",
       "1818                                   Schindler's List        4329   \n",
       "3865                                           Whiplash        4254   \n",
       "330               The Lord of the Rings: The Two Towers        7487   \n",
       "\n",
       "      vote_average     score  \n",
       "1881           8.5  8.059258  \n",
       "662            8.3  7.939256  \n",
       "65             8.2  7.920020  \n",
       "3232           8.3  7.904645  \n",
       "96             8.1  7.863239  \n",
       "3337           8.4  7.851236  \n",
       "95             8.1  7.809479  \n",
       "809            8.2  7.803188  \n",
       "329            8.1  7.727243  \n",
       "1990           8.2  7.697884  \n",
       "262            8.0  7.667341  \n",
       "2912           8.1  7.663813  \n",
       "1818           8.3  7.641883  \n",
       "3865           8.3  7.633781  \n",
       "330            8.0  7.623893  "
      ]
     },
     "execution_count": 111,
     "metadata": {},
     "output_type": "execute_result"
    }
   ],
   "source": [
    "# 위에서 계산된 점수에 따라 영화 정렬\n",
    "q_movies = q_movies.sort_values('score', ascending=False)\n",
    "\n",
    "# 상위 15개 영화 출력\n",
    "q_movies[['title', 'vote_count', 'vote_average', 'score']].head(15)"
   ]
  },
  {
   "cell_type": "markdown",
   "id": "b5103074",
   "metadata": {},
   "source": [
    "우리는 첫 번째(매우 기본적이지만) 추천 시스템을 만들었다. 해당 시스템의 Trending Now 탭에서 우리는 매우 인기 있는 영화를 찾을 수 있으며 인기 열로 데이터를 정렬할 수 있다."
   ]
  },
  {
   "cell_type": "code",
   "execution_count": 112,
   "id": "6ff05323",
   "metadata": {},
   "outputs": [
    {
     "data": {
      "text/plain": [
       "Text(0.5, 1.0, 'Popular Movies')"
      ]
     },
     "execution_count": 112,
     "metadata": {},
     "output_type": "execute_result"
    },
    {
     "data": {
      "image/png": "[encoded data removed]",
      "text/plain": [
       "<Figure size 864x288 with 1 Axes>"
      ]
     },
     "metadata": {
      "needs_background": "light"
     },
     "output_type": "display_data"
    }
   ],
   "source": [
    "pop = df2.sort_values('popularity', ascending=False)\n",
    "import matplotlib.pyplot as plt\n",
    "plt.figure(figsize=(12,4))\n",
    "\n",
    "plt.barh(pop['title'].head(6), pop['popularity'].head(6), align='center', color = 'skyblue')\n",
    "plt.gca().invert_yaxis()  # gca() 현재 Axes()객체를 반환한다. // gca().invert_yaxis()-> y축을 뒤집는다.\n",
    "plt.xlabel('Popularity')\n",
    "plt.title('Popular Movies')"
   ]
  },
  {
   "cell_type": "markdown",
   "id": "8e80831b",
   "metadata": {},
   "source": [
    "> [df.gca().invert_yaxis() 참고](https://m.blog.naver.com/h920203/221684982345)"
   ]
  },
  {
   "cell_type": "markdown",
   "id": "6cc75c16",
   "metadata": {},
   "source": [
    "이제 명심해야 할 것은 이러한 인구통계학적 추천인이 모든 사용자에게 추천 영화의 일반적인 차트를 제공한다는 것이다.  \n",
    "그들은 특적 사용자의 관심과 취향에 민감하지 않다.  \n",
    "이것은 우리가 더 세련된 **Content Based Filtering**으로 넘어갈 이유이다. "
   ]
  },
  {
   "attachments": {},
   "cell_type": "markdown",
   "id": "a82e1c54",
   "metadata": {},
   "source": [
    "# 콘텐츠 기반 필터링(Content Based Filtering)\n",
    "영화 콘텐츠를(개요, 배우, 제작진, 키워드, 문구 등) 기반으로 하는 해당 추천 시스템은 다른 영화와의 유사성을 찾는데 사용된다.  \n",
    "그로인해 비슷할 가능성이 가장 높은 영화를 추천한다. \n",
    "\n",
    "\n",
    "![nn](https://image.ibb.co/f6mDXU/conten.png![image.png](attachment:image.png))\n"
   ]
  },
  {
   "cell_type": "markdown",
   "id": "55ebaba0",
   "metadata": {},
   "source": [
    "## 플롯 설명 기반 추천자(Plot description based Recommender)\n",
    "---\n",
    "우리는 줄거리 설명을 기반으로 모든 영화의 쌍별(pairwise) 유사성 점수를 계산하고 그 유사성 점수를 기반으로 영화를 추천할 것이다.  \n",
    "플롯 설명은 데이터 세트의 개요 변수에 나와 있다. 자료를 확인해보자"
   ]
  },
  {
   "cell_type": "code",
   "execution_count": 113,
   "id": "f19a5120",
   "metadata": {},
   "outputs": [
    {
     "data": {
      "text/plain": [
       "0    In the 22nd century, a paraplegic Marine is di...\n",
       "1    Captain Barbossa, long believed to be dead, ha...\n",
       "2    A cryptic message from Bond’s past sends him o...\n",
       "3    Following the death of District Attorney Harve...\n",
       "4    John Carter is a war-weary, former military ca...\n",
       "Name: overview, dtype: object"
      ]
     },
     "execution_count": 113,
     "metadata": {},
     "output_type": "execute_result"
    }
   ],
   "source": [
    "df2['overview'].head(5)"
   ]
  },
  {
   "cell_type": "markdown",
   "id": "fabd8250",
   "metadata": {},
   "source": [
    "이전에 약간의 텍스트 처리를 한 적이 있다면 누구라도 개요의 단어 벡터를 변화해야 한다는 것을 알 수 있다.   \n",
    "이제 각 개요에 대한 TF(Term Frequency-Inverse Document Frequency) 벡터를 계산할 것이다.  \n",
    "\n",
    "만약 빈도라는 용어가 궁금하다면, 이는 문서에서 단어의 상대적 빈도이며 **(term instance/total instance)**로 주어진다. 역문서 빈도는 용어가 **log*(number of documents/documents with term)**로 주어지는 문서의 상대적인 수이다.   \n",
    "나타나는 문서에 대한 각 단어의 전반적인 중요성은 **TF*IDF**와 같다.\n",
    "\n",
    "이렇게 하면 각 열이 개요 어휘(적어도 하나의 문서에 나타나는 모든 단어)의 단어를 나타내고 각 행이 이전과 같이 영화를 나타내는 행렬을 제공한다.  \n",
    "이것은 줄거리 개요에서 자주 발생하는 단어의 중요성을 줄이기 위해 수행되므로 최종 유사성 점수를 계산하는 데 있어 중요성을 줄이기 위해 수행된다.  \n",
    "\n",
    "다행히도, scikit-learn은 몇 줄로 TF-IDF 행렬을 생성하는 내장된 TfidfVectorizer 클래스를 제공한다. "
   ]
  },
  {
   "cell_type": "code",
   "execution_count": 114,
   "id": "4edbe254",
   "metadata": {},
   "outputs": [
    {
     "data": {
      "text/plain": [
       "(4803, 20978)"
      ]
     },
     "execution_count": 114,
     "metadata": {},
     "output_type": "execute_result"
    }
   ],
   "source": [
    "# scikit-learn에서 TfidfVectorizer import\n",
    "from sklearn.feature_extraction.text import TfidfVectorizer\n",
    "\n",
    "# TF-IDF vecotrizer 객체 정의. 영어의 'the', 'a'와 같은 단어 제거\n",
    "tfidf = TfidfVectorizer(stop_words='english')\n",
    "\n",
    "# NaN값은 공백 문자로 치환\n",
    "df2['overview'] = df2['overview'].fillna('')\n",
    "\n",
    "# 데이터를 피팅하고 변환해 필요한 TF-IDF 행렬을 구성\n",
    "tfidf_matrix = tfidf.fit_transform(df2['overview'])\n",
    "\n",
    "# tfidf_matrix 결과물 형태\n",
    "tfidf_matrix.shape"
   ]
  },
  {
   "cell_type": "markdown",
   "id": "a6556a60",
   "metadata": {},
   "source": [
    "우리는 데이터셋에서 4800편의 영화를 묘사하기 위해 20,000개 이상의 다른 단어가 사용되었음을 알 수 있다.  \n",
    "\n",
    "이 행렬을 통해 유사성 점수를 계산할 수 있으며 유클리드, 피어슨, 코사인 유사성의 방법을 사용할 수 있다.\n",
    "어떤 점수가 최고인지에 대한 답은 없다. 점수는 시나리오에따라 다르게 작동하므로 종종 다른 지표로 시험하는 것이 좋다. \n",
    "\n",
    "우리는 두 영화 사이의 유사성을 나타내는 숫자 양을 계산하기 위해 코사인 유사성을 사용할 것이다. \n",
    "우리는 코사인 유사성 점수가 크기와 무관하고 상대적으로 계산하기 쉽고 빠르기 때문에 사용할 것이며 해당 점수는 다음과 같이 정의된다.  \n",
    "\n",
    "$$similarity = cos(Ø) = \\frac{A・B}{||A||||B||} = \\frac{\\sum_{i=1}^{n}A_iB_i}{\\sqrt {\\sum_{i=1}^{n}A_i^2} \\sqrt{\\sum_{i=1}^{n}B_i^2}}$$\n",
    "\n",
    "우리는 TF-IDF 벡터화를 사용했기 때문에, 점곱을 계산하면 코사인 유사성 점수를 직접 줄 것이다. \n",
    "따라서, 우리는 cosine_similarities()대신 sklearn의 linear_kernel()을 사용할 것이다."
   ]
  },
  {
   "cell_type": "code",
   "execution_count": 115,
   "id": "51f8d03b",
   "metadata": {},
   "outputs": [],
   "source": [
    "from sklearn.metrics.pairwise import linear_kernel\n",
    "\n",
    "# 코사인 유사도 평가\n",
    "cosine_sim = linear_kernel(tfidf_matrix, tfidf_matrix)"
   ]
  },
  {
   "cell_type": "markdown",
   "id": "369884ef",
   "metadata": {},
   "source": [
    "우리는 영화 제목을 입력으로 받고 가장 유사한 10편의 영화 목록을 출력하는 함수를 정의할 것이다.  \n",
    "첫째, 이를 위해 우리는 영화 제목과 DataFrame 지수의 역매핑이 필요하다.\n",
    "즉, 제목이 주어진 메타데이터 DataFrame에서 동영상의 색인을 식별하는 메커니즘이 필요하다."
   ]
  },
  {
   "cell_type": "code",
   "execution_count": 116,
   "id": "85ef1f4b",
   "metadata": {},
   "outputs": [],
   "source": [
    "# 인덱스와 영화 제목 역구성 \n",
    "indices = pd.Series(df2.index, index = df2['title']).drop_duplicates()"
   ]
  },
  {
   "cell_type": "markdown",
   "id": "fe5c715a",
   "metadata": {},
   "source": [
    "이제 추천 기능을 정의할 수 있는 좋은 위치에 있으며 아래는 우리가 따른 다음 단계이다.  \n",
    "\n",
    "* 제목이 주어진 영화의 색인 가져오기\n",
    "* 모든 영화와 함께 특정 영화의 코사인 유사도 점수 목록을 가져온다. (첫 번째가 요소 위치이고 두 번째는 유사성 점수인 튜플 목록으로 변환한다.)\n",
    "* 유사성 점수를 기반으로 앞서 언급한 튜플 목록을 정렬하시오. (즉, 두 번째 요소이다.)\n",
    "* 이 목록의 상위 10개 요소를 얻어야 한다. 자신을 언급하기 때문에 첫 번째 요소를 무시한다. (특정 영화와 가장 유사한 영화는 해당 영화 자신이다.)\n",
    "* 상단 요소의 인덱스는 해당하는 제목을 반환한다. "
   ]
  },
  {
   "cell_type": "code",
   "execution_count": 117,
   "id": "3899069a",
   "metadata": {},
   "outputs": [],
   "source": [
    "# 영화 제목을 입력으로 받아들이고 가장 유사한 영화를 출력하는 함수\n",
    "def get_recommendations(title, cosine_sim = cosine_sim):\n",
    "    # 제목과 일치하는 영화 색인\n",
    "    idx = indices[title]\n",
    "    \n",
    "    # 해당 영화와 함께 모든 영화의 pairwise 유사성 점수를 출력\n",
    "    sim_scores = list(enumerate(cosine_sim[idx]))\n",
    "    \n",
    "    # 유사성 점수를 기반으로한 영화 정렬\n",
    "    sim_scores = sorted(sim_scores, key=lambda x : x[1], reverse = True)\n",
    "    \n",
    "    # 유사도 점수 높은 상위 10개 영화 출력\n",
    "    sim_scores = sim_scores[1:11]\n",
    "    \n",
    "    # 영화 인덱스\n",
    "    movie_indices = [i[0] for i in sim_scores]\n",
    "    \n",
    "    # 유사도 상위 10개 영화 출력\n",
    "    return df2['title'].iloc[movie_indices]"
   ]
  },
  {
   "cell_type": "code",
   "execution_count": 118,
   "id": "54673e6c",
   "metadata": {},
   "outputs": [
    {
     "data": {
      "text/plain": [
       "65                              The Dark Knight\n",
       "299                              Batman Forever\n",
       "428                              Batman Returns\n",
       "1359                                     Batman\n",
       "3854    Batman: The Dark Knight Returns, Part 2\n",
       "119                               Batman Begins\n",
       "2507                                  Slow Burn\n",
       "9            Batman v Superman: Dawn of Justice\n",
       "1181                                        JFK\n",
       "210                              Batman & Robin\n",
       "Name: title, dtype: object"
      ]
     },
     "execution_count": 118,
     "metadata": {},
     "output_type": "execute_result"
    }
   ],
   "source": [
    "get_recommendations('The Dark Knight Rises')"
   ]
  },
  {
   "cell_type": "code",
   "execution_count": 119,
   "id": "2a8e6ee6",
   "metadata": {},
   "outputs": [
    {
     "data": {
      "text/plain": [
       "7               Avengers: Age of Ultron\n",
       "3144                            Plastic\n",
       "1715                            Timecop\n",
       "4124                 This Thing of Ours\n",
       "3311              Thank You for Smoking\n",
       "3033                      The Corruptor\n",
       "588     Wall Street: Money Never Sleeps\n",
       "2136         Team America: World Police\n",
       "1468                       The Fountain\n",
       "1286                        Snowpiercer\n",
       "Name: title, dtype: object"
      ]
     },
     "execution_count": 119,
     "metadata": {},
     "output_type": "execute_result"
    }
   ],
   "source": [
    "get_recommendations('The Avengers')"
   ]
  },
  {
   "cell_type": "markdown",
   "id": "f013125b",
   "metadata": {},
   "source": [
    "우리 시스템은 비슷한 줄거리를 가진 영화를 찾는데는 괜찮았으나 추천의 품질은 썩 좋지 못하다.  \n",
    "\"The Dark Knight Rises\"는 모든 베트맨 영화를 반환하는 반면, 그 영화를 좋아했던 사람들은 크리스토퍼 놀란의 다른 영화를 즐길 가능성이 더 높다. \n",
    "이것은 현재 시스템에 의해 포착될 수 없는 것이다. "
   ]
  },
  {
   "cell_type": "markdown",
   "id": "181b6fe8",
   "metadata": {},
   "source": [
    "## 크레딧, 장르 및 키워드 기반 추천\n",
    "---\n",
    "더 나은 메타데이터의 사용으로 추천의 품질이 증가할 것은 더 말할 것도 없으며 그것이 바로 이번 섹션에서 할 일이다. \n",
    "우리는 배우, 감독, 장르 및 영화 줄거리 등과 같은 메타데이터를 기반으로 추천 시스템을 구축할 것이다. \n",
    "\n",
    "출연진, 제작진 및 키워드 변수에서 우리는 가장 중요한 세 명의 배우, 감독과 그 영화와 관련된 키워드를 추출해야 한다. \n",
    "현재, 우리의 데이터는 '문자화된' 목록의 형태로 존재하며, 우리는 그것을 안전하고 사용 가능한 구조로 변환해야 한다. "
   ]
  },
  {
   "cell_type": "code",
   "execution_count": 121,
   "id": "c896f07c",
   "metadata": {},
   "outputs": [],
   "source": [
    "# 문자열화된 변수를 해당 파이썬 객체로 구문 분석한다. \n",
    "from ast import literal_eval\n",
    "\n",
    "features = ['cast', 'crew', 'keywords', 'genres']\n",
    "for feature in features:\n",
    "    df2[feature] = df2[feature].apply(literal_eval)"
   ]
  },
  {
   "cell_type": "markdown",
   "id": "1fd0ff24",
   "metadata": {},
   "source": [
    "다음으로, 우리는 각 변수에서 필요한 정보를 추출하는데 도움이 될 함수를 작성할 것이다."
   ]
  },
  {
   "cell_type": "code",
   "execution_count": 122,
   "id": "2e423600",
   "metadata": {},
   "outputs": [],
   "source": [
    "# 제작자 변수에서 감독의 이름을 추출하고 이름이 없다면 NaN을 반환한다.\n",
    "def get_director(X):\n",
    "    for i in X:\n",
    "        if i['job'] == 'Director':\n",
    "            return i['name']\n",
    "    return np.nan"
   ]
  },
  {
   "cell_type": "code",
   "execution_count": 123,
   "id": "6c44b98e",
   "metadata": {},
   "outputs": [],
   "source": [
    "# 상위 3개 교소 또는 전체 목록 중 더 많은 것을 반환한다. \n",
    "def get_list(x):\n",
    "    if isinstance(x, list):\n",
    "        names = [i['name'] for i in x]\n",
    "        # 세 개 이상의 요소가 있는지 확인한다. 만약 3개 이상이면 첫 세 개만 반환하고 그렇지 않을 전체 목록을 반환한다. \n",
    "        if len(names) > 3:\n",
    "            names = names[:3]\n",
    "        return names\n",
    "    \n",
    "    # 유실/유형 데이터의 경우 빈 목록을 반환한다. \n",
    "    return []"
   ]
  },
  {
   "cell_type": "code",
   "execution_count": 124,
   "id": "cf909681",
   "metadata": {},
   "outputs": [],
   "source": [
    "# 적절한 형태의 감독, 출연진, 장르 및 키워드 변수를 새롭게 정의\n",
    "df2['director'] = df2['crew'].apply(get_director)\n",
    "\n",
    "features = ['cast', 'keywords', 'genres']\n",
    "for feature in features:\n",
    "    df2[feature] = df2[feature].apply(get_list)"
   ]
  },
  {
   "cell_type": "code",
   "execution_count": 125,
   "id": "617699f9",
   "metadata": {},
   "outputs": [
    {
     "data": {
      "text/html": [
       "<div>\n",
       "<style scoped>\n",
       "    .dataframe tbody tr th:only-of-type {\n",
       "        vertical-align: middle;\n",
       "    }\n",
       "\n",
       "    .dataframe tbody tr th {\n",
       "        vertical-align: top;\n",
       "    }\n",
       "\n",
       "    .dataframe thead th {\n",
       "        text-align: right;\n",
       "    }\n",
       "</style>\n",
       "<table border=\"1\" class=\"dataframe\">\n",
       "  <thead>\n",
       "    <tr style=\"text-align: right;\">\n",
       "      <th></th>\n",
       "      <th>title</th>\n",
       "      <th>cast</th>\n",
       "      <th>director</th>\n",
       "      <th>keywords</th>\n",
       "      <th>genres</th>\n",
       "    </tr>\n",
       "  </thead>\n",
       "  <tbody>\n",
       "    <tr>\n",
       "      <th>0</th>\n",
       "      <td>Avatar</td>\n",
       "      <td>[Sam Worthington, Zoe Saldana, Sigourney Weaver]</td>\n",
       "      <td>James Cameron</td>\n",
       "      <td>[culture clash, future, space war]</td>\n",
       "      <td>[Action, Adventure, Fantasy]</td>\n",
       "    </tr>\n",
       "    <tr>\n",
       "      <th>1</th>\n",
       "      <td>Pirates of the Caribbean: At World's End</td>\n",
       "      <td>[Johnny Depp, Orlando Bloom, Keira Knightley]</td>\n",
       "      <td>Gore Verbinski</td>\n",
       "      <td>[ocean, drug abuse, exotic island]</td>\n",
       "      <td>[Adventure, Fantasy, Action]</td>\n",
       "    </tr>\n",
       "    <tr>\n",
       "      <th>2</th>\n",
       "      <td>Spectre</td>\n",
       "      <td>[Daniel Craig, Christoph Waltz, Léa Seydoux]</td>\n",
       "      <td>Sam Mendes</td>\n",
       "      <td>[spy, based on novel, secret agent]</td>\n",
       "      <td>[Action, Adventure, Crime]</td>\n",
       "    </tr>\n",
       "  </tbody>\n",
       "</table>\n",
       "</div>"
      ],
      "text/plain": [
       "                                      title  \\\n",
       "0                                    Avatar   \n",
       "1  Pirates of the Caribbean: At World's End   \n",
       "2                                   Spectre   \n",
       "\n",
       "                                               cast        director  \\\n",
       "0  [Sam Worthington, Zoe Saldana, Sigourney Weaver]   James Cameron   \n",
       "1     [Johnny Depp, Orlando Bloom, Keira Knightley]  Gore Verbinski   \n",
       "2      [Daniel Craig, Christoph Waltz, Léa Seydoux]      Sam Mendes   \n",
       "\n",
       "                              keywords                        genres  \n",
       "0   [culture clash, future, space war]  [Action, Adventure, Fantasy]  \n",
       "1   [ocean, drug abuse, exotic island]  [Adventure, Fantasy, Action]  \n",
       "2  [spy, based on novel, secret agent]    [Action, Adventure, Crime]  "
      ]
     },
     "execution_count": 125,
     "metadata": {},
     "output_type": "execute_result"
    }
   ],
   "source": [
    "# 처음 3편의 영화를 새로운 변수로 출력\n",
    "df2[['title', 'cast', 'director','keywords','genres']].head(3)"
   ]
  },
  {
   "cell_type": "markdown",
   "id": "1abe9583",
   "metadata": {},
   "source": [
    "다음 단계는 이름과 키워드 인스턴스를 소문자로 변환하고 그들 사이의 모든 공백을 벗기는 것이다. \n",
    "이것은 우리의 벡터화가 '조니 뎁'과 '조니 갈레키'의 조니를 동일하게 계산하지 않도록 한다. "
   ]
  },
  {
   "cell_type": "code",
   "execution_count": 127,
   "id": "9ad4624c",
   "metadata": {},
   "outputs": [],
   "source": [
    "# 모든 문자열의 대소문자와 공백의 스트립 이름으로 변환하는 함수\n",
    "def clean_data(x):\n",
    "    if isinstance(x, list):\n",
    "        return [str.lower(i.replace(\" \", \"\")) for i in x]\n",
    "    else:\n",
    "        # 감독 존재 여부 확인하고 없을 경우 공백 문자 출력\n",
    "        if isinstance(x, str):\n",
    "            return str.lower(x.replace(\" \", \"\"))\n",
    "        else:\n",
    "            return ''"
   ]
  },
  {
   "cell_type": "code",
   "execution_count": 128,
   "id": "1530759a",
   "metadata": {},
   "outputs": [],
   "source": [
    "# 변수들에 clean_data 함수 적용\n",
    "features = ['cast', 'keywords', 'director', 'genres']\n",
    "\n",
    "for feature in features:\n",
    "    df2[feature] = df2[feature].apply(clean_data)"
   ]
  },
  {
   "cell_type": "markdown",
   "id": "047b7f30",
   "metadata": {},
   "source": [
    "우리는 이제 벡터화(배우, 감독 및 키워드)에 공급하려는 모든 메타데이터를 포함하는 문자열인 \"메타데이터 수프\"를 만들 수 있는 위치에 있다."
   ]
  },
  {
   "cell_type": "code",
   "execution_count": 130,
   "id": "cfc38723",
   "metadata": {},
   "outputs": [],
   "source": [
    "def create_soup(x):\n",
    "    return ' '.join(x['keywords']) + ' '+ ' '.join(x['cast'])+ ' ' +x['director'] + ' ' + ' '.join(x['genres'])\n",
    "\n",
    "df2['soup'] = df2.apply(create_soup, axis=1)"
   ]
  },
  {
   "cell_type": "markdown",
   "id": "3fbfe7a4",
   "metadata": {},
   "source": [
    "다음 단계는 플롯 설명 기반 추천으로 했던 것과 동일하다. 한 가지 중요한 차이점은 TF-IDF 대신 **CountVectorizer()**를 사용한다는 것이다. 이것은 우리가 상대적으로 더 많은 영화에서 연기하거나 감독한 경우 배우/감독의 가중치를 낮추고 싶지 않기 때문이며 이는 그다지 직관적이지 않다. "
   ]
  },
  {
   "cell_type": "code",
   "execution_count": 132,
   "id": "50c93387",
   "metadata": {},
   "outputs": [],
   "source": [
    "# CountVectorizer를 import하고 count matrix 생성\n",
    "from sklearn.feature_extraction.text import CountVectorizer\n",
    "\n",
    "count = CountVectorizer(stop_words = 'english')\n",
    "count_matrix = count.fit_transform(df2['soup'])"
   ]
  },
  {
   "cell_type": "code",
   "execution_count": 134,
   "id": "e8520fee",
   "metadata": {},
   "outputs": [],
   "source": [
    "# Compute the Cosine Similarity matrix based on the count_matrix\n",
    "from sklearn.metrics.pairwise import cosine_similarity\n",
    "\n",
    "cosine_sim2 = cosine_similarity(count_matrix, count_matrix)"
   ]
  },
  {
   "cell_type": "code",
   "execution_count": 135,
   "id": "e1f88676",
   "metadata": {},
   "outputs": [],
   "source": [
    "# 기본 DataFrame의 인덱스를 재설정하고 이전과 같이 역매핑을 구성.\n",
    "df2 = df2.reset_index()\n",
    "indices = pd.Series(df2.index, index=df2['title'])"
   ]
  },
  {
   "cell_type": "markdown",
   "id": "a5a76100",
   "metadata": {},
   "source": [
    "이제 새로운 cosine_sim2 행렬을 두 번째 인수로 전달해 get_recommendations()함수를 재사용할 수 있다."
   ]
  },
  {
   "cell_type": "code",
   "execution_count": 138,
   "id": "37262f3a",
   "metadata": {},
   "outputs": [
    {
     "data": {
      "text/plain": [
       "65               The Dark Knight\n",
       "119                Batman Begins\n",
       "4638    Amidst the Devil's Wings\n",
       "1196                The Prestige\n",
       "3073           Romeo Is Bleeding\n",
       "3326              Black November\n",
       "1503                      Takers\n",
       "1986                      Faster\n",
       "303                     Catwoman\n",
       "747               Gangster Squad\n",
       "Name: title, dtype: object"
      ]
     },
     "execution_count": 138,
     "metadata": {},
     "output_type": "execute_result"
    }
   ],
   "source": [
    "get_recommendations('The Dark Knight Rises', cosine_sim2)"
   ]
  },
  {
   "cell_type": "code",
   "execution_count": 139,
   "id": "e9c92d4e",
   "metadata": {},
   "outputs": [
    {
     "data": {
      "text/plain": [
       "867      The Godfather: Part III\n",
       "2731      The Godfather: Part II\n",
       "4638    Amidst the Devil's Wings\n",
       "2649           The Son of No One\n",
       "1525              Apocalypse Now\n",
       "1018             The Cotton Club\n",
       "1170     The Talented Mr. Ripley\n",
       "1209               The Rainmaker\n",
       "1394               Donnie Brasco\n",
       "1850                    Scarface\n",
       "Name: title, dtype: object"
      ]
     },
     "execution_count": 139,
     "metadata": {},
     "output_type": "execute_result"
    }
   ],
   "source": [
    "get_recommendations('The Godfather', cosine_sim2)"
   ]
  },
  {
   "cell_type": "code",
   "execution_count": 141,
   "id": "15e3efa5",
   "metadata": {},
   "outputs": [
    {
     "data": {
      "text/plain": [
       "7                  Avengers: Age of Ultron\n",
       "26              Captain America: Civil War\n",
       "79                              Iron Man 2\n",
       "169     Captain America: The First Avenger\n",
       "174                    The Incredible Hulk\n",
       "85     Captain America: The Winter Soldier\n",
       "31                              Iron Man 3\n",
       "33                   X-Men: The Last Stand\n",
       "68                                Iron Man\n",
       "94                 Guardians of the Galaxy\n",
       "Name: title, dtype: object"
      ]
     },
     "execution_count": 141,
     "metadata": {},
     "output_type": "execute_result"
    }
   ],
   "source": [
    "get_recommendations('The Avengers', cosine_sim2)"
   ]
  },
  {
   "cell_type": "markdown",
   "id": "20c3a5c2",
   "metadata": {},
   "source": [
    "추천 시스템이 더 많은 메타데이터로 인해 더 많은 정보를 포착하는데 성공했고 이는 더 나은 추천을 제공했다는 것을 알 수 있다. \n",
    "마블이나 DC코믹스 팬들은 같은 제작사의 영화를 좋아할 가능성이 더 높다. 따라서, 위 함수에 production_company를 추가할 수 있다. \n",
    "우리는 또한 soup에 함수를 여러 번 추가해 감독에 가중치를 줄 수 있다. "
   ]
  },
  {
   "cell_type": "markdown",
   "id": "0b1868ac",
   "metadata": {},
   "source": [
    "# 협업 필터링(Collaborative Filtering)\n",
    "---\n",
    "> [협업 필터링 블로그 참조](https://hmkim312.github.io/posts/서프라이즈(Surprise)를_사용한_추천시스템(Recommendations)/)\n",
    "\n",
    "위 콘텐츠 기반 엔진은 몇 가지 심각한 한계가 있으며 그것은 특정 영화에 가까운 영화만 제안이 가능하다는 점이다. \n",
    "즉, 취향을 포착하고 장르 전반에 걸쳐 권장 사항을 제공할 수 없다. \n",
    "\n",
    "또한, 우리가 만든 엔진은 사용자의 개인적인 취향과 편견을 포착하지 못한다는 점에서 개인화되지 못했다고 볼 수 있다.\n",
    "영화를 기반으로 한 추천을 우리 엔진에 문의하는 사람은 누구든 그 영화에 대해 동일한 추천을 받을 것이다. \n",
    "\n",
    "따라서, 이 섹션에서는 협업 필터링이라는 기술을 사용해 영화 시청자에게 추전할 것이며 이는 두 가지 유형이 있다.\n",
    "\n"
   ]
  },
  {
   "cell_type": "markdown",
   "id": "9fe44584",
   "metadata": {},
   "source": [
    "* 유저 기반 필터링(User based filtering)\n",
    " ```\n",
    " 이 시스템은 비슷한 사용자가 좋아했던 제품을 사용자에게 추천한다. 두 사용자 간의 유사성을 측정하기 위해 우리는 피어슨 상관관계 또는 코사인 유사성을 사용할 수 있다. 이 필터링 기술은 예시와 함께 설명할 수 있다.\n",
    "  다음 행렬에서 각 행은 사용자를 나타내는 반면, 열은 해당 사용자와 대상 사용자 간의 유사성을 기록하는 마지막 영화를 제외한 다른 영화에 해당한다. \n",
    "  각 셀은 사용자가 그 영화 주는 등급을 나타내며, 사용자 E를 목표로 가정한다. \n",
    " ```\n",
    " ![nn](https://cdn-images-1.medium.com/max/1000/1*9NBFo4AUQABKfoUOpE3F8Q.png)\n",
    " \n",
    " ```\n",
    " 사용자 A와 F는 사용자 E와 공통된 영화 등급을 공유하지 않기 때문에, 사용자 E와 유사점은 피어슨 상관 관계에 정의되어 있지 않다. \n",
    " 따라서, 우리는 사용자 B, C, D만 고려하면 된다. \n",
    " 피어슨 상관 관계를 바탕으로, 우리는 다음과 같은 유사성을 계산할 수 있다.\n",
    " ```\n",
    " ![nn](https://cdn-images-1.medium.com/max/1000/1*jZIMJzKM1hKTFftHfcSxRw.png)\n",
    " \n",
    " ```\n",
    " 위 표에서 피어슨 상관관계가 음수이기 때문에 사용자 D가 사용자 E와 매우 다르다는 것을 알 수 있다. \n",
    " 사용자 D는 \"Me Before You\"를 자신의 평균 평점보다 높게 평가했고, 사용자 E는 그와 반대이다. \n",
    " 이제, 우리는 사용자 E가 다른 사용자를 기반으로 평가하지 않은 영화의 빈칸을 채울 수 있다.\n",
    " ```\n",
    " ![nn](https://cdn-images-1.medium.com/max/1000/1*9TC6BrfxYttJwiATFAIFBg.png)"
   ]
  },
  {
   "cell_type": "markdown",
   "id": "ffec800d",
   "metadata": {},
   "source": [
    " 사용자 기반 CF를 계산하는 것은 간단하지만 몇 가지 문제가 있다.   \n",
    " 이 중 주요한 문제는 사용자의 선호도가 시간이 지남에 따라 바뀔 수 있다는 것이다.   \n",
    " 그것은 사용자를 기반으로 매트릭스를 미리 계산하면 성능이 좋지 않을 수 있음을 나타낸다.  \n",
    " 이를 해결하기 위해, 우리는 아이템 기반 CF를 적용할 수 있다.\n",
    " \n",
    " * 아이템 기반 협업 필터링(Item Based Collaborative Filtering)\n",
    " ```\n",
    " 사용자 간의 유사성을 측정하는 대신, 항목 기반 CF는 대상 사용자가 평가한 항목과의 유사성을 기반으로 항목을 권장한다. \n",
    " 마찬가지로, 유사성은 피어슨 상관 관계 또는 코사인 유사성으로 계산할 수 있다. \n",
    " 사용자 간 유사성 측정과의 차이점은 항목 기반 협업 필터링을 통해 사용자 CF가 하는 수평적 방식과 반대로 빈 칸을 수직으로 채운다는 것이다.\n",
    " 다음 표는 영화 \"Me Before You\"를 통해 빈 칸을 수직으로 채우는 방법을 보여준다.\n",
    " ```\n",
    " ![nn](https://cdn-images-1.medium.com/max/1000/1*LqFnWb-cm92HoMYBL840Ew.png)\n",
    " \n",
    " ```\n",
    " 아이템 기반 CF가 더 정적이기 때문에 동적 사용자 선호도에 의해 제기되는 문제를 성공적으로 방지한다.\n",
    " 그러나 이 방법에는 몇 가지 문제가 남아 있다. \n",
    " 첫째, 주요 쟁점은 확장성입니다. 계산은 고객과 제품 모두에 따라 성장합니다.\n",
    " 최악의 경우 복잡도는 O(mn)이며, 사용자 수가 m이고 항목이 n개입니다. \n",
    " 게다가, 희소성은 또 다른 걱정거리이다. \n",
    " 위의 표를 다시 보면, 매트릭스와 타이타닉의 등급을 모두 매긴 사용자는 단 한 명뿐이지만, 둘 사이의 유사성은 1입니다. 극단적인 경우, 우리는 수백만 명의 사용자를 가질 수 있고, 상당히 다른 두 영화 사이의 유사성은 단지 그들이 두 영화 모두를 순위에 올린 유일한 사용자에게 비슷한 순위를 가지고 있기 때문에 매우 높을 수 있다.\n",
    " ```"
   ]
  },
  {
   "cell_type": "markdown",
   "id": "8e112fba",
   "metadata": {},
   "source": [
    "## 단일 값 분해(Single Value Decomposition)\n",
    "---\n",
    "CF에 의해 생성된 확작성 및 희소성 문제를 처맇라는 한 가지 방법은 **잠재 요인 모델**을 활용해 사용자와 항목 간 유사성을 포착하는 것이다.   \n",
    "본질적으로, 우리는 추천 문제를 최적화 문제로 바꾸길 원하며 사용자가 주어진 항목의 등급을 얼마나 잘 예측하는 지 알 수 있다.  \n",
    "일반적인 메트릭 중 하나는 RMSE(Root Mean Square Error)이며 이는 **RMSE가 낮을수록 성능이 우수**하다. \n",
    "\n",
    "잠재적 요인이란사용자나 아이템이 가지고 있는 속성이나 개념을 설명하는 광범위한 아이디어로 예를 들어 음악의 경우 잠재적 요소는 음악이 속한 장르를 들 수 있다.  \n",
    "이제 사용할 SVD는 잠재적 요인을 추출해 효용 매트릭스의 크기를 감소시킨다.  \n",
    "본질적으로, 우리는 각 사용자와 항목을 r차원의 잠재 공간에 매핑한다. 따라서 사용자와 항목이 직접 비교될 때 사용자 간의 관계를 더 잘 이해할 수 있다. \n",
    "\n",
    "![nn](https://cdn-images-1.medium.com/max/800/1*GUw90kG2ltTd2k_iv3Vo0Q.png)\n",
    "\n",
    "이제 구현하는 방법을 살펴보자. 이전에 사용한 데이터셋에서는 userid(협동 필터링에 필요)가 없었기 때문에 다른 데이터 셋을 로드한다.\n",
    "아래 부터는 SVD를 구현하기 위해 서프라이즈 라이브러리를 사용할 것이다."
   ]
  },
  {
   "cell_type": "code",
   "execution_count": 147,
   "id": "89381b4e",
   "metadata": {},
   "outputs": [
    {
     "data": {
      "text/html": [
       "<div>\n",
       "<style scoped>\n",
       "    .dataframe tbody tr th:only-of-type {\n",
       "        vertical-align: middle;\n",
       "    }\n",
       "\n",
       "    .dataframe tbody tr th {\n",
       "        vertical-align: top;\n",
       "    }\n",
       "\n",
       "    .dataframe thead th {\n",
       "        text-align: right;\n",
       "    }\n",
       "</style>\n",
       "<table border=\"1\" class=\"dataframe\">\n",
       "  <thead>\n",
       "    <tr style=\"text-align: right;\">\n",
       "      <th></th>\n",
       "      <th>userId</th>\n",
       "      <th>movieId</th>\n",
       "      <th>rating</th>\n",
       "      <th>timestamp</th>\n",
       "    </tr>\n",
       "  </thead>\n",
       "  <tbody>\n",
       "    <tr>\n",
       "      <th>0</th>\n",
       "      <td>1</td>\n",
       "      <td>31</td>\n",
       "      <td>2.5</td>\n",
       "      <td>1260759144</td>\n",
       "    </tr>\n",
       "    <tr>\n",
       "      <th>1</th>\n",
       "      <td>1</td>\n",
       "      <td>1029</td>\n",
       "      <td>3.0</td>\n",
       "      <td>1260759179</td>\n",
       "    </tr>\n",
       "    <tr>\n",
       "      <th>2</th>\n",
       "      <td>1</td>\n",
       "      <td>1061</td>\n",
       "      <td>3.0</td>\n",
       "      <td>1260759182</td>\n",
       "    </tr>\n",
       "    <tr>\n",
       "      <th>3</th>\n",
       "      <td>1</td>\n",
       "      <td>1129</td>\n",
       "      <td>2.0</td>\n",
       "      <td>1260759185</td>\n",
       "    </tr>\n",
       "    <tr>\n",
       "      <th>4</th>\n",
       "      <td>1</td>\n",
       "      <td>1172</td>\n",
       "      <td>4.0</td>\n",
       "      <td>1260759205</td>\n",
       "    </tr>\n",
       "  </tbody>\n",
       "</table>\n",
       "</div>"
      ],
      "text/plain": [
       "   userId  movieId  rating   timestamp\n",
       "0       1       31     2.5  1260759144\n",
       "1       1     1029     3.0  1260759179\n",
       "2       1     1061     3.0  1260759182\n",
       "3       1     1129     2.0  1260759185\n",
       "4       1     1172     4.0  1260759205"
      ]
     },
     "execution_count": 147,
     "metadata": {},
     "output_type": "execute_result"
    }
   ],
   "source": [
    "from surprise import Reader, Dataset, SVD#, evaluate -> 2020년 1월 부로 변경됨.\n",
    "from surprise.model_selection import cross_validate\n",
    "reader = Reader()\n",
    "ratings = pd.read_csv('ratings_small.csv')\n",
    "ratings.head()"
   ]
  },
  {
   "cell_type": "markdown",
   "id": "fb531618",
   "metadata": {},
   "source": [
    "해당 데이터는 이전 영화 데이터와 달리 5점 척도로 평가된다는 것을 유의하자.\n"
   ]
  },
  {
   "cell_type": "code",
   "execution_count": 150,
   "id": "ae29bd32",
   "metadata": {},
   "outputs": [
    {
     "name": "stdout",
     "output_type": "stream",
     "text": [
      "Evaluating RMSE, MAE of algorithm SVD on 5 split(s).\n",
      "\n",
      "                  Fold 1  Fold 2  Fold 3  Fold 4  Fold 5  Mean    Std     \n",
      "RMSE (testset)    0.9046  0.8924  0.8950  0.9011  0.8868  0.8960  0.0063  \n",
      "MAE (testset)     0.6953  0.6881  0.6908  0.6916  0.6824  0.6896  0.0043  \n",
      "Fit time          6.25    6.22    6.24    6.22    6.30    6.24    0.03    \n",
      "Test time         0.14    0.14    0.14    0.34    0.14    0.18    0.08    \n"
     ]
    },
    {
     "data": {
      "text/plain": [
       "{'test_rmse': array([0.90458342, 0.89243812, 0.89501762, 0.90111454, 0.8868269 ]),\n",
       " 'test_mae': array([0.69529001, 0.68813132, 0.69081592, 0.69159705, 0.6824004 ]),\n",
       " 'fit_time': (6.24911093711853,\n",
       "  6.215618848800659,\n",
       "  6.238683223724365,\n",
       "  6.216423988342285,\n",
       "  6.298541069030762),\n",
       " 'test_time': (0.13922691345214844,\n",
       "  0.1398639678955078,\n",
       "  0.13851428031921387,\n",
       "  0.3390340805053711,\n",
       "  0.14035701751708984)}"
      ]
     },
     "execution_count": 150,
     "metadata": {},
     "output_type": "execute_result"
    }
   ],
   "source": [
    "data = Dataset.load_from_df(ratings[['userId','movieId','rating']],reader)\n",
    "\n",
    "svd = SVD()\n",
    "cross_validate(svd, data, measures=['RMSE','MAE'], cv = 5, verbose = True)"
   ]
  },
  {
   "cell_type": "markdown",
   "id": "3cc917b1",
   "metadata": {},
   "source": [
    "위의 결과로 약 0.89의 RMSE를 얻었는데, 이는 우리의 경우에 충분하다고 할 수 있다.  \n",
    "이제 데이터를 훈련하고 예측하도록 한다."
   ]
  },
  {
   "cell_type": "code",
   "execution_count": 159,
   "id": "d5406406",
   "metadata": {},
   "outputs": [
    {
     "data": {
      "text/plain": [
       "<surprise.prediction_algorithms.matrix_factorization.SVD at 0x7fb1ed9cda60>"
      ]
     },
     "execution_count": 159,
     "metadata": {},
     "output_type": "execute_result"
    }
   ],
   "source": [
    "trainset = data.build_full_trainset()\n",
    "svd.fit(trainset)"
   ]
  },
  {
   "cell_type": "markdown",
   "id": "bf2e7206",
   "metadata": {},
   "source": [
    "userId 1을 확인해 그/그녀가 준 등급을 확인해보자"
   ]
  },
  {
   "cell_type": "code",
   "execution_count": 161,
   "id": "91eb025a",
   "metadata": {
    "scrolled": true
   },
   "outputs": [
    {
     "data": {
      "text/html": [
       "<div>\n",
       "<style scoped>\n",
       "    .dataframe tbody tr th:only-of-type {\n",
       "        vertical-align: middle;\n",
       "    }\n",
       "\n",
       "    .dataframe tbody tr th {\n",
       "        vertical-align: top;\n",
       "    }\n",
       "\n",
       "    .dataframe thead th {\n",
       "        text-align: right;\n",
       "    }\n",
       "</style>\n",
       "<table border=\"1\" class=\"dataframe\">\n",
       "  <thead>\n",
       "    <tr style=\"text-align: right;\">\n",
       "      <th></th>\n",
       "      <th>userId</th>\n",
       "      <th>movieId</th>\n",
       "      <th>rating</th>\n",
       "      <th>timestamp</th>\n",
       "    </tr>\n",
       "  </thead>\n",
       "  <tbody>\n",
       "    <tr>\n",
       "      <th>0</th>\n",
       "      <td>1</td>\n",
       "      <td>31</td>\n",
       "      <td>2.5</td>\n",
       "      <td>1260759144</td>\n",
       "    </tr>\n",
       "    <tr>\n",
       "      <th>1</th>\n",
       "      <td>1</td>\n",
       "      <td>1029</td>\n",
       "      <td>3.0</td>\n",
       "      <td>1260759179</td>\n",
       "    </tr>\n",
       "    <tr>\n",
       "      <th>2</th>\n",
       "      <td>1</td>\n",
       "      <td>1061</td>\n",
       "      <td>3.0</td>\n",
       "      <td>1260759182</td>\n",
       "    </tr>\n",
       "    <tr>\n",
       "      <th>3</th>\n",
       "      <td>1</td>\n",
       "      <td>1129</td>\n",
       "      <td>2.0</td>\n",
       "      <td>1260759185</td>\n",
       "    </tr>\n",
       "    <tr>\n",
       "      <th>4</th>\n",
       "      <td>1</td>\n",
       "      <td>1172</td>\n",
       "      <td>4.0</td>\n",
       "      <td>1260759205</td>\n",
       "    </tr>\n",
       "    <tr>\n",
       "      <th>5</th>\n",
       "      <td>1</td>\n",
       "      <td>1263</td>\n",
       "      <td>2.0</td>\n",
       "      <td>1260759151</td>\n",
       "    </tr>\n",
       "    <tr>\n",
       "      <th>6</th>\n",
       "      <td>1</td>\n",
       "      <td>1287</td>\n",
       "      <td>2.0</td>\n",
       "      <td>1260759187</td>\n",
       "    </tr>\n",
       "    <tr>\n",
       "      <th>7</th>\n",
       "      <td>1</td>\n",
       "      <td>1293</td>\n",
       "      <td>2.0</td>\n",
       "      <td>1260759148</td>\n",
       "    </tr>\n",
       "    <tr>\n",
       "      <th>8</th>\n",
       "      <td>1</td>\n",
       "      <td>1339</td>\n",
       "      <td>3.5</td>\n",
       "      <td>1260759125</td>\n",
       "    </tr>\n",
       "    <tr>\n",
       "      <th>9</th>\n",
       "      <td>1</td>\n",
       "      <td>1343</td>\n",
       "      <td>2.0</td>\n",
       "      <td>1260759131</td>\n",
       "    </tr>\n",
       "    <tr>\n",
       "      <th>10</th>\n",
       "      <td>1</td>\n",
       "      <td>1371</td>\n",
       "      <td>2.5</td>\n",
       "      <td>1260759135</td>\n",
       "    </tr>\n",
       "    <tr>\n",
       "      <th>11</th>\n",
       "      <td>1</td>\n",
       "      <td>1405</td>\n",
       "      <td>1.0</td>\n",
       "      <td>1260759203</td>\n",
       "    </tr>\n",
       "    <tr>\n",
       "      <th>12</th>\n",
       "      <td>1</td>\n",
       "      <td>1953</td>\n",
       "      <td>4.0</td>\n",
       "      <td>1260759191</td>\n",
       "    </tr>\n",
       "    <tr>\n",
       "      <th>13</th>\n",
       "      <td>1</td>\n",
       "      <td>2105</td>\n",
       "      <td>4.0</td>\n",
       "      <td>1260759139</td>\n",
       "    </tr>\n",
       "    <tr>\n",
       "      <th>14</th>\n",
       "      <td>1</td>\n",
       "      <td>2150</td>\n",
       "      <td>3.0</td>\n",
       "      <td>1260759194</td>\n",
       "    </tr>\n",
       "    <tr>\n",
       "      <th>15</th>\n",
       "      <td>1</td>\n",
       "      <td>2193</td>\n",
       "      <td>2.0</td>\n",
       "      <td>1260759198</td>\n",
       "    </tr>\n",
       "    <tr>\n",
       "      <th>16</th>\n",
       "      <td>1</td>\n",
       "      <td>2294</td>\n",
       "      <td>2.0</td>\n",
       "      <td>1260759108</td>\n",
       "    </tr>\n",
       "    <tr>\n",
       "      <th>17</th>\n",
       "      <td>1</td>\n",
       "      <td>2455</td>\n",
       "      <td>2.5</td>\n",
       "      <td>1260759113</td>\n",
       "    </tr>\n",
       "    <tr>\n",
       "      <th>18</th>\n",
       "      <td>1</td>\n",
       "      <td>2968</td>\n",
       "      <td>1.0</td>\n",
       "      <td>1260759200</td>\n",
       "    </tr>\n",
       "    <tr>\n",
       "      <th>19</th>\n",
       "      <td>1</td>\n",
       "      <td>3671</td>\n",
       "      <td>3.0</td>\n",
       "      <td>1260759117</td>\n",
       "    </tr>\n",
       "  </tbody>\n",
       "</table>\n",
       "</div>"
      ],
      "text/plain": [
       "    userId  movieId  rating   timestamp\n",
       "0        1       31     2.5  1260759144\n",
       "1        1     1029     3.0  1260759179\n",
       "2        1     1061     3.0  1260759182\n",
       "3        1     1129     2.0  1260759185\n",
       "4        1     1172     4.0  1260759205\n",
       "5        1     1263     2.0  1260759151\n",
       "6        1     1287     2.0  1260759187\n",
       "7        1     1293     2.0  1260759148\n",
       "8        1     1339     3.5  1260759125\n",
       "9        1     1343     2.0  1260759131\n",
       "10       1     1371     2.5  1260759135\n",
       "11       1     1405     1.0  1260759203\n",
       "12       1     1953     4.0  1260759191\n",
       "13       1     2105     4.0  1260759139\n",
       "14       1     2150     3.0  1260759194\n",
       "15       1     2193     2.0  1260759198\n",
       "16       1     2294     2.0  1260759108\n",
       "17       1     2455     2.5  1260759113\n",
       "18       1     2968     1.0  1260759200\n",
       "19       1     3671     3.0  1260759117"
      ]
     },
     "execution_count": 161,
     "metadata": {},
     "output_type": "execute_result"
    }
   ],
   "source": [
    "ratings[ratings['userId']==1]"
   ]
  },
  {
   "cell_type": "code",
   "execution_count": 163,
   "id": "73a80746",
   "metadata": {},
   "outputs": [
    {
     "data": {
      "text/plain": [
       "Prediction(uid=1, iid=302, r_ui=3, est=2.707798443923794, details={'was_impossible': False})"
      ]
     },
     "execution_count": 163,
     "metadata": {},
     "output_type": "execute_result"
    }
   ],
   "source": [
    "svd.predict(1, 302, 3)  #predict(유저아이디, 아이템(영화) 아이디, 실제 평점, est=예측 평점)"
   ]
  },
  {
   "cell_type": "markdown",
   "id": "ab154864",
   "metadata": {},
   "source": [
    "영화 아이디가 302인 경우, 예측 평점은 2.7078이 된다. 이 추천 시스템의 한 가지 놀라운 특징은 영화가 무엇인지(또는 영화가 무엇을 담고 있는지) 신경 쓰지 않는다는 것이다.  \n",
    "순전히 할당된 영화 ID를 기반으로 작동하며 다른 사용자가 영화를 예측한 방식을 기반으로 예측하려 한다. "
   ]
  },
  {
   "cell_type": "markdown",
   "id": "6a751855",
   "metadata": {},
   "source": [
    "# 결론\n",
    "---\n",
    "우리는 인구 통계학, 컨텐츠 기반 및 협업 필터링을 사용해 추천 시스템을 만들었다.  \n",
    "인구 통계 필터링은 매우 기초적으로 실질적으로 사용될 수 없지만, **하이브리드 시스템**은 두 가지 접근 방식이 거의 보완적인 것으로 입증되었기 때문에 콘텐츠 기반 및 협업 필터링에 활용할 수 있다.   \n",
    "지금까지 마친 모델은 매우 기초적으로 기본적인 프레임 워크만 제공한다.\n"
   ]
  },
  {
   "cell_type": "markdown",
   "id": "f4594179",
   "metadata": {},
   "source": [
    "## 참고 자료\n",
    "1. https://hackernoon.com/introduction-to-recommender-system-part-1-collaborative-filtering-singular-value-decomposition-44c9659c5e75\n",
    "2. https://www.kaggle.com/rounakbanik/movie-recommender-systems"
   ]
  }
 ],
 "metadata": {
  "kernelspec": {
   "display_name": "Python 3 (ipykernel)",
   "language": "python",
   "name": "python3"
  },
  "language_info": {
   "codemirror_mode": {
    "name": "ipython",
    "version": 3
   },
   "file_extension": ".py",
   "mimetype": "text/x-python",
   "name": "python",
   "nbconvert_exporter": "python",
   "pygments_lexer": "ipython3",
   "version": "3.9.7"
  },
  "toc": {
   "base_numbering": 1,
   "nav_menu": {},
   "number_sections": true,
   "sideBar": true,
   "skip_h1_title": false,
   "title_cell": "Table of Contents",
   "title_sidebar": "Contents",
   "toc_cell": false,
   "toc_position": {
    "height": "calc(100% - 180px)",
    "left": "10px",
    "top": "150px",
    "width": "179px"
   },
   "toc_section_display": true,
   "toc_window_display": true
  }
 },
 "nbformat": 4,
 "nbformat_minor": 5
}
