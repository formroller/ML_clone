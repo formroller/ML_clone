{
 "cells": [
  {
   "cell_type": "code",
   "execution_count": 13,
   "id": "844c1ec0",
   "metadata": {},
   "outputs": [],
   "source": [
    "import os\n",
    "path = '/Volumes/hdd/2.public/1.ML/Kaggle/Brazilian_Ecommerce/'"
   ]
  },
  {
   "cell_type": "markdown",
   "id": "04101371",
   "metadata": {},
   "source": [
    "# 라이브러리 불러오기\n",
    "\n",
    " * 선행 설치 패키지\n",
    "     1. folium\n",
    "     2. nltk"
   ]
  },
  {
   "cell_type": "code",
   "execution_count": 48,
   "id": "c861df5a",
   "metadata": {},
   "outputs": [],
   "source": [
    "import pandas as pd\n",
    "import numpy as np\n",
    "import matplotlib.pyplot as plt\n",
    "import seaborn as sns\n",
    "%matplotlib inline\n",
    "from matplotlib.gridspec import GridSpec\n",
    "pd.set_option('display.max_columns', 100)\n",
    "import plotly.offline as py\n",
    "import plotly.express as px\n",
    "import plotly.graph_objs as go\n",
    "import json\n",
    "import requests\n",
    "import folium\n",
    "from folium.plugins import FastMarkerCluster, Fullscreen, MiniMap, HeatMap, HeatMapWithTime, LocateControl\n",
    "\n",
    "# Utilities\n",
    "from viz_utils import *\n",
    "from custom_transformers import *\n",
    "\n",
    "# Text prep\n",
    "import re\n",
    "from nltk.corpus import stopwords\n",
    "from nltk.stem import RSLPStemmer\n",
    "from sklearn.feature_extraction.text import CountVectorizer, TfidfVectorizer\n",
    "\n",
    "import warnings\n",
    "warnings.filterwarnings('ignore')"
   ]
  },
  {
   "cell_type": "markdown",
   "id": "8adadf0c",
   "metadata": {},
   "source": [
    "# 데이터 불러오기\n",
    "\n",
    "해당 과업에는 서로 다른 데이터 소스가 있으며, 각각은 전자상거래 판매와 관련된 특정 주제를 나타냅니다.  \n",
    "파일은 다음과 같습니다.  \n",
    "\n",
    "- olist_customers_dataset.csv\n",
    "- olist_geolocation_dataset.csv\n",
    "- olist_orders_dataset.csv\n",
    "- olist_order_items_dataset.csv\n",
    "- olist_order_payments_dataset.csv\n",
    "- olist_order_reviews_dataset.csv\n",
    "- olist_products_dataset.csv\n",
    "- olist_sellers_dataset.csv\n",
    "- product_category_name_translation.csv\n",
    "\n",
    "\n",
    "파일들 사이의 관계는 문서에 설명되어 있습니다.  \n",
    "데이터 세트를 읽고 기초 분석을 시작해보겠습니다. 이 단계는 향후 EDA에서 올바른 결정을 내리는데 많은 도움이 될 것입니다. "
   ]
  },
  {
   "cell_type": "code",
   "execution_count": 15,
   "id": "c304db3d",
   "metadata": {},
   "outputs": [],
   "source": [
    "# 모든 파일 불러오기\n",
    "olist_customer = pd.read_csv(path + 'olist_customers_dataset.csv')\n",
    "olist_geolocation = pd.read_csv(path + 'olist_geolocation_dataset.csv')\n",
    "olist_orders = pd.read_csv(path + 'olist_orders_dataset.csv')\n",
    "olist_order_items = pd.read_csv(path + 'olist_order_items_dataset.csv')\n",
    "olist_order_payments = pd.read_csv(path + 'olist_order_payments_dataset.csv')\n",
    "olist_order_reviews = pd.read_csv(path + 'olist_order_reviews_dataset.csv')\n",
    "olist_products = pd.read_csv(path + 'olist_products_dataset.csv')\n",
    "olist_sellers = pd.read_csv(path + 'olist_sellers_dataset.csv')"
   ]
  },
  {
   "cell_type": "markdown",
   "id": "3837521e",
   "metadata": {},
   "source": [
    "## 데이터 개요"
   ]
  },
  {
   "cell_type": "code",
   "execution_count": 16,
   "id": "497fbb41",
   "metadata": {},
   "outputs": [
    {
     "data": {
      "text/html": [
       "<style type=\"text/css\">\n",
       "#T_a4174_row0_col1, #T_a4174_row2_col1, #T_a4174_row5_col1 {\n",
       "  background-color: #f1ebf4;\n",
       "  color: #000000;\n",
       "}\n",
       "#T_a4174_row0_col2, #T_a4174_row1_col2, #T_a4174_row4_col2 {\n",
       "  background-color: #dbdaeb;\n",
       "  color: #000000;\n",
       "}\n",
       "#T_a4174_row0_col3, #T_a4174_row0_col4, #T_a4174_row1_col3, #T_a4174_row1_col4, #T_a4174_row3_col3, #T_a4174_row3_col4, #T_a4174_row4_col3, #T_a4174_row4_col4, #T_a4174_row7_col1, #T_a4174_row7_col2, #T_a4174_row7_col3, #T_a4174_row7_col4 {\n",
       "  background-color: #fff7fb;\n",
       "  color: #000000;\n",
       "}\n",
       "#T_a4174_row1_col1, #T_a4174_row5_col3, #T_a4174_row6_col2, #T_a4174_row6_col4 {\n",
       "  background-color: #023858;\n",
       "  color: #f1f1f1;\n",
       "}\n",
       "#T_a4174_row2_col2 {\n",
       "  background-color: #0567a2;\n",
       "  color: #f1f1f1;\n",
       "}\n",
       "#T_a4174_row2_col3 {\n",
       "  background-color: #faf3f9;\n",
       "  color: #000000;\n",
       "}\n",
       "#T_a4174_row2_col4 {\n",
       "  background-color: #a5bddb;\n",
       "  color: #000000;\n",
       "}\n",
       "#T_a4174_row3_col1 {\n",
       "  background-color: #eee9f3;\n",
       "  color: #000000;\n",
       "}\n",
       "#T_a4174_row3_col2, #T_a4174_row5_col2 {\n",
       "  background-color: #4295c3;\n",
       "  color: #f1f1f1;\n",
       "}\n",
       "#T_a4174_row4_col1 {\n",
       "  background-color: #f0eaf4;\n",
       "  color: #000000;\n",
       "}\n",
       "#T_a4174_row5_col4 {\n",
       "  background-color: #d0d1e6;\n",
       "  color: #000000;\n",
       "}\n",
       "#T_a4174_row6_col1 {\n",
       "  background-color: #fbf3f9;\n",
       "  color: #000000;\n",
       "}\n",
       "#T_a4174_row6_col3 {\n",
       "  background-color: #fdf5fa;\n",
       "  color: #000000;\n",
       "}\n",
       "</style>\n",
       "<table id=\"T_a4174\">\n",
       "  <thead>\n",
       "    <tr>\n",
       "      <th class=\"blank level0\" >&nbsp;</th>\n",
       "      <th id=\"T_a4174_level0_col0\" class=\"col_heading level0 col0\" >dataset</th>\n",
       "      <th id=\"T_a4174_level0_col1\" class=\"col_heading level0 col1\" >n_rows</th>\n",
       "      <th id=\"T_a4174_level0_col2\" class=\"col_heading level0 col2\" >n_cols</th>\n",
       "      <th id=\"T_a4174_level0_col3\" class=\"col_heading level0 col3\" >null_amount</th>\n",
       "      <th id=\"T_a4174_level0_col4\" class=\"col_heading level0 col4\" >qty_null_columns</th>\n",
       "      <th id=\"T_a4174_level0_col5\" class=\"col_heading level0 col5\" >null_columns</th>\n",
       "    </tr>\n",
       "  </thead>\n",
       "  <tbody>\n",
       "    <tr>\n",
       "      <th id=\"T_a4174_level0_row0\" class=\"row_heading level0 row0\" >0</th>\n",
       "      <td id=\"T_a4174_row0_col0\" class=\"data row0 col0\" >olist_customer</td>\n",
       "      <td id=\"T_a4174_row0_col1\" class=\"data row0 col1\" >99441</td>\n",
       "      <td id=\"T_a4174_row0_col2\" class=\"data row0 col2\" >5</td>\n",
       "      <td id=\"T_a4174_row0_col3\" class=\"data row0 col3\" >0</td>\n",
       "      <td id=\"T_a4174_row0_col4\" class=\"data row0 col4\" >0</td>\n",
       "      <td id=\"T_a4174_row0_col5\" class=\"data row0 col5\" ></td>\n",
       "    </tr>\n",
       "    <tr>\n",
       "      <th id=\"T_a4174_level0_row1\" class=\"row_heading level0 row1\" >1</th>\n",
       "      <td id=\"T_a4174_row1_col0\" class=\"data row1 col0\" >olist_geolocation</td>\n",
       "      <td id=\"T_a4174_row1_col1\" class=\"data row1 col1\" >1000163</td>\n",
       "      <td id=\"T_a4174_row1_col2\" class=\"data row1 col2\" >5</td>\n",
       "      <td id=\"T_a4174_row1_col3\" class=\"data row1 col3\" >0</td>\n",
       "      <td id=\"T_a4174_row1_col4\" class=\"data row1 col4\" >0</td>\n",
       "      <td id=\"T_a4174_row1_col5\" class=\"data row1 col5\" ></td>\n",
       "    </tr>\n",
       "    <tr>\n",
       "      <th id=\"T_a4174_level0_row2\" class=\"row_heading level0 row2\" >2</th>\n",
       "      <td id=\"T_a4174_row2_col0\" class=\"data row2 col0\" >olist_orders</td>\n",
       "      <td id=\"T_a4174_row2_col1\" class=\"data row2 col1\" >99441</td>\n",
       "      <td id=\"T_a4174_row2_col2\" class=\"data row2 col2\" >8</td>\n",
       "      <td id=\"T_a4174_row2_col3\" class=\"data row2 col3\" >4908</td>\n",
       "      <td id=\"T_a4174_row2_col4\" class=\"data row2 col4\" >3</td>\n",
       "      <td id=\"T_a4174_row2_col5\" class=\"data row2 col5\" >order_approved_at, order_delivered_carrier_date, order_delivered_customer_date</td>\n",
       "    </tr>\n",
       "    <tr>\n",
       "      <th id=\"T_a4174_level0_row3\" class=\"row_heading level0 row3\" >3</th>\n",
       "      <td id=\"T_a4174_row3_col0\" class=\"data row3 col0\" >olist_order_items</td>\n",
       "      <td id=\"T_a4174_row3_col1\" class=\"data row3 col1\" >112650</td>\n",
       "      <td id=\"T_a4174_row3_col2\" class=\"data row3 col2\" >7</td>\n",
       "      <td id=\"T_a4174_row3_col3\" class=\"data row3 col3\" >0</td>\n",
       "      <td id=\"T_a4174_row3_col4\" class=\"data row3 col4\" >0</td>\n",
       "      <td id=\"T_a4174_row3_col5\" class=\"data row3 col5\" ></td>\n",
       "    </tr>\n",
       "    <tr>\n",
       "      <th id=\"T_a4174_level0_row4\" class=\"row_heading level0 row4\" >4</th>\n",
       "      <td id=\"T_a4174_row4_col0\" class=\"data row4 col0\" >olist_order_payments</td>\n",
       "      <td id=\"T_a4174_row4_col1\" class=\"data row4 col1\" >103886</td>\n",
       "      <td id=\"T_a4174_row4_col2\" class=\"data row4 col2\" >5</td>\n",
       "      <td id=\"T_a4174_row4_col3\" class=\"data row4 col3\" >0</td>\n",
       "      <td id=\"T_a4174_row4_col4\" class=\"data row4 col4\" >0</td>\n",
       "      <td id=\"T_a4174_row4_col5\" class=\"data row4 col5\" ></td>\n",
       "    </tr>\n",
       "    <tr>\n",
       "      <th id=\"T_a4174_level0_row5\" class=\"row_heading level0 row5\" >5</th>\n",
       "      <td id=\"T_a4174_row5_col0\" class=\"data row5 col0\" >olist_order_reviews</td>\n",
       "      <td id=\"T_a4174_row5_col1\" class=\"data row5 col1\" >99224</td>\n",
       "      <td id=\"T_a4174_row5_col2\" class=\"data row5 col2\" >7</td>\n",
       "      <td id=\"T_a4174_row5_col3\" class=\"data row5 col3\" >145903</td>\n",
       "      <td id=\"T_a4174_row5_col4\" class=\"data row5 col4\" >2</td>\n",
       "      <td id=\"T_a4174_row5_col5\" class=\"data row5 col5\" >review_comment_title, review_comment_message</td>\n",
       "    </tr>\n",
       "    <tr>\n",
       "      <th id=\"T_a4174_level0_row6\" class=\"row_heading level0 row6\" >6</th>\n",
       "      <td id=\"T_a4174_row6_col0\" class=\"data row6 col0\" >olist_products</td>\n",
       "      <td id=\"T_a4174_row6_col1\" class=\"data row6 col1\" >32951</td>\n",
       "      <td id=\"T_a4174_row6_col2\" class=\"data row6 col2\" >9</td>\n",
       "      <td id=\"T_a4174_row6_col3\" class=\"data row6 col3\" >2448</td>\n",
       "      <td id=\"T_a4174_row6_col4\" class=\"data row6 col4\" >8</td>\n",
       "      <td id=\"T_a4174_row6_col5\" class=\"data row6 col5\" >product_category_name, product_name_lenght, product_description_lenght, product_photos_qty, product_weight_g, product_length_cm, product_height_cm, product_width_cm</td>\n",
       "    </tr>\n",
       "    <tr>\n",
       "      <th id=\"T_a4174_level0_row7\" class=\"row_heading level0 row7\" >7</th>\n",
       "      <td id=\"T_a4174_row7_col0\" class=\"data row7 col0\" >olist_sellers</td>\n",
       "      <td id=\"T_a4174_row7_col1\" class=\"data row7 col1\" >3095</td>\n",
       "      <td id=\"T_a4174_row7_col2\" class=\"data row7 col2\" >4</td>\n",
       "      <td id=\"T_a4174_row7_col3\" class=\"data row7 col3\" >0</td>\n",
       "      <td id=\"T_a4174_row7_col4\" class=\"data row7 col4\" >0</td>\n",
       "      <td id=\"T_a4174_row7_col5\" class=\"data row7 col5\" ></td>\n",
       "    </tr>\n",
       "  </tbody>\n",
       "</table>\n"
      ],
      "text/plain": [
       "<pandas.io.formats.style.Styler at 0x169d10130>"
      ]
     },
     "execution_count": 16,
     "metadata": {},
     "output_type": "execute_result"
    }
   ],
   "source": [
    "# Collections for each dataset\n",
    "datasets = [olist_customer, olist_geolocation, olist_orders, olist_order_items, olist_order_payments,\n",
    "            olist_order_reviews, olist_products, olist_sellers]\n",
    "names = ['olist_customer', 'olist_geolocation', 'olist_orders', 'olist_order_items', 'olist_order_payments',\n",
    "         'olist_order_reviews', 'olist_products', 'olist_sellers']\n",
    "\n",
    "# Creating a DataFrame with useful information about all datasets\n",
    "data_info = pd.DataFrame({})\n",
    "data_info['dataset'] = names\n",
    "data_info['n_rows'] = [df.shape[0] for df in datasets]\n",
    "data_info['n_cols'] = [df.shape[1] for df in datasets]\n",
    "data_info['null_amount'] = [df.isnull().sum().sum() for df in datasets]\n",
    "data_info['qty_null_columns'] = [len([col for col, null in df.isnull().sum().items() if null > 0]) for df in datasets]\n",
    "data_info['null_columns'] = [', '.join([col for col, null in df.isnull().sum().items() if null > 0]) for df in datasets]\n",
    "\n",
    "data_info.style.background_gradient()"
   ]
  },
  {
   "cell_type": "markdown",
   "id": "ea0a1d59",
   "metadata": {},
   "source": [
    "# Grapical Exploration (그래픽 탐색?)\n",
    "---\n",
    "그래서 이제 우리는 브라질의 전자상거래로부터 통찰력을 얻기 위해 탐구적인 데이터 분석을 살펴설 것이다. 여기서 목표는 이 세션을 주제로 나누어 각 주제(주문, 고객, 제품, 항목 등)에 대한 그래픽을 탐색하는 것입니다.\n",
    "\n",
    "브라질의 전자상거래로부터 인사이트를 얻기 위해 탐색적 데이터 분석(EDA)를 진행할 것 입니다.  \n",
    "여기서 목표는 세션별로 주제를 나누어 각 주제(주문, 고객, 제품, 항목 등)에 대해 탐색한 데이터를 그래픽으로 나타내는 것입니다.  "
   ]
  },
  {
   "cell_type": "markdown",
   "id": "30bd15d8",
   "metadata": {},
   "source": [
    "## Total Orders on E-Commerce\n",
    "우리는 전자상거래가 세계적 관점에서 실제로 증가하는 추세라는 것을 알고 있습니다.\n",
    "주문 데이터를 통해 브라질의 전자 상거래 추세에 대해 알아보겠습니다.  \n",
    "\n",
    "데이터 세트 컬럼을 보면 시간에 따라 구매, 승인, 배송 및 배송 지연과 같이 각각 다른 주문 상태를 볼 수 있습니다. \n",
    "먼저, 이데이터 세트에 포함된 주문 상태를 보겠습니다. "
   ]
  },
  {
   "cell_type": "code",
   "execution_count": 45,
   "id": "c6d22b12",
   "metadata": {},
   "outputs": [
    {
     "data": {
      "text/plain": [
       "<AxesSubplot:title={'center':'주문별 상태'}, xlabel='order_status', ylabel='count'>"
      ]
     },
     "execution_count": 45,
     "metadata": {},
     "output_type": "execute_result"
    },
    {
     "data": {
      "image/png": "[encoded data removed]",
      "text/plain": [
       "<Figure size 720x720 with 1 Axes>"
      ]
     },
     "metadata": {
      "needs_background": "light"
     },
     "output_type": "display_data"
    }
   ],
   "source": [
    "## single_countplot 대체\n",
    "\n",
    "plt.figure(figsize=(10,10))\n",
    "plt.title('주문별 상태', fontsize=15)\n",
    "sns.countplot(df_orders['order_status'], order=df_orders['order_status'].value_counts().index)"
   ]
  },
  {
   "cell_type": "markdown",
   "id": "28e72039",
   "metadata": {},
   "source": [
    "전체 상태중 'delivered'가 가장 많았으며 나머지 상태는 3%에 불과"
   ]
  },
  {
   "cell_type": "markdown",
   "id": "f8f44ddb",
   "metadata": {},
   "source": [
    "다음 플롯에서는 구매 주문에 관한 전자 상거래의 증가 추세에 대해 살펴보겠습니다.  \n",
    "이를 위해 다음 항목에서 **order_purchase_timestamp**에 대한 정보를 추출해야 합니다. \n",
    "1. 타임스탬프 컬럼 변환\n",
    "2. 시간 속성 추출(연/월/일/요일 및 시간)\n",
    "3. 해당 속성을 통한 전자상거래 추세 파악"
   ]
  },
  {
   "cell_type": "code",
   "execution_count": 46,
   "id": "ead368eb",
   "metadata": {},
   "outputs": [
    {
     "data": {
      "text/html": [
       "<div>\n",
       "<style scoped>\n",
       "    .dataframe tbody tr th:only-of-type {\n",
       "        vertical-align: middle;\n",
       "    }\n",
       "\n",
       "    .dataframe tbody tr th {\n",
       "        vertical-align: top;\n",
       "    }\n",
       "\n",
       "    .dataframe thead th {\n",
       "        text-align: right;\n",
       "    }\n",
       "</style>\n",
       "<table border=\"1\" class=\"dataframe\">\n",
       "  <thead>\n",
       "    <tr style=\"text-align: right;\">\n",
       "      <th></th>\n",
       "      <th>order_id</th>\n",
       "      <th>customer_id</th>\n",
       "      <th>order_status</th>\n",
       "      <th>order_purchase_timestamp</th>\n",
       "      <th>order_approved_at</th>\n",
       "      <th>order_delivered_carrier_date</th>\n",
       "      <th>order_delivered_customer_date</th>\n",
       "      <th>order_estimated_delivery_date</th>\n",
       "      <th>customer_unique_id</th>\n",
       "      <th>customer_zip_code_prefix</th>\n",
       "      <th>customer_city</th>\n",
       "      <th>customer_state</th>\n",
       "      <th>order_purchase_year</th>\n",
       "      <th>order_purchase_month</th>\n",
       "      <th>order_purchase_month_name</th>\n",
       "      <th>order_purchase_year_month</th>\n",
       "      <th>order_purchase_date</th>\n",
       "      <th>order_purchase_day</th>\n",
       "      <th>order_purchase_dayofweek</th>\n",
       "      <th>order_purchase_dayofweek_name</th>\n",
       "      <th>order_purchase_hour</th>\n",
       "      <th>order_purchase_time_day</th>\n",
       "    </tr>\n",
       "  </thead>\n",
       "  <tbody>\n",
       "    <tr>\n",
       "      <th>0</th>\n",
       "      <td>e481f51cbdc54678b7cc49136f2d6af7</td>\n",
       "      <td>9ef432eb6251297304e76186b10a928d</td>\n",
       "      <td>delivered</td>\n",
       "      <td>2017-10-02 10:56:33</td>\n",
       "      <td>2017-10-02 11:07:15</td>\n",
       "      <td>2017-10-04 19:55:00</td>\n",
       "      <td>2017-10-10 21:25:13</td>\n",
       "      <td>2017-10-18</td>\n",
       "      <td>7c396fd4830fd04220f754e42b4e5bff</td>\n",
       "      <td>3149</td>\n",
       "      <td>sao paulo</td>\n",
       "      <td>SP</td>\n",
       "      <td>2017</td>\n",
       "      <td>10</td>\n",
       "      <td>Oct</td>\n",
       "      <td>201710</td>\n",
       "      <td>20171002</td>\n",
       "      <td>2</td>\n",
       "      <td>0</td>\n",
       "      <td>Mon</td>\n",
       "      <td>10</td>\n",
       "      <td>Morning</td>\n",
       "    </tr>\n",
       "    <tr>\n",
       "      <th>1</th>\n",
       "      <td>53cdb2fc8bc7dce0b6741e2150273451</td>\n",
       "      <td>b0830fb4747a6c6d20dea0b8c802d7ef</td>\n",
       "      <td>delivered</td>\n",
       "      <td>2018-07-24 20:41:37</td>\n",
       "      <td>2018-07-26 03:24:27</td>\n",
       "      <td>2018-07-26 14:31:00</td>\n",
       "      <td>2018-08-07 15:27:45</td>\n",
       "      <td>2018-08-13</td>\n",
       "      <td>af07308b275d755c9edb36a90c618231</td>\n",
       "      <td>47813</td>\n",
       "      <td>barreiras</td>\n",
       "      <td>BA</td>\n",
       "      <td>2018</td>\n",
       "      <td>7</td>\n",
       "      <td>Jul</td>\n",
       "      <td>201807</td>\n",
       "      <td>20180724</td>\n",
       "      <td>24</td>\n",
       "      <td>1</td>\n",
       "      <td>Tue</td>\n",
       "      <td>20</td>\n",
       "      <td>Night</td>\n",
       "    </tr>\n",
       "    <tr>\n",
       "      <th>2</th>\n",
       "      <td>47770eb9100c2d0c44946d9cf07ec65d</td>\n",
       "      <td>41ce2a54c0b03bf3443c3d931a367089</td>\n",
       "      <td>delivered</td>\n",
       "      <td>2018-08-08 08:38:49</td>\n",
       "      <td>2018-08-08 08:55:23</td>\n",
       "      <td>2018-08-08 13:50:00</td>\n",
       "      <td>2018-08-17 18:06:29</td>\n",
       "      <td>2018-09-04</td>\n",
       "      <td>3a653a41f6f9fc3d2a113cf8398680e8</td>\n",
       "      <td>75265</td>\n",
       "      <td>vianopolis</td>\n",
       "      <td>GO</td>\n",
       "      <td>2018</td>\n",
       "      <td>8</td>\n",
       "      <td>Aug</td>\n",
       "      <td>201808</td>\n",
       "      <td>20180808</td>\n",
       "      <td>8</td>\n",
       "      <td>2</td>\n",
       "      <td>Wed</td>\n",
       "      <td>8</td>\n",
       "      <td>Morning</td>\n",
       "    </tr>\n",
       "    <tr>\n",
       "      <th>3</th>\n",
       "      <td>949d5b44dbf5de918fe9c16f97b45f8a</td>\n",
       "      <td>f88197465ea7920adcdbec7375364d82</td>\n",
       "      <td>delivered</td>\n",
       "      <td>2017-11-18 19:28:06</td>\n",
       "      <td>2017-11-18 19:45:59</td>\n",
       "      <td>2017-11-22 13:39:59</td>\n",
       "      <td>2017-12-02 00:28:42</td>\n",
       "      <td>2017-12-15</td>\n",
       "      <td>7c142cf63193a1473d2e66489a9ae977</td>\n",
       "      <td>59296</td>\n",
       "      <td>sao goncalo do amarante</td>\n",
       "      <td>RN</td>\n",
       "      <td>2017</td>\n",
       "      <td>11</td>\n",
       "      <td>Nov</td>\n",
       "      <td>201711</td>\n",
       "      <td>20171118</td>\n",
       "      <td>18</td>\n",
       "      <td>5</td>\n",
       "      <td>Sat</td>\n",
       "      <td>19</td>\n",
       "      <td>Night</td>\n",
       "    </tr>\n",
       "    <tr>\n",
       "      <th>4</th>\n",
       "      <td>ad21c59c0840e6cb83a9ceb5573f8159</td>\n",
       "      <td>8ab97904e6daea8866dbdbc4fb7aad2c</td>\n",
       "      <td>delivered</td>\n",
       "      <td>2018-02-13 21:18:39</td>\n",
       "      <td>2018-02-13 22:20:29</td>\n",
       "      <td>2018-02-14 19:46:34</td>\n",
       "      <td>2018-02-16 18:17:02</td>\n",
       "      <td>2018-02-26</td>\n",
       "      <td>72632f0f9dd73dfee390c9b22eb56dd6</td>\n",
       "      <td>9195</td>\n",
       "      <td>santo andre</td>\n",
       "      <td>SP</td>\n",
       "      <td>2018</td>\n",
       "      <td>2</td>\n",
       "      <td>Feb</td>\n",
       "      <td>201802</td>\n",
       "      <td>20180213</td>\n",
       "      <td>13</td>\n",
       "      <td>1</td>\n",
       "      <td>Tue</td>\n",
       "      <td>21</td>\n",
       "      <td>Night</td>\n",
       "    </tr>\n",
       "  </tbody>\n",
       "</table>\n",
       "</div>"
      ],
      "text/plain": [
       "                           order_id                       customer_id  \\\n",
       "0  e481f51cbdc54678b7cc49136f2d6af7  9ef432eb6251297304e76186b10a928d   \n",
       "1  53cdb2fc8bc7dce0b6741e2150273451  b0830fb4747a6c6d20dea0b8c802d7ef   \n",
       "2  47770eb9100c2d0c44946d9cf07ec65d  41ce2a54c0b03bf3443c3d931a367089   \n",
       "3  949d5b44dbf5de918fe9c16f97b45f8a  f88197465ea7920adcdbec7375364d82   \n",
       "4  ad21c59c0840e6cb83a9ceb5573f8159  8ab97904e6daea8866dbdbc4fb7aad2c   \n",
       "\n",
       "  order_status order_purchase_timestamp   order_approved_at  \\\n",
       "0    delivered      2017-10-02 10:56:33 2017-10-02 11:07:15   \n",
       "1    delivered      2018-07-24 20:41:37 2018-07-26 03:24:27   \n",
       "2    delivered      2018-08-08 08:38:49 2018-08-08 08:55:23   \n",
       "3    delivered      2017-11-18 19:28:06 2017-11-18 19:45:59   \n",
       "4    delivered      2018-02-13 21:18:39 2018-02-13 22:20:29   \n",
       "\n",
       "  order_delivered_carrier_date order_delivered_customer_date  \\\n",
       "0          2017-10-04 19:55:00           2017-10-10 21:25:13   \n",
       "1          2018-07-26 14:31:00           2018-08-07 15:27:45   \n",
       "2          2018-08-08 13:50:00           2018-08-17 18:06:29   \n",
       "3          2017-11-22 13:39:59           2017-12-02 00:28:42   \n",
       "4          2018-02-14 19:46:34           2018-02-16 18:17:02   \n",
       "\n",
       "  order_estimated_delivery_date                customer_unique_id  \\\n",
       "0                    2017-10-18  7c396fd4830fd04220f754e42b4e5bff   \n",
       "1                    2018-08-13  af07308b275d755c9edb36a90c618231   \n",
       "2                    2018-09-04  3a653a41f6f9fc3d2a113cf8398680e8   \n",
       "3                    2017-12-15  7c142cf63193a1473d2e66489a9ae977   \n",
       "4                    2018-02-26  72632f0f9dd73dfee390c9b22eb56dd6   \n",
       "\n",
       "   customer_zip_code_prefix            customer_city customer_state  \\\n",
       "0                      3149                sao paulo             SP   \n",
       "1                     47813                barreiras             BA   \n",
       "2                     75265               vianopolis             GO   \n",
       "3                     59296  sao goncalo do amarante             RN   \n",
       "4                      9195              santo andre             SP   \n",
       "\n",
       "   order_purchase_year  order_purchase_month order_purchase_month_name  \\\n",
       "0                 2017                    10                       Oct   \n",
       "1                 2018                     7                       Jul   \n",
       "2                 2018                     8                       Aug   \n",
       "3                 2017                    11                       Nov   \n",
       "4                 2018                     2                       Feb   \n",
       "\n",
       "  order_purchase_year_month order_purchase_date  order_purchase_day  \\\n",
       "0                    201710            20171002                   2   \n",
       "1                    201807            20180724                  24   \n",
       "2                    201808            20180808                   8   \n",
       "3                    201711            20171118                  18   \n",
       "4                    201802            20180213                  13   \n",
       "\n",
       "   order_purchase_dayofweek order_purchase_dayofweek_name  \\\n",
       "0                         0                           Mon   \n",
       "1                         1                           Tue   \n",
       "2                         2                           Wed   \n",
       "3                         5                           Sat   \n",
       "4                         1                           Tue   \n",
       "\n",
       "   order_purchase_hour order_purchase_time_day  \n",
       "0                   10                 Morning  \n",
       "1                   20                   Night  \n",
       "2                    8                 Morning  \n",
       "3                   19                   Night  \n",
       "4                   21                   Night  "
      ]
     },
     "execution_count": 46,
     "metadata": {},
     "output_type": "execute_result"
    }
   ],
   "source": [
    "# Changing the data type for date columns\n",
    "timestamp_cols = ['order_purchase_timestamp', 'order_approved_at', 'order_delivered_carrier_date', \n",
    "                  'order_estimated_delivery_date']\n",
    "for col in timestamp_cols:\n",
    "    df_orders[col] = pd.to_datetime(df_orders[col])\n",
    "    \n",
    "# Extracting attributes for purchase date - Year and Month\n",
    "df_orders['order_purchase_year'] = df_orders['order_purchase_timestamp'].apply(lambda x: x.year)\n",
    "df_orders['order_purchase_month'] = df_orders['order_purchase_timestamp'].apply(lambda x: x.month)\n",
    "df_orders['order_purchase_month_name'] = df_orders['order_purchase_timestamp'].apply(lambda x: x.strftime('%b'))\n",
    "df_orders['order_purchase_year_month'] = df_orders['order_purchase_timestamp'].apply(lambda x: x.strftime('%Y%m'))\n",
    "df_orders['order_purchase_date'] = df_orders['order_purchase_timestamp'].apply(lambda x: x.strftime('%Y%m%d'))\n",
    "\n",
    "# Extracting attributes for purchase date - Day and Day of Week\n",
    "df_orders['order_purchase_day'] = df_orders['order_purchase_timestamp'].apply(lambda x: x.day)\n",
    "df_orders['order_purchase_dayofweek'] = df_orders['order_purchase_timestamp'].apply(lambda x: x.dayofweek)\n",
    "df_orders['order_purchase_dayofweek_name'] = df_orders['order_purchase_timestamp'].apply(lambda x: x.strftime('%a'))\n",
    "\n",
    "# Extracting attributes for purchase date - Hour and Time of the Day\n",
    "df_orders['order_purchase_hour'] = df_orders['order_purchase_timestamp'].apply(lambda x: x.hour)\n",
    "hours_bins = [-0.1, 6, 12, 18, 23]\n",
    "hours_labels = ['Dawn', 'Morning', 'Afternoon', 'Night']\n",
    "df_orders['order_purchase_time_day'] = pd.cut(df_orders['order_purchase_hour'], hours_bins, labels=hours_labels)\n",
    "\n",
    "# New DataFrame after transformations\n",
    "df_orders.head()"
   ]
  },
  {
   "cell_type": "code",
   "execution_count": 49,
   "id": "8fb2b1d5",
   "metadata": {},
   "outputs": [
    {
     "ename": "NameError",
     "evalue": "name 'format_spines' is not defined",
     "output_type": "error",
     "traceback": [
      "\u001b[0;31m---------------------------------------------------------------------------\u001b[0m",
      "\u001b[0;31mNameError\u001b[0m                                 Traceback (most recent call last)",
      "\u001b[0;32m/var/folders/c7/zfhvl_ms5dv3bg_wff_1g0g40000gn/T/ipykernel_73619/147755978.py\u001b[0m in \u001b[0;36m<module>\u001b[0;34m\u001b[0m\n\u001b[1;32m     16\u001b[0m              \u001b[0mtextcoords\u001b[0m\u001b[0;34m=\u001b[0m\u001b[0;34m'offset points'\u001b[0m\u001b[0;34m,\u001b[0m \u001b[0mbbox\u001b[0m\u001b[0;34m=\u001b[0m\u001b[0mdict\u001b[0m\u001b[0;34m(\u001b[0m\u001b[0mboxstyle\u001b[0m\u001b[0;34m=\u001b[0m\u001b[0;34m\"round4\"\u001b[0m\u001b[0;34m,\u001b[0m \u001b[0mfc\u001b[0m\u001b[0;34m=\u001b[0m\u001b[0;34m\"w\"\u001b[0m\u001b[0;34m,\u001b[0m \u001b[0mpad\u001b[0m\u001b[0;34m=\u001b[0m\u001b[0;36m.5\u001b[0m\u001b[0;34m)\u001b[0m\u001b[0;34m,\u001b[0m\u001b[0;34m\u001b[0m\u001b[0;34m\u001b[0m\u001b[0m\n\u001b[1;32m     17\u001b[0m              arrowprops=dict(arrowstyle='-|>', fc='w'), color='dimgrey', ha='center')\n\u001b[0;32m---> 18\u001b[0;31m \u001b[0mformat_spines\u001b[0m\u001b[0;34m(\u001b[0m\u001b[0max1\u001b[0m\u001b[0;34m,\u001b[0m \u001b[0mright_border\u001b[0m\u001b[0;34m=\u001b[0m\u001b[0;32mFalse\u001b[0m\u001b[0;34m)\u001b[0m\u001b[0;34m\u001b[0m\u001b[0;34m\u001b[0m\u001b[0m\n\u001b[0m\u001b[1;32m     19\u001b[0m \u001b[0;32mfor\u001b[0m \u001b[0mtick\u001b[0m \u001b[0;32min\u001b[0m \u001b[0max1\u001b[0m\u001b[0;34m.\u001b[0m\u001b[0mget_xticklabels\u001b[0m\u001b[0;34m(\u001b[0m\u001b[0;34m)\u001b[0m\u001b[0;34m:\u001b[0m\u001b[0;34m\u001b[0m\u001b[0;34m\u001b[0m\u001b[0m\n\u001b[1;32m     20\u001b[0m     \u001b[0mtick\u001b[0m\u001b[0;34m.\u001b[0m\u001b[0mset_rotation\u001b[0m\u001b[0;34m(\u001b[0m\u001b[0;36m45\u001b[0m\u001b[0;34m)\u001b[0m\u001b[0;34m\u001b[0m\u001b[0;34m\u001b[0m\u001b[0m\n",
      "\u001b[0;31mNameError\u001b[0m: name 'format_spines' is not defined"
     ]
    },
    {
     "data": {
      "image/png": "[encoded data removed]",
      "text/plain": [
       "<Figure size 936x720 with 3 Axes>"
      ]
     },
     "metadata": {
      "needs_background": "light"
     },
     "output_type": "display_data"
    }
   ],
   "source": [
    "fig = plt.figure(constrained_layout=True, figsize=(13, 10))\n",
    "\n",
    "# Axis definition\n",
    "gs = GridSpec(2, 2, figure=fig)\n",
    "ax1 = fig.add_subplot(gs[0, :])\n",
    "ax2 = fig.add_subplot(gs[1, 0])\n",
    "ax3 = fig.add_subplot(gs[1, 1])\n",
    "\n",
    "# Lineplot - Evolution of e-commerce orders along time \n",
    "sns.lineplot(data=df_orders['order_purchase_year_month'].value_counts().sort_index(), ax=ax1, \n",
    "             color='darkslateblue', linewidth=2)\n",
    "ax1.annotate(f'Highest orders \\nreceived', (13, 7500), xytext=(-75, -25), \n",
    "             textcoords='offset points', bbox=dict(boxstyle=\"round4\", fc=\"w\", pad=.8),\n",
    "             arrowprops=dict(arrowstyle='-|>', fc='w'), color='dimgrey', ha='center')\n",
    "ax1.annotate(f'Noise on data \\n(huge decrease)', (23, 0), xytext=(48, 25), \n",
    "             textcoords='offset points', bbox=dict(boxstyle=\"round4\", fc=\"w\", pad=.5),\n",
    "             arrowprops=dict(arrowstyle='-|>', fc='w'), color='dimgrey', ha='center')\n",
    "format_spines(ax1, right_border=False)  \n",
    "for tick in ax1.get_xticklabels():\n",
    "    tick.set_rotation(45)\n",
    "ax1.set_title('Evolution of Total Orders in Brazilian E-Commerce', size=14, color='dimgrey')\n",
    "\n",
    "# Barchart - Total of orders by day of week\n",
    "single_countplot(df_orders, x='order_purchase_dayofweek', ax=ax2, order=False, palette='YlGnBu')\n",
    "weekday_label = ['Mon', 'Tue', 'Wed', 'Thu', 'Fri', 'Sat', 'Sun']\n",
    "ax2.set_xticklabels(weekday_label)\n",
    "ax2.set_title('Total Orders by Day of Week', size=14, color='dimgrey', pad=20)\n",
    "\n",
    "# Barchart - Total of orders by time of the day\n",
    "day_color_list = ['darkslateblue', 'deepskyblue', 'darkorange', 'purple']\n",
    "single_countplot(df_orders, x='order_purchase_time_day', ax=ax3, order=False, palette=day_color_list)\n",
    "ax3.set_title('Total Orders by Time of the Day', size=14, color='dimgrey', pad=20)\n",
    "\n",
    "plt.tight_layout()\n",
    "plt.show()"
   ]
  },
  {
   "cell_type": "markdown",
   "id": "fd5cbfa0",
   "metadata": {},
   "source": [
    "## E-Commerce Around Brazil"
   ]
  },
  {
   "cell_type": "markdown",
   "id": "122f0e65",
   "metadata": {},
   "source": [
    "## E-Commerce Impact on Economy "
   ]
  },
  {
   "cell_type": "markdown",
   "id": "a3fee867",
   "metadata": {},
   "source": [
    "## Payment Type"
   ]
  },
  {
   "cell_type": "markdown",
   "id": "694f4002",
   "metadata": {},
   "source": [
    "# Natural Language Processing\n",
    "자연어 처리"
   ]
  },
  {
   "cell_type": "markdown",
   "id": "41277b07",
   "metadata": {},
   "source": [
    "## Data Understanding"
   ]
  },
  {
   "cell_type": "markdown",
   "id": "349d8924",
   "metadata": {},
   "source": [
    "## RegEx"
   ]
  },
  {
   "cell_type": "markdown",
   "id": "364b830f",
   "metadata": {},
   "source": [
    "### Breake Line and Carriage Return\n",
    "breake Line - 개행문자? "
   ]
  },
  {
   "cell_type": "markdown",
   "id": "58936492",
   "metadata": {},
   "source": [
    "### Site and Hiperlinks"
   ]
  },
  {
   "cell_type": "markdown",
   "id": "3c67b027",
   "metadata": {},
   "source": [
    "### Dates"
   ]
  },
  {
   "cell_type": "markdown",
   "id": "725836a1",
   "metadata": {},
   "source": [
    "### Money"
   ]
  },
  {
   "cell_type": "markdown",
   "id": "c4e90224",
   "metadata": {},
   "source": [
    "### Numbers"
   ]
  },
  {
   "cell_type": "markdown",
   "id": "1cecd4a6",
   "metadata": {},
   "source": [
    "### Negation"
   ]
  },
  {
   "cell_type": "markdown",
   "id": "9847f0c2",
   "metadata": {},
   "source": [
    "### Special Characters"
   ]
  },
  {
   "cell_type": "markdown",
   "id": "cb141c19",
   "metadata": {},
   "source": [
    "### Additional Whitespaces"
   ]
  },
  {
   "cell_type": "markdown",
   "id": "186e7bdc",
   "metadata": {},
   "source": [
    "## StopWords"
   ]
  },
  {
   "cell_type": "markdown",
   "id": "23584e6d",
   "metadata": {},
   "source": [
    "## Stemming"
   ]
  },
  {
   "cell_type": "markdown",
   "id": "615fe185",
   "metadata": {},
   "source": [
    "## Feature Extraction"
   ]
  },
  {
   "cell_type": "markdown",
   "id": "27ee441a",
   "metadata": {},
   "source": [
    "### CountVectorizer"
   ]
  },
  {
   "cell_type": "markdown",
   "id": "f0fca8af",
   "metadata": {},
   "source": [
    "### TF-IIDF"
   ]
  }
 ],
 "metadata": {
  "kernelspec": {
   "display_name": "Python 3 (ipykernel)",
   "language": "python",
   "name": "python3"
  },
  "language_info": {
   "codemirror_mode": {
    "name": "ipython",
    "version": 3
   },
   "file_extension": ".py",
   "mimetype": "text/x-python",
   "name": "python",
   "nbconvert_exporter": "python",
   "pygments_lexer": "ipython3",
   "version": "3.9.12"
  },
  "toc": {
   "base_numbering": 1,
   "nav_menu": {},
   "number_sections": true,
   "sideBar": true,
   "skip_h1_title": false,
   "title_cell": "Table of Contents",
   "title_sidebar": "Contents",
   "toc_cell": false,
   "toc_position": {},
   "toc_section_display": true,
   "toc_window_display": false
  }
 },
 "nbformat": 4,
 "nbformat_minor": 5
}
