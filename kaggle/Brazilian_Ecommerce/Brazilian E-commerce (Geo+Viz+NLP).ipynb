{
 "cells": [
  {
   "cell_type": "code",
   "execution_count": 1,
   "id": "844c1ec0",
   "metadata": {},
   "outputs": [],
   "source": [
    "import os\n",
    "path = '/Volumes/hdd/2.public/1.ML/Kaggle/Brazilian_Ecommerce/'"
   ]
  },
  {
   "cell_type": "markdown",
   "id": "04101371",
   "metadata": {},
   "source": [
    "# 라이브러리 불러오기\n",
    "\n",
    " * 선행 설치 패키지\n",
    "     1. folium\n",
    "     2. nltk"
   ]
  },
  {
   "cell_type": "code",
   "execution_count": 2,
   "id": "c861df5a",
   "metadata": {
    "collapsed": true
   },
   "outputs": [
    {
     "ename": "ModuleNotFoundError",
     "evalue": "No module named 'viz_utils'",
     "output_type": "error",
     "traceback": [
      "\u001b[0;31m---------------------------------------------------------------------------\u001b[0m",
      "\u001b[0;31mModuleNotFoundError\u001b[0m                       Traceback (most recent call last)",
      "\u001b[0;32m/var/folders/c7/zfhvl_ms5dv3bg_wff_1g0g40000gn/T/ipykernel_3537/2039907699.py\u001b[0m in \u001b[0;36m<module>\u001b[0;34m\u001b[0m\n\u001b[1;32m     15\u001b[0m \u001b[0;34m\u001b[0m\u001b[0m\n\u001b[1;32m     16\u001b[0m \u001b[0;31m# Utilities\u001b[0m\u001b[0;34m\u001b[0m\u001b[0;34m\u001b[0m\u001b[0m\n\u001b[0;32m---> 17\u001b[0;31m \u001b[0;32mfrom\u001b[0m \u001b[0mviz_utils\u001b[0m \u001b[0;32mimport\u001b[0m \u001b[0;34m*\u001b[0m\u001b[0;34m\u001b[0m\u001b[0;34m\u001b[0m\u001b[0m\n\u001b[0m\u001b[1;32m     18\u001b[0m \u001b[0;32mfrom\u001b[0m \u001b[0mcustom_transformers\u001b[0m \u001b[0;32mimport\u001b[0m \u001b[0;34m*\u001b[0m\u001b[0;34m\u001b[0m\u001b[0;34m\u001b[0m\u001b[0m\n\u001b[1;32m     19\u001b[0m \u001b[0;34m\u001b[0m\u001b[0m\n",
      "\u001b[0;31mModuleNotFoundError\u001b[0m: No module named 'viz_utils'"
     ]
    }
   ],
   "source": [
    "import pandas as pd\n",
    "import numpy as np\n",
    "import matplotlib.pyplot as plt\n",
    "import seaborn as sns\n",
    "%matplotlib inline\n",
    "from matplotlib.gridspec import GridSpec\n",
    "pd.set_option('display.max_columns', 100)\n",
    "import plotly.offline as py\n",
    "import plotly.express as px\n",
    "import plotly.graph_objs as go\n",
    "import json\n",
    "import requests\n",
    "import folium\n",
    "from folium.plugins import FastMarkerCluster, Fullscreen, MiniMap, HeatMap, HeatMapWithTime, LocateControl\n",
    "\n",
    "# Utilities\n",
    "from viz_utils import *\n",
    "from custom_transformers import *\n",
    "\n",
    "# Text prep\n",
    "import re\n",
    "from nltk.corpus import stopwords\n",
    "from nltk.stem import RSLPStemmer\n",
    "from sklearn.feature_extraction.text import CountVectorizer, TfidfVectorizer\n",
    "\n",
    "import warnings\n",
    "warnings.filterwarnings('ignore')"
   ]
  },
  {
   "cell_type": "markdown",
   "id": "8adadf0c",
   "metadata": {},
   "source": [
    "# 데이터 불러오기\n",
    "\n",
    "해당 과업에는 서로 다른 데이터 소스가 있으며, 각각은 전자상거래 판매와 관련된 특정 주제를 나타냅니다.  \n",
    "파일은 다음과 같습니다.  \n",
    "\n",
    "- olist_customers_dataset.csv\n",
    "- olist_geolocation_dataset.csv\n",
    "- olist_orders_dataset.csv\n",
    "- olist_order_items_dataset.csv\n",
    "- olist_order_payments_dataset.csv\n",
    "- olist_order_reviews_dataset.csv\n",
    "- olist_products_dataset.csv\n",
    "- olist_sellers_dataset.csv\n",
    "- product_category_name_translation.csv\n",
    "\n",
    "\n",
    "파일들 사이의 관계는 문서에 설명되어 있습니다.  \n",
    "데이터 세트를 읽고 기초 분석을 시작해보겠습니다. 이 단계는 향후 EDA에서 올바른 결정을 내리는데 많은 도움이 될 것입니다. "
   ]
  },
  {
   "cell_type": "code",
   "execution_count": null,
   "id": "c304db3d",
   "metadata": {},
   "outputs": [],
   "source": [
    "# 모든 파일 불러오기\n",
    "olist_customer = pd.read_csv(path + 'olist_customers_dataset.csv')\n",
    "olist_geolocation = pd.read_csv(path + 'olist_geolocation_dataset.csv')\n",
    "olist_orders = pd.read_csv(path + 'olist_orders_dataset.csv')\n",
    "olist_order_items = pd.read_csv(path + 'olist_order_items_dataset.csv')\n",
    "olist_order_payments = pd.read_csv(path + 'olist_order_payments_dataset.csv')\n",
    "olist_order_reviews = pd.read_csv(path + 'olist_order_reviews_dataset.csv')\n",
    "olist_products = pd.read_csv(path + 'olist_products_dataset.csv')\n",
    "olist_sellers = pd.read_csv(path + 'olist_sellers_dataset.csv')"
   ]
  },
  {
   "cell_type": "markdown",
   "id": "3837521e",
   "metadata": {},
   "source": [
    "## 데이터 개요"
   ]
  },
  {
   "cell_type": "code",
   "execution_count": null,
   "id": "497fbb41",
   "metadata": {},
   "outputs": [],
   "source": [
    "# Collections for each dataset\n",
    "datasets = [olist_customer, olist_geolocation, olist_orders, olist_order_items, olist_order_payments,\n",
    "            olist_order_reviews, olist_products, olist_sellers]\n",
    "names = ['olist_customer', 'olist_geolocation', 'olist_orders', 'olist_order_items', 'olist_order_payments',\n",
    "         'olist_order_reviews', 'olist_products', 'olist_sellers']\n",
    "\n",
    "# Creating a DataFrame with useful information about all datasets\n",
    "data_info = pd.DataFrame({})\n",
    "data_info['dataset'] = names\n",
    "data_info['n_rows'] = [df.shape[0] for df in datasets]\n",
    "data_info['n_cols'] = [df.shape[1] for df in datasets]\n",
    "data_info['null_amount'] = [df.isnull().sum().sum() for df in datasets]\n",
    "data_info['qty_null_columns'] = [len([col for col, null in df.isnull().sum().items() if null > 0]) for df in datasets]\n",
    "data_info['null_columns'] = [', '.join([col for col, null in df.isnull().sum().items() if null > 0]) for df in datasets]\n",
    "\n",
    "data_info.style.background_gradient()"
   ]
  },
  {
   "cell_type": "markdown",
   "id": "ea0a1d59",
   "metadata": {},
   "source": [
    "# Grapical Exploration (그래픽 탐색?)\n",
    "---\n",
    "그래서 이제 우리는 브라질의 전자상거래로부터 통찰력을 얻기 위해 탐구적인 데이터 분석을 살펴설 것이다. 여기서 목표는 이 세션을 주제로 나누어 각 주제(주문, 고객, 제품, 항목 등)에 대한 그래픽을 탐색하는 것입니다.\n",
    "\n",
    "브라질의 전자상거래로부터 인사이트를 얻기 위해 탐색적 데이터 분석(EDA)를 진행할 것 입니다.  \n",
    "여기서 목표는 세션별로 주제를 나누어 각 주제(주문, 고객, 제품, 항목 등)에 대해 탐색한 데이터를 그래픽으로 나타내는 것입니다.  "
   ]
  },
  {
   "cell_type": "markdown",
   "id": "30bd15d8",
   "metadata": {},
   "source": [
    "## Total Orders on E-Commerce\n",
    "우리는 전자상거래가 세계적 관점에서 실제로 증가하는 추세라는 것을 알고 있습니다.\n",
    "주문 데이터를 통해 브라질의 전자 상거래 추세에 대해 알아보겠습니다.  \n",
    "\n",
    "데이터 세트 컬럼을 보면 시간에 따라 구매, 승인, 배송 및 배송 지연과 같이 각각 다른 주문 상태를 볼 수 있습니다. \n",
    "먼저, 이데이터 세트에 포함된 주문 상태를 보겠습니다. "
   ]
  },
  {
   "cell_type": "code",
   "execution_count": null,
   "id": "c6d22b12",
   "metadata": {},
   "outputs": [],
   "source": [
    "## single_countplot 대체\n",
    "\n",
    "plt.figure(figsize=(10,10))\n",
    "plt.title('주문별 상태', fontsize=15)\n",
    "sns.countplot(df_orders['order_status'], order=df_orders['order_status'].value_counts().index)"
   ]
  },
  {
   "cell_type": "markdown",
   "id": "28e72039",
   "metadata": {},
   "source": [
    "전체 상태중 'delivered'가 가장 많았으며 나머지 상태는 3%에 불과"
   ]
  },
  {
   "cell_type": "markdown",
   "id": "f8f44ddb",
   "metadata": {},
   "source": [
    "다음 플롯에서는 구매 주문에 관한 전자 상거래의 증가 추세에 대해 살펴보겠습니다.  \n",
    "이를 위해 다음 항목에서 **order_purchase_timestamp**에 대한 정보를 추출해야 합니다. \n",
    "1. 타임스탬프 컬럼 변환\n",
    "2. 시간 속성 추출(연/월/일/요일 및 시간)\n",
    "3. 해당 속성을 통한 전자상거래 추세 파악"
   ]
  },
  {
   "cell_type": "code",
   "execution_count": null,
   "id": "ead368eb",
   "metadata": {},
   "outputs": [],
   "source": [
    "# Changing the data type for date columns\n",
    "timestamp_cols = ['order_purchase_timestamp', 'order_approved_at', 'order_delivered_carrier_date', \n",
    "                  'order_estimated_delivery_date']\n",
    "for col in timestamp_cols:\n",
    "    df_orders[col] = pd.to_datetime(df_orders[col])\n",
    "    \n",
    "# Extracting attributes for purchase date - Year and Month\n",
    "df_orders['order_purchase_year'] = df_orders['order_purchase_timestamp'].apply(lambda x: x.year)\n",
    "df_orders['order_purchase_month'] = df_orders['order_purchase_timestamp'].apply(lambda x: x.month)\n",
    "df_orders['order_purchase_month_name'] = df_orders['order_purchase_timestamp'].apply(lambda x: x.strftime('%b'))\n",
    "df_orders['order_purchase_year_month'] = df_orders['order_purchase_timestamp'].apply(lambda x: x.strftime('%Y%m'))\n",
    "df_orders['order_purchase_date'] = df_orders['order_purchase_timestamp'].apply(lambda x: x.strftime('%Y%m%d'))\n",
    "\n",
    "# Extracting attributes for purchase date - Day and Day of Week\n",
    "df_orders['order_purchase_day'] = df_orders['order_purchase_timestamp'].apply(lambda x: x.day)\n",
    "df_orders['order_purchase_dayofweek'] = df_orders['order_purchase_timestamp'].apply(lambda x: x.dayofweek)\n",
    "df_orders['order_purchase_dayofweek_name'] = df_orders['order_purchase_timestamp'].apply(lambda x: x.strftime('%a'))\n",
    "\n",
    "# Extracting attributes for purchase date - Hour and Time of the Day\n",
    "df_orders['order_purchase_hour'] = df_orders['order_purchase_timestamp'].apply(lambda x: x.hour)\n",
    "hours_bins = [-0.1, 6, 12, 18, 23]\n",
    "hours_labels = ['Dawn', 'Morning', 'Afternoon', 'Night']\n",
    "df_orders['order_purchase_time_day'] = pd.cut(df_orders['order_purchase_hour'], hours_bins, labels=hours_labels)\n",
    "\n",
    "# New DataFrame after transformations\n",
    "df_orders.head()"
   ]
  },
  {
   "cell_type": "code",
   "execution_count": null,
   "id": "8fb2b1d5",
   "metadata": {},
   "outputs": [],
   "source": [
    "fig = plt.figure(constrained_layout=True, figsize=(13, 10))\n",
    "\n",
    "# Axis definition\n",
    "gs = GridSpec(2, 2, figure=fig)\n",
    "ax1 = fig.add_subplot(gs[0, :])\n",
    "ax2 = fig.add_subplot(gs[1, 0])\n",
    "ax3 = fig.add_subplot(gs[1, 1])\n",
    "\n",
    "# Lineplot - Evolution of e-commerce orders along time \n",
    "sns.lineplot(data=df_orders['order_purchase_year_month'].value_counts().sort_index(), ax=ax1, \n",
    "             color='darkslateblue', linewidth=2)\n",
    "ax1.annotate(f'Highest orders \\nreceived', (13, 7500), xytext=(-75, -25), \n",
    "             textcoords='offset points', bbox=dict(boxstyle=\"round4\", fc=\"w\", pad=.8),\n",
    "             arrowprops=dict(arrowstyle='-|>', fc='w'), color='dimgrey', ha='center')\n",
    "ax1.annotate(f'Noise on data \\n(huge decrease)', (23, 0), xytext=(48, 25), \n",
    "             textcoords='offset points', bbox=dict(boxstyle=\"round4\", fc=\"w\", pad=.5),\n",
    "             arrowprops=dict(arrowstyle='-|>', fc='w'), color='dimgrey', ha='center')\n",
    "format_spines(ax1, right_border=False)  \n",
    "for tick in ax1.get_xticklabels():\n",
    "    tick.set_rotation(45)\n",
    "ax1.set_title('Evolution of Total Orders in Brazilian E-Commerce', size=14, color='dimgrey')\n",
    "\n",
    "# Barchart - Total of orders by day of week\n",
    "single_countplot(df_orders, x='order_purchase_dayofweek', ax=ax2, order=False, palette='YlGnBu')\n",
    "weekday_label = ['Mon', 'Tue', 'Wed', 'Thu', 'Fri', 'Sat', 'Sun']\n",
    "ax2.set_xticklabels(weekday_label)\n",
    "ax2.set_title('Total Orders by Day of Week', size=14, color='dimgrey', pad=20)\n",
    "\n",
    "# Barchart - Total of orders by time of the day\n",
    "day_color_list = ['darkslateblue', 'deepskyblue', 'darkorange', 'purple']\n",
    "single_countplot(df_orders, x='order_purchase_time_day', ax=ax3, order=False, palette=day_color_list)\n",
    "ax3.set_title('Total Orders by Time of the Day', size=14, color='dimgrey', pad=20)\n",
    "\n",
    "plt.tight_layout()\n",
    "plt.show()"
   ]
  },
  {
   "cell_type": "markdown",
   "id": "fd5cbfa0",
   "metadata": {},
   "source": [
    "## E-Commerce Around Brazil"
   ]
  },
  {
   "cell_type": "markdown",
   "id": "122f0e65",
   "metadata": {},
   "source": [
    "## E-Commerce Impact on Economy "
   ]
  },
  {
   "cell_type": "markdown",
   "id": "a3fee867",
   "metadata": {},
   "source": [
    "## Payment Type"
   ]
  },
  {
   "cell_type": "markdown",
   "id": "694f4002",
   "metadata": {},
   "source": [
    "# Natural Language Processing\n",
    "자연어 처리"
   ]
  },
  {
   "cell_type": "markdown",
   "id": "41277b07",
   "metadata": {},
   "source": [
    "## Data Understanding"
   ]
  },
  {
   "cell_type": "markdown",
   "id": "349d8924",
   "metadata": {},
   "source": [
    "## RegEx\n",
    "\n",
    "아마 HTML 태그, 개행 문자, 특수 문자 및 데이터 세트의 일부가 될 수 있는 기타 콘텐츠 처리 필요"
   ]
  },
  {
   "cell_type": "markdown",
   "id": "01e0c0c2",
   "metadata": {},
   "source": [
    "### 함수 정의\n",
    "- 적용된 정규식 결과분석하는데 사용될 함수 정의"
   ]
  },
  {
   "cell_type": "code",
   "execution_count": 10,
   "id": "57aed695",
   "metadata": {},
   "outputs": [],
   "source": [
    "# 적용된 정규식 결과를 분석하는데 사용될 함수 정의  \n",
    "def find_patterns(re_patterns, text_list):\n",
    "    '''\n",
    "    re_patterns : 검색에 사용할 정규 패턴[type : string]\n",
    "    text_list : 텍스트 문자열이 있는 목록[type : list]\n",
    "    \n",
    "    (반환)\n",
    "    positions_filename : 다음과 같이 키-값 parse를 갖는 python 사전\n",
    "    text_idx : [(start_filename1, end_filename1), (start_filename1, end_filename2),...,(start_n,end_fn)]\n",
    "    '''\n",
    "    \n",
    "    # 인수로 전달된 정규식 컴파일\n",
    "    p=re.compile(re.pattern)\n",
    "    positions_dict = {}\n",
    "    i = 0\n",
    "    for c in text_list:\n",
    "        match_list = []\n",
    "        iterator = p.finditer(c)\n",
    "        for match in iterator:\n",
    "            match_list.append(match.span())\n",
    "        control_key = f'Text idx {i}'\n",
    "        if len(match_list) == 0:\n",
    "            pass\n",
    "        else:\n",
    "            postions_dict[control_key] = match_list\n",
    "        i += 1\n",
    "    \"\"\"\n",
    "    p = '['R']{0,1}\\$[]{0,}\\d+(,|\\.)\\d+'\n",
    "    patter_dict = find_patterns(p, reviews_breakline)\n",
    "    print(len(pattern_dict))\n",
    "    patter_dict\n",
    "    for idx in [int(c.split(' ')[-1]) for c in list(pattern_dict.keys())]:\n",
    "    print(f'{reviews_breakline[idx]}\\n)\n",
    "    \"\"\"\n",
    "    return postions_dict\n",
    "\n",
    "\n",
    "## 변환 결과 출력 함수\n",
    "def print_step_result(text_list_before, text_list_after, idx_list):\n",
    "    \"\"\"\n",
    "    text_list_before : 변환 전 텍스트 내용과 객체 출력 [type:list]\n",
    "    text_list_after : 변환 후 텍스트 내용과 객체 출력 [tyep:list]\n",
    "    idx_list : 출력할 인덱스가 있는 객체 [type:list]\n",
    "    \"\"\"\n",
    "    \n",
    "    # 문자열 예제 반복\n",
    "    i = 1\n",
    "    for idx in idx_list:\n",
    "        print(f\"---Text {i} ---\\n\")\n",
    "        print(f\"Before : \\n{text_list_before[idx]}\\n\")\n",
    "        print(f\"Aftre : \\n{text_list_after[idx]}\\n\")\n",
    "        i+=1\n",
    "        \n",
    "##1. 개행 문자 및 객체 출력(Break Line and Carriage Return)\n",
    "def re_breaklin(text_list):\n",
    "    \"\"\"\n",
    "    text_list : 준비된 텍스트 콘텐츠 객체 [type : list]\n",
    "    \"\"\"\n",
    "    \n",
    "    # 정규 표현식 적용\n",
    "    return [re.sub('[\\n\\r]', '',r) for r in text_list]\n",
    "\n",
    "##2. 사이트 및 하이퍼링크 패턴 제거\n",
    "def re_hiperlinks(text_list):\n",
    "    \"\"\"\n",
    "    text_list : 준비된 텍스트 콘텐츠 객체 [type : list]\n",
    "    \"\"\"\n",
    "    \n",
    "    # 정규표현식 적용\n",
    "    patter = 'http[s]?://(?:[a-zA-Z]|[0-9]|[$-_@.&+]|[!*\\(\\),]|(?:%[0-9a-fA-F][0-9a-fA-F]))+'\n",
    "    return [re.sub(pattern, ' link ', r) for r in text_link]\n",
    "\n",
    "##3. 날짜 제거\n",
    "def re_dates(text_list):\n",
    "    \"\"\"\n",
    "    text_list : 준비된 텍스트 콘텐츠 객체 [type : list]\n",
    "    \"\"\"\n",
    "    \n",
    "    pattern = '([0-2][0-9]|(3)[0-1])(\\/|\\.)(((0)[0-9])|((1)[0-2]))(\\/|\\.)d{2,4}'\n",
    "    return [re.sub(pattern, ' data ', r) for r in text_list]"
   ]
  },
  {
   "cell_type": "markdown",
   "id": "364b830f",
   "metadata": {},
   "source": [
    "### Breake Line and Carriage Return\n",
    "개행 문자 및 객체 반환"
   ]
  },
  {
   "cell_type": "code",
   "execution_count": null,
   "id": "6a7b4763",
   "metadata": {},
   "outputs": [],
   "source": [
    "# 코멘트 리뷰 목록 생성\n",
    "reviews = list(df_comments['comment'].values)\n",
    "\n",
    "# 정규 표현식 적용\n",
    "reviews_breakline = re_breakline(reviews)\n",
    "df_comments['re_breakline'] = reviews_breakline\n",
    "\n",
    "# 결과 확인\n",
    "print_step_result(reviews, reviews_breakline, idx_list=[48b])"
   ]
  },
  {
   "cell_type": "markdown",
   "id": "6e5e4df1",
   "metadata": {},
   "source": [
    "여기서 \\r 및 \\n 태그를 볼 수 있으며, RegEx를 사용하면 해당 패턴 제거 가능"
   ]
  },
  {
   "cell_type": "markdown",
   "id": "58936492",
   "metadata": {},
   "source": [
    "### Site and Hiperlinks\n",
    "사이트와 하이퍼링크 패턴 제거"
   ]
  },
  {
   "cell_type": "code",
   "execution_count": null,
   "id": "8e850436",
   "metadata": {},
   "outputs": [],
   "source": [
    "# 정규 표현식 적용\n",
    "reviews_hiperlinks = re_hiperlinks(reviews_breakline)\n",
    "df_comments['re_hiperlinks'] = reviews_hiperlinks\n",
    "\n",
    "# 결과 확인\n",
    "print_step_result(reviews_breakline, review_hiperlinks, idx_list=10796, 12782)"
   ]
  },
  {
   "cell_type": "markdown",
   "id": "3c67b027",
   "metadata": {},
   "source": [
    "### Dates\n",
    "날짜 전처리"
   ]
  },
  {
   "cell_type": "code",
   "execution_count": null,
   "id": "ab7c729e",
   "metadata": {},
   "outputs": [],
   "source": [
    "# 정규 표현식 적용\n",
    "reviews_dates = re_dates(reviews_hiperlinks)\n",
    "df_comment['re_dates'] = reviews_dates\n",
    "\n",
    "# 결과 확인\n",
    "print_step_result(review_hiperlinks, reviews_dates, idx_list=[26665, 41497, 41674])"
   ]
  },
  {
   "cell_type": "markdown",
   "id": "725836a1",
   "metadata": {},
   "source": [
    "### Money"
   ]
  },
  {
   "cell_type": "markdown",
   "id": "c4e90224",
   "metadata": {},
   "source": [
    "### Numbers"
   ]
  },
  {
   "cell_type": "markdown",
   "id": "1cecd4a6",
   "metadata": {},
   "source": [
    "### Negation"
   ]
  },
  {
   "cell_type": "markdown",
   "id": "9847f0c2",
   "metadata": {},
   "source": [
    "### Special Characters"
   ]
  },
  {
   "cell_type": "markdown",
   "id": "cb141c19",
   "metadata": {},
   "source": [
    "### Additional Whitespaces"
   ]
  },
  {
   "cell_type": "markdown",
   "id": "186e7bdc",
   "metadata": {},
   "source": [
    "## StopWords"
   ]
  },
  {
   "cell_type": "markdown",
   "id": "23584e6d",
   "metadata": {},
   "source": [
    "## Stemming"
   ]
  },
  {
   "cell_type": "markdown",
   "id": "615fe185",
   "metadata": {},
   "source": [
    "## Feature Extraction"
   ]
  },
  {
   "cell_type": "markdown",
   "id": "27ee441a",
   "metadata": {},
   "source": [
    "### CountVectorizer"
   ]
  },
  {
   "cell_type": "markdown",
   "id": "f0fca8af",
   "metadata": {},
   "source": [
    "### TF-IIDF"
   ]
  }
 ],
 "metadata": {
  "kernelspec": {
   "display_name": "Python 3 (ipykernel)",
   "language": "python",
   "name": "python3"
  },
  "language_info": {
   "codemirror_mode": {
    "name": "ipython",
    "version": 3
   },
   "file_extension": ".py",
   "mimetype": "text/x-python",
   "name": "python",
   "nbconvert_exporter": "python",
   "pygments_lexer": "ipython3",
   "version": "3.9.12"
  },
  "toc": {
   "base_numbering": 1,
   "nav_menu": {},
   "number_sections": true,
   "sideBar": true,
   "skip_h1_title": false,
   "title_cell": "Table of Contents",
   "title_sidebar": "Contents",
   "toc_cell": false,
   "toc_position": {},
   "toc_section_display": true,
   "toc_window_display": true
  }
 },
 "nbformat": 4,
 "nbformat_minor": 5
}
