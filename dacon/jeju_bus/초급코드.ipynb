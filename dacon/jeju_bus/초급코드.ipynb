{
  "nbformat": 4,
  "nbformat_minor": 0,
  "metadata": {
    "colab": {
      "name": "초급코드.ipynb",
      "provenance": [],
      "collapsed_sections": [],
      "toc_visible": true
    },
    "kernelspec": {
      "name": "python3",
      "display_name": "Python 3"
    }
  },
  "cells": [
    {
      "cell_type": "markdown",
      "metadata": {
        "id": "FTBzFdFRMaXN"
      },
      "source": [
        "# **퇴근시간 버스 승차인원 예측**( Baselin, 초급용 코드 )\r\n",
        "\r\n",
        " 1. 배경\r\n",
        " ```\r\n",
        " 제주도 내 주민등록 인구는 19년 11월 기준 69만명으로, 연평균 4%대로 성장했다.\r\n",
        " 외국인과 관광객까지 고려하면 전체 상주인구는 90만명을 넘을 것으로 추정된다.\r\n",
        " 제주도민 증가와 외국인의 증가로 현재 제주도 일부 지역의 교통체증은 서울보다 심각하다.\r\n",
        "  따라서, 제주테크노파크는 교통난 심화를 해결하기 위해 데이터 분석대회를 개최한다.\r\n",
        " ```\r\n",
        " 2. 데이터\r\n",
        "  -  train, test, bus_bts 공통 사항\r\n",
        "     ```\r\n",
        "    해당 데이터에는 버스카드를 통해 결제한 경우에 대한 정류소 승,하차 데이터로\r\n",
        "    모든 승차정보는 기록되어 있지만, \r\n",
        "    버스 하차시 카드 찍히지 않는 경우는 비어있는 상태.\r\n",
        "    따라서, 승하차 인원수에 차이가 있을 수 있다.\r\n",
        "     ```\r\n",
        "  \r\n",
        "  - train,test 공통 사항\r\n",
        "     ```\r\n",
        "     해당 버스정류장에 대한 각각의 위도, 경도가 제공된 상태로 같은 정류장 이름이나 \r\n",
        "     위도와 경도가 서로 다른 경우가 존재한다.\r\n",
        "     해당 경우, 같은 정류장 이름을 갖는 길 건너편 정류장에 해당.\r\n",
        "     ```\r\n"
      ]
    },
    {
      "cell_type": "code",
      "metadata": {
        "colab": {
          "base_uri": "https://localhost:8080/"
        },
        "id": "oqhFxf4gTRJG",
        "outputId": "d9d5ea1d-36a6-484a-db8a-307d098f9fff"
      },
      "source": [
        "from google.colab import drive\r\n",
        "drive.mount('/content/drive')"
      ],
      "execution_count": 73,
      "outputs": [
        {
          "output_type": "stream",
          "text": [
            "Drive already mounted at /content/drive; to attempt to forcibly remount, call drive.mount(\"/content/drive\", force_remount=True).\n"
          ],
          "name": "stdout"
        }
      ]
    },
    {
      "cell_type": "code",
      "metadata": {
        "id": "_TOiSNHsTSYl"
      },
      "source": [
        "import pandas as pd\r\n",
        "import warnings \r\n",
        "import geopy.distance\r\n",
        "warnings.filterwarnings('ignore')"
      ],
      "execution_count": 3,
      "outputs": []
    },
    {
      "cell_type": "code",
      "metadata": {
        "id": "znAsvK-gT1EQ"
      },
      "source": [
        "train = pd.read_csv('/content/drive/MyDrive/dacon/승차인원 예측/train.csv')\r\n",
        "test = pd.read_csv('/content/drive/MyDrive/dacon/승차인원 예측/test.csv')"
      ],
      "execution_count": 96,
      "outputs": []
    },
    {
      "cell_type": "code",
      "metadata": {
        "id": "GwpbBAe2UM5K"
      },
      "source": [
        "train.head()"
      ],
      "execution_count": null,
      "outputs": []
    },
    {
      "cell_type": "code",
      "metadata": {
        "id": "ppqE4cuSURny"
      },
      "source": [
        "test.head()"
      ],
      "execution_count": null,
      "outputs": []
    },
    {
      "cell_type": "markdown",
      "metadata": {
        "id": "wCai_x7CUWDy"
      },
      "source": [
        "## 1 .date 변수 변환\r\n"
      ]
    },
    {
      "cell_type": "code",
      "metadata": {
        "id": "VE25EGZdVndx"
      },
      "source": [
        "train['date'] = pd.to_datetime(train['date'])\r\n",
        "train['weekday'] = train['date'].dt.weekday\r\n",
        "train = pd.get_dummies(train,columns=['weekday']) # 요일을 0~6까지 숫자로 표기(6:sunday) // pd.get_dummies(data, columns) 일 경우 기존 df에 one hot encoding 수행"
      ],
      "execution_count": 99,
      "outputs": []
    },
    {
      "cell_type": "code",
      "metadata": {
        "id": "A-6umQTTWZ9s"
      },
      "source": [
        "test['date']=pd.to_datetime(test['date'])\r\n",
        "test['weekday']=test['date'].dt.weekday\r\n",
        "test=pd.get_dummies(test,columns=['weekday'])"
      ],
      "execution_count": 100,
      "outputs": []
    },
    {
      "cell_type": "code",
      "metadata": {
        "id": "-FCj63_XersM"
      },
      "source": [
        "test.head()"
      ],
      "execution_count": null,
      "outputs": []
    },
    {
      "cell_type": "markdown",
      "metadata": {
        "id": "8DwfIZZzXptD"
      },
      "source": [
        "## 2  .in_out 컬럼 변환\r\n"
      ]
    },
    {
      "cell_type": "code",
      "metadata": {
        "id": "c_PUfyq5Xy2D"
      },
      "source": [
        "train['in_out'].value_counts()\r\n",
        "#=> '시외' 매우 적다.\r\n",
        "\r\n",
        "train['in_out']=train['in_out'].map({'시내':0, '시외':1})\r\n",
        "test['in_out'] = test['in_out'].map({'시내':0, '시외':1})\r\n"
      ],
      "execution_count": 102,
      "outputs": []
    },
    {
      "cell_type": "markdown",
      "metadata": {
        "id": "io8-H7keYDAU"
      },
      "source": [
        "## 3  . 좌표 데이터를 이용한 Feature Engineering\r\n",
        " > 제주 인구는 서귀포시와 제주시에 몰려있다 볼 수 있다. 그러므로 해당 지역의 거리를 각각 Feature로 추가.\r\n",
        "\r\n",
        "  * dis_jejusi : 버스정류장과 제주시 거리\r\n",
        "  * dis_seoquiop : 버스정류장과 서귀포시 거리\r\n",
        "  * 제주시의 위/경도 : 33.500770, 126,522761\r\n",
        "  * 서귀포시의 위/경도 : 33.25429, 126.558217\r\n",
        "    * (2개 좌표간 거리를 구하는 geopy 패키지 사용)"
      ]
    },
    {
      "cell_type": "code",
      "metadata": {
        "colab": {
          "base_uri": "https://localhost:8080/"
        },
        "id": "wImUA74uaYJv",
        "outputId": "882575c7-b745-4a6e-c9c9-340d9078ccc5"
      },
      "source": [
        "!pip install geopy"
      ],
      "execution_count": 103,
      "outputs": [
        {
          "output_type": "stream",
          "text": [
            "Requirement already satisfied: geopy in /usr/local/lib/python3.7/dist-packages (1.17.0)\n",
            "Requirement already satisfied: geographiclib<2,>=1.49 in /usr/local/lib/python3.7/dist-packages (from geopy) (1.50)\n"
          ],
          "name": "stdout"
        }
      ]
    },
    {
      "cell_type": "code",
      "metadata": {
        "id": "4WkRVND9abhv"
      },
      "source": [
        "import geopy.distance\r\n",
        "coords_jejusi = (33.500770, 126.522761)    # 제주시 위/경도\r\n",
        "coords_seoquipo = (33.259429, 126.558217)  # 서귀포시 위/경도\r\n",
        "\r\n",
        "# train['dis_jejusi'] \r\n",
        "train['dis_jejusi']= [geopy.distance.vincenty((train['latitude'].iloc[i],train['longitude'].iloc[i]), coords_jejusi).km for i in range(len(train))]\r\n",
        "train['dis_seoquipo']=[geopy.distance.vincenty((train['latitude'].iloc[i],train['longitude'].iloc[i]), coords_seoquipo).km for i in range(len(train))]"
      ],
      "execution_count": 104,
      "outputs": []
    },
    {
      "cell_type": "code",
      "metadata": {
        "colab": {
          "base_uri": "https://localhost:8080/"
        },
        "id": "TbknXwhmb3HH",
        "outputId": "8487ac3b-c8ea-43f6-e50e-4fa425cfd230"
      },
      "source": [
        "train['dis_jejusi'].corr(train['18~20_ride'])"
      ],
      "execution_count": 105,
      "outputs": [
        {
          "output_type": "execute_result",
          "data": {
            "text/plain": [
              "-0.12380548460763058"
            ]
          },
          "metadata": {
            "tags": []
          },
          "execution_count": 105
        }
      ]
    },
    {
      "cell_type": "code",
      "metadata": {
        "colab": {
          "base_uri": "https://localhost:8080/"
        },
        "id": "TR-9lmhZcEQQ",
        "outputId": "ee6f2f42-6854-40e1-bb6d-d10e7bfd52d4"
      },
      "source": [
        "train['dis_seoquipo'].corr(train['18~20_ride'])"
      ],
      "execution_count": 106,
      "outputs": [
        {
          "output_type": "execute_result",
          "data": {
            "text/plain": [
              "0.022087013666358277"
            ]
          },
          "metadata": {
            "tags": []
          },
          "execution_count": 106
        }
      ]
    },
    {
      "cell_type": "markdown",
      "metadata": {
        "id": "adiJA5q8cIR4"
      },
      "source": [
        "```\r\n",
        "제주시와 거리가 멀면 승차인원 감소,\r\n",
        "서귀포시의 거리와는 뚜렷한 상관관계 볼 수 없다.\r\n",
        "```"
      ]
    },
    {
      "cell_type": "code",
      "metadata": {
        "id": "70E9o4D3cXbh"
      },
      "source": [
        "test['dis_jejusi']= [geopy.distance.vincenty((train['latitude'].iloc[i],test['longitude'].iloc[i]), coords_jejusi).km for i in range(len(test))]\r\n",
        "test['dis_seoquipo']=[geopy.distance.vincenty((train['latitude'].iloc[i],test['longitude'].iloc[i]), coords_seoquipo).km for i in range(len(test))]"
      ],
      "execution_count": 107,
      "outputs": []
    },
    {
      "cell_type": "markdown",
      "metadata": {
        "id": "hieia5IpcXao"
      },
      "source": [
        "## 4  . RandomForest 활용한 모델링\r\n",
        "sklearn 내부의 RandomForest 함수를 이용해 모델링을 진행한다.\r\n",
        "머신러닝 학습에 활용할 input 변수와 target 변수를 정의한다"
      ]
    },
    {
      "cell_type": "code",
      "metadata": {
        "id": "Fe5hIfnPclXm"
      },
      "source": [
        "input_var = train.columns.difference(['18~20_ride'])\r\n",
        "target = ['18~20_ride']"
      ],
      "execution_count": 38,
      "outputs": []
    },
    {
      "cell_type": "code",
      "metadata": {
        "id": "RoEdwCxr1l6i"
      },
      "source": [
        "input_var=['in_out','latitude','longitude','6~7_ride', '7~8_ride', '8~9_ride', '9~10_ride',\r\n",
        "       '10~11_ride', '11~12_ride', '6~7_takeoff', '7~8_takeoff', '8~9_takeoff',\r\n",
        "       '9~10_takeoff', '10~11_takeoff', '11~12_takeoff','weekday_0', 'weekday_1', 'weekday_2', 'weekday_3', 'weekday_4',\r\n",
        "       'weekday_5', 'weekday_6', 'dis_jejusi', 'dis_seoquipo']\r\n",
        "target=['18~20_ride']"
      ],
      "execution_count": null,
      "outputs": []
    },
    {
      "cell_type": "code",
      "metadata": {
        "id": "ONAdXib0db-G"
      },
      "source": [
        "X_train=train[input_var]\r\n",
        "y_train=train[target]\r\n",
        "\r\n",
        "X_test=test[input_var]"
      ],
      "execution_count": null,
      "outputs": []
    },
    {
      "cell_type": "code",
      "metadata": {
        "id": "lZJgnb4wd84Z"
      },
      "source": [
        "# 랜덤포레스트 모델 정의\r\n",
        "from sklearn.ensemble import RandomForestRegressor\r\n",
        "rf = RandomForestRegressor(random_state = 1217)"
      ],
      "execution_count": 2,
      "outputs": []
    },
    {
      "cell_type": "code",
      "metadata": {
        "id": "VSNuZhfveMEy"
      },
      "source": [
        "rf.fit(X_train, y_train)"
      ],
      "execution_count": null,
      "outputs": []
    },
    {
      "cell_type": "code",
      "metadata": {
        "id": "J2rlqn3VeQC6"
      },
      "source": [
        "test['18~20_ride'] =rf.predict(X_test)\r\n",
        "test[['id','18~20_ride']].to_csv('base_line.csv', index=False)"
      ],
      "execution_count": null,
      "outputs": []
    },
    {
      "cell_type": "markdown",
      "metadata": {
        "id": "b8zWTIEagwC-"
      },
      "source": [
        "# part 2) train, test 병합 및 전처리"
      ]
    },
    {
      "cell_type": "code",
      "metadata": {
        "id": "7P4ubPnng1uX"
      },
      "source": [
        "train = pd.read_csv('/content/drive/MyDrive/dacon/승차인원 예측/train.csv')\r\n",
        "test = pd.read_csv('/content/drive/MyDrive/dacon/승차인원 예측/test.csv')"
      ],
      "execution_count": 4,
      "outputs": []
    },
    {
      "cell_type": "markdown",
      "metadata": {
        "id": "6DSbEqwJiOLG"
      },
      "source": [
        "## 2-1  . 데이터 병합"
      ]
    },
    {
      "cell_type": "code",
      "metadata": {
        "id": "q63LbtonhUZZ"
      },
      "source": [
        "train.set_index('id',inplace = True)\r\n",
        "test.set_index('id',inplace=True)"
      ],
      "execution_count": 5,
      "outputs": []
    },
    {
      "cell_type": "code",
      "metadata": {
        "id": "SECTuJAdh718"
      },
      "source": [
        "train_index = train.index\r\n",
        "test_index = test.index"
      ],
      "execution_count": 6,
      "outputs": []
    },
    {
      "cell_type": "code",
      "metadata": {
        "id": "5udUd64fiHks"
      },
      "source": [
        "y_train = train.pop('18~20_ride')"
      ],
      "execution_count": 7,
      "outputs": []
    },
    {
      "cell_type": "code",
      "metadata": {
        "id": "pMAyaJILibQz"
      },
      "source": [
        "all_df=train.append(test)"
      ],
      "execution_count": 8,
      "outputs": []
    },
    {
      "cell_type": "markdown",
      "metadata": {
        "id": "TRTOYWJNiNjh"
      },
      "source": [
        "## 2-2. 전처리"
      ]
    },
    {
      "cell_type": "code",
      "metadata": {
        "id": "pBC5Y0eUg2nv"
      },
      "source": [
        "all_df['date'] = pd.to_datetime(all_df['date'])\r\n",
        "all_df['weekday']=all_df['date'].dt.weekday\r\n",
        "all_df=pd.get_dummies(all_df, columns=['weekday'])"
      ],
      "execution_count": 9,
      "outputs": []
    },
    {
      "cell_type": "code",
      "metadata": {
        "id": "6YyS4GMriyGQ"
      },
      "source": [
        "all_df['in_out'].value_counts()\r\n",
        "#=> '시외' 매우 적다.\r\n",
        "all_df['in_out']=all_df['in_out'].map({'시내':0, '시외':1})"
      ],
      "execution_count": 10,
      "outputs": []
    },
    {
      "cell_type": "code",
      "metadata": {
        "id": "6vCuJ00ojBuJ"
      },
      "source": [
        "coords_jejusi = (33.500770, 126.522761) #제주시의 위도 경도\r\n",
        "coords_seoquipo = (33.259429, 126.558217) #서귀포시의 위도 경도\r\n",
        "\r\n",
        "all_df['dis_jejusi'] = [geopy.distance.vincenty((all_df['latitude'].iloc[i],all_df['longitude'].iloc[i]), coords_jejusi).km for i in range(len(all_df))]\r\n",
        "all_df['dis_seoquipo'] = [geopy.distance.vincenty((all_df['latitude'].iloc[i],all_df['longitude'].iloc[i]), coords_seoquipo).km for i in range(len(all_df))]\r\n"
      ],
      "execution_count": 11,
      "outputs": []
    },
    {
      "cell_type": "code",
      "metadata": {
        "colab": {
          "base_uri": "https://localhost:8080/"
        },
        "id": "ZRLejCkLjVIS",
        "outputId": "506e0c6e-b2c7-4ff3-cdc0-31287fade179"
      },
      "source": [
        "all_df['dis_jejusi'].corr(y_train)"
      ],
      "execution_count": 12,
      "outputs": [
        {
          "output_type": "execute_result",
          "data": {
            "text/plain": [
              "-0.12380548460763058"
            ]
          },
          "metadata": {
            "tags": []
          },
          "execution_count": 12
        }
      ]
    },
    {
      "cell_type": "code",
      "metadata": {
        "colab": {
          "base_uri": "https://localhost:8080/"
        },
        "id": "Iom5MfkDjbjD",
        "outputId": "61a98e36-9740-4428-fad9-24b140650133"
      },
      "source": [
        "all_df['dis_seoquipo'].corr(y_train)"
      ],
      "execution_count": 52,
      "outputs": [
        {
          "output_type": "execute_result",
          "data": {
            "text/plain": [
              "0.022087013666358277"
            ]
          },
          "metadata": {
            "tags": []
          },
          "execution_count": 52
        }
      ]
    },
    {
      "cell_type": "markdown",
      "metadata": {
        "id": "qr5cRoCkk9jD"
      },
      "source": [
        "## 2-3. 데이터 분리"
      ]
    },
    {
      "cell_type": "code",
      "metadata": {
        "id": "xiBUVgP3jxzU"
      },
      "source": [
        "# 데이터 분리\r\n",
        "X_train = all_df[:len(train_index)]\r\n",
        "X_test = all_df[len(train_index):]\r\n",
        "X_test.reset_index(inplace=True, drop=True)\r\n"
      ],
      "execution_count": 13,
      "outputs": []
    },
    {
      "cell_type": "code",
      "metadata": {
        "id": "QgeiFj1q1ROp"
      },
      "source": [
        "input_var=['in_out','latitude','longitude','6~7_ride', '7~8_ride', '8~9_ride', '9~10_ride',\r\n",
        "       '10~11_ride', '11~12_ride', '6~7_takeoff', '7~8_takeoff', '8~9_takeoff',\r\n",
        "       '9~10_takeoff', '10~11_takeoff', '11~12_takeoff','weekday_0', 'weekday_1', 'weekday_2', 'weekday_3', 'weekday_4',\r\n",
        "       'weekday_5', 'weekday_6', 'dis_jejusi', 'dis_seoquipo']\r\n",
        "target=['18~20_ride']"
      ],
      "execution_count": null,
      "outputs": []
    },
    {
      "cell_type": "code",
      "metadata": {
        "id": "W_onKzol079v"
      },
      "source": [
        "X_train = X_train[input_var]\r\n",
        "X_test = X_test[input_var]"
      ],
      "execution_count": 20,
      "outputs": []
    },
    {
      "cell_type": "markdown",
      "metadata": {
        "id": "xGuskwVulFJ3"
      },
      "source": [
        "## 2-4. Modeling"
      ]
    },
    {
      "cell_type": "code",
      "metadata": {
        "id": "EG6WPnl-lI34"
      },
      "source": [
        "# 랜덤포레스트 모델 정의\r\n",
        "from sklearn.ensemble import RandomForestRegressor\r\n",
        "rf = RandomForestRegressor(random_state=1217)"
      ],
      "execution_count": 14,
      "outputs": []
    },
    {
      "cell_type": "code",
      "metadata": {
        "colab": {
          "base_uri": "https://localhost:8080/"
        },
        "id": "QH_GY8G5y0Vm",
        "outputId": "0ed55314-66e2-4655-937f-3ae89eefbf56"
      },
      "source": [
        "rf.fit(X_train, y_train)"
      ],
      "execution_count": 21,
      "outputs": [
        {
          "output_type": "execute_result",
          "data": {
            "text/plain": [
              "RandomForestRegressor(bootstrap=True, ccp_alpha=0.0, criterion='mse',\n",
              "                      max_depth=None, max_features='auto', max_leaf_nodes=None,\n",
              "                      max_samples=None, min_impurity_decrease=0.0,\n",
              "                      min_impurity_split=None, min_samples_leaf=1,\n",
              "                      min_samples_split=2, min_weight_fraction_leaf=0.0,\n",
              "                      n_estimators=100, n_jobs=None, oob_score=False,\n",
              "                      random_state=1217, verbose=0, warm_start=False)"
            ]
          },
          "metadata": {
            "tags": []
          },
          "execution_count": 21
        }
      ]
    },
    {
      "cell_type": "code",
      "metadata": {
        "colab": {
          "base_uri": "https://localhost:8080/",
          "height": 340
        },
        "id": "PeTOGJsn15KE",
        "outputId": "8a7360fd-0516-4fa8-8e50-6aa2c41d4ec1"
      },
      "source": [
        "test['18~20_ride'] =rf.predict(X_test)\r\n",
        "test[['id','18~20_ride']].to_csv('base_line.csv', index=False)"
      ],
      "execution_count": 22,
      "outputs": [
        {
          "output_type": "error",
          "ename": "KeyError",
          "evalue": "ignored",
          "traceback": [
            "\u001b[0;31m---------------------------------------------------------------------------\u001b[0m",
            "\u001b[0;31mKeyError\u001b[0m                                  Traceback (most recent call last)",
            "\u001b[0;32m<ipython-input-22-1d8459543e82>\u001b[0m in \u001b[0;36m<module>\u001b[0;34m()\u001b[0m\n\u001b[1;32m      1\u001b[0m \u001b[0mtest\u001b[0m\u001b[0;34m[\u001b[0m\u001b[0;34m'18~20_ride'\u001b[0m\u001b[0;34m]\u001b[0m \u001b[0;34m=\u001b[0m\u001b[0mrf\u001b[0m\u001b[0;34m.\u001b[0m\u001b[0mpredict\u001b[0m\u001b[0;34m(\u001b[0m\u001b[0mX_test\u001b[0m\u001b[0;34m)\u001b[0m\u001b[0;34m\u001b[0m\u001b[0;34m\u001b[0m\u001b[0m\n\u001b[0;32m----> 2\u001b[0;31m \u001b[0mtest\u001b[0m\u001b[0;34m[\u001b[0m\u001b[0;34m[\u001b[0m\u001b[0;34m'id'\u001b[0m\u001b[0;34m,\u001b[0m\u001b[0;34m'18~20_ride'\u001b[0m\u001b[0;34m]\u001b[0m\u001b[0;34m]\u001b[0m\u001b[0;34m.\u001b[0m\u001b[0mto_csv\u001b[0m\u001b[0;34m(\u001b[0m\u001b[0;34m'base_line.csv'\u001b[0m\u001b[0;34m,\u001b[0m \u001b[0mindex\u001b[0m\u001b[0;34m=\u001b[0m\u001b[0;32mFalse\u001b[0m\u001b[0;34m)\u001b[0m\u001b[0;34m\u001b[0m\u001b[0;34m\u001b[0m\u001b[0m\n\u001b[0m",
            "\u001b[0;32m/usr/local/lib/python3.7/dist-packages/pandas/core/frame.py\u001b[0m in \u001b[0;36m__getitem__\u001b[0;34m(self, key)\u001b[0m\n\u001b[1;32m   2910\u001b[0m             \u001b[0;32mif\u001b[0m \u001b[0mis_iterator\u001b[0m\u001b[0;34m(\u001b[0m\u001b[0mkey\u001b[0m\u001b[0;34m)\u001b[0m\u001b[0;34m:\u001b[0m\u001b[0;34m\u001b[0m\u001b[0;34m\u001b[0m\u001b[0m\n\u001b[1;32m   2911\u001b[0m                 \u001b[0mkey\u001b[0m \u001b[0;34m=\u001b[0m \u001b[0mlist\u001b[0m\u001b[0;34m(\u001b[0m\u001b[0mkey\u001b[0m\u001b[0;34m)\u001b[0m\u001b[0;34m\u001b[0m\u001b[0;34m\u001b[0m\u001b[0m\n\u001b[0;32m-> 2912\u001b[0;31m             \u001b[0mindexer\u001b[0m \u001b[0;34m=\u001b[0m \u001b[0mself\u001b[0m\u001b[0;34m.\u001b[0m\u001b[0mloc\u001b[0m\u001b[0;34m.\u001b[0m\u001b[0m_get_listlike_indexer\u001b[0m\u001b[0;34m(\u001b[0m\u001b[0mkey\u001b[0m\u001b[0;34m,\u001b[0m \u001b[0maxis\u001b[0m\u001b[0;34m=\u001b[0m\u001b[0;36m1\u001b[0m\u001b[0;34m,\u001b[0m \u001b[0mraise_missing\u001b[0m\u001b[0;34m=\u001b[0m\u001b[0;32mTrue\u001b[0m\u001b[0;34m)\u001b[0m\u001b[0;34m[\u001b[0m\u001b[0;36m1\u001b[0m\u001b[0;34m]\u001b[0m\u001b[0;34m\u001b[0m\u001b[0;34m\u001b[0m\u001b[0m\n\u001b[0m\u001b[1;32m   2913\u001b[0m \u001b[0;34m\u001b[0m\u001b[0m\n\u001b[1;32m   2914\u001b[0m         \u001b[0;31m# take() does not accept boolean indexers\u001b[0m\u001b[0;34m\u001b[0m\u001b[0;34m\u001b[0m\u001b[0;34m\u001b[0m\u001b[0m\n",
            "\u001b[0;32m/usr/local/lib/python3.7/dist-packages/pandas/core/indexing.py\u001b[0m in \u001b[0;36m_get_listlike_indexer\u001b[0;34m(self, key, axis, raise_missing)\u001b[0m\n\u001b[1;32m   1252\u001b[0m             \u001b[0mkeyarr\u001b[0m\u001b[0;34m,\u001b[0m \u001b[0mindexer\u001b[0m\u001b[0;34m,\u001b[0m \u001b[0mnew_indexer\u001b[0m \u001b[0;34m=\u001b[0m \u001b[0max\u001b[0m\u001b[0;34m.\u001b[0m\u001b[0m_reindex_non_unique\u001b[0m\u001b[0;34m(\u001b[0m\u001b[0mkeyarr\u001b[0m\u001b[0;34m)\u001b[0m\u001b[0;34m\u001b[0m\u001b[0;34m\u001b[0m\u001b[0m\n\u001b[1;32m   1253\u001b[0m \u001b[0;34m\u001b[0m\u001b[0m\n\u001b[0;32m-> 1254\u001b[0;31m         \u001b[0mself\u001b[0m\u001b[0;34m.\u001b[0m\u001b[0m_validate_read_indexer\u001b[0m\u001b[0;34m(\u001b[0m\u001b[0mkeyarr\u001b[0m\u001b[0;34m,\u001b[0m \u001b[0mindexer\u001b[0m\u001b[0;34m,\u001b[0m \u001b[0maxis\u001b[0m\u001b[0;34m,\u001b[0m \u001b[0mraise_missing\u001b[0m\u001b[0;34m=\u001b[0m\u001b[0mraise_missing\u001b[0m\u001b[0;34m)\u001b[0m\u001b[0;34m\u001b[0m\u001b[0;34m\u001b[0m\u001b[0m\n\u001b[0m\u001b[1;32m   1255\u001b[0m         \u001b[0;32mreturn\u001b[0m \u001b[0mkeyarr\u001b[0m\u001b[0;34m,\u001b[0m \u001b[0mindexer\u001b[0m\u001b[0;34m\u001b[0m\u001b[0;34m\u001b[0m\u001b[0m\n\u001b[1;32m   1256\u001b[0m \u001b[0;34m\u001b[0m\u001b[0m\n",
            "\u001b[0;32m/usr/local/lib/python3.7/dist-packages/pandas/core/indexing.py\u001b[0m in \u001b[0;36m_validate_read_indexer\u001b[0;34m(self, key, indexer, axis, raise_missing)\u001b[0m\n\u001b[1;32m   1302\u001b[0m             \u001b[0;32mif\u001b[0m \u001b[0mraise_missing\u001b[0m\u001b[0;34m:\u001b[0m\u001b[0;34m\u001b[0m\u001b[0;34m\u001b[0m\u001b[0m\n\u001b[1;32m   1303\u001b[0m                 \u001b[0mnot_found\u001b[0m \u001b[0;34m=\u001b[0m \u001b[0mlist\u001b[0m\u001b[0;34m(\u001b[0m\u001b[0mset\u001b[0m\u001b[0;34m(\u001b[0m\u001b[0mkey\u001b[0m\u001b[0;34m)\u001b[0m \u001b[0;34m-\u001b[0m \u001b[0mset\u001b[0m\u001b[0;34m(\u001b[0m\u001b[0max\u001b[0m\u001b[0;34m)\u001b[0m\u001b[0;34m)\u001b[0m\u001b[0;34m\u001b[0m\u001b[0;34m\u001b[0m\u001b[0m\n\u001b[0;32m-> 1304\u001b[0;31m                 \u001b[0;32mraise\u001b[0m \u001b[0mKeyError\u001b[0m\u001b[0;34m(\u001b[0m\u001b[0;34mf\"{not_found} not in index\"\u001b[0m\u001b[0;34m)\u001b[0m\u001b[0;34m\u001b[0m\u001b[0;34m\u001b[0m\u001b[0m\n\u001b[0m\u001b[1;32m   1305\u001b[0m \u001b[0;34m\u001b[0m\u001b[0m\n\u001b[1;32m   1306\u001b[0m             \u001b[0;31m# we skip the warning on Categorical\u001b[0m\u001b[0;34m\u001b[0m\u001b[0;34m\u001b[0m\u001b[0;34m\u001b[0m\u001b[0m\n",
            "\u001b[0;31mKeyError\u001b[0m: \"['id'] not in index\""
          ]
        }
      ]
    }
  ]
}